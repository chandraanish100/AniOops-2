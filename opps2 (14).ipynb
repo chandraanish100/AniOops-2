{
 "cells": [
  {
   "cell_type": "code",
   "execution_count": 2,
   "id": "8cd9a4ee-11a4-4d07-a164-74f07f468df3",
   "metadata": {},
   "outputs": [
    {
     "name": "stdout",
     "output_type": "stream",
     "text": [
      "Hello, my name is John Doe and I'm 30 years old.\n",
      "Hello, my name is Jane Smith and I'm 25 years old.\n"
     ]
    },
    {
     "data": {
      "text/plain": [
       "'In this example, the `__init__()` method is used to initialize the `name` and `age` attributes of the `Person` class. When you create a new `Person` object, the constructor is automatically called, and the object is initialized with the provided values.\\n\\nConstructors are an essential part of object-oriented programming in Python, as they help ensure that objects are created in a consistent and valid state.'"
      ]
     },
     "execution_count": 2,
     "metadata": {},
     "output_type": "execute_result"
    }
   ],
   "source": [
    "'''In Python, a constructor is a special method that is automatically called when an object of a class is created. The purpose of a constructor is to initialize the attributes (or properties) of the object.\n",
    "\n",
    "The constructor method in Python is defined using the `__init__()` method. This method is automatically called when an object of the class is created.\n",
    "\n",
    "Here's the general syntax for a constructor in Python:\n",
    "\n",
    "```python'''\n",
    "class ClassName:\n",
    "    def __init__(self, param1, param2,paramN):\n",
    "        self.attribute1 = param1\n",
    "        self.attribute2 = param2\n",
    "        \n",
    "        self.attributeN = paramN\n",
    "\n",
    "\n",
    "'''The `__init__()` method takes `self` as the first parameter, which refers to the current instance of the class. The remaining parameters are used to initialize the attributes of the object.\n",
    "\n",
    "The purpose of a constructor in Python is:\n",
    "\n",
    "1. **Initialization**: The constructor is used to initialize the attributes of the object when it is created. This ensures that the object is in a valid state from the moment it is created.\n",
    "\n",
    "2. **Encapsulation**: The constructor helps in encapsulating the object's state by providing a way to set the initial values of the object's attributes.\n",
    "\n",
    "3. **Flexibility**: Constructors allow you to create objects with different initial states by accepting different parameters.\n",
    "\n",
    "Here's an example of a class with a constructor:\n",
    "\n",
    "```python'''\n",
    "class Person:\n",
    "    def __init__(self, name, age):\n",
    "        self.name = name\n",
    "        self.age = age\n",
    "\n",
    "    def introduce(self):\n",
    "        print(f\"Hello, my name is {self.name} and I'm {self.age} years old.\")\n",
    "\n",
    "# Creating objects with the constructor\n",
    "person1 = Person(\"John Doe\", 30)\n",
    "person2 = Person(\"Jane Smith\", 25)\n",
    "\n",
    "person1.introduce()  \n",
    "person2.introduce()  \n",
    "\n",
    "\n",
    "'''In this example, the `__init__()` method is used to initialize the `name` and `age` attributes of the `Person` class. When you create a new `Person` object, the constructor is automatically called, and the object is initialized with the provided values.\n",
    "\n",
    "Constructors are an essential part of object-oriented programming in Python, as they help ensure that objects are created in a consistent and valid state.'''"
   ]
  },
  {
   "cell_type": "code",
   "execution_count": 7,
   "id": "35ecb3d9-982c-4e43-a360-ee328de18ae0",
   "metadata": {},
   "outputs": [
    {
     "name": "stdout",
     "output_type": "stream",
     "text": [
      "My favourite fruit is: Orange\n",
      "The family has 10 members.\n"
     ]
    }
   ],
   "source": [
    "'''In Python, there are two main types of constructors:\n",
    "\n",
    "1. **Parameterless Constructor** (Non-Parameterized Constructor)\n",
    "2. **Parameterized Constructor**\n",
    "\n",
    "Here are the key differences between them:\n",
    "\n",
    "## Parameterless Constructor (Non-Parameterized Constructor)\n",
    "\n",
    "- A parameterless constructor is a constructor that does not take any arguments except for the mandatory `self` parameter.\n",
    "- It is used for initializing class members with default values or performing standard initialization tasks that do not require external inputs.\n",
    "- The syntax for a parameterless constructor is:\n",
    "\n",
    "```python'''\n",
    "\n",
    "#- Example:\n",
    "\n",
    "#python\n",
    "class Fruits:\n",
    "    def __init__(self):\n",
    "        self.favourite = \"Orange\"\n",
    "\n",
    "    def show(self):\n",
    "        print(\"My favourite fruit is:\", self.favourite)\n",
    "\n",
    "fruit = Fruits()\n",
    "fruit.show()  \n",
    "\n",
    "\n",
    "## Parameterized Constructor\n",
    "\n",
    "'''- A parameterized constructor is a constructor that takes additional arguments besides the mandatory `self` parameter.\n",
    "- These arguments are used to initialize the object's attributes or perform other operations when the object is created.\n",
    "- The syntax for a parameterized constructor is:\n",
    "\n",
    "```python'''\n",
    "def __init__(self, param1, param2, paramN):\n",
    "    self.attribute1 = param1\n",
    "    self.attribute2 = param2\n",
    "    self.attributeN = paramN\n",
    "\n",
    "\n",
    "#- Example:\n",
    "\n",
    "\n",
    "class Family:\n",
    "    def __init__(self, count):\n",
    "        self.members = count\n",
    "\n",
    "    def show(self):\n",
    "        print(\"The family has\", self.members, \"members.\")\n",
    "\n",
    "family = Family(10)\n",
    "family.show()  \n",
    "\n",
    "\n",
    "#In summary, the main difference is that a parameterized constructor allows you to pass arguments to initialize the object's attributes, while a parameterless constructor initializes the object with default values or performs standard initialization tasks without requiring external inputs.\n",
    "\n"
   ]
  },
  {
   "cell_type": "code",
   "execution_count": 8,
   "id": "06ff3eb2-38f3-4a82-ad64-c2f64b2b6ab3",
   "metadata": {},
   "outputs": [
    {
     "name": "stdout",
     "output_type": "stream",
     "text": [
      "Hello, my name is John Doe and I'm 30 years old.\n",
      "15\n"
     ]
    },
    {
     "data": {
      "text/plain": [
       "'In this example, the `__init__()` method initializes the `length` and `width` attributes of the `Rectangle` object with default values.\\n\\nConstructors are an essential part of object-oriented programming in Python, as they allow you to create objects with specific initial states and ensure that the objects are properly initialized.'"
      ]
     },
     "execution_count": 8,
     "metadata": {},
     "output_type": "execute_result"
    }
   ],
   "source": [
    "'''In Python, you define a constructor within a class using the `__init__()` method. The `__init__()` method is a special method that is automatically called when an object of the class is created.\n",
    "\n",
    "Here's an example of how to define a constructor in a Python class:\n",
    "\n",
    "```python'''\n",
    "class Person:\n",
    "    def __init__(self, name, age):\n",
    "        self.name = name\n",
    "        self.age = age\n",
    "\n",
    "    def introduce(self):\n",
    "        print(f\"Hello, my name is {self.name} and I'm {self.age} years old.\")\n",
    "\n",
    "'''In this example, the `__init__()` method is the constructor for the `Person` class. It takes two parameters: `name` and `age`. These parameters are used to initialize the `name` and `age` attributes of the `Person` object.\n",
    "\n",
    "Here's how you can create an object of the `Person` class and use the constructor:\n",
    "\n",
    "```python\n",
    "# Creating a Person object'''\n",
    "person = Person(\"John Doe\", 30)\n",
    "\n",
    "# Calling the introduce method\n",
    "person.introduce()  # Output: Hello, my name is John Doe and I'm 30 years old.\n",
    "\n",
    "\n",
    "'''When you create a new `Person` object using the `Person()` constructor, the `__init__()` method is automatically called, and the `name` and `age` attributes are initialized with the values passed to the constructor.\n",
    "\n",
    "You can also define a constructor that doesn't take any parameters (a parameterless constructor) by simply not including any parameters in the `__init__()` method:\n",
    "\n",
    "```python'''\n",
    "class Rectangle:\n",
    "    def __init__(self):\n",
    "        self.length = 5\n",
    "        self.width = 3\n",
    "\n",
    "    def calculate_area(self):\n",
    "        return self.length * self.width\n",
    "\n",
    "# Creating a Rectangle object\n",
    "rect = Rectangle()\n",
    "area = rect.calculate_area()\n",
    "print(area)  # Output: 15\n",
    "\n",
    "\n",
    "'''In this example, the `__init__()` method initializes the `length` and `width` attributes of the `Rectangle` object with default values.\n",
    "\n",
    "Constructors are an essential part of object-oriented programming in Python, as they allow you to create objects with specific initial states and ensure that the objects are properly initialized.'''"
   ]
  },
  {
   "cell_type": "code",
   "execution_count": 9,
   "id": "576d4e6c-599a-4091-b0de-1f97a1044ce6",
   "metadata": {},
   "outputs": [
    {
     "name": "stdout",
     "output_type": "stream",
     "text": [
      "Hello, my name is John Doe and I'm 30 years old.\n"
     ]
    },
    {
     "data": {
      "text/plain": [
       "\"In this example, the `__init__` method takes two parameters: `name` and `age`. These parameters are used to initialize the `name` and `age` attributes of the `Person` object.\\n\\nWhen you create a new `Person` object using the `Person()` constructor, the `__init__` method is automatically called, and the `name` and `age` attributes are initialized with the values passed to the constructor.\\n\\nThe `__init__` method is a special method in Python, and it is important to understand its role in constructors. It allows you to create objects with specific initial states, which is a fundamental concept in object-oriented programming.\\n\\nHere are some key points about the `__init__` method:\\n\\n- It is a special method in Python, denoted by the double underscores `__` before and after the method name.\\n- It is automatically called when an object of the class is created.\\n- It is used to initialize the attributes of the object.\\n- It can take parameters to allow for the creation of objects with different initial states.\\n- It helps in encapsulating the object's state and providing a consistent way to create objects.\\n\\nUnderstanding the `__init__` method and its role in constructors is essential for writing effective and maintainable object-oriented code in Python.\""
      ]
     },
     "execution_count": 9,
     "metadata": {},
     "output_type": "execute_result"
    }
   ],
   "source": [
    "'''In Python, the `__init__` method is a special method that is used to initialize the attributes of an object when it is created. It is a constructor method, which means it is automatically called when an object of the class is created.\n",
    "\n",
    "The role of the `__init__` method in constructors is:\n",
    "\n",
    "1. **Initialization**: The primary purpose of the `__init__` method is to initialize the attributes of the object. This ensures that the object is in a valid state from the moment it is created.\n",
    "\n",
    "2. **Encapsulation**: The `__init__` method helps in encapsulating the object's state by providing a way to set the initial values of the object's attributes.\n",
    "\n",
    "3. **Flexibility**: The `__init__` method allows you to create objects with different initial states by accepting different parameters.\n",
    "\n",
    "Here's an example to illustrate the use of the `__init__` method:\n",
    "\n",
    "```python'''\n",
    "class Person:\n",
    "    def __init__(self, name, age):\n",
    "        self.name = name\n",
    "        self.age = age\n",
    "\n",
    "    def introduce(self):\n",
    "        print(f\"Hello, my name is {self.name} and I'm {self.age} years old.\")\n",
    "\n",
    "# Creating a Person object\n",
    "person = Person(\"John Doe\", 30)\n",
    "person.introduce()  \n",
    "\n",
    "'''In this example, the `__init__` method takes two parameters: `name` and `age`. These parameters are used to initialize the `name` and `age` attributes of the `Person` object.\n",
    "\n",
    "When you create a new `Person` object using the `Person()` constructor, the `__init__` method is automatically called, and the `name` and `age` attributes are initialized with the values passed to the constructor.\n",
    "\n",
    "The `__init__` method is a special method in Python, and it is important to understand its role in constructors. It allows you to create objects with specific initial states, which is a fundamental concept in object-oriented programming.\n",
    "\n",
    "Here are some key points about the `__init__` method:\n",
    "\n",
    "- It is a special method in Python, denoted by the double underscores `__` before and after the method name.\n",
    "- It is automatically called when an object of the class is created.\n",
    "- It is used to initialize the attributes of the object.\n",
    "- It can take parameters to allow for the creation of objects with different initial states.\n",
    "- It helps in encapsulating the object's state and providing a consistent way to create objects.\n",
    "\n",
    "Understanding the `__init__` method and its role in constructors is essential for writing effective and maintainable object-oriented code in Python.'''"
   ]
  },
  {
   "cell_type": "code",
   "execution_count": 10,
   "id": "f173b395-269c-4c41-bafa-372ffa405604",
   "metadata": {},
   "outputs": [],
   "source": [
    "class person:\n",
    "    def  __init__ (self, age, name):\n",
    "        self.Age = age\n",
    "        self.Name = name\n",
    "    def extract_deatails(self):\n",
    "        print(f\"here your name {self.Name} & age {self.Age}\")"
   ]
  },
  {
   "cell_type": "code",
   "execution_count": 11,
   "id": "ce4de84b-7e90-435f-82f4-b20c878dc921",
   "metadata": {},
   "outputs": [],
   "source": [
    "anik = person(17, \"anirban\")"
   ]
  },
  {
   "cell_type": "code",
   "execution_count": 13,
   "id": "e64699d9-a207-46b4-ba6b-df70a0f2b0b5",
   "metadata": {},
   "outputs": [
    {
     "name": "stdout",
     "output_type": "stream",
     "text": [
      "here your name anirban & age 17\n"
     ]
    }
   ],
   "source": [
    "anik.extract_deatails()"
   ]
  },
  {
   "cell_type": "code",
   "execution_count": 14,
   "id": "ea7c412b-a69e-4e9f-b53b-3166e6d7dd0d",
   "metadata": {},
   "outputs": [
    {
     "name": "stdout",
     "output_type": "stream",
     "text": [
      "Hello, my name is John Doe and I'm 30 years old.\n"
     ]
    },
    {
     "data": {
      "text/plain": [
       "'In this example, the `Person` class has a constructor (`__init__`) that takes two parameters: `name` and `age`. The constructor is called explicitly by creating a new `Person` object using the class name followed by parentheses, passing the `name` and `age` parameters.\\n\\nThis syntax is equivalent to calling the constructor implicitly when you create a new object using the class name. For example:\\n\\n```python\\nperson = Person(\"John Doe\", 30)\\n```\\n\\nIn both cases, the constructor is called automatically to initialize the object\\'s attributes.\\n\\nCalling a constructor explicitly can be useful in certain situations, such as when you need to create multiple objects with different initial states or when you need to perform additional setup or initialization tasks before creating the object.\\n\\nHere are some key points about calling constructors explicitly in Python:\\n\\n- **Explicit vs. Implicit**: Calling a constructor explicitly is different from calling it implicitly when creating an object. Explicitly calling the constructor allows for more control over the initialization process.\\n- **Class Instantiation**: The syntax for calling a constructor explicitly is `class_name()` where `class_name` is the name of the class.\\n- **Object Creation**: The constructor is called when you create a new object using the class name followed by parentheses.\\n- **Initialization**: The constructor is used to initialize the object\\'s attributes.\\n\\nUnderstanding how to call a constructor explicitly in Python is important for effective object-oriented programming and for creating objects with specific initial states.'"
      ]
     },
     "execution_count": 14,
     "metadata": {},
     "output_type": "execute_result"
    }
   ],
   "source": [
    "'''In Python, you can call a constructor explicitly by using the class name followed by parentheses. This is known as the \"class instantiation\" or \"object creation\" syntax.\n",
    "\n",
    "Here's an example of how to call a constructor explicitly:\n",
    "\n",
    "```python'''\n",
    "class Person:\n",
    "    def __init__(self, name, age):\n",
    "        self.name = name\n",
    "        self.age = age\n",
    "\n",
    "    def introduce(self):\n",
    "        print(f\"Hello, my name is {self.name} and I'm {self.age} years old.\")\n",
    "\n",
    "# Creating a Person object explicitly\n",
    "person = Person(\"John Doe\", 30)\n",
    "\n",
    "\n",
    "person.introduce()  \n",
    "\n",
    "'''In this example, the `Person` class has a constructor (`__init__`) that takes two parameters: `name` and `age`. The constructor is called explicitly by creating a new `Person` object using the class name followed by parentheses, passing the `name` and `age` parameters.\n",
    "\n",
    "This syntax is equivalent to calling the constructor implicitly when you create a new object using the class name. For example:\n",
    "\n",
    "```python\n",
    "person = Person(\"John Doe\", 30)\n",
    "```\n",
    "\n",
    "In both cases, the constructor is called automatically to initialize the object's attributes.\n",
    "\n",
    "Calling a constructor explicitly can be useful in certain situations, such as when you need to create multiple objects with different initial states or when you need to perform additional setup or initialization tasks before creating the object.\n",
    "\n",
    "Here are some key points about calling constructors explicitly in Python:\n",
    "\n",
    "- **Explicit vs. Implicit**: Calling a constructor explicitly is different from calling it implicitly when creating an object. Explicitly calling the constructor allows for more control over the initialization process.\n",
    "- **Class Instantiation**: The syntax for calling a constructor explicitly is `class_name()` where `class_name` is the name of the class.\n",
    "- **Object Creation**: The constructor is called when you create a new object using the class name followed by parentheses.\n",
    "- **Initialization**: The constructor is used to initialize the object's attributes.\n",
    "\n",
    "Understanding how to call a constructor explicitly in Python is important for effective object-oriented programming and for creating objects with specific initial states.'''\n"
   ]
  },
  {
   "cell_type": "code",
   "execution_count": 15,
   "id": "13f8b7ed-bd9c-48d4-9b3d-57eaad51011f",
   "metadata": {},
   "outputs": [
    {
     "name": "stdout",
     "output_type": "stream",
     "text": [
      "Hello, my name is John Doe and I'm 30 years old.\n",
      "Hello, my name is Jane Smith and I'm 25 years old.\n"
     ]
    },
    {
     "data": {
      "text/plain": [
       "\"In this example:\\n\\n1. The `Person` class has a constructor `__init__` that takes two parameters: `name` and `age`.\\n2. Inside the constructor, `self.name` and `self.age` are used to assign the passed values to the instance attributes of the current object.\\n3. The `introduce` method also uses `self` to access the `name` and `age` attributes of the current object.\\n4. When creating `Person` objects (`person1` and `person2`), the constructor is called automatically, and the `self` parameter is implicitly passed as the first argument.\\n5. When calling the `introduce` method on the objects, `self` is automatically passed as the first argument, allowing the method to access the instance attributes of the corresponding object.\\n\\nThe `self` parameter is crucial in Python constructors and class methods because it allows you to work with the specific instance of the class being created or operated on. It provides a way to access and modify the object's state within the class definition.\""
      ]
     },
     "execution_count": 15,
     "metadata": {},
     "output_type": "execute_result"
    }
   ],
   "source": [
    "'''In Python, the `self` parameter in constructors (and other class methods) is used to refer to the current instance of the class. It is a convention in Python to use `self` as the first parameter, but you can use any other name as well (although `self` is the most commonly used).\n",
    "\n",
    "The `self` parameter allows you to access and manipulate the attributes of the current object within the class methods.\n",
    "\n",
    "Here's an example to illustrate the significance of `self`:\n",
    "\n",
    "```python'''\n",
    "class Person:\n",
    "    def __init__(self, name, age):\n",
    "        self.name = name\n",
    "        self.age = age\n",
    "\n",
    "    def introduce(self):\n",
    "        print(f\"Hello, my name is {self.name} and I'm {self.age} years old.\")\n",
    "\n",
    "# Creating Person objects\n",
    "person1 = Person(\"John Doe\", 30)\n",
    "person2 = Person(\"Jane Smith\", 25)\n",
    "\n",
    "# Calling methods on the objects\n",
    "person1.introduce() \n",
    "person2.introduce()\n",
    "\n",
    "'''In this example:\n",
    "\n",
    "1. The `Person` class has a constructor `__init__` that takes two parameters: `name` and `age`.\n",
    "2. Inside the constructor, `self.name` and `self.age` are used to assign the passed values to the instance attributes of the current object.\n",
    "3. The `introduce` method also uses `self` to access the `name` and `age` attributes of the current object.\n",
    "4. When creating `Person` objects (`person1` and `person2`), the constructor is called automatically, and the `self` parameter is implicitly passed as the first argument.\n",
    "5. When calling the `introduce` method on the objects, `self` is automatically passed as the first argument, allowing the method to access the instance attributes of the corresponding object.\n",
    "\n",
    "The `self` parameter is crucial in Python constructors and class methods because it allows you to work with the specific instance of the class being created or operated on. It provides a way to access and modify the object's state within the class definition.'''\n",
    "\n"
   ]
  },
  {
   "cell_type": "code",
   "execution_count": 16,
   "id": "b58ba073-ee04-40ee-ab65-cd435295f02d",
   "metadata": {},
   "outputs": [
    {
     "data": {
      "text/plain": [
       "\"In this example, the `Person` class does not define an `__init__` method. When creating a `Person` object using `Person()`, the default constructor is implicitly called, and an object is created with its attributes initialized to their default values.\\n\\nDefault constructors in Python are used when:\\n\\n1. **You don't need to perform any specific initialization logic**: If the class doesn't require any custom initialization, you can rely on the default constructor to create objects with their attributes initialized to default values.\\n\\n2. **You want to create objects without providing any arguments**: The default constructor allows you to create objects without passing any arguments, which can be useful in certain scenarios.\\n\\n3. **You plan to initialize the object's attributes later**: You can create an object using the default constructor and then manually set its attributes later in the code.\\n\\nIt's important to note that while default constructors are available in Python, they are not as commonly used as in other languages. In Python, it is more common to define an `__init__` method in the class to explicitly initialize the object's attributes.\\n\\nDefining an `__init__` method gives you more control over the object's initialization process and allows you to ensure that the object is created in a valid state. It also makes the class more self-contained and easier to understand and maintain.\""
      ]
     },
     "execution_count": 16,
     "metadata": {},
     "output_type": "execute_result"
    }
   ],
   "source": [
    "'''In Python, there is no explicit concept of a default constructor like in some other object-oriented programming languages. However, Python provides a way to create objects without explicitly defining a constructor, which can be considered a default constructor behavior.\n",
    "\n",
    "In Python, if you define a class without an `__init__` method, an implicit default constructor is provided by the language. This default constructor initializes the object's attributes to their default values (e.g., `None` for reference types, `0` for numeric types, `False` for boolean types, or an empty collection for container types).\n",
    "\n",
    "Here's an example of a class with a default constructor:\n",
    "\n",
    "```python'''\n",
    "class Person:\n",
    "    pass\n",
    "\n",
    "# Creating a Person object without arguments\n",
    "person = Person()\n",
    "\n",
    "\n",
    "'''In this example, the `Person` class does not define an `__init__` method. When creating a `Person` object using `Person()`, the default constructor is implicitly called, and an object is created with its attributes initialized to their default values.\n",
    "\n",
    "Default constructors in Python are used when:\n",
    "\n",
    "1. **You don't need to perform any specific initialization logic**: If the class doesn't require any custom initialization, you can rely on the default constructor to create objects with their attributes initialized to default values.\n",
    "\n",
    "2. **You want to create objects without providing any arguments**: The default constructor allows you to create objects without passing any arguments, which can be useful in certain scenarios.\n",
    "\n",
    "3. **You plan to initialize the object's attributes later**: You can create an object using the default constructor and then manually set its attributes later in the code.\n",
    "\n",
    "It's important to note that while default constructors are available in Python, they are not as commonly used as in other languages. In Python, it is more common to define an `__init__` method in the class to explicitly initialize the object's attributes.\n",
    "\n",
    "Defining an `__init__` method gives you more control over the object's initialization process and allows you to ensure that the object is created in a valid state. It also makes the class more self-contained and easier to understand and maintain.'''"
   ]
  },
  {
   "cell_type": "code",
   "execution_count": 17,
   "id": "0cb72bf3-830a-4433-8527-f51ffec1ed8b",
   "metadata": {},
   "outputs": [],
   "source": [
    "class rectangle:\n",
    "    def __init__(self, width, length):\n",
    "        self.Width = width\n",
    "        self.Length = length\n",
    "    def area(self):\n",
    "        print(f\"here your rectangle area {self.Length * self.Width}\")"
   ]
  },
  {
   "cell_type": "code",
   "execution_count": 18,
   "id": "35d16679-76f8-4671-9a5e-91290a3e3673",
   "metadata": {},
   "outputs": [],
   "source": [
    "anik = rectangle(10,30)"
   ]
  },
  {
   "cell_type": "code",
   "execution_count": 19,
   "id": "f86f3a10-262f-4e6d-8029-533a33c4360a",
   "metadata": {},
   "outputs": [
    {
     "name": "stdout",
     "output_type": "stream",
     "text": [
      "here your rectangle area 300\n"
     ]
    }
   ],
   "source": [
    "anik.area()"
   ]
  },
  {
   "cell_type": "code",
   "execution_count": 20,
   "id": "c6487da8-4fa2-4860-8bcd-3b14e8b17da7",
   "metadata": {},
   "outputs": [
    {
     "ename": "TypeError",
     "evalue": "Person.__init__() takes 2 positional arguments but 3 were given",
     "output_type": "error",
     "traceback": [
      "\u001b[0;31m---------------------------------------------------------------------------\u001b[0m",
      "\u001b[0;31mTypeError\u001b[0m                                 Traceback (most recent call last)",
      "Cell \u001b[0;32mIn[20], line 16\u001b[0m\n\u001b[1;32m     13\u001b[0m         \u001b[38;5;28mself\u001b[39m\u001b[38;5;241m.\u001b[39mage \u001b[38;5;241m=\u001b[39m \u001b[38;5;28;01mNone\u001b[39;00m\n\u001b[1;32m     15\u001b[0m \u001b[38;5;66;03m# Creating Person objects\u001b[39;00m\n\u001b[0;32m---> 16\u001b[0m person1 \u001b[38;5;241m=\u001b[39m \u001b[43mPerson\u001b[49m\u001b[43m(\u001b[49m\u001b[38;5;124;43m\"\u001b[39;49m\u001b[38;5;124;43mJohn Doe\u001b[39;49m\u001b[38;5;124;43m\"\u001b[39;49m\u001b[43m,\u001b[49m\u001b[43m \u001b[49m\u001b[38;5;241;43m30\u001b[39;49m\u001b[43m)\u001b[49m\n\u001b[1;32m     17\u001b[0m person2 \u001b[38;5;241m=\u001b[39m Person(\u001b[38;5;124m\"\u001b[39m\u001b[38;5;124mJane Smith\u001b[39m\u001b[38;5;124m\"\u001b[39m)\n\u001b[1;32m     20\u001b[0m \u001b[38;5;124;03m'''In this example, the `Person` class has two `__init__` methods, one that takes both `name` and `age` parameters, and another that takes only the `name` parameter.\u001b[39;00m\n\u001b[1;32m     21\u001b[0m \n\u001b[1;32m     22\u001b[0m \u001b[38;5;124;03mWhen you create a `Person` object, Python will use the constructor that best matches the arguments you provide. In the first case, `person1 = Person(\"John Doe\", 30)` will call the constructor that takes both `name` and `age` parameters. In the second case, `person2 = Person(\"Jane Smith\")` will call the constructor that takes only the `name` parameter, and the `age` attribute will be initialized to `None`.\u001b[39;00m\n\u001b[0;32m   (...)\u001b[0m\n\u001b[1;32m     25\u001b[0m \n\u001b[1;32m     26\u001b[0m \u001b[38;5;124;03m```python'''\u001b[39;00m\n",
      "\u001b[0;31mTypeError\u001b[0m: Person.__init__() takes 2 positional arguments but 3 were given"
     ]
    }
   ],
   "source": [
    "'''In Python, there is no direct way to have multiple constructors in a class like in some other programming languages. However, you can achieve a similar effect by using method overloading or default parameter values.\n",
    "\n",
    "Here's an example of how you can simulate multiple constructors in a Python class:\n",
    "\n",
    "```python'''\n",
    "class Person:\n",
    "    def __init__(self, name, age):\n",
    "        self.name = name\n",
    "        self.age = age\n",
    "\n",
    "    def __init__(self, name):\n",
    "        self.name = name\n",
    "        self.age = None\n",
    "\n",
    "# Creating Person objects\n",
    "person1 = Person(\"John Doe\", 30)\n",
    "person2 = Person(\"Jane Smith\")\n",
    "\n",
    "\n",
    "'''In this example, the `Person` class has two `__init__` methods, one that takes both `name` and `age` parameters, and another that takes only the `name` parameter.\n",
    "\n",
    "When you create a `Person` object, Python will use the constructor that best matches the arguments you provide. In the first case, `person1 = Person(\"John Doe\", 30)` will call the constructor that takes both `name` and `age` parameters. In the second case, `person2 = Person(\"Jane Smith\")` will call the constructor that takes only the `name` parameter, and the `age` attribute will be initialized to `None`.\n",
    "\n",
    "Another way to achieve a similar effect is by using default parameter values:\n",
    "\n",
    "```python'''\n",
    "class Person:\n",
    "    def __init__(self, name, age=None):\n",
    "        self.name = name\n",
    "        self.age = age\n",
    "\n",
    "# Creating Person objects\n",
    "person1 = Person(\"John Doe\", 30)\n",
    "person2 = Person(\"Jane Smith\")\n",
    "\n",
    "\n",
    "'''In this example, the `__init__` method has a default value of `None` for the `age` parameter. When you create a `Person` object with both `name` and `age` arguments, the `age` parameter will be set to the provided value. When you create a `Person` object with only the `name` argument, the `age` parameter will be set to `None` by default.\n",
    "\n",
    "It's important to note that while these techniques can simulate the behavior of multiple constructors, they are not true constructor overloading as found in some other programming languages. In Python, the language design favors simplicity and flexibility, and the use of default parameter values is generally considered a more Pythonic approach.\n",
    "\n",
    "Additionally, you can use other techniques, such as factory methods or class methods, to achieve a similar effect of having multiple ways to create objects of a class. These approaches can be more explicit and easier to maintain than relying on method overloading or default parameter values.'''"
   ]
  },
  {
   "cell_type": "code",
   "execution_count": 2,
   "id": "642effc1-dc67-4f69-b53e-405e2cd4de62",
   "metadata": {},
   "outputs": [
    {
     "data": {
      "text/plain": [
       "\"In this example, the `__init__` method uses `*args` to accept a variable number of arguments. Depending on the number of arguments passed, the constructor initializes the `name` and `age` attributes accordingly. If an invalid number of arguments is provided, a `ValueError` is raised.\\n\\nIt's important to note that while these techniques can simulate the behavior of method overloading, they are not true constructor overloading as found in some other programming languages. Python's design philosophy favors simplicity and flexibility, and the use of default parameter values or variable-length arguments is generally considered a more Pythonic approach.\\n\\nAdditionally, you can use other techniques, such as factory methods or class methods, to achieve a similar effect of having multiple ways to create objects of a class. These approaches can be more explicit and easier to maintain than relying on simulated method overloading.\""
      ]
     },
     "execution_count": 2,
     "metadata": {},
     "output_type": "execute_result"
    }
   ],
   "source": [
    "'''Python does not have a built-in concept of method overloading like some other programming languages (e.g., Java, C++). However, you can achieve a similar effect by using default parameter values or variable-length arguments.\n",
    "\n",
    "In the context of constructors, method overloading would mean having multiple constructors in a class that accept different sets of parameters. This is not directly possible in Python.\n",
    "\n",
    "Here's how you can simulate method overloading with constructors in Python:\n",
    "\n",
    "1. **Using Default Parameter Values**:\n",
    "   You can define a constructor with default parameter values to achieve a similar effect as method overloading.\n",
    "\n",
    "```python'''\n",
    "class Person:\n",
    "    \n",
    "    def __init__(self, name, age=None):\n",
    "        self.name = name\n",
    "        self.age = age\n",
    "\n",
    "# Creating objects with different number of arguments\n",
    "person1 = Person(\"John\", 30)\n",
    "person2 = Person(\"Jane\")\n",
    "   \n",
    "\n",
    "'''In this example, the `__init__` method has a default value of `None` for the `age` parameter. When you create a `Person` object with both `name` and `age` arguments, the `age` parameter will be set to the provided value. When you create a `Person` object with only the `name` argument, the `age` parameter will be set to `None` by default.\n",
    "\n",
    "2. **Using Variable-Length Arguments (`*args`)**:\n",
    "You can also use variable-length arguments (`*args`) to simulate method overloading with constructo\n",
    "python'''\n",
    "\n",
    "class Person:\n",
    "    def __init__(self, *args):\n",
    "        \n",
    "        if len(args) == 1:\n",
    "            self.name = args[0]\n",
    "            self.age = None\n",
    "        elif len(args) == 2:\n",
    "            self.name = args[0]\n",
    "            self.age = args[1]\n",
    "        else:\n",
    "            raise ValueError(\"Invalid number of arguments\")\n",
    "\n",
    "# Creating objects with different number of arguments\n",
    "person1 = Person(\"John\", 30)\n",
    "person2 = Person(\"Jane\")\n",
    "   \n",
    "\n",
    "'''In this example, the `__init__` method uses `*args` to accept a variable number of arguments. Depending on the number of arguments passed, the constructor initializes the `name` and `age` attributes accordingly. If an invalid number of arguments is provided, a `ValueError` is raised.\n",
    "\n",
    "It's important to note that while these techniques can simulate the behavior of method overloading, they are not true constructor overloading as found in some other programming languages. Python's design philosophy favors simplicity and flexibility, and the use of default parameter values or variable-length arguments is generally considered a more Pythonic approach.\n",
    "\n",
    "Additionally, you can use other techniques, such as factory methods or class methods, to achieve a similar effect of having multiple ways to create objects of a class. These approaches can be more explicit and easier to maintain than relying on simulated method overloading.'''\n",
    "\n"
   ]
  },
  {
   "cell_type": "code",
   "execution_count": 4,
   "id": "de45c9ec-ed2f-4191-9a25-108087a992c8",
   "metadata": {},
   "outputs": [
    {
     "data": {
      "text/plain": [
       "\"The `super()` function in Python is used to access the parent class of the current class. It is commonly used in constructors to call the parent class's constructor and ensure that the parent class's initialization is performed before the child class's initialization.\\n\\nHere's an example of how to use the `super()` function in a Python constructor:\\n\\n```python\\n\\nIn this example:\\n\\n1. **Parent Class**: The `Parent` class has a constructor (`__init__`) that prints a message indicating that the parent class is initialized.\\n2. **Child Class**: The `Child` class inherits from the `Parent` class and has its own constructor (`__init__`) that calls the parent class's constructor using `super().__init__()`.\\n3. **Child Object Creation**: When you create a `Child` object, the `Child` class's constructor is called, which in turn calls the parent class's constructor using `super().__init__()`. This ensures that the parent class's initialization is performed before the child class's initialization.\\n\\nUsing `super()` ensures that the parent class's initialization is performed before the child class's initialization, which is important for maintaining the integrity of the class hierarchy.\\n\\nHere are some key points about using `super()` in Python constructors:\\n\\n- **Accessing Parent Class Methods**: `super()` allows you to access the parent class's methods and attributes from the child class.\\n- **Calling Parent Class Constructors**: `super()` can be used to call the parent class's constructor from the child class's constructor.\\n- **Ensuring Parent Class Initialization**: Using `super()` ensures that the parent class's initialization is performed before the child class's initialization, which is important for maintaining the integrity of the class hierarchy.\\n\\nUnderstanding the use of `super()` in Python constructors is essential for writing effective and maintainable object-oriented code in Python.\""
      ]
     },
     "execution_count": 4,
     "metadata": {},
     "output_type": "execute_result"
    }
   ],
   "source": [
    "'''The `super()` function in Python is used to access the parent class of the current class. It is commonly used in constructors to call the parent class's constructor and ensure that the parent class's initialization is performed before the child class's initialization.\n",
    "\n",
    "Here's an example of how to use the `super()` function in a Python constructor:\n",
    "\n",
    "```python\n",
    "\n",
    "In this example:\n",
    "\n",
    "1. **Parent Class**: The `Parent` class has a constructor (`__init__`) that prints a message indicating that the parent class is initialized.\n",
    "2. **Child Class**: The `Child` class inherits from the `Parent` class and has its own constructor (`__init__`) that calls the parent class's constructor using `super().__init__()`.\n",
    "3. **Child Object Creation**: When you create a `Child` object, the `Child` class's constructor is called, which in turn calls the parent class's constructor using `super().__init__()`. This ensures that the parent class's initialization is performed before the child class's initialization.\n",
    "\n",
    "Using `super()` ensures that the parent class's initialization is performed before the child class's initialization, which is important for maintaining the integrity of the class hierarchy.\n",
    "\n",
    "Here are some key points about using `super()` in Python constructors:\n",
    "\n",
    "- **Accessing Parent Class Methods**: `super()` allows you to access the parent class's methods and attributes from the child class.\n",
    "- **Calling Parent Class Constructors**: `super()` can be used to call the parent class's constructor from the child class's constructor.\n",
    "- **Ensuring Parent Class Initialization**: Using `super()` ensures that the parent class's initialization is performed before the child class's initialization, which is important for maintaining the integrity of the class hierarchy.\n",
    "\n",
    "Understanding the use of `super()` in Python constructors is essential for writing effective and maintainable object-oriented code in Python.'''"
   ]
  },
  {
   "cell_type": "code",
   "execution_count": 5,
   "id": "259ff831-3344-47d5-af10-2cb70bbb7bf5",
   "metadata": {},
   "outputs": [
    {
     "name": "stdout",
     "output_type": "stream",
     "text": [
      "Parent class initialized\n",
      "Child class initialized\n"
     ]
    }
   ],
   "source": [
    "class Parent:\n",
    "    def __init__(self):\n",
    "        print(\"Parent class initialized\")\n",
    "\n",
    "class Child(Parent):\n",
    "    def __init__(self):\n",
    "        super().__init__()\n",
    "        print(\"Child class initialized\")\n",
    "\n",
    "# Creating a Child object\n",
    "child = Child()\n",
    "\n"
   ]
  },
  {
   "cell_type": "code",
   "execution_count": 6,
   "id": "c45ccd98-7af3-474b-ae8e-f32346333cc2",
   "metadata": {},
   "outputs": [],
   "source": [
    "class Book:\n",
    "    def __init__(self, title, author_name, published_year):\n",
    "        self.TITLE = title\n",
    "        self.AUTHOR_NAME = author_name\n",
    "        self.PUBLISHED_YEAR = published_year\n",
    "    def extract_deatails(self):\n",
    "        print(f\"here your book title {self.TITLE} & author name {self.AUTHOR_NAME} & published year {self.PUBLISHED_YEAR}.\")"
   ]
  },
  {
   "cell_type": "code",
   "execution_count": 7,
   "id": "29c589a9-e180-4746-a3e8-40bd6c22b4ac",
   "metadata": {},
   "outputs": [],
   "source": [
    "anik = Book(\"Doglapan\", \"Ashneer Grover\", 2021)"
   ]
  },
  {
   "cell_type": "code",
   "execution_count": 8,
   "id": "8979b1ed-ff93-48f8-9e93-b97db0d16538",
   "metadata": {},
   "outputs": [
    {
     "name": "stdout",
     "output_type": "stream",
     "text": [
      "here your book title Doglapan & author name Ashneer Grover & published year 2021.\n"
     ]
    }
   ],
   "source": [
    "anik.extract_deatails()"
   ]
  },
  {
   "cell_type": "code",
   "execution_count": 9,
   "id": "c203348b-b06e-4d3d-975e-98f288c6a4aa",
   "metadata": {},
   "outputs": [
    {
     "name": "stdout",
     "output_type": "stream",
     "text": [
      "Hello, my name is John Doe and I'm 30 years old.\n"
     ]
    },
    {
     "data": {
      "text/plain": [
       "'In this example, `__init__()` is the constructor that initializes the `name` and `age` attributes when a `Person` object is created. The `greet()` method is a regular method that can be called on the `Person` object to perform a specific action.\\n\\nUnderstanding the differences between constructors and regular methods is crucial for effective object-oriented programming in Python.'"
      ]
     },
     "execution_count": 9,
     "metadata": {},
     "output_type": "execute_result"
    }
   ],
   "source": [
    "'''The main differences between constructors and regular methods in Python classes are:\n",
    "\n",
    "1. **Purpose**:\n",
    "   - Constructors are used to initialize the object's state when it is created.\n",
    "   - Regular methods perform specific actions or operations on the object.\n",
    "\n",
    "2. **Automatic Invocation**:\n",
    "   - Constructors are automatically called when an object is created using the class name followed by parentheses.\n",
    "   - Regular methods need to be explicitly called on an object.\n",
    "\n",
    "3. **Method Name**:\n",
    "   - Constructors are defined using the special method `__init__()`.\n",
    "   - Regular methods can have any name chosen by the programmer.\n",
    "\n",
    "4. **Parameters**:\n",
    "   - Constructors can take parameters to initialize the object's attributes.\n",
    "   - Regular methods can also take parameters, but they are not used for initialization.\n",
    "\n",
    "5. **Return Value**:\n",
    "   - Constructors cannot return a value other than `None`.\n",
    "   - Regular methods can return any value based on the logic implemented in the method.\n",
    "\n",
    "6. **Inheritance**:\n",
    "   - When a class inherits from another class, the child class's constructor automatically calls the parent class's constructor using `super().__init__()`.\n",
    "   - Regular methods are inherited by the child class and can be overridden or extended as needed.\n",
    "\n",
    "Here's an example to illustrate the differences:\n",
    "\n",
    "```python'''\n",
    "class Person:\n",
    "    def __init__(self, name, age):\n",
    "        self.name = name\n",
    "        self.age = age\n",
    "\n",
    "    def greet(self):\n",
    "        print(f\"Hello, my name is {self.name} and I'm {self.age} years old.\")\n",
    "\n",
    "# Creating a Person object\n",
    "person = Person(\"John Doe\", 30)\n",
    "\n",
    "# Calling the constructor\n",
    "person.greet()  \n",
    "\n",
    "\n",
    "'''In this example, `__init__()` is the constructor that initializes the `name` and `age` attributes when a `Person` object is created. The `greet()` method is a regular method that can be called on the `Person` object to perform a specific action.\n",
    "\n",
    "Understanding the differences between constructors and regular methods is crucial for effective object-oriented programming in Python.'''\n",
    "\n"
   ]
  },
  {
   "cell_type": "code",
   "execution_count": 10,
   "id": "7fbcca37-046f-44da-baf4-74ebb7a74597",
   "metadata": {},
   "outputs": [
    {
     "ename": "SyntaxError",
     "evalue": "invalid syntax (62648562.py, line 21)",
     "output_type": "error",
     "traceback": [
      "\u001b[0;36m  Cell \u001b[0;32mIn[10], line 21\u001b[0;36m\u001b[0m\n\u001b[0;31m    In this example:\u001b[0m\n\u001b[0m       ^\u001b[0m\n\u001b[0;31mSyntaxError\u001b[0m\u001b[0;31m:\u001b[0m invalid syntax\n"
     ]
    }
   ],
   "source": [
    "'''In Python, the `self` parameter in a constructor (or any other instance method) is used to refer to the current instance of the class. It allows you to access and manipulate the instance variables (attributes) of the object being created.\n",
    "\n",
    "The role of the `self` parameter in instance variable initialization within a constructor is to ensure that the instance variables are properly associated with the correct object.\n",
    "\n",
    "Here's an example to illustrate the role of `self`:\n",
    "\n",
    "```python'''\n",
    "class Person:\n",
    "    def __init__(self, name, age):\n",
    "        self.name = name  \n",
    "        self.age = age   \n",
    "\n",
    "    def introduce(self):\n",
    "        print(f\"Hello, my name is {self.name} and I'm {self.age} years old.\")\n",
    "\n",
    "# Creating a Person object\n",
    "person = Person(\"John Doe\", 30)\n",
    "person.introduce()  \n",
    "\n",
    "\n",
    "In this example:\n",
    "\n",
    "'''1. The `Person` class has a constructor (`__init__`) that takes two parameters: `name` and `age`.\n",
    "2. Inside the constructor, the `self.name` and `self.age` assignments are used to initialize the instance variables `name` and `age` for the current `Person` object.\n",
    "3. The `introduce` method uses `self.name` and `self.age` to access the instance variables of the current `Person` object.\n",
    "\n",
    "The `self` parameter is crucial in the constructor because it allows you to associate the instance variables with the correct object. When you create a new `Person` object, the constructor is called, and the `self` parameter is automatically bound to the newly created object.\n",
    "\n",
    "Without the `self` parameter, the instance variables would not be properly associated with the object, and you would not be able to access them correctly from other methods.\n",
    "\n",
    "Here's an example of what would happen if you didn't use `self`:\n",
    "\n",
    "```python'''\n",
    "class Person:\n",
    "    def __init__(name, age):\n",
    "        name = name  # This would create a local variable, not an instance variable\n",
    "        age = age    # This would create a local variable, not an instance variable\n",
    "\n",
    "    def introduce(self):\n",
    "        print(f\"Hello, my name is {name} and I'm {age} years old.\")  \n",
    "\n",
    "'''In this case, the `name` and `age` variables are treated as local variables within the `__init__` method, and they are not associated with the object. As a result, the `introduce` method cannot access them, and you would get a `NameError`.\n",
    "\n",
    "The `self` parameter is a crucial part of object-oriented programming in Python, as it allows you to properly initialize and access the instance variables of an object within the class methods.'''"
   ]
  },
  {
   "cell_type": "code",
   "execution_count": 11,
   "id": "add9501f-4574-4c3c-917e-c3f1f3df8bb0",
   "metadata": {},
   "outputs": [
    {
     "name": "stdout",
     "output_type": "stream",
     "text": [
      "42\n",
      "100\n",
      "True\n"
     ]
    }
   ],
   "source": [
    "class Singleton:\n",
    "    _instance = None\n",
    "\n",
    "    def __new__(cls, *args, **kwargs):\n",
    "        if cls._instance is None:\n",
    "            cls._instance = super(Singleton, cls).__new__(cls)\n",
    "        return cls._instance\n",
    "\n",
    "    def __init__(self, value):\n",
    "        self.value = value\n",
    "\n",
    "\n",
    "singleton1 = Singleton(42)\n",
    "print(singleton1.value) \n",
    "\n",
    "\n",
    "singleton2 = Singleton(100)\n",
    "print(singleton2.value) \n",
    "print(singleton1 is singleton2) \n"
   ]
  },
  {
   "cell_type": "code",
   "execution_count": 12,
   "id": "4ec934bb-a3ac-4fe0-be6f-53f13907c0fb",
   "metadata": {},
   "outputs": [
    {
     "data": {
      "text/plain": [
       "\"In Python, you can prevent a class from having multiple instances by using the Singleton design pattern. The Singleton pattern ensures that a class has only one instance and provides a global point of access to it.\\n\\nHere's an example of how you can implement the Singleton pattern using a constructor in Python:\\n\\n```python\\n\\n\\nIn this example, the `Singleton` class implements the Singleton pattern using the following steps:\\n\\n1. The `__new__` method is overridden to control the object creation process.\\n2. Inside the `__new__` method, the class checks if an instance of the `Singleton` class already exists (`cls._instance is None`).\\n3. If an instance does not exist, a new instance is created using the `super().__new__` method and stored in the `cls._instance` attribute.\\n4. If an instance already exists, the existing instance is returned.\\n5. The `__init__` method is used to initialize the `value` attribute of the `Singleton` instance.\\n\\nWhen you create the first `Singleton` object (`singleton1`), the `__new__` method is called, and a new instance is created. The `value` attribute is set to `42`.\\n\\nWhen you create the second `Singleton` object (`singleton2`), the `__new__` method is called again. However, since an instance of the `Singleton` class already exists, the existing instance is returned instead of creating a new one. As a result, the `value` attribute of `singleton2` is still `42`, even though you tried to set it to `100`.\\n\\nThe `is` operator is used to check if `singleton1` and `singleton2` are the same object, and the output confirms that they are the same instance.\\n\\nBy overriding the `__new__` method and controlling the object creation process, you can ensure that a class has only one instance, effectively implementing the Singleton pattern in Python.\\n\\nThis approach can be useful when you have a class that represents a global resource or a configuration that should have a single instance throughout the application.\""
      ]
     },
     "execution_count": 12,
     "metadata": {},
     "output_type": "execute_result"
    }
   ],
   "source": [
    "'''In Python, you can prevent a class from having multiple instances by using the Singleton design pattern. The Singleton pattern ensures that a class has only one instance and provides a global point of access to it.\n",
    "\n",
    "Here's an example of how you can implement the Singleton pattern using a constructor in Python:\n",
    "\n",
    "```python\n",
    "\n",
    "\n",
    "In this example, the `Singleton` class implements the Singleton pattern using the following steps:\n",
    "\n",
    "1. The `__new__` method is overridden to control the object creation process.\n",
    "2. Inside the `__new__` method, the class checks if an instance of the `Singleton` class already exists (`cls._instance is None`).\n",
    "3. If an instance does not exist, a new instance is created using the `super().__new__` method and stored in the `cls._instance` attribute.\n",
    "4. If an instance already exists, the existing instance is returned.\n",
    "5. The `__init__` method is used to initialize the `value` attribute of the `Singleton` instance.\n",
    "\n",
    "When you create the first `Singleton` object (`singleton1`), the `__new__` method is called, and a new instance is created. The `value` attribute is set to `42`.\n",
    "\n",
    "When you create the second `Singleton` object (`singleton2`), the `__new__` method is called again. However, since an instance of the `Singleton` class already exists, the existing instance is returned instead of creating a new one. As a result, the `value` attribute of `singleton2` is still `42`, even though you tried to set it to `100`.\n",
    "\n",
    "The `is` operator is used to check if `singleton1` and `singleton2` are the same object, and the output confirms that they are the same instance.\n",
    "\n",
    "By overriding the `__new__` method and controlling the object creation process, you can ensure that a class has only one instance, effectively implementing the Singleton pattern in Python.\n",
    "\n",
    "This approach can be useful when you have a class that represents a global resource or a configuration that should have a single instance throughout the application.'''"
   ]
  },
  {
   "cell_type": "code",
   "execution_count": 1,
   "id": "e0f0f6bd-d10e-4bae-b821-c32899e9cd67",
   "metadata": {},
   "outputs": [],
   "source": [
    "class Student:\n",
    "    def __init__(self, subjects):\n",
    "        self.subjects = subjects\n",
    "\n",
    "    def display_subjects(self):\n",
    "        print(\"Subjects taken by the student:\")\n",
    "        for subject in self.subjects:\n",
    "            print(\"- \" + subject)\n"
   ]
  },
  {
   "cell_type": "code",
   "execution_count": 3,
   "id": "e0bd2ef1-625f-4ae3-ac4c-5104cbb4b852",
   "metadata": {},
   "outputs": [],
   "source": [
    "anik = Student([\"math\", \"physics\", \"bengali\"])"
   ]
  },
  {
   "cell_type": "code",
   "execution_count": 4,
   "id": "f32e48f5-702e-40ed-9485-fa48ee3c7a75",
   "metadata": {},
   "outputs": [
    {
     "name": "stdout",
     "output_type": "stream",
     "text": [
      "Subjects taken by the student:\n",
      "- math\n",
      "- physics\n",
      "- bengali\n"
     ]
    }
   ],
   "source": [
    "anik.display_subjects()"
   ]
  },
  {
   "cell_type": "code",
   "execution_count": 5,
   "id": "cafe0837-bd4b-4d4c-927b-dcd9f60a83a8",
   "metadata": {},
   "outputs": [
    {
     "name": "stdout",
     "output_type": "stream",
     "text": [
      "Object obj1 created.\n",
      "Object obj2 created.\n",
      "Object obj1 is being destroyed.\n",
      "Object obj2 is being destroyed.\n"
     ]
    }
   ],
   "source": [
    "class MyClass:\n",
    "    def __init__(self, name):\n",
    "        self.name = name\n",
    "        print(f\"Object {self.name} created.\")\n",
    "\n",
    "    def __del__(self):\n",
    "        print(f\"Object {self.name} is being destroyed.\")\n",
    "\n",
    "obj1 = MyClass(\"obj1\")\n",
    "obj2 = MyClass(\"obj2\")\n",
    "\n",
    "del obj1\n",
    "del obj2\n"
   ]
  },
  {
   "cell_type": "code",
   "execution_count": 8,
   "id": "46cd6dac-6ed7-4a38-8f7b-c3ab189c1946",
   "metadata": {},
   "outputs": [],
   "source": [
    "class Person:\n",
    "    def __init__(self, name, age):\n",
    "        self.name = name\n",
    "        self.age = age\n",
    "\n",
    "    def __init__(self, name):\n",
    "        self.__init__(name, None)\n",
    "\n",
    "class Student(Person):\n",
    "    def __init__(self, name, age, grade):\n",
    "        super().__init__(name, age)\n",
    "        self.grade = grade\n",
    "\n",
    "    def __init__(self, name, grade):\n",
    "        super().__init__(name)\n",
    "        self.grade = grade\n"
   ]
  },
  {
   "cell_type": "code",
   "execution_count": 13,
   "id": "fafb66f8-7e4f-4aa4-8efa-e275e30902df",
   "metadata": {},
   "outputs": [],
   "source": [
    "class Car:\n",
    "    def __init__(self, make, model):\n",
    "        self.Make = make\n",
    "        self.Model = model\n",
    "    def car_deatails(self):\n",
    "        print(f\"here your car maker name {self.Make} & model name {self.Model}\")"
   ]
  },
  {
   "cell_type": "code",
   "execution_count": 14,
   "id": "62ca68a6-5b8c-4e83-a10d-97bf75ab41e2",
   "metadata": {},
   "outputs": [],
   "source": [
    "anik = Car(\"anish\" , \"Tata\")"
   ]
  },
  {
   "cell_type": "code",
   "execution_count": 15,
   "id": "d53c2579-2a70-4deb-ba64-e4e9b16dc70d",
   "metadata": {},
   "outputs": [
    {
     "name": "stdout",
     "output_type": "stream",
     "text": [
      "here your car maker name anish & model name Tata\n"
     ]
    }
   ],
   "source": [
    "anik.car_deatails()"
   ]
  },
  {
   "cell_type": "code",
   "execution_count": 16,
   "id": "307f5c25-155a-4def-ad45-7919528aa4c1",
   "metadata": {},
   "outputs": [
    {
     "name": "stdout",
     "output_type": "stream",
     "text": [
      "The animal makes a sound.\n",
      "The dog barks.\n"
     ]
    },
    {
     "data": {
      "text/plain": [
       "'In this example, the `Dog` class inherits from the `Animal` class. The `Dog` class inherits the `name` attribute and the `speak()` method from the `Animal` class. The `Dog` class also overrides the `speak()` method to provide its own implementation.\\n\\nInheritance is a powerful concept in OOP that allows for code reuse, better organization, and more flexible and extensible code. It is a fundamental aspect of object-oriented programming and is widely used in Python and other OOP languages.'"
      ]
     },
     "execution_count": 16,
     "metadata": {},
     "output_type": "execute_result"
    }
   ],
   "source": [
    "#Inheritance:\n",
    "'''Inheritance is a fundamental concept in object-oriented programming (OOP) that allows a new class to be based on an existing class. The new class inherits the data and behaviors of the existing class, which is known as the base or parent class. The new class is called the derived or child class.\n",
    "\n",
    "The significance of inheritance in OOP is as follows:\n",
    "\n",
    "1. **Code Reuse**: Inheritance allows you to reuse the code of the parent class in the child class. This reduces the amount of code you need to write and maintain, as you can simply inherit the desired functionality from the parent class.\n",
    "\n",
    "2. **Hierarchical Relationships**: Inheritance establishes a hierarchical relationship between classes, where the child class is a more specialized version of the parent class. This hierarchy can be extended further, creating a class hierarchy.\n",
    "\n",
    "3. **Polymorphism**: Inheritance enables polymorphism, which allows objects of different classes to be treated as objects of a common superclass. This allows for more flexible and extensible code.\n",
    "\n",
    "4. **Code Organization**: Inheritance helps in organizing the code by grouping related classes together in a hierarchy. This makes the code more modular, maintainable, and easier to understand.\n",
    "\n",
    "5. **Abstraction**: Inheritance supports the concept of abstraction, where you can define a general interface or behavior in the parent class and then specialize it in the child classes.\n",
    "\n",
    "Here's an example of inheritance in Python:\n",
    "\n",
    "```python'''\n",
    "# Parent class\n",
    "class Animal:\n",
    "    def __init__(self, name):\n",
    "        self.name = name\n",
    "\n",
    "    def speak(self):\n",
    "        print(\"The animal makes a sound.\")\n",
    "\n",
    "# Child class\n",
    "class Dog(Animal):\n",
    "    def __init__(self, name):\n",
    "        super().__init__(name)\n",
    "\n",
    "    def speak(self):\n",
    "        print(\"The dog barks.\")\n",
    "\n",
    "# Creating objects\n",
    "animal = Animal(\"Generic Animal\")\n",
    "animal.speak()  # Output: The animal makes a sound.\n",
    "\n",
    "dog = Dog(\"Buddy\")\n",
    "dog.speak()  # Output: The dog barks.\n",
    "\n",
    "\n",
    "'''In this example, the `Dog` class inherits from the `Animal` class. The `Dog` class inherits the `name` attribute and the `speak()` method from the `Animal` class. The `Dog` class also overrides the `speak()` method to provide its own implementation.\n",
    "\n",
    "Inheritance is a powerful concept in OOP that allows for code reuse, better organization, and more flexible and extensible code. It is a fundamental aspect of object-oriented programming and is widely used in Python and other OOP languages.'''\n",
    "\n"
   ]
  },
  {
   "cell_type": "code",
   "execution_count": 17,
   "id": "edb36955-34e5-49f7-aecd-2be6fd0d918b",
   "metadata": {},
   "outputs": [
    {
     "name": "stdout",
     "output_type": "stream",
     "text": [
      "The animal makes a sound.\n",
      "The dog barks.\n",
      "The animal is swimming.\n",
      "The animal is running.\n",
      "The Perry can swim at 5 and run at 10.\n"
     ]
    },
    {
     "data": {
      "text/plain": [
       "\"In this example, the `Platypus` class inherits from both the `Swimmer` and `Runner` classes, which are the parent classes. The `Platypus` class can access the attributes and methods from both parent classes.\\n\\nThe key differences between single and multiple inheritance are:\\n\\n1. **Number of Parent Classes**: Single inheritance involves a class inheriting from a single parent class, while multiple inheritance involves a class inheriting from multiple parent classes.\\n2. **Complexity**: Multiple inheritance can lead to more complex code and potential conflicts (e.g., method resolution order), which requires more careful design and management.\\n3. **Flexibility**: Multiple inheritance provides more flexibility in terms of code reuse and the ability to combine different functionalities in a single class.\\n\\nBoth single and multiple inheritance are supported in Python, but it's generally recommended to use single inheritance whenever possible, as it tends to result in simpler and more maintainable code. Multiple inheritance should be used with caution and only when the benefits outweigh the potential complexity.\""
      ]
     },
     "execution_count": 17,
     "metadata": {},
     "output_type": "execute_result"
    }
   ],
   "source": [
    "'''In Python, there are two main types of inheritance: single inheritance and multiple inheritance.\n",
    "\n",
    "## Single Inheritance\n",
    "\n",
    "Single inheritance is when a class inherits from a single parent class. This is the most common and straightforward form of inheritance.\n",
    "\n",
    "Example of single inheritance:\n",
    "\n",
    "```python'''\n",
    "class Animal:\n",
    "    def __init__(self, name):\n",
    "        self.name = name\n",
    "\n",
    "    def speak(self):\n",
    "        print(\"The animal makes a sound.\")\n",
    "\n",
    "class Dog(Animal):\n",
    "    def __init__(self, name):\n",
    "        super().__init__(name)\n",
    "\n",
    "    def speak(self):\n",
    "        print(\"The dog barks.\")\n",
    "\n",
    "\n",
    "animal = Animal(\"Generic Animal\")\n",
    "animal.speak() \n",
    "dog = Dog(\"Buddy\")\n",
    "dog.speak()  \n",
    "\n",
    "'''In this example, the `Dog` class inherits from the `Animal` class, which is the single parent class.\n",
    "\n",
    "## Multiple Inheritance\n",
    "\n",
    "Multiple inheritance is when a class inherits from multiple parent classes. This allows the child class to inherit attributes and methods from all the parent classes.\n",
    "\n",
    "Example of multiple inheritance:\n",
    "\n",
    "```python'''\n",
    "class Swimmer:\n",
    "    def __init__(self, swimming_speed):\n",
    "        self.swimming_speed = swimming_speed\n",
    "\n",
    "    def swim(self):\n",
    "        print(\"The animal is swimming.\")\n",
    "\n",
    "class Runner:\n",
    "    def __init__(self, running_speed):\n",
    "        self.running_speed = running_speed\n",
    "\n",
    "    def run(self):\n",
    "        print(\"The animal is running.\")\n",
    "\n",
    "class Platypus(Swimmer, Runner):\n",
    "    def __init__(self, name, swimming_speed, running_speed):\n",
    "        Swimmer.__init__(self, swimming_speed)\n",
    "        Runner.__init__(self, running_speed)\n",
    "        self.name = name\n",
    "\n",
    "    def display_info(self):\n",
    "        print(f\"The {self.name} can swim at {self.swimming_speed} and run at {self.running_speed}.\")\n",
    "\n",
    "\n",
    "platypus = Platypus(\"Perry\", 5, 10)\n",
    "platypus.swim() \n",
    "platypus.run()  \n",
    "platypus.display_info() \n",
    "\n",
    "\n",
    "'''In this example, the `Platypus` class inherits from both the `Swimmer` and `Runner` classes, which are the parent classes. The `Platypus` class can access the attributes and methods from both parent classes.\n",
    "\n",
    "The key differences between single and multiple inheritance are:\n",
    "\n",
    "1. **Number of Parent Classes**: Single inheritance involves a class inheriting from a single parent class, while multiple inheritance involves a class inheriting from multiple parent classes.\n",
    "2. **Complexity**: Multiple inheritance can lead to more complex code and potential conflicts (e.g., method resolution order), which requires more careful design and management.\n",
    "3. **Flexibility**: Multiple inheritance provides more flexibility in terms of code reuse and the ability to combine different functionalities in a single class.\n",
    "\n",
    "Both single and multiple inheritance are supported in Python, but it's generally recommended to use single inheritance whenever possible, as it tends to result in simpler and more maintainable code. Multiple inheritance should be used with caution and only when the benefits outweigh the potential complexity.'''"
   ]
  },
  {
   "cell_type": "code",
   "execution_count": 1,
   "id": "12e4086b-39ed-4b67-839a-858217cbf26c",
   "metadata": {},
   "outputs": [],
   "source": [
    "class Vehicle:\n",
    "    def __init__(self):\n",
    "        pass\n",
    "    def extract_deatails(self):\n",
    "        print(f\"here your car colour {self.Colour} & high speed {self.Speed }\")\n",
    "class Car(Vehicle):\n",
    "    def __init__(self, colour, speed,brands):\n",
    "        self.Colour = colour\n",
    "        self.Speed = speed\n",
    "        self.Brands = brands\n",
    "    def brand_deatails(self):\n",
    "        super().extract_deatails()\n",
    "        print(f\"here your brand {self.Brands}\")"
   ]
  },
  {
   "cell_type": "code",
   "execution_count": 4,
   "id": "809c0c4c-c9bb-4029-99c5-50cf36cfd8a0",
   "metadata": {},
   "outputs": [],
   "source": [
    "\n",
    "anik = Car(\"yellow\", 139.6,\"supra\")"
   ]
  },
  {
   "cell_type": "code",
   "execution_count": 5,
   "id": "0e940b16-a3d6-4719-a2a4-30934eb09b3e",
   "metadata": {},
   "outputs": [
    {
     "name": "stdout",
     "output_type": "stream",
     "text": [
      "here your car colour yellow & high speed 139.6\n",
      "here your brand supra\n"
     ]
    }
   ],
   "source": [
    "anik.brand_deatails()"
   ]
  },
  {
   "cell_type": "code",
   "execution_count": 6,
   "id": "1a88d110-5762-475f-82a2-a08e50632723",
   "metadata": {},
   "outputs": [
    {
     "name": "stdout",
     "output_type": "stream",
     "text": [
      "here your car colour yellow & high speed 139.6\n"
     ]
    }
   ],
   "source": [
    "anik.extract_deatails()"
   ]
  },
  {
   "cell_type": "code",
   "execution_count": 8,
   "id": "253b8fba-62b3-4528-bd70-727280bb489b",
   "metadata": {},
   "outputs": [
    {
     "data": {
      "text/plain": [
       "'Method overriding is a concept in object-oriented programming (OOP) where a child class redefines a method that is already defined in its parent class. This allows the child class to provide its own implementation of the method, which can be different from the implementation provided by the parent class.\\n\\nMethod overriding is a powerful feature in OOP, as it allows you to customize the behavior of a method in a child class without affecting the behavior of the same method in the parent class.\\n\\nIn this example:\\n\\n1. The `Animal` class has a `speak()` method that prints a generic message.\\n2. The `Dog` class inherits from the `Animal` class and also has a `speak()` method.\\n3. The `speak()` method in the `Dog` class overrides the `speak()` method in the `Animal` class.\\n4. When you create an object of the `Dog` class and call the `speak()` method, the overridden method in the `Dog` class is called, which prints a specific message for dogs.\\n\\nMethod overriding is useful in several scenarios:\\n\\n1. **Customization**: You can customize the behavior of a method in a child class without affecting the behavior of the same method in the parent class.\\n2. **Specialization**: You can provide a more specific implementation of a method in a child class that is tailored to the needs of that class.\\n3. **Polymorphism**: Method overriding enables polymorphism, where objects of different classes can be treated as objects of a common superclass, and the correct method is called based on the type of the object.\\n\\nIn the example above, the `speak()` method in the `Dog` class is overridden to provide a more specific implementation for dogs. This allows you to create objects of the `Dog` class and call the `speak()` method, which will print a message specific to dogs.\\n\\nMethod overriding is a fundamental concept in OOP and is widely used in Python and other OOP languages.'"
      ]
     },
     "execution_count": 8,
     "metadata": {},
     "output_type": "execute_result"
    }
   ],
   "source": [
    "'''Method overriding is a concept in object-oriented programming (OOP) where a child class redefines a method that is already defined in its parent class. This allows the child class to provide its own implementation of the method, which can be different from the implementation provided by the parent class.\n",
    "\n",
    "Method overriding is a powerful feature in OOP, as it allows you to customize the behavior of a method in a child class without affecting the behavior of the same method in the parent class.\n",
    "\n",
    "In this example:\n",
    "\n",
    "1. The `Animal` class has a `speak()` method that prints a generic message.\n",
    "2. The `Dog` class inherits from the `Animal` class and also has a `speak()` method.\n",
    "3. The `speak()` method in the `Dog` class overrides the `speak()` method in the `Animal` class.\n",
    "4. When you create an object of the `Dog` class and call the `speak()` method, the overridden method in the `Dog` class is called, which prints a specific message for dogs.\n",
    "\n",
    "Method overriding is useful in several scenarios:\n",
    "\n",
    "1. **Customization**: You can customize the behavior of a method in a child class without affecting the behavior of the same method in the parent class.\n",
    "2. **Specialization**: You can provide a more specific implementation of a method in a child class that is tailored to the needs of that class.\n",
    "3. **Polymorphism**: Method overriding enables polymorphism, where objects of different classes can be treated as objects of a common superclass, and the correct method is called based on the type of the object.\n",
    "\n",
    "In the example above, the `speak()` method in the `Dog` class is overridden to provide a more specific implementation for dogs. This allows you to create objects of the `Dog` class and call the `speak()` method, which will print a message specific to dogs.\n",
    "\n",
    "Method overriding is a fundamental concept in OOP and is widely used in Python and other OOP languages.'''"
   ]
  },
  {
   "cell_type": "code",
   "execution_count": 9,
   "id": "99b1a8aa-bc44-4a73-93f3-bfde371a4f70",
   "metadata": {},
   "outputs": [
    {
     "name": "stdout",
     "output_type": "stream",
     "text": [
      "The Generic Animal makes a sound.\n",
      "The Buddy barks.\n"
     ]
    }
   ],
   "source": [
    "class Animal:\n",
    "    def __init__(self, name):\n",
    "        self.name = name\n",
    "\n",
    "    def speak(self):\n",
    "        print(f\"The {self.name} makes a sound.\")\n",
    "\n",
    "class Dog(Animal):\n",
    "    def speak(self):\n",
    "        print(f\"The {self.name} barks.\")\n",
    "\n",
    "\n",
    "animal = Animal(\"Generic Animal\")\n",
    "animal.speak()  \n",
    "\n",
    "dog = Dog(\"Buddy\")\n",
    "dog.speak() "
   ]
  },
  {
   "cell_type": "code",
   "execution_count": 13,
   "id": "dae0442b-6f6c-486d-8381-540ff93654ec",
   "metadata": {},
   "outputs": [
    {
     "data": {
      "text/plain": [
       "\"In Python, you can access the methods and attributes of a parent class from a child class using the `super()` function or by directly referencing the parent class.\\n\\nIn this example:\\n\\n1. The `Animal` class has an `__init__` method that initializes the `name` attribute and a `speak` method that prints a generic message.\\n2. The `Dog` class inherits from the `Animal` class and has its own `__init__` method that calls the parent class's `__init__` method using `super().__init__(name)`. This allows the `Dog` class to initialize the `name` attribute inherited from the `Animal` class.\\n3. The `Dog` class also overrides the `speak` method. Inside the overridden `speak` method, it first calls the parent class's `speak` method using `super().speak()`, and then it prints an additional message specific to dogs.\\n\\nAlternatively, you can access the parent class's methods and attributes by directly referencing the parent class:\\n\\n\\n\\n\\nIn this example, the `__init__` method of the `Dog` class calls the `__init__` method of the `Animal` class directly using `Animal.__init__(self, name)`, and the `speak` method of the `Dog` class calls the `speak` method of the `Animal` class directly using `Animal.speak(self)`.\\n\\nBoth approaches, using `super()` or directly referencing the parent class, allow the child class to access and utilize the methods and attributes of the parent class. The choice between the two depends on personal preference and the specific requirements of your code.\""
      ]
     },
     "execution_count": 13,
     "metadata": {},
     "output_type": "execute_result"
    }
   ],
   "source": [
    "'''In Python, you can access the methods and attributes of a parent class from a child class using the `super()` function or by directly referencing the parent class.\n",
    "\n",
    "In this example:\n",
    "\n",
    "1. The `Animal` class has an `__init__` method that initializes the `name` attribute and a `speak` method that prints a generic message.\n",
    "2. The `Dog` class inherits from the `Animal` class and has its own `__init__` method that calls the parent class's `__init__` method using `super().__init__(name)`. This allows the `Dog` class to initialize the `name` attribute inherited from the `Animal` class.\n",
    "3. The `Dog` class also overrides the `speak` method. Inside the overridden `speak` method, it first calls the parent class's `speak` method using `super().speak()`, and then it prints an additional message specific to dogs.\n",
    "\n",
    "Alternatively, you can access the parent class's methods and attributes by directly referencing the parent class:\n",
    "\n",
    "\n",
    "\n",
    "\n",
    "In this example, the `__init__` method of the `Dog` class calls the `__init__` method of the `Animal` class directly using `Animal.__init__(self, name)`, and the `speak` method of the `Dog` class calls the `speak` method of the `Animal` class directly using `Animal.speak(self)`.\n",
    "\n",
    "Both approaches, using `super()` or directly referencing the parent class, allow the child class to access and utilize the methods and attributes of the parent class. The choice between the two depends on personal preference and the specific requirements of your code.'''"
   ]
  },
  {
   "cell_type": "code",
   "execution_count": 14,
   "id": "853578d3-89d8-4546-a2dd-230257fe6aa5",
   "metadata": {},
   "outputs": [
    {
     "name": "stdout",
     "output_type": "stream",
     "text": [
      "The Buddy makes a sound.\n",
      "The Labrador dog barks.\n"
     ]
    }
   ],
   "source": [
    "class Animal:\n",
    "    def __init__(self, name):\n",
    "        self.name = name\n",
    "\n",
    "    def speak(self):\n",
    "        print(f\"The {self.name} makes a sound.\")\n",
    "\n",
    "class Dog(Animal):\n",
    "    def __init__(self, name, breed):\n",
    "        super().__init__(name)\n",
    "        self.breed = breed\n",
    "\n",
    "    def speak(self):\n",
    "        super().speak()\n",
    "        print(f\"The {self.breed} dog barks.\")\n",
    "\n",
    "\n",
    "dog = Dog(\"Buddy\", \"Labrador\")\n",
    "dog.speak()\n"
   ]
  },
  {
   "cell_type": "code",
   "execution_count": 15,
   "id": "4d2f610a-6ea4-464d-8d49-d68eb7b7fc33",
   "metadata": {},
   "outputs": [
    {
     "name": "stdout",
     "output_type": "stream",
     "text": [
      "The Buddy makes a sound.\n",
      "The Labrador dog barks.\n"
     ]
    }
   ],
   "source": [
    "class Animal:\n",
    "    def __init__(self, name):\n",
    "        self.name = name\n",
    "\n",
    "    def speak(self):\n",
    "        print(f\"The {self.name} makes a sound.\")\n",
    "\n",
    "class Dog(Animal):\n",
    "    def __init__(self, name, breed):\n",
    "        Animal.__init__(self, name)\n",
    "        self.breed = breed\n",
    "\n",
    "    def speak(self):\n",
    "        Animal.speak(self)\n",
    "        print(f\"The {self.breed} dog barks.\")\n",
    "\n",
    "\n",
    "dog = Dog(\"Buddy\", \"Labrador\")\n",
    "dog.speak()"
   ]
  },
  {
   "cell_type": "code",
   "execution_count": 16,
   "id": "93d5650f-79f3-492d-a8f0-cffda7d95c6f",
   "metadata": {},
   "outputs": [
    {
     "data": {
      "text/plain": [
       "\"In Python, the `super()` function is used to access methods and attributes of a parent class from a child class. It is particularly useful when dealing with inheritance.\\n\\n## When and Why to Use `super()`\\n\\n1. **Calling the parent class's constructor**: When a child class needs to initialize its own attributes along with the attributes of the parent class, `super()` can be used to call the parent class's constructor.\\n\\n2. **Accessing and extending parent class methods**: `super()` allows you to access and extend the functionality of a method in the parent class from the child class.\\n\\n3. **Maintaining the class hierarchy**: By using `super()`, you can ensure that the class hierarchy is maintained and the correct methods are called based on the object's type.\\n\\n## Example of Using `super()`\\n\\nLet's consider an example where we have a parent class `Animal` and a child class `Dog` that inherits from it:\\n\\n\\n\\nIn this example:\\n\\n1. The `Animal` class has an `__init__` method that initializes the `name` attribute and a `speak` method that prints a generic message.\\n\\n2. The `Dog` class inherits from the `Animal` class and has its own `__init__` method. Inside the `__init__` method of `Dog`, `super().__init__(name)` is used to call the `__init__` method of the parent class (`Animal`) and initialize the `name` attribute inherited from the parent class.\\n\\n3. The `Dog` class also overrides the `speak` method. Inside the overridden `speak` method, `super().speak()` is used to call the `speak` method of the parent class (`Animal`), and then an additional message specific to dogs is printed.\\n\\nBy using `super()`, we ensure that the `name` attribute is properly initialized by calling the parent class's constructor, and we extend the functionality of the `speak` method by calling the parent class's `speak` method and adding additional logic specific to dogs.\\n\\nUsing `super()` helps maintain the class hierarchy, ensures that the correct methods are called based on the object's type, and allows for code reuse and extensibility.\""
      ]
     },
     "execution_count": 16,
     "metadata": {},
     "output_type": "execute_result"
    }
   ],
   "source": [
    "'''In Python, the `super()` function is used to access methods and attributes of a parent class from a child class. It is particularly useful when dealing with inheritance.\n",
    "\n",
    "## When and Why to Use `super()`\n",
    "\n",
    "1. **Calling the parent class's constructor**: When a child class needs to initialize its own attributes along with the attributes of the parent class, `super()` can be used to call the parent class's constructor.\n",
    "\n",
    "2. **Accessing and extending parent class methods**: `super()` allows you to access and extend the functionality of a method in the parent class from the child class.\n",
    "\n",
    "3. **Maintaining the class hierarchy**: By using `super()`, you can ensure that the class hierarchy is maintained and the correct methods are called based on the object's type.\n",
    "\n",
    "## Example of Using `super()`\n",
    "\n",
    "Let's consider an example where we have a parent class `Animal` and a child class `Dog` that inherits from it:\n",
    "\n",
    "\n",
    "\n",
    "In this example:\n",
    "\n",
    "1. The `Animal` class has an `__init__` method that initializes the `name` attribute and a `speak` method that prints a generic message.\n",
    "\n",
    "2. The `Dog` class inherits from the `Animal` class and has its own `__init__` method. Inside the `__init__` method of `Dog`, `super().__init__(name)` is used to call the `__init__` method of the parent class (`Animal`) and initialize the `name` attribute inherited from the parent class.\n",
    "\n",
    "3. The `Dog` class also overrides the `speak` method. Inside the overridden `speak` method, `super().speak()` is used to call the `speak` method of the parent class (`Animal`), and then an additional message specific to dogs is printed.\n",
    "\n",
    "By using `super()`, we ensure that the `name` attribute is properly initialized by calling the parent class's constructor, and we extend the functionality of the `speak` method by calling the parent class's `speak` method and adding additional logic specific to dogs.\n",
    "\n",
    "Using `super()` helps maintain the class hierarchy, ensures that the correct methods are called based on the object's type, and allows for code reuse and extensibility.'''\n",
    "\n"
   ]
  },
  {
   "cell_type": "code",
   "execution_count": 17,
   "id": "f31e788f-82e8-4609-a7e7-9e1a7cb6921f",
   "metadata": {},
   "outputs": [],
   "source": [
    "class Animal:\n",
    "    def __init__(self, name):\n",
    "        self.name = name\n",
    "\n",
    "    def speak(self):\n",
    "        print(f\"{self.name} makes a sound.\")\n",
    "\n",
    "class Dog(Animal):\n",
    "    def __init__(self, name, breed):\n",
    "        super().__init__(name)\n",
    "        self.breed = breed\n",
    "\n",
    "    def speak(self):\n",
    "        super().speak()\n",
    "        print(f\"The {self.breed} dog barks.\")"
   ]
  },
  {
   "cell_type": "code",
   "execution_count": 19,
   "id": "4166d3fd-5c92-42e6-97b4-53ea4038298b",
   "metadata": {},
   "outputs": [],
   "source": [
    "jitu = Dog(\"jitu\", \"labrador\" )"
   ]
  },
  {
   "cell_type": "code",
   "execution_count": 20,
   "id": "0c8977ef-d081-4cbd-b343-6489e84a184c",
   "metadata": {},
   "outputs": [
    {
     "name": "stdout",
     "output_type": "stream",
     "text": [
      "jitu makes a sound.\n",
      "The labrador dog barks.\n"
     ]
    }
   ],
   "source": [
    "jitu.speak()"
   ]
  },
  {
   "cell_type": "code",
   "execution_count": 21,
   "id": "b0cb2791-e5d0-493b-a690-1003305220a0",
   "metadata": {},
   "outputs": [],
   "source": [
    "class Animal:\n",
    "    def __init__(self, name):\n",
    "        self.name = name\n",
    "    def speak(self):\n",
    "        print(f\"{self.name} makes a sound.\")\n",
    "class Dog(Animal):\n",
    "    def __init__(self, name, breed):\n",
    "        super().__init__(name)\n",
    "        self.breed = breed\n",
    "    def speak(self):\n",
    "        super().speak()\n",
    "        print(f\"The {self.breed} makes a sound.\")\n",
    "class Cat(Animal):\n",
    "    def __init__(self, name, breed):\n",
    "        super().__init__(name)\n",
    "        self.breed = breed\n",
    "    def speak(self):\n",
    "        super().speak()\n",
    "        print(f\"The {self.breed} makes a sound.\")\n",
    "    \n",
    "        "
   ]
  },
  {
   "cell_type": "code",
   "execution_count": 22,
   "id": "c2295e45-5c84-4550-949a-dee080662065",
   "metadata": {},
   "outputs": [],
   "source": [
    "dog = Dog(\"jitu\",\"labrador\")\n",
    "cat = Cat(\"farhana\", \"pussy\")"
   ]
  },
  {
   "cell_type": "code",
   "execution_count": 23,
   "id": "8db1d5a7-531b-4904-ad38-5d43cc5d0235",
   "metadata": {},
   "outputs": [
    {
     "name": "stdout",
     "output_type": "stream",
     "text": [
      "jitu makes a sound.\n",
      "The labrador makes a sound.\n"
     ]
    }
   ],
   "source": [
    "dog.speak()"
   ]
  },
  {
   "cell_type": "code",
   "execution_count": 24,
   "id": "d7d190fb-d766-4b8f-98a2-a50ef6dfa3e9",
   "metadata": {},
   "outputs": [
    {
     "name": "stdout",
     "output_type": "stream",
     "text": [
      "farhana makes a sound.\n",
      "The pussy makes a sound.\n"
     ]
    }
   ],
   "source": [
    "cat.speak()"
   ]
  },
  {
   "cell_type": "code",
   "execution_count": 29,
   "id": "be69c2dc-4bac-4f25-b34c-d6ec57663a3a",
   "metadata": {},
   "outputs": [
    {
     "data": {
      "text/plain": [
       "'The `isinstance()` function in Python is used to check if an object is an instance of a specified class or any of its subclasses. It is particularly useful when working with inheritance and object-oriented programming.\\n\\nThe role of the `isinstance()` function is to:\\n\\n1. **Type Checking**: The primary purpose of `isinstance()` is to check the type of an object. It allows you to determine if an object is an instance of a specific class or any of its subclasses.\\n\\n2. **Polymorphism**: `isinstance()` is often used in conjunction with polymorphism, which is the ability of objects of different classes to be treated as objects of a common superclass. This allows for more flexible and extensible code.\\n\\n3. **Inheritance Validation**: `isinstance()` can be used to validate the inheritance relationship between objects. It helps ensure that an object is of the expected type or a compatible type within the class hierarchy\\n\\nIn this example:\\n\\n1. The `Animal` class is the parent class, and the `Dog` class is the child class that inherits from `Animal`.\\n2. The `isinstance()` function is used to check the type of the `animal` and `dog` objects.\\n   - `isinstance(animal, Animal)` returns `True` because `animal` is an instance of the `Animal` class.\\n   - `isinstance(dog, Animal)` returns `True` because `dog` is an instance of the `Dog` class, which is a subclass of `Animal`.\\n   - `isinstance(dog, Dog)` returns `True` because `dog` is an instance of the `Dog` class.\\n   - `isinstance(animal, Dog)` returns `False` because `animal` is not an instance of the `Dog` class.\\n\\nThe `isinstance()` function is particularly useful when working with inheritance and polymorphism. It allows you to write code that can handle objects of different classes in a consistent and flexible way, as long as they share a common superclass.\\n\\nBy using `isinstance()`, you can ensure that an object is of the expected type or a compatible type within the class hierarchy, which helps maintain the integrity of your object-oriented code.'"
      ]
     },
     "execution_count": 29,
     "metadata": {},
     "output_type": "execute_result"
    }
   ],
   "source": [
    "'''The `isinstance()` function in Python is used to check if an object is an instance of a specified class or any of its subclasses. It is particularly useful when working with inheritance and object-oriented programming.\n",
    "\n",
    "The role of the `isinstance()` function is to:\n",
    "\n",
    "1. **Type Checking**: The primary purpose of `isinstance()` is to check the type of an object. It allows you to determine if an object is an instance of a specific class or any of its subclasses.\n",
    "\n",
    "2. **Polymorphism**: `isinstance()` is often used in conjunction with polymorphism, which is the ability of objects of different classes to be treated as objects of a common superclass. This allows for more flexible and extensible code.\n",
    "\n",
    "3. **Inheritance Validation**: `isinstance()` can be used to validate the inheritance relationship between objects. It helps ensure that an object is of the expected type or a compatible type within the class hierarchy\n",
    "\n",
    "In this example:\n",
    "\n",
    "1. The `Animal` class is the parent class, and the `Dog` class is the child class that inherits from `Animal`.\n",
    "2. The `isinstance()` function is used to check the type of the `animal` and `dog` objects.\n",
    "   - `isinstance(animal, Animal)` returns `True` because `animal` is an instance of the `Animal` class.\n",
    "   - `isinstance(dog, Animal)` returns `True` because `dog` is an instance of the `Dog` class, which is a subclass of `Animal`.\n",
    "   - `isinstance(dog, Dog)` returns `True` because `dog` is an instance of the `Dog` class.\n",
    "   - `isinstance(animal, Dog)` returns `False` because `animal` is not an instance of the `Dog` class.\n",
    "\n",
    "The `isinstance()` function is particularly useful when working with inheritance and polymorphism. It allows you to write code that can handle objects of different classes in a consistent and flexible way, as long as they share a common superclass.\n",
    "\n",
    "By using `isinstance()`, you can ensure that an object is of the expected type or a compatible type within the class hierarchy, which helps maintain the integrity of your object-oriented code.'''"
   ]
  },
  {
   "cell_type": "code",
   "execution_count": 30,
   "id": "87c20eb6-0af1-4724-9c9b-c0fd8151faa2",
   "metadata": {},
   "outputs": [
    {
     "name": "stdout",
     "output_type": "stream",
     "text": [
      "True\n",
      "True\n",
      "True\n",
      "False\n"
     ]
    }
   ],
   "source": [
    "class Animal:\n",
    "    def __init__(self, name):\n",
    "        self.name = name\n",
    "\n",
    "    def speak(self):\n",
    "        print(f\"The {self.name} makes a sound.\")\n",
    "\n",
    "class Dog(Animal):\n",
    "    def __init__(self, name, breed):\n",
    "        super().__init__(name)\n",
    "        self.breed = breed\n",
    "\n",
    "    def speak(self):\n",
    "        print(f\"The {self.breed} dog barks.\")\n",
    "\n",
    "\n",
    "animal = Animal(\"Generic Animal\")\n",
    "dog = Dog(\"Buddy\", \"Labrador\")\n",
    "\n",
    "# Using isinstance()\n",
    "print(isinstance(animal, Animal))  \n",
    "print(isinstance(dog, Animal))  \n",
    "print(isinstance(dog, Dog))  \n",
    "print(isinstance(animal, Dog))  "
   ]
  },
  {
   "cell_type": "code",
   "execution_count": 31,
   "id": "2d8ab944-d2e7-486f-9b71-56f03790690f",
   "metadata": {},
   "outputs": [
    {
     "data": {
      "text/plain": [
       "'The `issubclass()` function in Python is used to check if a class is a subclass of another class. It returns `True` if the first argument (the class being checked) is a subclass of the second argument (the class or tuple of classes to check against), and `False` otherwise.\\n\\nThe syntax for `issubclass()` is:\\n\\n```python\\nissubclass(class1, class2)\\nIn this example:\\n\\n1. The `Animal` class is the parent class.\\n2. The `Dog` class inherits from the `Animal` class and is a subclass of `Animal`.\\n3. The `issubclass()` function is used to check the subclass relationship.\\n   - `issubclass(Dog, Animal)` returns `True` because `Dog` is a subclass of `Animal`.\\n   - `issubclass(Animal, Dog)` returns `False` because `Animal` is not a subclass of `Dog`.\\n\\nThe purpose of `issubclass()` is to provide a way to check the inheritance hierarchy between classes. It is particularly useful when working with inheritance and polymorphism in object-oriented programming.\\n\\nSome key points about `issubclass()`:\\n\\n- It returns `True` if the first argument is a subclass of the second argument, and `False` otherwise.\\n- If the second argument is a tuple of classes, `issubclass()` returns `True` if the first argument is a subclass of any of the classes in the tuple.\\n- It is similar to the `isinstance()` function, but it checks the class hierarchy instead of checking if an object is an instance of a class.\\n\\nBy using `issubclass()`, you can write code that can handle different classes based on their inheritance relationships, which helps in maintaining the integrity of your object-oriented code.'"
      ]
     },
     "execution_count": 31,
     "metadata": {},
     "output_type": "execute_result"
    }
   ],
   "source": [
    "'''The `issubclass()` function in Python is used to check if a class is a subclass of another class. It returns `True` if the first argument (the class being checked) is a subclass of the second argument (the class or tuple of classes to check against), and `False` otherwise.\n",
    "\n",
    "The syntax for `issubclass()` is:\n",
    "\n",
    "```python\n",
    "issubclass(class1, class2)\n",
    "In this example:\n",
    "\n",
    "1. The `Animal` class is the parent class.\n",
    "2. The `Dog` class inherits from the `Animal` class and is a subclass of `Animal`.\n",
    "3. The `issubclass()` function is used to check the subclass relationship.\n",
    "   - `issubclass(Dog, Animal)` returns `True` because `Dog` is a subclass of `Animal`.\n",
    "   - `issubclass(Animal, Dog)` returns `False` because `Animal` is not a subclass of `Dog`.\n",
    "\n",
    "The purpose of `issubclass()` is to provide a way to check the inheritance hierarchy between classes. It is particularly useful when working with inheritance and polymorphism in object-oriented programming.\n",
    "\n",
    "Some key points about `issubclass()`:\n",
    "\n",
    "- It returns `True` if the first argument is a subclass of the second argument, and `False` otherwise.\n",
    "- If the second argument is a tuple of classes, `issubclass()` returns `True` if the first argument is a subclass of any of the classes in the tuple.\n",
    "- It is similar to the `isinstance()` function, but it checks the class hierarchy instead of checking if an object is an instance of a class.\n",
    "\n",
    "By using `issubclass()`, you can write code that can handle different classes based on their inheritance relationships, which helps in maintaining the integrity of your object-oriented code.'''\n"
   ]
  },
  {
   "cell_type": "code",
   "execution_count": 34,
   "id": "3eaad5e4-c7b2-4f28-82c8-ad61a8eff44a",
   "metadata": {},
   "outputs": [
    {
     "name": "stdout",
     "output_type": "stream",
     "text": [
      "True\n",
      "False\n"
     ]
    }
   ],
   "source": [
    "\n",
    "class Animal:\n",
    "    def __init__(self, name):\n",
    "        self.name = name\n",
    "\n",
    "    def speak(self):\n",
    "        print(f\"The {self.name} makes a sound.\")\n",
    "\n",
    "class Dog(Animal):\n",
    "    def __init__(self, name, breed):\n",
    "        super().__init__(name)\n",
    "        self.breed = breed\n",
    "\n",
    "    def speak(self):\n",
    "        print(f\"The {self.breed} dog barks.\")\n",
    "\n",
    "\n",
    "print(issubclass(Dog, Animal)) \n",
    "print(issubclass(Animal, Dog))  "
   ]
  },
  {
   "cell_type": "code",
   "execution_count": 37,
   "id": "9104c7b7-95eb-4757-80de-ec42cd27d242",
   "metadata": {},
   "outputs": [
    {
     "data": {
      "text/plain": [
       "\"In Python, constructor inheritance refers to the process of inheriting the constructor (the `__init__` method) from a parent class to a child class. When a child class inherits from a parent class, it inherits all the attributes and methods of the parent class, including the constructor.\\n\\n## Constructor Inheritance in Python\\n\\nWhen a child class inherits from a parent class, it automatically inherits the parent class's constructor. This means that the child class can use the same constructor as the parent class, or it can override the constructor to provide its own implementation.\\n\\nIn this example:\\n\\n1. The `Animal` class has a constructor (`__init__`) that initializes the `name` attribute.\\n2. The `Dog` class inherits from the `Animal` class and has its own constructor (`__init__`) that initializes the `name` and `breed` attributes.\\n3. The `Dog` class's constructor calls the parent class's constructor using `super().__init__(name)` to initialize the `name` attribute inherited from the `Animal` class.\\n\\n## How Constructors are Inherited in Child Classes\\n\\nWhen a child class inherits from a parent class, it inherits the parent class's constructor by default. This means that the child class can use the same constructor as the parent class, or it can override the constructor to provide its own implementation.\\n\\nHere are some key points about constructor inheritance in Python:\\n\\n- **Inheritance by Default**: Child classes automatically inherit the constructor from their parent classes.\\n- **Overriding Constructors**: Child classes can override the constructor to provide their own implementation.\\n- **Calling Parent Constructors**: Child classes can call the parent class's constructor using `super().__init__(args)` to initialize the attributes inherited from the parent class.\\n- **Constructor Chaining**: Child classes can chain constructors by calling the parent class's constructor and then adding their own initialization logic.\\n\\nConstructor inheritance is a fundamental concept in object-oriented programming and is widely used in Python and other OOP languages. It allows for code reuse, better organization, and more flexible and extensible code.\""
      ]
     },
     "execution_count": 37,
     "metadata": {},
     "output_type": "execute_result"
    }
   ],
   "source": [
    "'''In Python, constructor inheritance refers to the process of inheriting the constructor (the `__init__` method) from a parent class to a child class. When a child class inherits from a parent class, it inherits all the attributes and methods of the parent class, including the constructor.\n",
    "\n",
    "## Constructor Inheritance in Python\n",
    "\n",
    "When a child class inherits from a parent class, it automatically inherits the parent class's constructor. This means that the child class can use the same constructor as the parent class, or it can override the constructor to provide its own implementation.\n",
    "\n",
    "In this example:\n",
    "\n",
    "1. The `Animal` class has a constructor (`__init__`) that initializes the `name` attribute.\n",
    "2. The `Dog` class inherits from the `Animal` class and has its own constructor (`__init__`) that initializes the `name` and `breed` attributes.\n",
    "3. The `Dog` class's constructor calls the parent class's constructor using `super().__init__(name)` to initialize the `name` attribute inherited from the `Animal` class.\n",
    "\n",
    "## How Constructors are Inherited in Child Classes\n",
    "\n",
    "When a child class inherits from a parent class, it inherits the parent class's constructor by default. This means that the child class can use the same constructor as the parent class, or it can override the constructor to provide its own implementation.\n",
    "\n",
    "Here are some key points about constructor inheritance in Python:\n",
    "\n",
    "- **Inheritance by Default**: Child classes automatically inherit the constructor from their parent classes.\n",
    "- **Overriding Constructors**: Child classes can override the constructor to provide their own implementation.\n",
    "- **Calling Parent Constructors**: Child classes can call the parent class's constructor using `super().__init__(args)` to initialize the attributes inherited from the parent class.\n",
    "- **Constructor Chaining**: Child classes can chain constructors by calling the parent class's constructor and then adding their own initialization logic.\n",
    "\n",
    "Constructor inheritance is a fundamental concept in object-oriented programming and is widely used in Python and other OOP languages. It allows for code reuse, better organization, and more flexible and extensible code.'''"
   ]
  },
  {
   "cell_type": "code",
   "execution_count": 38,
   "id": "bcf5f229-513b-4cbc-9030-facaf4d95978",
   "metadata": {},
   "outputs": [
    {
     "name": "stdout",
     "output_type": "stream",
     "text": [
      "Generic Animal\n",
      "Buddy\n",
      "Labrador\n"
     ]
    }
   ],
   "source": [
    "class Animal:\n",
    "    def __init__(self, name):\n",
    "        self.name = name\n",
    "\n",
    "    def speak(self):\n",
    "        print(f\"The {self.name} makes a sound.\")\n",
    "\n",
    "class Dog(Animal):\n",
    "    def __init__(self, name, breed):\n",
    "        super().__init__(name)\n",
    "        self.breed = breed\n",
    "\n",
    "    def speak(self):\n",
    "        super().speak()\n",
    "        print(f\"The {self.breed} dog barks.\")\n",
    "\n",
    "\n",
    "animal = Animal(\"Generic Animal\")\n",
    "dog = Dog(\"Buddy\", \"Labrador\")\n",
    "\n",
    "\n",
    "print(animal.name)  \n",
    "print(dog.name)  \n",
    "print(dog.breed)  "
   ]
  },
  {
   "cell_type": "code",
   "execution_count": 1,
   "id": "8c12414e-2492-42c5-b4b3-b7c8d128f09f",
   "metadata": {},
   "outputs": [],
   "source": [
    "class Shape:\n",
    "    def area(self):\n",
    "        pass\n",
    "        \n",
    "class rectangle(Shape):\n",
    "    def __init__(self, length, width):\n",
    "        self.length = length\n",
    "        self.width = width\n",
    "    def area(self):\n",
    "        print(f\"here your length {self.length} & width {self.width}\")\n",
    "        print(f\"here your area {self.length  * self.width}\")\n",
    "class circle(Shape):\n",
    "    def __init__(self,radius):\n",
    "        self.radius = radius\n",
    "    def area(self):\n",
    "        print(f\"here your circle radius {self.radius}\")\n",
    "        print(f\"here your area {3.14 *self.radius**2}\")\n"
   ]
  },
  {
   "cell_type": "code",
   "execution_count": 5,
   "id": "cd5205bc-c529-483c-b48f-7d6fc222e018",
   "metadata": {},
   "outputs": [],
   "source": [
    "anirban = rectangle(13,12)\n",
    "anik = circle(78)"
   ]
  },
  {
   "cell_type": "code",
   "execution_count": 6,
   "id": "db3cdfa8-bd7d-4962-8592-589ee9505417",
   "metadata": {},
   "outputs": [
    {
     "name": "stdout",
     "output_type": "stream",
     "text": [
      "here your circle radius 78\n",
      "here your area 19103.760000000002\n"
     ]
    }
   ],
   "source": [
    "anik.area()"
   ]
  },
  {
   "cell_type": "code",
   "execution_count": 7,
   "id": "ba29675f-2d65-4301-a717-d1d736244bf9",
   "metadata": {},
   "outputs": [
    {
     "name": "stdout",
     "output_type": "stream",
     "text": [
      "here your length 13 & width 12\n",
      "here your area 156\n"
     ]
    }
   ],
   "source": [
    "anirban.area()"
   ]
  },
  {
   "cell_type": "code",
   "execution_count": 9,
   "id": "acae6352-7b8c-4e2b-8ca2-b0d3863e99f0",
   "metadata": {},
   "outputs": [
    {
     "data": {
      "text/plain": [
       "\"'In Python, constructor inheritance refers to the process of inheriting the constructor (the `__init__` method) from a parent class to a child class. When a child class inherits from a parent class, it inherits all the attributes and methods of the parent class, including the constructor.\\n\\n## Constructor Inheritance in Python\\n\\nWhen a child class inherits from a parent class, it automatically inherits the parent class's constructor. This means that the child class can use the same constructor as the parent class, or it can override the constructor to provide its own implementation.\\n\\n\\nIn this example:\\n\\n1. The `Animal` class has a constructor (`__init__`) that initializes the `name` attribute.\\n2. The `Dog` class inherits from the `Animal` class and has its own constructor (`__init__`) that initializes the `name` and `breed` attributes.\\n3. The `Dog` class's constructor calls the parent class's constructor using `super().__init__(name)` to initialize the `name` attribute inherited from the `Animal` class.\\n\\n## How Constructors are Inherited in Child Classes\\n\\nWhen a child class inherits from a parent class, it inherits the parent class's constructor by default. This means that the child class can use the same constructor as the parent class, or it can override the constructor to provide its own implementation.\\n\\nHere are some key points about constructor inheritance in Python:\\n\\n- **Inheritance by Default**: Child classes automatically inherit the constructor from their parent classes.\\n- **Overriding Constructors**: Child classes can override the constructor to provide their own implementation.\\n- **Calling Parent Constructors**: Child classes can call the parent class's constructor using `super().__init__(args)` to initialize the attributes inherited from the parent class.\\n- **Constructor Chaining**: Child classes can chain constructors by calling the parent class's constructor and then adding their own initialization logic.\\n\\nConstructor inheritance is a fundamental concept in object-oriented programming and is widely used in Python and other OOP languages. It allows for code reuse, better organization, and more flexible and extensible code.\""
      ]
     },
     "execution_count": 9,
     "metadata": {},
     "output_type": "execute_result"
    }
   ],
   "source": [
    "''''In Python, constructor inheritance refers to the process of inheriting the constructor (the `__init__` method) from a parent class to a child class. When a child class inherits from a parent class, it inherits all the attributes and methods of the parent class, including the constructor.\n",
    "\n",
    "## Constructor Inheritance in Python\n",
    "\n",
    "When a child class inherits from a parent class, it automatically inherits the parent class's constructor. This means that the child class can use the same constructor as the parent class, or it can override the constructor to provide its own implementation.\n",
    "\n",
    "\n",
    "In this example:\n",
    "\n",
    "1. The `Animal` class has a constructor (`__init__`) that initializes the `name` attribute.\n",
    "2. The `Dog` class inherits from the `Animal` class and has its own constructor (`__init__`) that initializes the `name` and `breed` attributes.\n",
    "3. The `Dog` class's constructor calls the parent class's constructor using `super().__init__(name)` to initialize the `name` attribute inherited from the `Animal` class.\n",
    "\n",
    "## How Constructors are Inherited in Child Classes\n",
    "\n",
    "When a child class inherits from a parent class, it inherits the parent class's constructor by default. This means that the child class can use the same constructor as the parent class, or it can override the constructor to provide its own implementation.\n",
    "\n",
    "Here are some key points about constructor inheritance in Python:\n",
    "\n",
    "- **Inheritance by Default**: Child classes automatically inherit the constructor from their parent classes.\n",
    "- **Overriding Constructors**: Child classes can override the constructor to provide their own implementation.\n",
    "- **Calling Parent Constructors**: Child classes can call the parent class's constructor using `super().__init__(args)` to initialize the attributes inherited from the parent class.\n",
    "- **Constructor Chaining**: Child classes can chain constructors by calling the parent class's constructor and then adding their own initialization logic.\n",
    "\n",
    "Constructor inheritance is a fundamental concept in object-oriented programming and is widely used in Python and other OOP languages. It allows for code reuse, better organization, and more flexible and extensible code.'''"
   ]
  },
  {
   "cell_type": "code",
   "execution_count": 8,
   "id": "a7dee810-7829-4b53-82fd-16c3745dc214",
   "metadata": {},
   "outputs": [
    {
     "name": "stdout",
     "output_type": "stream",
     "text": [
      "Generic Animal\n",
      "Buddy\n",
      "Labrador\n"
     ]
    }
   ],
   "source": [
    "\n",
    "class Animal:\n",
    "    def __init__(self, name):\n",
    "        self.name = name\n",
    "\n",
    "    def speak(self):\n",
    "        print(f\"The {self.name} makes a sound.\")\n",
    "\n",
    "class Dog(Animal):\n",
    "    def __init__(self, name, breed):\n",
    "        super().__init__(name)\n",
    "        self.breed = breed\n",
    "\n",
    "    def speak(self):\n",
    "        super().speak()\n",
    "        print(f\"The {self.breed} dog barks.\")\n",
    "\n",
    "\n",
    "animal = Animal(\"Generic Animal\")\n",
    "dog = Dog(\"Buddy\", \"Labrador\")\n",
    "\n",
    "\n",
    "print(animal.name)  \n",
    "print(dog.name)  \n",
    "print(dog.breed)  \n"
   ]
  },
  {
   "cell_type": "code",
   "execution_count": 2,
   "id": "f11c5010-8e35-450f-b8f5-579b27425e65",
   "metadata": {},
   "outputs": [
    {
     "data": {
      "text/plain": [
       "'The `issubclass()` function in Python is used to check if a class is a subclass of another class. It returns `True` if the first argument (the class being checked) is a subclass of the second argument (the class or tuple of classes to check against), and `False` otherwise.\\n\\nThe purpose of `issubclass()` is to provide a way to check the inheritance hierarchy between classes. This is particularly useful when working with polymorphism and object-oriented programming.\\n\\nIn this example:\\n\\n1. The `Animal` class is the parent class, and the `Dog` class is the child class that inherits from `Animal`.\\n2. The `issubclass()` function is used to check the subclass relationship.\\n   - `issubclass(Dog, Animal)` returns `True` because `Dog` is a subclass of `Animal`.\\n   - `issubclass(Animal, Dog)` returns `False` because `Animal` is not a subclass of `Dog`.\\n\\nBy using `issubclass()`, you can ensure that your code is correctly handling the inheritance hierarchy and can make decisions based on the class relationships.'"
      ]
     },
     "execution_count": 2,
     "metadata": {},
     "output_type": "execute_result"
    }
   ],
   "source": [
    "'''The `issubclass()` function in Python is used to check if a class is a subclass of another class. It returns `True` if the first argument (the class being checked) is a subclass of the second argument (the class or tuple of classes to check against), and `False` otherwise.\n",
    "\n",
    "The purpose of `issubclass()` is to provide a way to check the inheritance hierarchy between classes. This is particularly useful when working with polymorphism and object-oriented programming.\n",
    "\n",
    "In this example:\n",
    "\n",
    "1. The `Animal` class is the parent class, and the `Dog` class is the child class that inherits from `Animal`.\n",
    "2. The `issubclass()` function is used to check the subclass relationship.\n",
    "   - `issubclass(Dog, Animal)` returns `True` because `Dog` is a subclass of `Animal`.\n",
    "   - `issubclass(Animal, Dog)` returns `False` because `Animal` is not a subclass of `Dog`.\n",
    "\n",
    "By using `issubclass()`, you can ensure that your code is correctly handling the inheritance hierarchy and can make decisions based on the class relationships.'''\n",
    "\n"
   ]
  },
  {
   "cell_type": "code",
   "execution_count": 3,
   "id": "a462e0ee-2980-4226-925b-687b8404ec41",
   "metadata": {},
   "outputs": [
    {
     "name": "stdout",
     "output_type": "stream",
     "text": [
      "True\n",
      "False\n"
     ]
    }
   ],
   "source": [
    "class Animal:\n",
    "    def __init__(self, name):\n",
    "        self.name = name\n",
    "\n",
    "    def speak(self):\n",
    "        print(f\"The {self.name} makes a sound.\")\n",
    "\n",
    "class Dog(Animal):\n",
    "    def __init__(self, name, breed):\n",
    "        super().__init__(name)\n",
    "        self.breed = breed\n",
    "\n",
    "    def speak(self):\n",
    "        print(f\"The {self.breed} dog barks.\")\n",
    "\n",
    "\n",
    "print(issubclass(Dog, Animal))  \n",
    "print(issubclass(Animal, Dog))  "
   ]
  },
  {
   "cell_type": "code",
   "execution_count": 19,
   "id": "1df4866e-e8e2-4314-9176-b9ca272611f5",
   "metadata": {},
   "outputs": [],
   "source": [
    "class Employee:\n",
    "    def __init__(self, name, salary):\n",
    "        self.name = name\n",
    "        self.salary = salary\n",
    "    def extract_destails(self):\n",
    "        print(f\"here your name {self.name} & salary {self.salary}.\")\n",
    "class Manager(Employee):\n",
    "    def __init__(self,name, salary,department):\n",
    "        super().__init__(name, salary)\n",
    "        self.department = department\n",
    "    def extract_destails(self):\n",
    "        super().extract_destails()\n",
    "        print(f\"here your department deatails {self.department}\")"
   ]
  },
  {
   "cell_type": "code",
   "execution_count": 22,
   "id": "bff43e7c-0090-4e0d-bbe9-ad280b47d694",
   "metadata": {},
   "outputs": [
    {
     "name": "stdout",
     "output_type": "stream",
     "text": [
      "here your name anirban & salary 150000.\n",
      "\n",
      "here your name anish & salary 70000.\n",
      "here your department deatails bounty hunter\n"
     ]
    }
   ],
   "source": [
    "\n",
    "anik = Employee(\"anirban\", 150000)\n",
    "anik.extract_destails()\n",
    "print()\n",
    "anirban = Manager(\"anish\", 70000 ,\"bounty hunter\")\n",
    "anirban.extract_destails()"
   ]
  },
  {
   "cell_type": "code",
   "execution_count": 23,
   "id": "1d06bd1c-e695-4092-a51d-20a5c4e2bf43",
   "metadata": {},
   "outputs": [
    {
     "data": {
      "text/plain": [
       "\"Method overloading in Python involves defining multiple methods with the same name but different parameter lists within the same class. This concept is often referred to as compile-time polymorphism because the choice of which method to invoke is determined at compile-time based on the method signature. However, Python does not directly support method overloading in the classical sense, as it keeps only the latest definition of a method.\\n\\n### Method Overloading in Python\\n\\n1. **Definition**: Method overloading in Python allows a class to have multiple methods with the same name but different parameter lists.\\n2. **Implementation**: To achieve method overloading-like behavior in Python, you can use default or variable-length arguments. For example:\\n    ```python\\n    def add(a, b):\\n        return a + b\\n\\n    def add(a, b, c=0):\\n        return a + b + c\\n\\n    def add(datatype, *args):\\n        if datatype == 'int':\\n            answer = 0\\n        elif datatype == 'str':\\n            answer = ''\\n        for x in args:\\n            answer += x\\n        return answer\\n\\n    print(add('int', 5, 6))  # Output: 11\\n    print(add('str', 'Hi ', 'Geeks'))  # Output: 'Hi Geeks'\\n    ```\\n\\n3. **Limitations**: Python does not support method overloading in the classical sense. If you define multiple methods with the same name but different parameter lists, only the latest definition is considered. For example:\\n    ```python\\n    def add(a, b):\\n        return a + b\\n\\n    def add(a, b, c):\\n        return a + b + c\\n\\n    print(add(2, 3))  # Output: TypeError: add() missing 1 required positional argument: 'c'\\n    ```\\n\\n### Method Overriding in Python\\n\\n1. **Definition**: Method overriding in Python involves a subclass providing a specific implementation for a method already defined in its superclass. This concept is known as run-time polymorphism because the choice of which method to invoke is determined at runtime based on the object’s type.\\n2. **Implementation**: To override a method in Python, the subclass must define a method with the same name and parameter list as the method in the superclass. When an object of the subclass calls the overridden method, Python will use the implementation from the subclass instead of the one in the superclass.\\n3. **Example**:\\n    ```python\\n    class A:\\n        def fun1(self):\\n            print('feature_1 of class A')\\n\\n    class B(A):\\n        def fun1(self):\\n            print('Modified feature_1 of class A by class B')\\n\\n    obj = B()\\n    obj.fun1()  # Output: Modified feature_1 of class A by class B\\n    ```\\n\\n### Key Differences\\n\\n- **Compile-Time vs. Run-Time Polymorphism**: Method overloading is an example of compile-time polymorphism, while method overriding is an example of run-time polymorphism.\\n- **Inheritance Requirement**: Method overloading does not require inheritance, while method overriding always requires inheritance.\\n- **Method Definition**: In method overloading, methods must have the same name but different parameter lists, whereas in method overriding, methods must have the same name and same parameter lists.\\n- **Purpose**: Method overloading is used to add more to the behavior of methods within the same class, while method overriding is used to change the behavior of existing methods in a subclass.\\n\\n### Conclusion\\n\\nMethod overloading in Python is achieved through the use of default or variable-length arguments, allowing methods with the same name but different parameter lists. However, Python does not support true method overloading. Method overriding, on the other hand, involves redefining a method in a subclass with a specific implementation, and it always requires inheritance. Both concepts are crucial for achieving polymorphism in object-oriented programming.\""
      ]
     },
     "execution_count": 23,
     "metadata": {},
     "output_type": "execute_result"
    }
   ],
   "source": [
    "'''Method overloading in Python involves defining multiple methods with the same name but different parameter lists within the same class. This concept is often referred to as compile-time polymorphism because the choice of which method to invoke is determined at compile-time based on the method signature. However, Python does not directly support method overloading in the classical sense, as it keeps only the latest definition of a method.\n",
    "\n",
    "### Method Overloading in Python\n",
    "\n",
    "1. **Definition**: Method overloading in Python allows a class to have multiple methods with the same name but different parameter lists.\n",
    "2. **Implementation**: To achieve method overloading-like behavior in Python, you can use default or variable-length arguments. For example:\n",
    "    ```python\n",
    "    def add(a, b):\n",
    "        return a + b\n",
    "\n",
    "    def add(a, b, c=0):\n",
    "        return a + b + c\n",
    "\n",
    "    def add(datatype, *args):\n",
    "        if datatype == 'int':\n",
    "            answer = 0\n",
    "        elif datatype == 'str':\n",
    "            answer = ''\n",
    "        for x in args:\n",
    "            answer += x\n",
    "        return answer\n",
    "\n",
    "    print(add('int', 5, 6))  # Output: 11\n",
    "    print(add('str', 'Hi ', 'Geeks'))  # Output: 'Hi Geeks'\n",
    "    ```\n",
    "\n",
    "3. **Limitations**: Python does not support method overloading in the classical sense. If you define multiple methods with the same name but different parameter lists, only the latest definition is considered. For example:\n",
    "    ```python\n",
    "    def add(a, b):\n",
    "        return a + b\n",
    "\n",
    "    def add(a, b, c):\n",
    "        return a + b + c\n",
    "\n",
    "    print(add(2, 3))  # Output: TypeError: add() missing 1 required positional argument: 'c'\n",
    "    ```\n",
    "\n",
    "### Method Overriding in Python\n",
    "\n",
    "1. **Definition**: Method overriding in Python involves a subclass providing a specific implementation for a method already defined in its superclass. This concept is known as run-time polymorphism because the choice of which method to invoke is determined at runtime based on the object’s type.\n",
    "2. **Implementation**: To override a method in Python, the subclass must define a method with the same name and parameter list as the method in the superclass. When an object of the subclass calls the overridden method, Python will use the implementation from the subclass instead of the one in the superclass.\n",
    "3. **Example**:\n",
    "    ```python\n",
    "    class A:\n",
    "        def fun1(self):\n",
    "            print('feature_1 of class A')\n",
    "\n",
    "    class B(A):\n",
    "        def fun1(self):\n",
    "            print('Modified feature_1 of class A by class B')\n",
    "\n",
    "    obj = B()\n",
    "    obj.fun1()  # Output: Modified feature_1 of class A by class B\n",
    "    ```\n",
    "\n",
    "### Key Differences\n",
    "\n",
    "- **Compile-Time vs. Run-Time Polymorphism**: Method overloading is an example of compile-time polymorphism, while method overriding is an example of run-time polymorphism.\n",
    "- **Inheritance Requirement**: Method overloading does not require inheritance, while method overriding always requires inheritance.\n",
    "- **Method Definition**: In method overloading, methods must have the same name but different parameter lists, whereas in method overriding, methods must have the same name and same parameter lists.\n",
    "- **Purpose**: Method overloading is used to add more to the behavior of methods within the same class, while method overriding is used to change the behavior of existing methods in a subclass.\n",
    "\n",
    "### Conclusion\n",
    "\n",
    "Method overloading in Python is achieved through the use of default or variable-length arguments, allowing methods with the same name but different parameter lists. However, Python does not support true method overloading. Method overriding, on the other hand, involves redefining a method in a subclass with a specific implementation, and it always requires inheritance. Both concepts are crucial for achieving polymorphism in object-oriented programming.'''\n"
   ]
  },
  {
   "cell_type": "code",
   "execution_count": 27,
   "id": "a79ac615-7080-4d29-93e1-b6fb1f7f04d8",
   "metadata": {},
   "outputs": [],
   "source": [
    "'''The `__init__()` method in Python is a special method that is used to initialize the attributes of an object when it is created. In the context of inheritance, the `__init__()` method plays a crucial role in setting up the initial state of an object in the child class.\n",
    "\n",
    "Purpose of the `__init__()` method in Python inheritance:\n",
    "\n",
    "1. **Initializing Attributes**: The `__init__()` method is used to initialize the attributes of an object when it is created. This includes both the attributes defined in the current class as well as those inherited from the parent class.\n",
    "\n",
    "2. **Calling the Parent's `__init__()` Method**: When a child class is created, it is often necessary to initialize the attributes of the parent class as well. This is achieved by calling the `__init__()` method of the parent class using the `super().__init__()` function.\n",
    "\n",
    "3. **Extending Initialization**: The `__init__()` method in the child class can be used to extend the initialization process by adding additional attributes or performing additional operations beyond what is done in the parent class.\n",
    "\n",
    "Utilization of the `__init__()` method in child classes:\n",
    "\n",
    "1. **Calling the Parent's `__init__()` Method**: In the `__init__()` method of the child class, you can call the `__init__()` method of the parent class using the `super().__init__()` function. This ensures that the attributes of the parent class are properly initialized.\n",
    "\n",
    "   ```python'''\n",
    "class ParentClass:\n",
    "    def __init__(self, param1, param2):\n",
    "        self.attr1 = param1\n",
    "        self.attr2 = param2\n",
    "\n",
    "class ChildClass(ParentClass):\n",
    "    def __init__(self, param1, param2, param3):\n",
    "        super().__init__(param1, param2)\n",
    "        self.attr3 = param3\n",
    "\n",
    "#2. **Extending Initialization**: After calling the parent's `__init__()` method, the child class can add additional attributes or perform additional operations as needed.\n",
    "\n",
    "   \n",
    "class ParentClass:\n",
    "    def __init__(self, param1, param2):\n",
    "        self.attr1 = param1\n",
    "        self.attr2 = param2\n",
    "\n",
    "class ChildClass(ParentClass):\n",
    "    def __init__(self, param1, param2, param3):\n",
    "        super().__init__(param1, param2)\n",
    "        self.attr3 = param3\n",
    "        self.attr4 = param3 * 2\n",
    "\n",
    "#3. **Overriding the Parent's `__init__()` Method**: If the child class needs to completely replace the initialization process of the parent class, it can simply define its own `__init__()` method without calling the parent's `__init__()` method.\n",
    "\n",
    "\n",
    "class ParentClass:\n",
    "    def __init__(self, param1, param2):\n",
    "        self.attr1 = param1\n",
    "        self.attr2 = param2\n",
    "\n",
    "class ChildClass(ParentClass):\n",
    "    def __init__(self, param3, param4):\n",
    "        self.attr3 = param3\n",
    "        self.attr4 = param4\n",
    "   \n",
    "\n"
   ]
  },
  {
   "cell_type": "code",
   "execution_count": 6,
   "id": "080cf305-082d-4633-9e9f-5fea2403fe60",
   "metadata": {},
   "outputs": [],
   "source": [
    "class Bird:\n",
    "    def fly(self):\n",
    "        pass\n",
    "class Eagle(Bird):\n",
    "    def __init__(self, flying_style):\n",
    "        self.flying_style = flying_style\n",
    "    def fly(self):\n",
    "        print(f\"here your eagle flying style {self.flying_style}.\")\n",
    "class Sparrow(Bird):\n",
    "    def __init__(self, flying_style):\n",
    "        self.flying_style = flying_style\n",
    "    def fly(self):\n",
    "        print(f\"here your eagle flying style {self.flying_style}.\")\n",
    "        "
   ]
  },
  {
   "cell_type": "code",
   "execution_count": 7,
   "id": "fea7bb36-ae24-4dbb-bba5-23a2fcae48e9",
   "metadata": {},
   "outputs": [],
   "source": [
    "eagle = Eagle(\"Bohot ucha udta he.\")"
   ]
  },
  {
   "cell_type": "code",
   "execution_count": 8,
   "id": "cf2eb154-cab2-419f-846d-dd45148d69c7",
   "metadata": {},
   "outputs": [
    {
     "name": "stdout",
     "output_type": "stream",
     "text": [
      "here your eagle flying style Bohot ucha udta he..\n"
     ]
    }
   ],
   "source": [
    "eagle.fly()"
   ]
  },
  {
   "cell_type": "code",
   "execution_count": 9,
   "id": "a94770b2-0f4d-41e2-a462-d8ba5bc3961b",
   "metadata": {},
   "outputs": [],
   "source": [
    "sparrow = Sparrow(\"zada ucha nahi ud pata\")"
   ]
  },
  {
   "cell_type": "code",
   "execution_count": 10,
   "id": "bd929743-588a-4da4-b6ff-cbd08fd3ce70",
   "metadata": {},
   "outputs": [
    {
     "name": "stdout",
     "output_type": "stream",
     "text": [
      "here your eagle flying style zada ucha nahi ud pata.\n"
     ]
    }
   ],
   "source": [
    "sparrow.fly()"
   ]
  },
  {
   "cell_type": "code",
   "execution_count": 11,
   "id": "fcff30a5-987e-47f6-8c5e-3222ec684cde",
   "metadata": {},
   "outputs": [
    {
     "name": "stdout",
     "output_type": "stream",
     "text": [
      "(<class '__main__.D'>, <class '__main__.B'>, <class '__main__.C'>, <class '__main__.A'>, <class 'object'>)\n"
     ]
    },
    {
     "data": {
      "text/plain": [
       "\"```\\n\\nIn this example, when you call `d.foo()` on an object of class `D`, Python will first look for the method in `D`, then in `B` (since `B` comes before `C` in the MRO), then in `C`, and finally in `A`.\\n\\nBy default, Python's MRO follows a depth-first, left-to-right search strategy, which helps resolve the diamond problem by choosing a specific path through the inheritance hierarchy.\\n\\nHowever, it's important to be aware of the MRO and the order in which methods are inherited, as it can affect the behavior of your code, especially when dealing with multiple inheritance scenarios.\""
      ]
     },
     "execution_count": 11,
     "metadata": {},
     "output_type": "execute_result"
    }
   ],
   "source": [
    "'''The \"diamond problem\" is a potential issue that can arise in multiple inheritance when there is ambiguity about which method to call when a method is defined in multiple parent classes.\n",
    "\n",
    "Consider the following diamond inheritance structure:\n",
    "\n",
    "\n",
    "    A\n",
    "   / \\\n",
    "  B   C\n",
    "   \\ /\n",
    "    D\n",
    "```''' \n",
    "\n",
    "'''In this scenario, if both `B` and `C` inherit from `A`, and `D` inherits from both `B` and `C`, then `D` inherits two copies of the method from `A`. This can lead to ambiguity when calling that method on an object of class `D`.\n",
    "\n",
    "Python addresses the diamond problem using a method resolution order (MRO). The MRO determines the order in which Python searches for methods in the inheritance hierarchy. Python uses a depth-first, left-to-right search strategy by default.\n",
    "\n",
    "You can view the MRO of a class using the `__mro__` attribute or the `mro()` method of the `type` class:\n",
    "\n",
    "```python'''\n",
    "class A:\n",
    "    def foo(self):\n",
    "        print(\"A's foo\")\n",
    "\n",
    "class B(A):\n",
    "    def foo(self):\n",
    "        print(\"B's foo\")\n",
    "\n",
    "class C(A):\n",
    "    def foo(self):\n",
    "        print(\"C's foo\")\n",
    "\n",
    "class D(B, C):\n",
    "    pass\n",
    "\n",
    "print(D.__mro__)\n",
    "\n",
    "\n",
    "\n",
    "'''```\n",
    "\n",
    "In this example, when you call `d.foo()` on an object of class `D`, Python will first look for the method in `D`, then in `B` (since `B` comes before `C` in the MRO), then in `C`, and finally in `A`.\n",
    "\n",
    "By default, Python's MRO follows a depth-first, left-to-right search strategy, which helps resolve the diamond problem by choosing a specific path through the inheritance hierarchy.\n",
    "\n",
    "However, it's important to be aware of the MRO and the order in which methods are inherited, as it can affect the behavior of your code, especially when dealing with multiple inheritance scenarios.'''\n",
    "\n"
   ]
  },
  {
   "cell_type": "code",
   "execution_count": 12,
   "id": "0e733db0-6706-4ef9-aef9-cad549ea0e01",
   "metadata": {},
   "outputs": [],
   "source": [
    "#Is-a\" Relationship:\n",
    "class Animal:\n",
    "    pass\n",
    "\n",
    "class Dog(Animal):\n",
    "    pass"
   ]
  },
  {
   "cell_type": "code",
   "execution_count": 13,
   "id": "4db49e00-4f3a-408c-8782-29f2091cc0de",
   "metadata": {},
   "outputs": [],
   "source": [
    "#Has-a\" Relationship:\n",
    "class Car:\n",
    "    def __init__(self, engine):\n",
    "        self.engine = engine\n",
    "\n",
    "class Engine:\n",
    "    pass\n",
    "\n",
    "\n",
    "my_car = Car(Engine())"
   ]
  },
  {
   "cell_type": "code",
   "execution_count": 14,
   "id": "fd65b09f-911e-48ed-99d4-b7a9432228a9",
   "metadata": {},
   "outputs": [],
   "source": [
    "#Is-a\" Relationship (Inheritance):\n",
    "class Animal:\n",
    "    def make_sound(self):\n",
    "        print(\"The animal makes a sound.\")\n",
    "\n",
    "class Dog(Animal):\n",
    "    def make_sound(self):\n",
    "        print(\"The dog barks.\")"
   ]
  },
  {
   "cell_type": "code",
   "execution_count": 19,
   "id": "84aa41a1-1737-42f3-9213-60e9e5b43a76",
   "metadata": {},
   "outputs": [],
   "source": [
    "#Has-a Relationship (Composition/Aggregation):\n",
    "class Engine:\n",
    "    def start(self):\n",
    "        print(\"The engine starts.\")\n",
    "\n",
    "class Car:\n",
    "    def __init__(self):\n",
    "        self.engine = Engine()\n",
    "    def start_car(self):\n",
    "        self.engine.start()"
   ]
  },
  {
   "cell_type": "code",
   "execution_count": 20,
   "id": "131357c9-2d19-4a97-b179-2e80f521ccdc",
   "metadata": {},
   "outputs": [],
   "source": [
    "class Person:\n",
    "    def star(self):\n",
    "        print(\"here your student and professor deatails.\")\n",
    "class Student(Person):\n",
    "    def __init__(self, name, student_id):\n",
    "        self.name = name\n",
    "        self.student_id = student_id\n",
    "    def extract_student_deatails(self):\n",
    "        print(f\"here your name student name{self.name} & student id {self.student_id}\")\n",
    "class professor(Person):\n",
    "    def __init__(self, pro_name, professor_degree, pro_id):\n",
    "        self.pro_name = pro_name\n",
    "        self.professor_degree = professor_degree\n",
    "        self.pro_id = pro_id\n",
    "    def extract_professor_deatails(self):\n",
    "        print(f\"here your professor name {self.pro_name}, professor degree {self.professor_degree} & professor degree {self.pro_id}.\")\n",
    "        "
   ]
  },
  {
   "cell_type": "code",
   "execution_count": 21,
   "id": "829db363-f8fd-4dc6-9aea-476f37ba8efb",
   "metadata": {},
   "outputs": [],
   "source": [
    "anik = Student(\"Anirban\", 4542)\n",
    "bantu = professor(\"bantu singh\", \"B.Tech\", 56)"
   ]
  },
  {
   "cell_type": "code",
   "execution_count": 22,
   "id": "283e30b1-7ae9-46c6-9d56-fa7372fed180",
   "metadata": {},
   "outputs": [
    {
     "name": "stdout",
     "output_type": "stream",
     "text": [
      "here your name student nameAnirban & student id 4542\n"
     ]
    }
   ],
   "source": [
    "anik.extract_student_deatails()"
   ]
  },
  {
   "cell_type": "code",
   "execution_count": 23,
   "id": "562f4525-a948-4bc2-bd7c-1dc34404c873",
   "metadata": {},
   "outputs": [
    {
     "name": "stdout",
     "output_type": "stream",
     "text": [
      "here your professor name bantu singh, professor degree B.Tech & professor degree 56.\n"
     ]
    }
   ],
   "source": [
    "bantu.extract_professor_deatails()"
   ]
  },
  {
   "cell_type": "code",
   "execution_count": 2,
   "id": "1fc961be-9294-4862-a9b8-200cb96b7ba4",
   "metadata": {},
   "outputs": [
    {
     "data": {
      "text/plain": [
       "\"In this example, the `BankAccount` class encapsulates the `__account_number` and `__balance` attributes, which are marked as private. The class provides public methods (`deposit`, `withdraw`, and `get_balance`) to interact with the object's state, hiding the internal implementation details.\\n\\nBy using encapsulation, you can ensure that the object's state is maintained consistently and that the internal implementation can be modified without affecting the code that uses the object.\""
      ]
     },
     "execution_count": 2,
     "metadata": {},
     "output_type": "execute_result"
    }
   ],
   "source": [
    "'''Encapsulation is a fundamental concept in object-oriented programming (OOP) that involves bundling data (attributes) and the methods that operate on that data within a single unit, called a class. The main idea behind encapsulation is to hide the internal implementation details of an object from the outside world, and provide a well-defined interface to interact with the object.\n",
    "\n",
    "In Python, encapsulation is achieved through the use of classes and access modifiers (public, private, and protected).\n",
    "\n",
    "**Role of Encapsulation in OOP:**\n",
    "\n",
    "1. **Data Abstraction**: Encapsulation allows you to abstract the internal implementation details of an object, exposing only the necessary information and functionality to the outside world. This helps in creating a clear and well-defined interface for interacting with the object.\n",
    "\n",
    "2. **Data Hiding**: Encapsulation enables data hiding, which means that the internal data of an object can be hidden from direct access by external code. This helps in maintaining the integrity and consistency of the object's state.\n",
    "\n",
    "3. **Modularity**: Encapsulation promotes modularity by separating the implementation details from the object's interface. This allows you to change the internal implementation of an object without affecting the code that uses the object.\n",
    "\n",
    "4. **Flexibility and Maintainability**: Encapsulation makes it easier to modify the internal implementation of an object without breaking the code that uses the object. This improves the flexibility and maintainability of the codebase.\n",
    "\n",
    "5. **Reusability**: Encapsulation facilitates code reuse by providing a well-defined and stable interface for interacting with an object. This allows you to create objects that can be used in different parts of your application without the need to understand their internal implementation.\n",
    "\n",
    "In Python, you can achieve encapsulation by using the following access modifiers:\n",
    "\n",
    "1. **Public**: Public members are accessible from anywhere in the code, both within the class and outside the class.\n",
    "2. **Private**: Private members are accessible only within the class in which they are defined. They are prefixed with a double underscore `__`.\n",
    "3. **Protected**: Protected members are accessible within the class and its subclasses. They are prefixed with a single underscore `_`.\n",
    "\n",
    "Here's an example to illustrate encapsulation in Python:\n",
    "\n",
    "```python'''\n",
    "class BankAccount:\n",
    "    def __init__(self, account_number, balance):\n",
    "        self.__account_number = account_number  \n",
    "        self.__balance = balance  \n",
    "\n",
    "    def deposit(self, amount):\n",
    "        self.__balance += amount  \n",
    "\n",
    "    def withdraw(self, amount):\n",
    "        if self.__balance >= amount:\n",
    "            self.__balance -= amount  \n",
    "            return amount\n",
    "        else:\n",
    "            return 0\n",
    "\n",
    "    def get_balance(self):\n",
    "        return self.__balance  \n",
    "\n",
    "'''In this example, the `BankAccount` class encapsulates the `__account_number` and `__balance` attributes, which are marked as private. The class provides public methods (`deposit`, `withdraw`, and `get_balance`) to interact with the object's state, hiding the internal implementation details.\n",
    "\n",
    "By using encapsulation, you can ensure that the object's state is maintained consistently and that the internal implementation can be modified without affecting the code that uses the object.'''"
   ]
  },
  {
   "cell_type": "code",
   "execution_count": 3,
   "id": "7411eaa9-02c8-499c-99fd-4422bf3a94ff",
   "metadata": {},
   "outputs": [
    {
     "data": {
      "text/plain": [
       "\"In this example:\\n\\n1. The `BankAccount` class has two private attributes, `__account_number` and `__balance`, which are prefixed with a double underscore `__`. This makes them private and accessible only within the class.\\n2. The class provides public methods (`deposit`, `withdraw`, and `get_balance`) to interact with the object's state, hiding the internal implementation details.\\n3. Inside the public methods, the class can access the private attributes using the same double underscore prefix.\\n\\nBy using private attributes and providing public methods to interact with the object's state, you can achieve encapsulation in Python. This allows you to:\\n\\n1. **Data Abstraction**: The internal implementation details of the `BankAccount` class are hidden from the outside world, and the class provides a well-defined interface (the public methods) for interacting with the object.\\n2. **Data Hiding**: The private attributes `__account_number` and `__balance` are hidden from direct access by external code, ensuring the integrity and consistency of the object's state.\\n3. **Modularity**: The implementation details of the `BankAccount` class can be changed without affecting the code that uses the class, as long as the public interface remains the same.\\n4. **Flexibility and Maintainability**: Encapsulation makes it easier to modify the internal implementation of the `BankAccount` class without breaking the code that uses the class.\\n\\nBy using encapsulation, you can create classes that are more robust, flexible, and maintainable, as the internal implementation details are hidden from the outside world, and the class provides a well-defined interface for interacting with the object.\""
      ]
     },
     "execution_count": 3,
     "metadata": {},
     "output_type": "execute_result"
    }
   ],
   "source": [
    "'''Encapsulation is a fundamental concept in object-oriented programming (OOP) that involves bundling data (attributes) and the methods that operate on that data within a single unit, called a class. In Python, you can achieve encapsulation through the use of access modifiers and the concept of data abstraction.\n",
    "\n",
    "Here's an example of how you can achieve encapsulation in a Python class:\n",
    "\n",
    "```python'''\n",
    "class BankAccount:\n",
    "    def __init__(self, account_number, balance):\n",
    "        self.__account_number = account_number  \n",
    "        self.__balance = balance  \n",
    "\n",
    "    def deposit(self, amount):\n",
    "        self.__balance += amount  \n",
    "\n",
    "    def withdraw(self, amount):\n",
    "        if self.__balance >= amount:\n",
    "            self.__balance -= amount  \n",
    "            return amount\n",
    "        else:\n",
    "            return 0\n",
    "\n",
    "    def get_balance(self):\n",
    "        return self.__balance  \n",
    "\n",
    "'''In this example:\n",
    "\n",
    "1. The `BankAccount` class has two private attributes, `__account_number` and `__balance`, which are prefixed with a double underscore `__`. This makes them private and accessible only within the class.\n",
    "2. The class provides public methods (`deposit`, `withdraw`, and `get_balance`) to interact with the object's state, hiding the internal implementation details.\n",
    "3. Inside the public methods, the class can access the private attributes using the same double underscore prefix.\n",
    "\n",
    "By using private attributes and providing public methods to interact with the object's state, you can achieve encapsulation in Python. This allows you to:\n",
    "\n",
    "1. **Data Abstraction**: The internal implementation details of the `BankAccount` class are hidden from the outside world, and the class provides a well-defined interface (the public methods) for interacting with the object.\n",
    "2. **Data Hiding**: The private attributes `__account_number` and `__balance` are hidden from direct access by external code, ensuring the integrity and consistency of the object's state.\n",
    "3. **Modularity**: The implementation details of the `BankAccount` class can be changed without affecting the code that uses the class, as long as the public interface remains the same.\n",
    "4. **Flexibility and Maintainability**: Encapsulation makes it easier to modify the internal implementation of the `BankAccount` class without breaking the code that uses the class.\n",
    "\n",
    "By using encapsulation, you can create classes that are more robust, flexible, and maintainable, as the internal implementation details are hidden from the outside world, and the class provides a well-defined interface for interacting with the object.'''\n",
    "\n"
   ]
  },
  {
   "cell_type": "code",
   "execution_count": 10,
   "id": "fccc290c-9741-45f4-9ee1-d54b684b10a6",
   "metadata": {},
   "outputs": [
    {
     "data": {
      "text/plain": [
       "'In Python, while there are no explicit access modifiers like `public`, `private`, and `protected` as in some other object-oriented programming languages, you can achieve similar functionality using naming conventions and language features.\\n\\n1. **Public Access Modifiers**:\\n   - In Python, attributes and methods are public by default, meaning they can be accessed from anywhere, both within the class and outside the class.\\n   - Public members are typically named using lowercase letters and words separated by underscores (e.g., `my_public_attribute`, `do_something()`).\\n\\n2. **Private Access Modifiers**:\\n   - To achieve private access in Python, you can prefix the attribute or method name with a double underscore `__`.\\n   - Private members are accessible only within the class in which they are defined and are not directly accessible from outside the class.\\n   - The double underscore prefix is used to create a name mangling mechanism, which renames the private member to `_ClassName__private_member` to avoid naming conflicts in subclasses.\\n   - Example: `__private_attribute`, `__private_method()`\\n\\n3. **Protected Access Modifiers**:\\n   - Python does not have a built-in \"protected\" access modifier like some other languages, but you can achieve a similar effect by using a single underscore `_` prefix.\\n   - Protected members are intended to be used within the class and its subclasses, but they can still be accessed from outside the class.\\n   - The single underscore prefix is a convention that suggests the member is intended for internal use and should be treated as protected.\\n   - Example: `_protected_attribute`, `_protected_method()`\\n\\n\\nIn this example:\\n\\n- `__account_number` is a private attribute, accessible only within the `BankAccount` class.\\n- `_balance` is a protected attribute, accessible within the `BankAccount` class and its subclasses.\\n- `__withdraw` is a private method, accessible only within the `BankAccount` class.\\n- `deposit`, `get_balance`, and `get_account_number` are public methods, accessible from outside the `BankAccount` class.\\n\\nIt\\'s important to note that while Python\\'s approach to access modifiers is more flexible and dynamic compared to languages with explicit access modifiers, it\\'s still a good practice to follow the naming conventions and treat the members accordingly to maintain the integrity of your code and follow the principles of encapsulation.'"
      ]
     },
     "execution_count": 10,
     "metadata": {},
     "output_type": "execute_result"
    }
   ],
   "source": [
    "'''In Python, while there are no explicit access modifiers like `public`, `private`, and `protected` as in some other object-oriented programming languages, you can achieve similar functionality using naming conventions and language features.\n",
    "\n",
    "1. **Public Access Modifiers**:\n",
    "   - In Python, attributes and methods are public by default, meaning they can be accessed from anywhere, both within the class and outside the class.\n",
    "   - Public members are typically named using lowercase letters and words separated by underscores (e.g., `my_public_attribute`, `do_something()`).\n",
    "\n",
    "2. **Private Access Modifiers**:\n",
    "   - To achieve private access in Python, you can prefix the attribute or method name with a double underscore `__`.\n",
    "   - Private members are accessible only within the class in which they are defined and are not directly accessible from outside the class.\n",
    "   - The double underscore prefix is used to create a name mangling mechanism, which renames the private member to `_ClassName__private_member` to avoid naming conflicts in subclasses.\n",
    "   - Example: `__private_attribute`, `__private_method()`\n",
    "\n",
    "3. **Protected Access Modifiers**:\n",
    "   - Python does not have a built-in \"protected\" access modifier like some other languages, but you can achieve a similar effect by using a single underscore `_` prefix.\n",
    "   - Protected members are intended to be used within the class and its subclasses, but they can still be accessed from outside the class.\n",
    "   - The single underscore prefix is a convention that suggests the member is intended for internal use and should be treated as protected.\n",
    "   - Example: `_protected_attribute`, `_protected_method()`\n",
    "\n",
    "\n",
    "In this example:\n",
    "\n",
    "- `__account_number` is a private attribute, accessible only within the `BankAccount` class.\n",
    "- `_balance` is a protected attribute, accessible within the `BankAccount` class and its subclasses.\n",
    "- `__withdraw` is a private method, accessible only within the `BankAccount` class.\n",
    "- `deposit`, `get_balance`, and `get_account_number` are public methods, accessible from outside the `BankAccount` class.\n",
    "\n",
    "It's important to note that while Python's approach to access modifiers is more flexible and dynamic compared to languages with explicit access modifiers, it's still a good practice to follow the naming conventions and treat the members accordingly to maintain the integrity of your code and follow the principles of encapsulation.'''"
   ]
  },
  {
   "cell_type": "code",
   "execution_count": 11,
   "id": "1eed50a1-52f9-4083-977e-0c54e3b86e6f",
   "metadata": {},
   "outputs": [],
   "source": [
    "class BankAccount:\n",
    "    def __init__(self, account_number, balance):\n",
    "        self.__account_number = account_number  \n",
    "        self._balance = balance  \n",
    "\n",
    "    def deposit(self, amount):\n",
    "        self._balance += amount  \n",
    "\n",
    "    def __withdraw(self, amount):\n",
    "        if self._balance >= amount:\n",
    "            self._balance -= amount  \n",
    "            return amount\n",
    "        else:\n",
    "            return 0\n",
    "\n",
    "    def get_balance(self):\n",
    "        return self._balance  \n",
    "\n",
    "    def get_account_number(self):\n",
    "        return self.__account_number  "
   ]
  },
  {
   "cell_type": "code",
   "execution_count": 12,
   "id": "d55fa187-2507-422d-b2c8-e10b2e50862b",
   "metadata": {},
   "outputs": [],
   "source": [
    "anik = BankAccount(6786548, 60000)"
   ]
  },
  {
   "cell_type": "code",
   "execution_count": 13,
   "id": "057297c0-4414-435b-99b8-5cd638c72f00",
   "metadata": {},
   "outputs": [],
   "source": [
    "anik.deposit(6000)"
   ]
  },
  {
   "cell_type": "code",
   "execution_count": 14,
   "id": "9594ed1e-bcce-4e90-a687-00c5be32345f",
   "metadata": {},
   "outputs": [
    {
     "data": {
      "text/plain": [
       "66000"
      ]
     },
     "execution_count": 14,
     "metadata": {},
     "output_type": "execute_result"
    }
   ],
   "source": [
    "anik.get_balance()"
   ]
  },
  {
   "cell_type": "code",
   "execution_count": 15,
   "id": "f8ee22e2-2f92-4d59-b89a-bb7b904cf361",
   "metadata": {},
   "outputs": [
    {
     "data": {
      "text/plain": [
       "6786548"
      ]
     },
     "execution_count": 15,
     "metadata": {},
     "output_type": "execute_result"
    }
   ],
   "source": [
    "anik.get_account_number()"
   ]
  },
  {
   "cell_type": "code",
   "execution_count": 16,
   "id": "dfc8a2ab-5f64-4c5e-bdb4-811394660b09",
   "metadata": {},
   "outputs": [],
   "source": [
    "class person:\n",
    "    def __init__(self, name):\n",
    "        self.__name = name\n",
    "    def get_name(self):\n",
    "        return self.__name\n",
    "    def set_name(self, name):\n",
    "        self.__name = name"
   ]
  },
  {
   "cell_type": "code",
   "execution_count": 17,
   "id": "004c0b82-61ef-44e6-ac4f-4fc89150177a",
   "metadata": {},
   "outputs": [],
   "source": [
    "anik = person(\"Anirban Chandra\")"
   ]
  },
  {
   "cell_type": "code",
   "execution_count": 18,
   "id": "4f1be6d9-ac84-4613-a98e-77021a29799d",
   "metadata": {},
   "outputs": [
    {
     "data": {
      "text/plain": [
       "'Anirban Chandra'"
      ]
     },
     "execution_count": 18,
     "metadata": {},
     "output_type": "execute_result"
    }
   ],
   "source": [
    "anik.get_name()"
   ]
  },
  {
   "cell_type": "code",
   "execution_count": 19,
   "id": "0fcf5ad1-bded-4526-b433-ddcce92fb14e",
   "metadata": {},
   "outputs": [
    {
     "data": {
      "text/plain": [
       "\"In this example, the `set_balance()` method is a setter method that allows you to update the private `__balance` attribute of the `BankAccount` class. The method also includes a check to ensure that the new balance is not negative.\\n\\nThe benefits of using getter and setter methods in the context of encapsulation are:\\n\\n1. **Data Abstraction**: Getter and setter methods provide a way to abstract the internal implementation details of a class and expose a well-defined interface for interacting with the object's state.\\n\\n2. **Data Validation**: Setter methods can include validation logic to ensure that the object's state is modified according to the defined rules, helping to maintain data integrity.\\n\\n3. **Flexibility**: By using getter and setter methods, you can easily change the internal implementation of a class without affecting the code that uses the class, as long as the public interface remains the same.\\n\\n4. **Maintainability**: Getter and setter methods make the code more readable and maintainable, as they clearly indicate how the object's state can be accessed and modified.\\n\\nEncapsulation, along with the use of getter and setter methods, is a fundamental concept in OOP that helps in creating robust, flexible, and maintainable code.\""
      ]
     },
     "execution_count": 19,
     "metadata": {},
     "output_type": "execute_result"
    }
   ],
   "source": [
    "'''The purpose of getter and setter methods in encapsulation is to provide controlled access to the private attributes of a class. Encapsulation is a fundamental principle of object-oriented programming (OOP) that involves bundling data (attributes) and the methods that operate on that data within a single unit, called a class.\n",
    "\n",
    "**Getter (Accessor) Methods**:\n",
    "- Getter methods, also known as accessor methods, are used to retrieve the value of a private attribute.\n",
    "- They provide a way to access the internal data of an object without directly exposing the private attributes.\n",
    "- Getter methods help maintain data abstraction and ensure that the object's state is accessed in a controlled manner.\n",
    "\n",
    "Example:\n",
    "```python'''\n",
    "class BankAccount:\n",
    "    def __init__(self, account_number, balance):\n",
    "        self.__account_number = account_number  \n",
    "        self.__balance = balance  \n",
    "\n",
    "    def get_balance(self):\n",
    "        return self.__balance\n",
    "\n",
    "'''In this example, the `get_balance()` method is a getter method that allows you to access the private `__balance` attribute of the `BankAccount` class.\n",
    "\n",
    "**Setter (Mutator) Methods**:\n",
    "- Setter methods, also known as mutator methods, are used to modify the value of a private attribute.\n",
    "- They provide a way to update the internal data of an object in a controlled manner.\n",
    "- Setter methods help maintain data integrity and ensure that the object's state is modified according to the defined rules.\n",
    "\n",
    "Example:\n",
    "```python'''\n",
    "class BankAccount:\n",
    "    def __init__(self, account_number, balance):\n",
    "        self.__account_number = account_number  \n",
    "        self.__balance = balance \n",
    "\n",
    "    def get_balance(self):\n",
    "        return self.__balance  \n",
    "    def set_balance(self, new_balance):\n",
    "        if new_balance >= 0:\n",
    "            self.__balance = new_balance  \n",
    "        else:\n",
    "            print(\"Invalid balance. Balance cannot be negative.\")\n",
    "\n",
    "\n",
    "'''In this example, the `set_balance()` method is a setter method that allows you to update the private `__balance` attribute of the `BankAccount` class. The method also includes a check to ensure that the new balance is not negative.\n",
    "\n",
    "The benefits of using getter and setter methods in the context of encapsulation are:\n",
    "\n",
    "1. **Data Abstraction**: Getter and setter methods provide a way to abstract the internal implementation details of a class and expose a well-defined interface for interacting with the object's state.\n",
    "\n",
    "2. **Data Validation**: Setter methods can include validation logic to ensure that the object's state is modified according to the defined rules, helping to maintain data integrity.\n",
    "\n",
    "3. **Flexibility**: By using getter and setter methods, you can easily change the internal implementation of a class without affecting the code that uses the class, as long as the public interface remains the same.\n",
    "\n",
    "4. **Maintainability**: Getter and setter methods make the code more readable and maintainable, as they clearly indicate how the object's state can be accessed and modified.\n",
    "\n",
    "Encapsulation, along with the use of getter and setter methods, is a fundamental concept in OOP that helps in creating robust, flexible, and maintainable code.'''\n"
   ]
  },
  {
   "cell_type": "code",
   "execution_count": 20,
   "id": "ecf23d9a-802c-48c2-a0ee-517f0ef68372",
   "metadata": {},
   "outputs": [],
   "source": [
    "anik = BankAccount(9868976567 , 80000)"
   ]
  },
  {
   "cell_type": "code",
   "execution_count": 21,
   "id": "b20c4c3a-9883-4351-be89-d01e5c9602ea",
   "metadata": {},
   "outputs": [
    {
     "data": {
      "text/plain": [
       "80000"
      ]
     },
     "execution_count": 21,
     "metadata": {},
     "output_type": "execute_result"
    }
   ],
   "source": [
    "anik.get_balance()"
   ]
  },
  {
   "cell_type": "code",
   "execution_count": 22,
   "id": "f7dbba2b-24e8-4452-bdd4-63ffd8ae16b7",
   "metadata": {},
   "outputs": [],
   "source": [
    "anik.set_balance(89000)"
   ]
  },
  {
   "cell_type": "code",
   "execution_count": 23,
   "id": "6996b234-6153-44cd-a024-14e66da999c2",
   "metadata": {},
   "outputs": [
    {
     "data": {
      "text/plain": [
       "89000"
      ]
     },
     "execution_count": 23,
     "metadata": {},
     "output_type": "execute_result"
    }
   ],
   "source": [
    "anik.get_balance()"
   ]
  },
  {
   "cell_type": "code",
   "execution_count": 24,
   "id": "67a87f5d-a6b4-4a74-9d69-4c85f3d54b9b",
   "metadata": {},
   "outputs": [
    {
     "data": {
      "text/plain": [
       "'In this example, `__private_var` and `__private_method` are name-mangled to `_MyClass__private_var` and `_MyClass__private_method`, respectively.\\n\\n**Name mangling affects encapsulation** in the following ways:\\n\\n1. **It provides a way** to create variables and methods that are private to a class, preventing direct access from outside the class.\\n\\n2. **However, name mangling is not true private access**, as the mangled names can still be accessed from outside the class by using the mangled name directly, e.g., `obj._MyClass__private_var`.\\n\\n3. **Name mangling is a convention** rather than a strict access control mechanism. It is used to avoid naming conflicts in subclasses and to provide a limited form of privacy.\\n\\n4. **For true private access**, Python recommends using the `__slots__` attribute or the `@property` decorator to define private variables and methods.\\n\\nIn summary, name mangling in Python provides a way to create variables and methods that are private to a class, but it is not a strict access control mechanism. It is primarily used to avoid naming conflicts in subclasses and to provide a limited form of encapsulation.'"
      ]
     },
     "execution_count": 24,
     "metadata": {},
     "output_type": "execute_result"
    }
   ],
   "source": [
    "'''Name mangling in Python is a technique used to avoid naming conflicts between class variables and variables in derived classes. It helps to implement a limited form of privacy for class members.\n",
    "\n",
    "Here's how name mangling works in Python:\n",
    "\n",
    "1. **Any identifier** (variable or method name) starting with two underscores `__` and ending with at most one trailing underscore `_` is textually replaced with `_ClassName__identifier`, where `ClassName` is the current class name with any leading underscores removed.\n",
    "\n",
    "2. **This name mangling process** is done by the Python interpreter to avoid naming conflicts in derived classes. It allows a class to have variables and methods that are inaccessible to the outside world, providing a form of encapsulation.\n",
    "\n",
    "Example:\n",
    "```python'''\n",
    "class MyClass:\n",
    "    def __init__(self):\n",
    "        self.__private_var = 42\n",
    "\n",
    "    def __private_method(self):\n",
    "        print(\"This is a private method.\")\n",
    "\n",
    "\n",
    "'''In this example, `__private_var` and `__private_method` are name-mangled to `_MyClass__private_var` and `_MyClass__private_method`, respectively.\n",
    "\n",
    "**Name mangling affects encapsulation** in the following ways:\n",
    "\n",
    "1. **It provides a way** to create variables and methods that are private to a class, preventing direct access from outside the class.\n",
    "\n",
    "2. **However, name mangling is not true private access**, as the mangled names can still be accessed from outside the class by using the mangled name directly, e.g., `obj._MyClass__private_var`.\n",
    "\n",
    "3. **Name mangling is a convention** rather than a strict access control mechanism. It is used to avoid naming conflicts in subclasses and to provide a limited form of privacy.\n",
    "\n",
    "4. **For true private access**, Python recommends using the `__slots__` attribute or the `@property` decorator to define private variables and methods.\n",
    "\n",
    "In summary, name mangling in Python provides a way to create variables and methods that are private to a class, but it is not a strict access control mechanism. It is primarily used to avoid naming conflicts in subclasses and to provide a limited form of encapsulation.'''\n",
    "\n"
   ]
  },
  {
   "cell_type": "code",
   "execution_count": 2,
   "id": "3f61f58a-5262-4f8c-97b3-2324ae6b9349",
   "metadata": {},
   "outputs": [],
   "source": [
    "class BankAccount:\n",
    "    def __init__(self, account_number, balance):\n",
    "        self.__account_number = account_number\n",
    "        self.__balance = balance\n",
    "    def get_balance(self):\n",
    "        return self.__balance \n",
    "    def update_balance(self, new_balance):\n",
    "        if new_balance >= 0:\n",
    "            self.__balance = new_balance\n",
    "        else:\n",
    "            print(\"you give me a wrong input.\")\n",
    "    def withdrawl_amount(self, with_amount):\n",
    "        if self.__balance >= with_amount:\n",
    "            return with_amount\n",
    "            print(f\"here your balance {self.__balance - with_amount}\")\n",
    "        else:\n",
    "            print(\"ypu gave a wrong input\")\n",
    "        \n",
    "            "
   ]
  },
  {
   "cell_type": "code",
   "execution_count": 3,
   "id": "886d9d22-4b8a-4085-a2bb-1b55b5e210b1",
   "metadata": {},
   "outputs": [],
   "source": [
    "anik =  BankAccount(58645478, 90000)"
   ]
  },
  {
   "cell_type": "code",
   "execution_count": 4,
   "id": "58c4e585-591a-44ed-a818-f133c0497017",
   "metadata": {},
   "outputs": [
    {
     "data": {
      "text/plain": [
       "90000"
      ]
     },
     "execution_count": 4,
     "metadata": {},
     "output_type": "execute_result"
    }
   ],
   "source": [
    "anik.get_balance()"
   ]
  },
  {
   "cell_type": "code",
   "execution_count": 5,
   "id": "f93c26bc-2f0e-4846-aa65-62c4e11bea7b",
   "metadata": {},
   "outputs": [],
   "source": [
    "anik.update_balance(90999)"
   ]
  },
  {
   "cell_type": "code",
   "execution_count": 6,
   "id": "049fb625-7d1a-4628-8d37-8831be654dc6",
   "metadata": {},
   "outputs": [
    {
     "data": {
      "text/plain": [
       "999"
      ]
     },
     "execution_count": 6,
     "metadata": {},
     "output_type": "execute_result"
    }
   ],
   "source": [
    "anik.withdrawl_amount(999)"
   ]
  },
  {
   "cell_type": "code",
   "execution_count": 7,
   "id": "f42e5525-3c48-4cf2-9a04-bdc2066e51d7",
   "metadata": {},
   "outputs": [
    {
     "data": {
      "text/plain": [
       "\"Encapsulation is a fundamental concept in object-oriented programming (OOP) that involves bundling data (attributes) and the methods that operate on that data within a single unit, called a class. Encapsulation provides several advantages in terms of code maintainability and security:\\n\\n## Advantages of Encapsulation\\n\\n1. **Data Abstraction**:\\n   - Encapsulation allows you to abstract the internal implementation details of a class and expose a well-defined interface for interacting with the object's state.\\n   - This helps in creating a clear and well-defined interface for interacting with the object.\\n\\n2. **Data Hiding**:\\n   - Encapsulation enables data hiding, which means that the internal data of an object can be hidden from direct access by external code.\\n   - This helps in maintaining the integrity and consistency of the object's state.\\n\\n3. **Flexibility**:\\n   - By using encapsulation, you can easily change the internal implementation of a class without affecting the code that uses the class, as long as the public interface remains the same.\\n   - This improves the flexibility of the codebase.\\n\\n4. **Maintainability**:\\n   - Encapsulation makes the code more maintainable by separating the implementation details from the object's interface.\\n   - It allows you to modify the internal implementation of a class without breaking the code that uses the class.\\n\\n5. **Security**:\\n   - Encapsulation provides a level of security by hiding the internal implementation details of a class.\\n   - It prevents unauthorized access to the object's state and ensures that the object's state is modified only through the defined methods.\\n\\n6. **Reusability**:\\n   - Encapsulation facilitates code reuse by providing a well-defined and stable interface for interacting with an object.\\n   - This allows you to create objects that can be used in different parts of your application without the need to understand their internal implementation.\\n\\nBy using encapsulation, you can create classes that are more robust, flexible, and maintainable, as the internal implementation details are hidden from the outside world, and the class provides a well-defined interface for interacting with the object. This, in turn, improves the overall security and reliability of the codebase.\""
      ]
     },
     "execution_count": 7,
     "metadata": {},
     "output_type": "execute_result"
    }
   ],
   "source": [
    "'''Encapsulation is a fundamental concept in object-oriented programming (OOP) that involves bundling data (attributes) and the methods that operate on that data within a single unit, called a class. Encapsulation provides several advantages in terms of code maintainability and security:\n",
    "\n",
    "## Advantages of Encapsulation\n",
    "\n",
    "1. **Data Abstraction**:\n",
    "   - Encapsulation allows you to abstract the internal implementation details of a class and expose a well-defined interface for interacting with the object's state.\n",
    "   - This helps in creating a clear and well-defined interface for interacting with the object.\n",
    "\n",
    "2. **Data Hiding**:\n",
    "   - Encapsulation enables data hiding, which means that the internal data of an object can be hidden from direct access by external code.\n",
    "   - This helps in maintaining the integrity and consistency of the object's state.\n",
    "\n",
    "3. **Flexibility**:\n",
    "   - By using encapsulation, you can easily change the internal implementation of a class without affecting the code that uses the class, as long as the public interface remains the same.\n",
    "   - This improves the flexibility of the codebase.\n",
    "\n",
    "4. **Maintainability**:\n",
    "   - Encapsulation makes the code more maintainable by separating the implementation details from the object's interface.\n",
    "   - It allows you to modify the internal implementation of a class without breaking the code that uses the class.\n",
    "\n",
    "5. **Security**:\n",
    "   - Encapsulation provides a level of security by hiding the internal implementation details of a class.\n",
    "   - It prevents unauthorized access to the object's state and ensures that the object's state is modified only through the defined methods.\n",
    "\n",
    "6. **Reusability**:\n",
    "   - Encapsulation facilitates code reuse by providing a well-defined and stable interface for interacting with an object.\n",
    "   - This allows you to create objects that can be used in different parts of your application without the need to understand their internal implementation.\n",
    "\n",
    "By using encapsulation, you can create classes that are more robust, flexible, and maintainable, as the internal implementation details are hidden from the outside world, and the class provides a well-defined interface for interacting with the object. This, in turn, improves the overall security and reliability of the codebase.'''\n",
    "\n"
   ]
  },
  {
   "cell_type": "code",
   "execution_count": 1,
   "id": "d238f579-7e3e-41bc-b767-a2cbf9da8963",
   "metadata": {},
   "outputs": [
    {
     "data": {
      "text/plain": [
       "\"In Python, you can access private attributes using name mangling, which is a technique used to avoid naming conflicts between class variables and variables in derived classes.\\n\\n\\nIn this example:\\n\\n1. The `MyClass` class has a private attribute `__private_attribute`, which is prefixed with a double underscore `__`.\\n2. The class also provides `get_private_attribute` and `set_private_attribute` methods to access and modify the private attribute, respectively.\\n3. When you create an instance of `MyClass` and try to access the private attribute directly using name mangling (`obj._MyClass__private_attribute`), you can see that the attribute is accessible.\\n4. You can also modify the private attribute directly using name mangling (`obj._MyClass__private_attribute = 50`).\\n5. Finally, you can use the `get_private_attribute` and `set_private_attribute` methods to access and modify the private attribute in a controlled manner.\\n\\nIt's important to note that while name mangling provides a way to create variables and methods that are private to a class, it is not a strict access control mechanism. The mangled names can still be accessed from outside the class by using the mangled name directly.\\n\\nFor true private access, Python recommends using the `__slots__` attribute or the `@property` decorator to define private variables and methods. These approaches provide a more robust way to ensure that the internal implementation details of a class are truly hidden from the outside world.\""
      ]
     },
     "execution_count": 1,
     "metadata": {},
     "output_type": "execute_result"
    }
   ],
   "source": [
    "'''In Python, you can access private attributes using name mangling, which is a technique used to avoid naming conflicts between class variables and variables in derived classes.\n",
    "\n",
    "\n",
    "In this example:\n",
    "\n",
    "1. The `MyClass` class has a private attribute `__private_attribute`, which is prefixed with a double underscore `__`.\n",
    "2. The class also provides `get_private_attribute` and `set_private_attribute` methods to access and modify the private attribute, respectively.\n",
    "3. When you create an instance of `MyClass` and try to access the private attribute directly using name mangling (`obj._MyClass__private_attribute`), you can see that the attribute is accessible.\n",
    "4. You can also modify the private attribute directly using name mangling (`obj._MyClass__private_attribute = 50`).\n",
    "5. Finally, you can use the `get_private_attribute` and `set_private_attribute` methods to access and modify the private attribute in a controlled manner.\n",
    "\n",
    "It's important to note that while name mangling provides a way to create variables and methods that are private to a class, it is not a strict access control mechanism. The mangled names can still be accessed from outside the class by using the mangled name directly.\n",
    "\n",
    "For true private access, Python recommends using the `__slots__` attribute or the `@property` decorator to define private variables and methods. These approaches provide a more robust way to ensure that the internal implementation details of a class are truly hidden from the outside world.'''"
   ]
  },
  {
   "cell_type": "code",
   "execution_count": 2,
   "id": "bd258a0f-e906-48e8-a26d-5c073444fd5a",
   "metadata": {},
   "outputs": [
    {
     "name": "stdout",
     "output_type": "stream",
     "text": [
      "42\n",
      "50\n",
      "50\n",
      "60\n"
     ]
    }
   ],
   "source": [
    "class MyClass:\n",
    "    def __init__(self, value):\n",
    "        self.__private_attribute = value\n",
    "\n",
    "    def get_private_attribute(self):\n",
    "        return self.__private_attribute\n",
    "\n",
    "    def set_private_attribute(self, new_value):\n",
    "        self.__private_attribute = new_value\n",
    "\n",
    "\n",
    "obj = MyClass(42)\n",
    "\n",
    "\n",
    "print(obj._MyClass__private_attribute)  \n",
    "obj._MyClass__private_attribute = 50\n",
    "print(obj._MyClass__private_attribute)  \n",
    "\n",
    "\n",
    "print(obj.get_private_attribute())  \n",
    "obj.set_private_attribute(60)\n",
    "print(obj.get_private_attribute())  "
   ]
  },
  {
   "cell_type": "code",
   "execution_count": 8,
   "id": "ddc92932-053e-4256-bf88-98023cf896fb",
   "metadata": {},
   "outputs": [],
   "source": [
    "class person:\n",
    "    def __init__(self, name, age):\n",
    "        self._name = name\n",
    "        self._age = age\n",
    "    def get_name(self):\n",
    "        return self._name\n",
    "    def get_age(self):\n",
    "        return self._age\n",
    "class student(person):\n",
    "    def __init__(self, name, age, student_id, grades):\n",
    "        super().__init__(name,age)\n",
    "        self.__student_id = student_id\n",
    "        self.__grades = grades\n",
    "    def get_student_id(self):\n",
    "        return self.__student_id\n",
    "    def get_grades(self):\n",
    "        return self.__grades\n",
    "    def add_grades(self, grade):\n",
    "        return self.__grades.append(grade)\n",
    "class teacher(person):\n",
    "    def __init__(self, name, age, teacher_id, teaching_course):\n",
    "        super().__init__(name,age)\n",
    "        self.__teacher_id = teacher_id\n",
    "        self.__teaching_course = teaching_course\n",
    "    def get_teacher_id(self):\n",
    "        return self.__teacher_id \n",
    "    def get_teaching_course(self):\n",
    "        return self.__teaching_course\n",
    "    def add_teaching_course(self, course):\n",
    "        return self.__teaching_course.append(course)\n",
    "class course:\n",
    "    def __init__(self, name, code, credits, teacher):\n",
    "        self.__name = name\n",
    "        self.__code = code\n",
    "        self.__credits = credits\n",
    "        self.__teacher = teacher\n",
    "        self.__students = []\n",
    "    def get_name(self):\n",
    "        return self.__name\n",
    "    def get_code(self):\n",
    "        return self.__code\n",
    "    def get_credits(self):\n",
    "        return self.__credits\n",
    "    def get_teacher(self):\n",
    "        return self.__teacher\n",
    "    def get_students(self):\n",
    "        return self.__students\n",
    "    def add_students(self, students):\n",
    "        return self.__students.append(students)\n",
    "        \n",
    "         "
   ]
  },
  {
   "cell_type": "code",
   "execution_count": 9,
   "id": "d0f5fada-a4fb-4576-b7fc-2b58ea21e8e8",
   "metadata": {},
   "outputs": [],
   "source": [
    "anik = person(\"anirban chandra\", 17)"
   ]
  },
  {
   "cell_type": "code",
   "execution_count": 10,
   "id": "12949043-bd99-4335-af9e-0ff6b10037e2",
   "metadata": {},
   "outputs": [],
   "source": [
    "anik = student(\"anirban chandra\", 17, 6874, \"A+\")"
   ]
  },
  {
   "cell_type": "code",
   "execution_count": 11,
   "id": "75a46c4d-88b9-409f-a761-45d472bceffd",
   "metadata": {},
   "outputs": [
    {
     "data": {
      "text/plain": [
       "6874"
      ]
     },
     "execution_count": 11,
     "metadata": {},
     "output_type": "execute_result"
    }
   ],
   "source": [
    "anik.get_student_id()"
   ]
  },
  {
   "cell_type": "code",
   "execution_count": 12,
   "id": "5bcf1c62-e1b8-4b73-8719-d580af665501",
   "metadata": {},
   "outputs": [
    {
     "data": {
      "text/plain": [
       "'A+'"
      ]
     },
     "execution_count": 12,
     "metadata": {},
     "output_type": "execute_result"
    }
   ],
   "source": [
    "anik.get_grades()"
   ]
  },
  {
   "cell_type": "code",
   "execution_count": 13,
   "id": "082aadab-d842-4754-b8c6-9ab2d615aea2",
   "metadata": {},
   "outputs": [
    {
     "data": {
      "text/plain": [
       "17"
      ]
     },
     "execution_count": 13,
     "metadata": {},
     "output_type": "execute_result"
    }
   ],
   "source": [
    "anik.get_age()"
   ]
  },
  {
   "cell_type": "code",
   "execution_count": 14,
   "id": "f03c691c-a0b2-4a89-b8df-8d472a6df7a7",
   "metadata": {},
   "outputs": [
    {
     "ename": "AttributeError",
     "evalue": "'str' object has no attribute 'append'",
     "output_type": "error",
     "traceback": [
      "\u001b[0;31m---------------------------------------------------------------------------\u001b[0m",
      "\u001b[0;31mAttributeError\u001b[0m                            Traceback (most recent call last)",
      "Cell \u001b[0;32mIn[14], line 1\u001b[0m\n\u001b[0;32m----> 1\u001b[0m \u001b[43manik\u001b[49m\u001b[38;5;241;43m.\u001b[39;49m\u001b[43madd_grades\u001b[49m\u001b[43m(\u001b[49m\u001b[38;5;124;43m\"\u001b[39;49m\u001b[38;5;124;43mAA\u001b[39;49m\u001b[38;5;124;43m\"\u001b[39;49m\u001b[43m)\u001b[49m\n",
      "Cell \u001b[0;32mIn[8], line 19\u001b[0m, in \u001b[0;36mstudent.add_grades\u001b[0;34m(self, grade)\u001b[0m\n\u001b[1;32m     18\u001b[0m \u001b[38;5;28;01mdef\u001b[39;00m \u001b[38;5;21madd_grades\u001b[39m(\u001b[38;5;28mself\u001b[39m, grade):\n\u001b[0;32m---> 19\u001b[0m     \u001b[38;5;28;01mreturn\u001b[39;00m \u001b[38;5;28;43mself\u001b[39;49m\u001b[38;5;241;43m.\u001b[39;49m\u001b[43m__grades\u001b[49m\u001b[38;5;241;43m.\u001b[39;49m\u001b[43mappend\u001b[49m(grade)\n",
      "\u001b[0;31mAttributeError\u001b[0m: 'str' object has no attribute 'append'"
     ]
    }
   ],
   "source": [
    "anik.add_grades(\"AA\")"
   ]
  },
  {
   "cell_type": "code",
   "execution_count": 16,
   "id": "b22b0f3a-9f17-4b45-b6c1-0c8b4491de88",
   "metadata": {},
   "outputs": [
    {
     "data": {
      "text/plain": [
       "\"In Python, property decorators are a way to define getter, setter, and deleter methods for class attributes, allowing you to control access to those attributes and implement encapsulation.\\n\\nThe `@property` decorator is used to define a getter method, the `@<attribute_name>.setter` decorator is used to define a setter method, and the `@<attribute_name>.deleter` decorator is used to define a deleter method.\\n\\nIn this example:\\n\\n1. The `BankAccount` class has two private attributes: `__account_number` and `__balance`.\\n2. The `@property` decorator is used to define a getter method for the `balance` attribute, which returns the value of the `__balance` attribute.\\n3. The `@balance.setter` decorator is used to define a setter method for the `balance` attribute, which allows you to modify the `__balance` attribute. The setter method includes a check to ensure that the new balance is not negative.\\n4. The `@balance.deleter` decorator is used to define a deleter method for the `balance` attribute, which allows you to delete the `__balance` attribute.\\n\\nBy using property decorators, you can achieve the following benefits:\\n\\n1. **Encapsulation**: Property decorators allow you to control access to class attributes, providing a way to implement data abstraction and data hiding. The internal implementation details of the class are hidden from the outside world.\\n\\n2. **Flexibility**: Property decorators make it easy to add validation, computation, or other logic when accessing or modifying the class attributes, without changing the external interface of the class.\\n\\n3. **Maintainability**: Property decorators make the code more readable and maintainable by providing a clear and consistent way to interact with the class attributes.\\n\\n4. **Backward Compatibility**: If you need to change the internal implementation of a class attribute, you can do so without breaking the existing code that uses the class, as long as the external interface (the property) remains the same.\\n\\nIn the context of encapsulation, property decorators are a powerful tool for controlling access to class attributes and ensuring that the object's state is modified according to the defined rules. By using property decorators, you can create classes that are more robust, flexible, and maintainable, as the internal implementation details are hidden from the outside world, and the class provides a well-defined interface for interacting with the object's state.\""
      ]
     },
     "execution_count": 16,
     "metadata": {},
     "output_type": "execute_result"
    }
   ],
   "source": [
    "'''In Python, property decorators are a way to define getter, setter, and deleter methods for class attributes, allowing you to control access to those attributes and implement encapsulation.\n",
    "\n",
    "The `@property` decorator is used to define a getter method, the `@<attribute_name>.setter` decorator is used to define a setter method, and the `@<attribute_name>.deleter` decorator is used to define a deleter method.\n",
    "\n",
    "In this example:\n",
    "\n",
    "1. The `BankAccount` class has two private attributes: `__account_number` and `__balance`.\n",
    "2. The `@property` decorator is used to define a getter method for the `balance` attribute, which returns the value of the `__balance` attribute.\n",
    "3. The `@balance.setter` decorator is used to define a setter method for the `balance` attribute, which allows you to modify the `__balance` attribute. The setter method includes a check to ensure that the new balance is not negative.\n",
    "4. The `@balance.deleter` decorator is used to define a deleter method for the `balance` attribute, which allows you to delete the `__balance` attribute.\n",
    "\n",
    "By using property decorators, you can achieve the following benefits:\n",
    "\n",
    "1. **Encapsulation**: Property decorators allow you to control access to class attributes, providing a way to implement data abstraction and data hiding. The internal implementation details of the class are hidden from the outside world.\n",
    "\n",
    "2. **Flexibility**: Property decorators make it easy to add validation, computation, or other logic when accessing or modifying the class attributes, without changing the external interface of the class.\n",
    "\n",
    "3. **Maintainability**: Property decorators make the code more readable and maintainable by providing a clear and consistent way to interact with the class attributes.\n",
    "\n",
    "4. **Backward Compatibility**: If you need to change the internal implementation of a class attribute, you can do so without breaking the existing code that uses the class, as long as the external interface (the property) remains the same.\n",
    "\n",
    "In the context of encapsulation, property decorators are a powerful tool for controlling access to class attributes and ensuring that the object's state is modified according to the defined rules. By using property decorators, you can create classes that are more robust, flexible, and maintainable, as the internal implementation details are hidden from the outside world, and the class provides a well-defined interface for interacting with the object's state.'''"
   ]
  },
  {
   "cell_type": "code",
   "execution_count": 17,
   "id": "24b01cc6-c0fd-4c55-8496-eb8f483764d1",
   "metadata": {},
   "outputs": [],
   "source": [
    "class BankAccount:\n",
    "    def __init__(self, account_number, balance):\n",
    "        self.__account_number = account_number\n",
    "        self.__balance = balance\n",
    "\n",
    "    @property\n",
    "    def balance(self):\n",
    "        return self.__balance\n",
    "\n",
    "    @balance.setter\n",
    "    def balance(self, new_balance):\n",
    "        if new_balance >= 0:\n",
    "            self.__balance = new_balance\n",
    "        else:\n",
    "            print(\"Invalid balance. Balance cannot be negative.\")\n",
    "\n",
    "    @balance.deleter\n",
    "    def balance(self):\n",
    "        del self.__balanc"
   ]
  },
  {
   "cell_type": "code",
   "execution_count": 2,
   "id": "bb700e5d-1314-48cc-815b-b523ca3a41d2",
   "metadata": {},
   "outputs": [
    {
     "data": {
      "text/plain": [
       "\"Data hiding is a fundamental aspect of encapsulation in object-oriented programming (OOP). It refers to the practice of making class members (attributes and methods) private or protected, so that they are only accessible within the class itself or its subclasses.\\n\\nThe importance of data hiding in encapsulation can be summarized as follows:\\n\\n1. **Information Hiding**: Data hiding allows you to hide the internal implementation details of a class from the outside world. This helps in creating a clear and well-defined interface for interacting with the object's state.\\n\\n2. **Data Integrity**: By hiding the internal data of an object, you can ensure that the object's state is modified only through the defined methods, which can include validation and consistency checks. This helps maintain the integrity of the object's data.\\n\\n3. **Flexibility and Maintainability**: Data hiding makes it easier to change the internal implementation of a class without affecting the code that uses the class, as long as the public interface remains the same. This improves the flexibility and maintainability of the codebase.\\n\\n4. **Encapsulation and Abstraction**: Data hiding is a key aspect of encapsulation, which allows you to create classes that are self-contained and abstract. This promotes modularity and reusability in your code.\\n\\n\\n\\nIn downpayment example:\\n\\n1. The `BankAccount` class has two private attributes, `__account_number` and `__balance`, which are prefixed with a double underscore `__`. This makes them inaccessible from outside the class.\\n2. The class provides public methods (`deposit`, `withdraw`, and `get_balance`) to interact with the private attributes. These methods encapsulate the internal implementation details and provide a well-defined interface for accessing and modifying the object's state.\\n3. By using private attributes and providing public methods, the class achieves data hiding, which is a key aspect of encapsulation. The internal implementation details of the `BankAccount` class are hidden from the outside world, and the class provides a clear and controlled way to interact with the object's state.\\n\\nData hiding is important in encapsulation because it allows you to create classes that are more robust, flexible, and maintainable. By hiding the internal implementation details of a class, you can ensure that the object's state is modified only through the defined methods, which can include validation and consistency checks. This helps maintain the integrity of the object's data and promotes the overall quality and reliability of the codebase.\""
      ]
     },
     "execution_count": 2,
     "metadata": {},
     "output_type": "execute_result"
    }
   ],
   "source": [
    "'''Data hiding is a fundamental aspect of encapsulation in object-oriented programming (OOP). It refers to the practice of making class members (attributes and methods) private or protected, so that they are only accessible within the class itself or its subclasses.\n",
    "\n",
    "The importance of data hiding in encapsulation can be summarized as follows:\n",
    "\n",
    "1. **Information Hiding**: Data hiding allows you to hide the internal implementation details of a class from the outside world. This helps in creating a clear and well-defined interface for interacting with the object's state.\n",
    "\n",
    "2. **Data Integrity**: By hiding the internal data of an object, you can ensure that the object's state is modified only through the defined methods, which can include validation and consistency checks. This helps maintain the integrity of the object's data.\n",
    "\n",
    "3. **Flexibility and Maintainability**: Data hiding makes it easier to change the internal implementation of a class without affecting the code that uses the class, as long as the public interface remains the same. This improves the flexibility and maintainability of the codebase.\n",
    "\n",
    "4. **Encapsulation and Abstraction**: Data hiding is a key aspect of encapsulation, which allows you to create classes that are self-contained and abstract. This promotes modularity and reusability in your code.\n",
    "\n",
    "\n",
    "\n",
    "In downpayment example:\n",
    "\n",
    "1. The `BankAccount` class has two private attributes, `__account_number` and `__balance`, which are prefixed with a double underscore `__`. This makes them inaccessible from outside the class.\n",
    "2. The class provides public methods (`deposit`, `withdraw`, and `get_balance`) to interact with the private attributes. These methods encapsulate the internal implementation details and provide a well-defined interface for accessing and modifying the object's state.\n",
    "3. By using private attributes and providing public methods, the class achieves data hiding, which is a key aspect of encapsulation. The internal implementation details of the `BankAccount` class are hidden from the outside world, and the class provides a clear and controlled way to interact with the object's state.\n",
    "\n",
    "Data hiding is important in encapsulation because it allows you to create classes that are more robust, flexible, and maintainable. By hiding the internal implementation details of a class, you can ensure that the object's state is modified only through the defined methods, which can include validation and consistency checks. This helps maintain the integrity of the object's data and promotes the overall quality and reliability of the codebase.'''\n",
    "\n"
   ]
  },
  {
   "cell_type": "code",
   "execution_count": 3,
   "id": "66d9ddfc-319c-4cec-9633-9ffc165b93f4",
   "metadata": {},
   "outputs": [],
   "source": [
    "class BankAccount:\n",
    "    def __init__(self, account_number, balance):\n",
    "        self.__account_number = account_number  \n",
    "        self.__balance = balance  \n",
    "\n",
    "    def deposit(self, amount):\n",
    "        self.__balance += amount  \n",
    "\n",
    "    def withdraw(self, amount):\n",
    "        if self.__balance >= amount:\n",
    "            self.__balance -= amount  \n",
    "            return amount\n",
    "        else:\n",
    "            return 0\n",
    "\n",
    "    def get_balance(self):\n",
    "        return self.__balance  "
   ]
  },
  {
   "cell_type": "code",
   "execution_count": 4,
   "id": "eefb1901-524d-463c-958d-b4e2c66bd9ab",
   "metadata": {},
   "outputs": [],
   "source": [
    "anik =  BankAccount(35446242, 90000)"
   ]
  },
  {
   "cell_type": "code",
   "execution_count": 5,
   "id": "21e44eee-a8b1-4626-b1ac-b5b81335931e",
   "metadata": {},
   "outputs": [],
   "source": [
    "anik.deposit(4500)"
   ]
  },
  {
   "cell_type": "code",
   "execution_count": 6,
   "id": "50f9e042-02e9-4438-b2a0-ff9241649766",
   "metadata": {},
   "outputs": [
    {
     "data": {
      "text/plain": [
       "9000"
      ]
     },
     "execution_count": 6,
     "metadata": {},
     "output_type": "execute_result"
    }
   ],
   "source": [
    "anik.withdraw(9000)"
   ]
  },
  {
   "cell_type": "code",
   "execution_count": 7,
   "id": "248d8e0f-af49-4eb8-9eb0-f3093d7ba25c",
   "metadata": {},
   "outputs": [
    {
     "data": {
      "text/plain": [
       "85500"
      ]
     },
     "execution_count": 7,
     "metadata": {},
     "output_type": "execute_result"
    }
   ],
   "source": [
    "anik.get_balance()"
   ]
  },
  {
   "cell_type": "code",
   "execution_count": 9,
   "id": "02738939-eab6-436c-9413-6d97827901a4",
   "metadata": {},
   "outputs": [],
   "source": [
    "class Employee :\n",
    "    def __init__(self, employee_ID, name, salary):\n",
    "        self.__employee_id = employee_ID\n",
    "        self.__Name = name\n",
    "        self.__Salary = salary\n",
    "           \n",
    "    def extract_deatails(self):\n",
    "        print(f\"here your name {self.__Name} & here your employee id {self.__employee_id}.\")\n",
    "           \n",
    "    def salary_incriment(self, year):\n",
    "        if year <= 1:\n",
    "            print(f\"your salary incriment {self.__Salary*5/100 + self.__Salary}\")\n",
    "        elif 1< year <= 2:\n",
    "            print(f\"your salary incriment {self.__Salary*10/100 + self.__Salary}\")\n",
    "        elif 2< year <=4:\n",
    "            print(f\"your salary incriment {self.__Salary*15/100 + self.__Salary}\")\n",
    "        elif 4< year <=6:\n",
    "            print(f\"your salary incriment {self.__Salary*20/100 + self.__Salary}\")\n",
    "        elif 6< year <=8:\n",
    "            print(f\"your salary incriment {self.__Salary*25/100 + self.__Salary}\")\n",
    "        elif 8< year <=10:\n",
    "            print(f\"your salary incriment {self.__Salary*30/100 + self.__Salary}\")\n",
    "        else:\n",
    "            print(f\"your salary incriment {self.__Salary*50/100 + self.__Salary}\")\n",
    "            "
   ]
  },
  {
   "cell_type": "code",
   "execution_count": 10,
   "id": "9e9e11ef-3c40-4735-8c70-ea294f821608",
   "metadata": {},
   "outputs": [],
   "source": [
    "anik = Employee(545,\"anirban\",50000)"
   ]
  },
  {
   "cell_type": "code",
   "execution_count": 11,
   "id": "28be0221-6ce5-4e9f-9c09-81cdadb1538f",
   "metadata": {},
   "outputs": [
    {
     "name": "stdout",
     "output_type": "stream",
     "text": [
      "here your name anirban & here your employee id 545.\n"
     ]
    }
   ],
   "source": [
    "anik.extract_deatails()"
   ]
  },
  {
   "cell_type": "code",
   "execution_count": 12,
   "id": "679e402a-6be9-497a-a07d-0422aa1095a6",
   "metadata": {},
   "outputs": [
    {
     "name": "stdout",
     "output_type": "stream",
     "text": [
      "your salary incriment 60000.0\n"
     ]
    }
   ],
   "source": [
    "anik.salary_incriment(6)"
   ]
  },
  {
   "cell_type": "code",
   "execution_count": 15,
   "id": "4ce74999-31fa-406a-b612-0fecb0789c6d",
   "metadata": {},
   "outputs": [
    {
     "data": {
      "text/plain": [
       "\"Accessors and mutators are important concepts in encapsulation, which is a fundamental principle of object-oriented programming (OOP). Accessors and mutators help maintain control over attribute access and ensure the integrity of an object's state.\\n\\n**Accessors (Getters):**\\nAccessors, also known as getter methods, are used to retrieve the value of an object's private or protected attributes. They provide a controlled way to access the internal data of an object. Accessors help maintain encapsulation by:\\n\\n1. **Data Abstraction**: Accessors abstract the internal implementation details of an object and expose a well-defined interface for accessing the object's state.\\n2. **Data Validation**: Accessors can include validation logic to ensure that the returned value is consistent with the object's state.\\n3. **Flexibility**: By using accessors, you can easily change the internal implementation of an object without affecting the code that uses the object, as long as the public interface remains the same.\\n\\n**Mutators (Setters):**\\nMutators, also known as setter methods, are used to modify the value of an object's private or protected attributes. They provide a controlled way to update the internal data of an object. Mutators help maintain encapsulation by:\\n\\n1. **Data Validation**: Mutators can include validation logic to ensure that the new value being assigned to an attribute is valid and consistent with the object's state.\\n2. **Invariant Maintenance**: Mutators can maintain the invariants (the rules or constraints) of an object's state by performing necessary checks and updates when modifying an attribute.\\n3. **Flexibility**: By using mutators, you can easily change the internal implementation of an object without affecting the code that uses the object, as long as the public interface remains the same.\\n\\n\\n\\n\\nIn downpayment example:\\n\\n1. The `BankAccount` class has two private attributes: `__account_number` and `__balance`.\\n2. The `get_account_number` and `get_balance` methods are accessors (getters) that provide controlled access to the private attributes.\\n3. The `set_balance` method is a mutator (setter) that allows you to modify the `__balance` attribute. It includes a validation check to ensure that the new balance is not negative.\\n\\nBy using accessors and mutators, the `BankAccount` class maintains control over the access and modification of its internal attributes. This helps preserve the integrity of the object's state and ensures that the object's behavior is consistent with its intended design.\\n\\nAccessors and mutators are essential in implementing encapsulation, as they provide a well-defined interface for interacting with an object's state, while hiding the internal implementation details. This promotes flexibility, maintainability, and robustness in the codebase.\""
      ]
     },
     "execution_count": 15,
     "metadata": {},
     "output_type": "execute_result"
    }
   ],
   "source": [
    "'''Accessors and mutators are important concepts in encapsulation, which is a fundamental principle of object-oriented programming (OOP). Accessors and mutators help maintain control over attribute access and ensure the integrity of an object's state.\n",
    "\n",
    "**Accessors (Getters):**\n",
    "Accessors, also known as getter methods, are used to retrieve the value of an object's private or protected attributes. They provide a controlled way to access the internal data of an object. Accessors help maintain encapsulation by:\n",
    "\n",
    "1. **Data Abstraction**: Accessors abstract the internal implementation details of an object and expose a well-defined interface for accessing the object's state.\n",
    "2. **Data Validation**: Accessors can include validation logic to ensure that the returned value is consistent with the object's state.\n",
    "3. **Flexibility**: By using accessors, you can easily change the internal implementation of an object without affecting the code that uses the object, as long as the public interface remains the same.\n",
    "\n",
    "**Mutators (Setters):**\n",
    "Mutators, also known as setter methods, are used to modify the value of an object's private or protected attributes. They provide a controlled way to update the internal data of an object. Mutators help maintain encapsulation by:\n",
    "\n",
    "1. **Data Validation**: Mutators can include validation logic to ensure that the new value being assigned to an attribute is valid and consistent with the object's state.\n",
    "2. **Invariant Maintenance**: Mutators can maintain the invariants (the rules or constraints) of an object's state by performing necessary checks and updates when modifying an attribute.\n",
    "3. **Flexibility**: By using mutators, you can easily change the internal implementation of an object without affecting the code that uses the object, as long as the public interface remains the same.\n",
    "\n",
    "\n",
    "\n",
    "\n",
    "In downpayment example:\n",
    "\n",
    "1. The `BankAccount` class has two private attributes: `__account_number` and `__balance`.\n",
    "2. The `get_account_number` and `get_balance` methods are accessors (getters) that provide controlled access to the private attributes.\n",
    "3. The `set_balance` method is a mutator (setter) that allows you to modify the `__balance` attribute. It includes a validation check to ensure that the new balance is not negative.\n",
    "\n",
    "By using accessors and mutators, the `BankAccount` class maintains control over the access and modification of its internal attributes. This helps preserve the integrity of the object's state and ensures that the object's behavior is consistent with its intended design.\n",
    "\n",
    "Accessors and mutators are essential in implementing encapsulation, as they provide a well-defined interface for interacting with an object's state, while hiding the internal implementation details. This promotes flexibility, maintainability, and robustness in the codebase.'''\n",
    "\n"
   ]
  },
  {
   "cell_type": "code",
   "execution_count": 16,
   "id": "dfc69823-ab01-41d5-85da-61a2b6ac3a63",
   "metadata": {},
   "outputs": [],
   "source": [
    "class BankAccount:\n",
    "    def __init__(self, account_number, balance):\n",
    "        self.__account_number = account_number\n",
    "        self.__balance = balance\n",
    "\n",
    "    def get_account_number(self):\n",
    "        return self.__account_number\n",
    "\n",
    "    def get_balance(self):\n",
    "        return self.__balance\n",
    "\n",
    "    def set_balance(self, new_balance):\n",
    "        if new_balance >= 0:\n",
    "            self.__balance = new_balance\n",
    "        else:\n",
    "            print(\"Invalid balance. Balance cannot be negative.\")\n"
   ]
  },
  {
   "cell_type": "code",
   "execution_count": 17,
   "id": "23cd5678-a7d8-46f4-9e59-72abd55e0c2b",
   "metadata": {},
   "outputs": [
    {
     "data": {
      "text/plain": [
       "\"There are a few potential drawbacks or disadvantages to using encapsulation in Python:\\n\\n1. **Increased complexity**: Implementing encapsulation can add some complexity to your code, as you need to define getter and setter methods to access and modify private attributes.\\n\\n2. **Performance overhead**: The extra method calls required to access private attributes through getters and setters can introduce a small amount of performance overhead, although this is usually negligible.\\n\\n3. **Potential for misuse**: While encapsulation is intended to hide implementation details and control access to attributes, it doesn't prevent users from accessing private attributes directly by using name mangling. This can lead to misuse or unintended consequences if users bypass the intended interface.\\n\\n4. **Lack of true privacy**: Python's name mangling is not a strict access control mechanism. Private attributes can still be accessed from outside the class by using the mangled name directly. This is different from languages with true private access modifiers.\\n\\n5. **Verbosity**: Defining getter and setter methods for every private attribute can make the code more verbose and repetitive. However, this can be mitigated by using property decorators, which provide a more concise way to define getters and setters.\\n\\n6. **Inheritance challenges**: When inheriting from a class with private attributes, the subclass cannot directly access those attributes. This can make it more difficult to extend the functionality of the base class.\\n\\nDespite these potential drawbacks, encapsulation is still considered a valuable and important principle in object-oriented programming. It helps in creating more robust, maintainable, and extensible code by separating the interface from the implementation and controlling access to object state.\""
      ]
     },
     "execution_count": 17,
     "metadata": {},
     "output_type": "execute_result"
    }
   ],
   "source": [
    "'''There are a few potential drawbacks or disadvantages to using encapsulation in Python:\n",
    "\n",
    "1. **Increased complexity**: Implementing encapsulation can add some complexity to your code, as you need to define getter and setter methods to access and modify private attributes.\n",
    "\n",
    "2. **Performance overhead**: The extra method calls required to access private attributes through getters and setters can introduce a small amount of performance overhead, although this is usually negligible.\n",
    "\n",
    "3. **Potential for misuse**: While encapsulation is intended to hide implementation details and control access to attributes, it doesn't prevent users from accessing private attributes directly by using name mangling. This can lead to misuse or unintended consequences if users bypass the intended interface.\n",
    "\n",
    "4. **Lack of true privacy**: Python's name mangling is not a strict access control mechanism. Private attributes can still be accessed from outside the class by using the mangled name directly. This is different from languages with true private access modifiers.\n",
    "\n",
    "5. **Verbosity**: Defining getter and setter methods for every private attribute can make the code more verbose and repetitive. However, this can be mitigated by using property decorators, which provide a more concise way to define getters and setters.\n",
    "\n",
    "6. **Inheritance challenges**: When inheriting from a class with private attributes, the subclass cannot directly access those attributes. This can make it more difficult to extend the functionality of the base class.\n",
    "\n",
    "Despite these potential drawbacks, encapsulation is still considered a valuable and important principle in object-oriented programming. It helps in creating more robust, maintainable, and extensible code by separating the interface from the implementation and controlling access to object state.'''\n"
   ]
  },
  {
   "cell_type": "code",
   "execution_count": 18,
   "id": "75470a21-27bd-4829-b411-18b0fc031d96",
   "metadata": {},
   "outputs": [],
   "source": [
    "class Book:\n",
    "    def __init__(self, title, author):\n",
    "        self.title = title\n",
    "        self.author =  author\n",
    "        self.available = True\n",
    "    def __str__(self):\n",
    "        return f\"book {self.title} by {self.author}\"\n",
    "class Library:\n",
    "    def __init__(self):\n",
    "        self.books = []\n",
    "    def add_books(self, book):\n",
    "        self.books.append(book)\n",
    "    def borrow_books(self, book):\n",
    "        if book in self.books and book.available:\n",
    "            book.available = False\n",
    "            print(f\"book borrowed '{book.title}' by '{book.author}'\")\n",
    "        else:\n",
    "            print(f\"sorry {book.title} is not avilable.\")\n",
    "    def return_book(self, book):\n",
    "        if book in self.books and not book.available:\n",
    "            book.available = True\n",
    "            print(f\"you returned '{book.title}' by '{book.author}'\")\n",
    "        else:\n",
    "            print(f\"'{book.title}' is avilable on self\")\n",
    "    def display_avilable_books(self):\n",
    "        print(\"Available books:\")\n",
    "        for book in self.books:\n",
    "            if book.available:\n",
    "                print(book)\n",
    "\n",
    "        \n",
    "            \n",
    "            \n",
    "    \n",
    "        "
   ]
  },
  {
   "cell_type": "code",
   "execution_count": 20,
   "id": "fde4502d-0bfa-4c21-a069-fe97e440a8f2",
   "metadata": {},
   "outputs": [
    {
     "ename": "AttributeError",
     "evalue": "type object 'Library' has no attribute 'add_book'",
     "output_type": "error",
     "traceback": [
      "\u001b[0;31m---------------------------------------------------------------------------\u001b[0m",
      "\u001b[0;31mAttributeError\u001b[0m                            Traceback (most recent call last)",
      "Cell \u001b[0;32mIn[20], line 7\u001b[0m\n\u001b[1;32m      4\u001b[0m book2 \u001b[38;5;241m=\u001b[39m Book(\u001b[38;5;124m\"\u001b[39m\u001b[38;5;124m1984\u001b[39m\u001b[38;5;124m\"\u001b[39m, \u001b[38;5;124m\"\u001b[39m\u001b[38;5;124mGeorge Orwell\u001b[39m\u001b[38;5;124m\"\u001b[39m)\n\u001b[1;32m      5\u001b[0m book3 \u001b[38;5;241m=\u001b[39m Book(\u001b[38;5;124m\"\u001b[39m\u001b[38;5;124mThe Great Gatsby\u001b[39m\u001b[38;5;124m\"\u001b[39m, \u001b[38;5;124m\"\u001b[39m\u001b[38;5;124mF. Scott Fitzgerald\u001b[39m\u001b[38;5;124m\"\u001b[39m)\n\u001b[0;32m----> 7\u001b[0m \u001b[43mLibrary\u001b[49m\u001b[38;5;241;43m.\u001b[39;49m\u001b[43madd_book\u001b[49m(book1)\n\u001b[1;32m      8\u001b[0m Library\u001b[38;5;241m.\u001b[39madd_book(book2)\n\u001b[1;32m      9\u001b[0m Library\u001b[38;5;241m.\u001b[39madd_book(book3)\n",
      "\u001b[0;31mAttributeError\u001b[0m: type object 'Library' has no attribute 'add_book'"
     ]
    }
   ],
   "source": [
    "library = Library()\n",
    "\n",
    "book1 = Book(\"To Kill a Mockingbird\", \"Harper Lee\")\n",
    "book2 = Book(\"1984\", \"George Orwell\")\n",
    "book3 = Book(\"The Great Gatsby\", \"F. Scott Fitzgerald\")\n",
    "\n",
    "Library.add_book(book1)\n",
    "Library.add_book(book2)\n",
    "Library.add_book(book3)\n",
    "\n",
    "Library.display_available_books()\n",
    "print()\n",
    "\n",
    "Library.borrow_book(book1)\n",
    "print()\n",
    "\n",
    "Library.display_available_books()\n",
    "print()\n",
    "\n",
    "Library.return_book(book1)\n",
    "print()\n",
    "\n",
    "Library.display_available_books()\n"
   ]
  },
  {
   "cell_type": "code",
   "execution_count": 21,
   "id": "77157346-dfb4-4468-a05b-4cf08e5467e8",
   "metadata": {},
   "outputs": [
    {
     "data": {
      "text/plain": [
       "\"Encapsulation is a fundamental principle in object-oriented programming that enhances code reusability and modularity in Python programs. Here's how encapsulation achieves these benefits:\\n\\n1. **Code Reusability**:\\n   - Encapsulation promotes code reusability by providing a well-defined and stable interface for interacting with an object.\\n   - By hiding the internal implementation details of a class and exposing only the necessary functionality through public methods, you can create objects that can be used in different parts of your application without the need to understand their internal workings.\\n   - This allows you to write code that can be easily reused across multiple projects or modules, as long as the public interface of the class remains the same.\\n\\n2. **Modularity**:\\n   - Encapsulation enhances the modularity of your Python programs by separating the implementation details from the object's interface.\\n   - By encapsulating the internal implementation of a class, you can change the internal logic without affecting the code that uses the class, as long as the public interface remains the same.\\n   - This promotes modularity by allowing you to update or replace the implementation of a class without breaking the code that depends on it.\\n\\n3. **Information Hiding**:\\n   - Encapsulation enables information hiding, which means that the internal data and implementation details of a class are hidden from the outside world.\\n   - This separation of concerns allows you to change the internal implementation of a class without affecting the code that uses the class, as long as the public interface remains the same.\\n   - Information hiding promotes modularity by reducing the coupling between different parts of your application, making it easier to maintain and extend the codebase.\\n\\n4. **Abstraction**:\\n   - Encapsulation supports the concept of abstraction, which involves hiding the internal complexity of an object and exposing only the necessary functionality to the outside world.\\n   - By providing a well-defined interface for interacting with an object, you can create abstractions that are easier to understand and use, promoting code reusability and modularity.\\n   - Abstraction allows you to create classes that can be used in different contexts without the need to understand their internal implementation details.\\n\\n5. **Flexibility and Maintainability**:\\n   - Encapsulation makes it easier to modify the internal implementation of a class without affecting the code that uses the class, as long as the public interface remains the same.\\n   - This flexibility and maintainability are crucial for long-term software development, as it allows you to adapt to changing requirements and evolve your codebase over time.\\n\\nBy applying the principles of encapsulation, you can create Python programs that are more modular, reusable, and maintainable. The separation of implementation details from the public interface promotes code organization, reduces coupling, and makes it easier to extend and modify your application over time.\""
      ]
     },
     "execution_count": 21,
     "metadata": {},
     "output_type": "execute_result"
    }
   ],
   "source": [
    "'''Encapsulation is a fundamental principle in object-oriented programming that enhances code reusability and modularity in Python programs. Here's how encapsulation achieves these benefits:\n",
    "\n",
    "1. **Code Reusability**:\n",
    "   - Encapsulation promotes code reusability by providing a well-defined and stable interface for interacting with an object.\n",
    "   - By hiding the internal implementation details of a class and exposing only the necessary functionality through public methods, you can create objects that can be used in different parts of your application without the need to understand their internal workings.\n",
    "   - This allows you to write code that can be easily reused across multiple projects or modules, as long as the public interface of the class remains the same.\n",
    "\n",
    "2. **Modularity**:\n",
    "   - Encapsulation enhances the modularity of your Python programs by separating the implementation details from the object's interface.\n",
    "   - By encapsulating the internal implementation of a class, you can change the internal logic without affecting the code that uses the class, as long as the public interface remains the same.\n",
    "   - This promotes modularity by allowing you to update or replace the implementation of a class without breaking the code that depends on it.\n",
    "\n",
    "3. **Information Hiding**:\n",
    "   - Encapsulation enables information hiding, which means that the internal data and implementation details of a class are hidden from the outside world.\n",
    "   - This separation of concerns allows you to change the internal implementation of a class without affecting the code that uses the class, as long as the public interface remains the same.\n",
    "   - Information hiding promotes modularity by reducing the coupling between different parts of your application, making it easier to maintain and extend the codebase.\n",
    "\n",
    "4. **Abstraction**:\n",
    "   - Encapsulation supports the concept of abstraction, which involves hiding the internal complexity of an object and exposing only the necessary functionality to the outside world.\n",
    "   - By providing a well-defined interface for interacting with an object, you can create abstractions that are easier to understand and use, promoting code reusability and modularity.\n",
    "   - Abstraction allows you to create classes that can be used in different contexts without the need to understand their internal implementation details.\n",
    "\n",
    "5. **Flexibility and Maintainability**:\n",
    "   - Encapsulation makes it easier to modify the internal implementation of a class without affecting the code that uses the class, as long as the public interface remains the same.\n",
    "   - This flexibility and maintainability are crucial for long-term software development, as it allows you to adapt to changing requirements and evolve your codebase over time.\n",
    "\n",
    "By applying the principles of encapsulation, you can create Python programs that are more modular, reusable, and maintainable. The separation of implementation details from the public interface promotes code organization, reduces coupling, and makes it easier to extend and modify your application over time.'''"
   ]
  },
  {
   "cell_type": "code",
   "execution_count": 22,
   "id": "296711a8-a2de-4625-bf95-29abf1cc5d78",
   "metadata": {},
   "outputs": [
    {
     "data": {
      "text/plain": [
       "\"The concept of information hiding is a key aspect of encapsulation in software development. Information hiding refers to the practice of hiding the internal implementation details of an object or a module from the outside world, exposing only the necessary functionality through a well-defined interface.\\n\\nHere's why information hiding is essential in software development:\\n\\n1. **Data Abstraction**:\\n   - Information hiding allows you to create abstractions that hide the complex internal implementation details of an object or a module.\\n   - By exposing only the necessary functionality through a public interface, you can create a clear and well-defined contract for interacting with the object or module.\\n\\n2. **Data Integrity**:\\n   - Information hiding helps maintain the integrity of an object's state by controlling how the internal data can be accessed and modified.\\n   - By hiding the internal data and providing controlled access through methods, you can ensure that the object's state is always valid and consistent.\\n\\n3. **Flexibility and Maintainability**:\\n   - Information hiding promotes flexibility and maintainability in software development.\\n   - By separating the implementation details from the public interface, you can change the internal implementation of an object or a module without affecting the code that uses it, as long as the public interface remains the same.\\n\\n4. **Modularity and Reusability**:\\n   - Information hiding supports the creation of modular and reusable software components.\\n   - By encapsulating the internal implementation details, you can create self-contained modules or objects that can be easily integrated into different parts of your application.\\n\\n5. **Encapsulation and Abstraction**:\\n   - Information hiding is a fundamental aspect of encapsulation, which is one of the core principles of object-oriented programming (OOP).\\n   - Encapsulation, along with information hiding, allows you to create classes that are self-contained and abstract, promoting modularity and reusability in your codebase.\\n\\n6. **Security and Robustness**:\\n   - Information hiding can enhance the security and robustness of your software by preventing unauthorized access to sensitive data or critical functionality.\\n   - By hiding the internal implementation details, you can reduce the risk of unintended interactions or misuse of the object or module.\\n\\nIn summary, information hiding is essential in software development because it supports data abstraction, data integrity, flexibility, maintainability, modularity, reusability, and security. By hiding the internal implementation details and exposing only the necessary functionality through a well-defined interface, you can create more robust, maintainable, and extensible software systems.\""
      ]
     },
     "execution_count": 22,
     "metadata": {},
     "output_type": "execute_result"
    }
   ],
   "source": [
    "'''The concept of information hiding is a key aspect of encapsulation in software development. Information hiding refers to the practice of hiding the internal implementation details of an object or a module from the outside world, exposing only the necessary functionality through a well-defined interface.\n",
    "\n",
    "Here's why information hiding is essential in software development:\n",
    "\n",
    "1. **Data Abstraction**:\n",
    "   - Information hiding allows you to create abstractions that hide the complex internal implementation details of an object or a module.\n",
    "   - By exposing only the necessary functionality through a public interface, you can create a clear and well-defined contract for interacting with the object or module.\n",
    "\n",
    "2. **Data Integrity**:\n",
    "   - Information hiding helps maintain the integrity of an object's state by controlling how the internal data can be accessed and modified.\n",
    "   - By hiding the internal data and providing controlled access through methods, you can ensure that the object's state is always valid and consistent.\n",
    "\n",
    "3. **Flexibility and Maintainability**:\n",
    "   - Information hiding promotes flexibility and maintainability in software development.\n",
    "   - By separating the implementation details from the public interface, you can change the internal implementation of an object or a module without affecting the code that uses it, as long as the public interface remains the same.\n",
    "\n",
    "4. **Modularity and Reusability**:\n",
    "   - Information hiding supports the creation of modular and reusable software components.\n",
    "   - By encapsulating the internal implementation details, you can create self-contained modules or objects that can be easily integrated into different parts of your application.\n",
    "\n",
    "5. **Encapsulation and Abstraction**:\n",
    "   - Information hiding is a fundamental aspect of encapsulation, which is one of the core principles of object-oriented programming (OOP).\n",
    "   - Encapsulation, along with information hiding, allows you to create classes that are self-contained and abstract, promoting modularity and reusability in your codebase.\n",
    "\n",
    "6. **Security and Robustness**:\n",
    "   - Information hiding can enhance the security and robustness of your software by preventing unauthorized access to sensitive data or critical functionality.\n",
    "   - By hiding the internal implementation details, you can reduce the risk of unintended interactions or misuse of the object or module.\n",
    "\n",
    "In summary, information hiding is essential in software development because it supports data abstraction, data integrity, flexibility, maintainability, modularity, reusability, and security. By hiding the internal implementation details and exposing only the necessary functionality through a well-defined interface, you can create more robust, maintainable, and extensible software systems.'''\n",
    "\n"
   ]
  },
  {
   "cell_type": "code",
   "execution_count": 3,
   "id": "ffa282d6-5d91-4381-9bb0-f6ff5097f22d",
   "metadata": {},
   "outputs": [],
   "source": [
    "class Customer:\n",
    "    def __init__(self, name, address, phone, email):\n",
    "        self.__name = name\n",
    "        self.__address = address\n",
    "        self.__phone = phone\n",
    "        self.__email = email\n",
    "\n",
    "    def get_name(self):\n",
    "        return self.__name\n",
    "\n",
    "    def get_address(self):\n",
    "        return self.__address\n",
    "\n",
    "    def get_phone(self):\n",
    "        return self.__phone\n",
    "\n",
    "    def get_email(self):\n",
    "        return self.__email\n",
    "\n",
    "    def update_address(self, new_address):\n",
    "        self.__address = new_address\n",
    "\n",
    "    def update_phone(self, new_phone):\n",
    "        self.__phone = new_phone\n",
    "\n",
    "    def update_email(self, new_email):\n",
    "        self.__email = new_email"
   ]
  },
  {
   "cell_type": "code",
   "execution_count": 4,
   "id": "fc013923-f22e-46ea-a102-eed73e703227",
   "metadata": {},
   "outputs": [
    {
     "name": "stdout",
     "output_type": "stream",
     "text": [
      "John Doe\n",
      "123 Main St\n",
      "555-1234\n",
      "john.doe@example.com\n"
     ]
    }
   ],
   "source": [
    "\n",
    "customer = Customer(\"John Doe\", \"123 Main St\", \"555-1234\", \"john.doe@example.com\")\n",
    "\n",
    "\n",
    "print(customer.get_name())  \n",
    "print(customer.get_address())  \n",
    "print(customer.get_phone())  \n",
    "print(customer.get_email())  \n",
    "customer.update_address(\"456 Oak Ave\")\n",
    "customer.update_phone(\"555-5678\")\n",
    "customer.update_email(\"johndoe@example.com\")\n"
   ]
  },
  {
   "cell_type": "code",
   "execution_count": 5,
   "id": "ccbb1de9-19f1-40be-ac16-46cd3114f1c3",
   "metadata": {},
   "outputs": [
    {
     "name": "stdout",
     "output_type": "stream",
     "text": [
      "The dog barks.\n",
      "The cat meows.\n",
      "Quack!\n",
      "I'm flying!\n",
      "The person imitates a duck.\n",
      "The person flaps their arms!\n"
     ]
    },
    {
     "data": {
      "text/plain": [
       "'In this example, the `in_the_pond` function expects an object with `quack` and `fly` methods. Both the `Duck` and `Person` classes have these methods, so they can be used interchangeably with the `in_the_pond` function.\\n\\nPolymorphism, along with other OOP concepts like inheritance and encapsulation, allows you to write more flexible, maintainable, and extensible code in Python. By treating objects of different classes as objects of a common superclass, you can write code that works with a wide range of objects without needing to know their specific types.'"
      ]
     },
     "execution_count": 5,
     "metadata": {},
     "output_type": "execute_result"
    }
   ],
   "source": [
    "'''Polymorphism is a fundamental concept in object-oriented programming (OOP) that allows objects of different classes to be treated as objects of a common superclass. In Python, polymorphism is achieved through method overriding and duck typing.\n",
    "\n",
    "**Method Overriding**:\n",
    "- Method overriding occurs when a subclass provides its own implementation of a method that is already defined in its superclass.\n",
    "- When a method is called on an object, the implementation of the method is determined by the object's class, not the type of reference used to access the object.\n",
    "- This allows objects of different classes to respond to the same method call in different ways.\n",
    "\n",
    "Example:\n",
    "```python'''\n",
    "class Animal:\n",
    "    def make_sound(self):\n",
    "        print(\"The animal makes a sound.\")\n",
    "\n",
    "class Dog(Animal):\n",
    "    def make_sound(self):\n",
    "        print(\"The dog barks.\")\n",
    "\n",
    "class Cat(Animal):\n",
    "    def make_sound(self):\n",
    "        print(\"The cat meows.\")\n",
    "\n",
    "\n",
    "dog = Dog()\n",
    "cat = Cat()\n",
    "\n",
    "\n",
    "dog.make_sound()  \n",
    "cat.make_sound()  \n",
    "\n",
    "\n",
    "'''In this example, the `Dog` and `Cat` classes override the `make_sound` method inherited from the `Animal` class, providing their own implementations. When the `make_sound` method is called on objects of these classes, the appropriate implementation is executed.\n",
    "\n",
    "**Duck Typing**:\n",
    "- Duck typing is a concept in Python that emphasizes the behavior of an object rather than its type.\n",
    "- In duck typing, an object is considered suitable for a particular operation if it has the necessary methods and properties, regardless of its class.\n",
    "- This allows objects of different classes to be used interchangeably as long as they have the required methods and properties.\n",
    "\n",
    "Example:\n",
    "```python'''\n",
    "class Duck:\n",
    "    def quack(self):\n",
    "        print(\"Quack!\")\n",
    "\n",
    "    def fly(self):\n",
    "        print(\"I'm flying!\")\n",
    "\n",
    "class Person:\n",
    "    def quack(self):\n",
    "        print(\"The person imitates a duck.\")\n",
    "\n",
    "    def fly(self):\n",
    "        print(\"The person flaps their arms!\")\n",
    "\n",
    "def in_the_pond(duck):\n",
    "    duck.quack()\n",
    "    duck.fly()\n",
    "\n",
    "\n",
    "duck = Duck()\n",
    "person = Person()\n",
    "\n",
    "\n",
    "in_the_pond(duck) \n",
    "in_the_pond(person)  \n",
    "\n",
    "\n",
    "'''In this example, the `in_the_pond` function expects an object with `quack` and `fly` methods. Both the `Duck` and `Person` classes have these methods, so they can be used interchangeably with the `in_the_pond` function.\n",
    "\n",
    "Polymorphism, along with other OOP concepts like inheritance and encapsulation, allows you to write more flexible, maintainable, and extensible code in Python. By treating objects of different classes as objects of a common superclass, you can write code that works with a wide range of objects without needing to know their specific types.'''\n",
    "\n"
   ]
  },
  {
   "cell_type": "code",
   "execution_count": 7,
   "id": "1ad6596d-3c39-4cdc-b244-b26a8e07492c",
   "metadata": {},
   "outputs": [
    {
     "name": "stdout",
     "output_type": "stream",
     "text": [
      "The dog barks.\n",
      "The cat meows.\n",
      "Quack!\n",
      "I'm flying!\n",
      "The person imitates a duck.\n",
      "The person flaps their arms!\n"
     ]
    },
    {
     "data": {
      "text/plain": [
       "\"In this example, the `in_the_pond` function expects an object with `quack` and `fly` methods. Both the `Duck` and `Person` classes have these methods, so they can be used interchangeably with the `in_the_pond` function.\\n\\nIn summary, while Python does not have true compile-time polymorphism, it supports runtime polymorphism through method overriding and duck typing. The appropriate method implementation is determined at runtime based on the object's class and its behavior.\""
      ]
     },
     "execution_count": 7,
     "metadata": {},
     "output_type": "execute_result"
    }
   ],
   "source": [
    "'''Python does not have true compile-time polymorphism like some statically typed languages. However, it does support a form of runtime polymorphism through method overriding and duck typing.\n",
    "\n",
    "**Compile-time Polymorphism**:\n",
    "- In statically typed languages like Java or C++, method overloading allows a class to have multiple methods with the same name but different parameters.\n",
    "- The appropriate method to call is determined at compile-time based on the types of the arguments passed.\n",
    "- This is an example of compile-time polymorphism, as the method binding happens before the program is executed.\n",
    "- Python does not support method overloading natively. It relies on default parameter values and keyword arguments to achieve similar functionality.\n",
    "\n",
    "**Runtime Polymorphism**:\n",
    "- In Python, polymorphism is achieved at runtime through method overriding and duck typing.\n",
    "- Method overriding occurs when a subclass provides its own implementation of a method that is already defined in its superclass.\n",
    "- When a method is called on an object, the implementation of the method is determined by the object's class, not the type of reference used to access the object.\n",
    "- This allows objects of different classes to respond to the same method call in different ways.\n",
    "\n",
    "Example of method overriding in Python:\n",
    "```python'''\n",
    "class Animal:\n",
    "    def make_sound(self):\n",
    "        print(\"The animal makes a sound.\")\n",
    "\n",
    "class Dog(Animal):\n",
    "    def make_sound(self):\n",
    "        print(\"The dog barks.\")\n",
    "\n",
    "class Cat(Animal):\n",
    "    def make_sound(self):\n",
    "        print(\"The cat meows.\")\n",
    "\n",
    "dog = Dog()\n",
    "cat = Cat()\n",
    "\n",
    "dog.make_sound()  \n",
    "cat.make_sound() \n",
    "\n",
    "'''In this example, the `Dog` and `Cat` classes override the `make_sound` method inherited from the `Animal` class, providing their own implementations. The appropriate implementation is executed at runtime based on the object's class.\n",
    "\n",
    "**Duck Typing**:\n",
    "- Duck typing is a concept in Python that emphasizes the behavior of an object rather than its type.\n",
    "- In duck typing, an object is considered suitable for a particular operation if it has the necessary methods and properties, regardless of its class.\n",
    "- This allows objects of different classes to be used interchangeably as long as they have the required methods and properties.\n",
    "\n",
    "Example of duck typing in Python:\n",
    "```python'''\n",
    "class Duck:\n",
    "    def quack(self):\n",
    "        print(\"Quack!\")\n",
    "\n",
    "    def fly(self):\n",
    "        print(\"I'm flying!\")\n",
    "\n",
    "class Person:\n",
    "    def quack(self):\n",
    "        print(\"The person imitates a duck.\")\n",
    "\n",
    "    def fly(self):\n",
    "        print(\"The person flaps their arms!\")\n",
    "\n",
    "def in_the_pond(duck):\n",
    "    duck.quack()\n",
    "    duck.fly()\n",
    "\n",
    "duck = Duck()\n",
    "person = Person()\n",
    "\n",
    "in_the_pond(duck) \n",
    "in_the_pond(person)\n",
    "'''In this example, the `in_the_pond` function expects an object with `quack` and `fly` methods. Both the `Duck` and `Person` classes have these methods, so they can be used interchangeably with the `in_the_pond` function.\n",
    "\n",
    "In summary, while Python does not have true compile-time polymorphism, it supports runtime polymorphism through method overriding and duck typing. The appropriate method implementation is determined at runtime based on the object's class and its behavior.'''\n",
    "\n"
   ]
  },
  {
   "cell_type": "code",
   "execution_count": 8,
   "id": "4b7af8f1-0510-44b0-8867-094707a0c97d",
   "metadata": {},
   "outputs": [],
   "source": [
    "class Shapes:\n",
    "    def area(self):\n",
    "        pass\n",
    "class circle(Shapes):\n",
    "    def __init__(self, radius):\n",
    "        self.radius = radius\n",
    "    def area(self):\n",
    "        return f\"here your circle's area {3.14*self.radius**2}.\"\n",
    "class triangle(Shapes):\n",
    "    def __init__(self, height, base):\n",
    "        self.height = height\n",
    "        self.base = base\n",
    "    def area(self):\n",
    "        return f\"here your triangle's area {1/2*self.base*self.height}.\"\n",
    "class sruare(Shapes):\n",
    "    def __init__(self, length):\n",
    "        self.length = length\n",
    "    def area(self):\n",
    "        return f\"here your square's area {self.length**2}.\""
   ]
  },
  {
   "cell_type": "code",
   "execution_count": 9,
   "id": "96868bc4-19d3-46f8-ab3e-ae1c048c122f",
   "metadata": {},
   "outputs": [],
   "source": [
    "anik = circle(50)"
   ]
  },
  {
   "cell_type": "code",
   "execution_count": 10,
   "id": "8c8a148c-a430-4b5a-81b5-68668f6dd14f",
   "metadata": {},
   "outputs": [
    {
     "data": {
      "text/plain": [
       "\"here your circle's area 7850.0.\""
      ]
     },
     "execution_count": 10,
     "metadata": {},
     "output_type": "execute_result"
    }
   ],
   "source": [
    "anik.area()"
   ]
  },
  {
   "cell_type": "code",
   "execution_count": 1,
   "id": "456bd0b3-5988-404e-8b2d-f19c5453c4be",
   "metadata": {},
   "outputs": [
    {
     "name": "stdout",
     "output_type": "stream",
     "text": [
      "Bark\n",
      "Meow\n",
      "Bark\n",
      "Meow\n"
     ]
    },
    {
     "data": {
      "text/plain": [
       "'### Explanation of the Example:\\n\\n1. **Superclass**: The `Animal` class defines a method `make_sound()` that returns a generic animal sound.\\n\\n2. **Subclasses**: The `Dog` and `Cat` classes inherit from the `Animal` class and override the `make_sound()` method to provide specific sounds for dogs and cats, respectively.\\n\\n3. **Method Calls**: When the `make_sound()` method is called on the `dog` and `cat` instances, the overridden methods in the `Dog` and `Cat` classes are executed, returning \"Bark\" and \"Meow\".\\n\\n4. **Polymorphism**: The last part of the example demonstrates polymorphism. A list of `Animal` objects is created, containing instances of `Dog` and `Cat`. When the `make_sound()` method is called in a loop, the appropriate method for each object is executed, showcasing how the same method call can result in different behaviors based on the object’s type.\\n\\n### Conclusion\\n\\nMethod overriding is a powerful feature of polymorphism that allows subclasses to provide specific implementations for methods defined in their superclasses. This contributes to more flexible and maintainable code, enabling developers to work with objects in a more abstract and generalized way while still allowing for specific behaviors as needed.'"
      ]
     },
     "execution_count": 1,
     "metadata": {},
     "output_type": "execute_result"
    }
   ],
   "source": [
    "'''Method overriding is a key concept in polymorphism, particularly in object-oriented programming (OOP). It occurs when a subclass provides a specific implementation of a method that is already defined in its superclass. This allows the subclass to tailor the behavior of the inherited method to fit its specific needs.\n",
    "\n",
    "### Key Points about Method Overriding:\n",
    "\n",
    "1. **Inheritance**: Method overriding is only possible in the context of inheritance. A subclass inherits methods from its superclass and can override them to provide a different implementation.\n",
    "\n",
    "2. **Same Method Signature**: The method in the subclass must have the same name, return type, and parameters as the method in the superclass.\n",
    "\n",
    "3. **Dynamic Method Resolution**: The method that gets executed is determined at runtime based on the object’s type, not the reference type. This is a form of runtime polymorphism.\n",
    "\n",
    "4. **Flexibility**: Method overriding allows for more flexible and reusable code, as subclasses can modify or extend the behavior of inherited methods without changing the superclass.\n",
    "\n",
    "### Example of Method Overriding\n",
    "\n",
    "Here’s an example that demonstrates method overriding in Python:\n",
    "\n",
    "```python'''\n",
    "class Animal:\n",
    "    def make_sound(self):\n",
    "        return \"Some generic animal sound\"\n",
    "\n",
    "class Dog(Animal):\n",
    "    def make_sound(self):\n",
    "        return \"Bark\"\n",
    "\n",
    "class Cat(Animal):\n",
    "    def make_sound(self):\n",
    "        return \"Meow\"\n",
    "\n",
    "\n",
    "dog = Dog()\n",
    "cat = Cat()\n",
    "\n",
    "\n",
    "print(dog.make_sound()) \n",
    "print(cat.make_sound()) \n",
    "\n",
    "\n",
    "animals = [dog, cat]\n",
    "for animal in animals:\n",
    "    print(animal.make_sound()) \n",
    "\n",
    "\n",
    "'''### Explanation of the Example:\n",
    "\n",
    "1. **Superclass**: The `Animal` class defines a method `make_sound()` that returns a generic animal sound.\n",
    "\n",
    "2. **Subclasses**: The `Dog` and `Cat` classes inherit from the `Animal` class and override the `make_sound()` method to provide specific sounds for dogs and cats, respectively.\n",
    "\n",
    "3. **Method Calls**: When the `make_sound()` method is called on the `dog` and `cat` instances, the overridden methods in the `Dog` and `Cat` classes are executed, returning \"Bark\" and \"Meow\".\n",
    "\n",
    "4. **Polymorphism**: The last part of the example demonstrates polymorphism. A list of `Animal` objects is created, containing instances of `Dog` and `Cat`. When the `make_sound()` method is called in a loop, the appropriate method for each object is executed, showcasing how the same method call can result in different behaviors based on the object’s type.\n",
    "\n",
    "### Conclusion\n",
    "\n",
    "Method overriding is a powerful feature of polymorphism that allows subclasses to provide specific implementations for methods defined in their superclasses. This contributes to more flexible and maintainable code, enabling developers to work with objects in a more abstract and generalized way while still allowing for specific behaviors as needed.'''"
   ]
  },
  {
   "cell_type": "code",
   "execution_count": 2,
   "id": "d039ee6f-d8cf-4c81-98b3-6e7c92ca94a9",
   "metadata": {},
   "outputs": [
    {
     "name": "stdout",
     "output_type": "stream",
     "text": [
      "Bark\n",
      "Meow\n",
      "5\n",
      "9\n"
     ]
    },
    {
     "data": {
      "text/plain": [
       "'In this example, the `add` method can take either two or three arguments. If only two arguments are provided, the third argument defaults to zero. This allows for a form of method overloading based on the number of arguments.\\n\\n### Summary of Differences\\n- **Polymorphism** allows methods to be defined in different classes with the same name and functionality, enabling a unified interface for different types of objects.\\n- **Method Overloading** allows multiple methods with the same name within the same class, differentiated by their parameters. Python does not support traditional method overloading natively, but similar behavior can be achieved using default parameters or variable-length arguments.\\n\\nIn conclusion, while polymorphism and method overloading serve to enhance flexibility and usability in programming, they operate in different contexts and ways. Polymorphism is about the ability of different classes to be treated as instances of the same class through a common interface, while method overloading is about defining multiple methods with the same name but different signatures within the same class.'"
      ]
     },
     "execution_count": 2,
     "metadata": {},
     "output_type": "execute_result"
    }
   ],
   "source": [
    "'''Polymorphism and method overloading are both important concepts in object-oriented programming, but they refer to different mechanisms and functionalities.\n",
    "\n",
    "### Polymorphism\n",
    "Polymorphism allows objects of different classes to be treated as objects of a common superclass. It enables a single interface to control access to a general class of actions, allowing different classes to define their own specific behaviors while sharing the same interface.\n",
    "\n",
    "#### Example of Polymorphism:\n",
    "In Python, polymorphism is often achieved through method overriding in inheritance. Here’s an example:\n",
    "\n",
    "```python'''\n",
    "class Animal:\n",
    "    def make_sound(self):\n",
    "        return \"Some generic sound\"\n",
    "\n",
    "class Dog(Animal):\n",
    "    def make_sound(self):\n",
    "        return \"Bark\"\n",
    "\n",
    "class Cat(Animal):\n",
    "    def make_sound(self):\n",
    "        return \"Meow\"\n",
    "\n",
    "\n",
    "def animal_sound(animal):\n",
    "    print(animal.make_sound())\n",
    "\n",
    "\n",
    "dog = Dog()\n",
    "cat = Cat()\n",
    "\n",
    "animal_sound(dog)  \n",
    "animal_sound(cat)  \n",
    "\n",
    "\n",
    "'''In this example, both `Dog` and `Cat` classes override the `make_sound` method from the `Animal` class. The `animal_sound` function can accept any object that is an instance of `Animal` or its subclasses, demonstrating polymorphism.\n",
    "\n",
    "### Method Overloading\n",
    "Method overloading, on the other hand, allows a class to have multiple methods with the same name but different parameters (different type or number of parameters). This feature is not natively supported in Python as it is in some other languages like Java or C++. In Python, if you define a method with the same name multiple times, the last defined method will override the previous ones.\n",
    "\n",
    "#### Example of Method Overloading (using default parameters):\n",
    "While Python does not support traditional method overloading, you can achieve similar functionality using default parameters or variable-length arguments:\n",
    "\n",
    "```python'''\n",
    "class MathOperations:\n",
    "    def add(self, a, b, c=0):\n",
    "        return a + b + c\n",
    "\n",
    "\n",
    "math_op = MathOperations()\n",
    "\n",
    "print(math_op.add(2, 3))        \n",
    "print(math_op.add(2, 3, 4))    \n",
    "\n",
    "\n",
    "'''In this example, the `add` method can take either two or three arguments. If only two arguments are provided, the third argument defaults to zero. This allows for a form of method overloading based on the number of arguments.\n",
    "\n",
    "### Summary of Differences\n",
    "- **Polymorphism** allows methods to be defined in different classes with the same name and functionality, enabling a unified interface for different types of objects.\n",
    "- **Method Overloading** allows multiple methods with the same name within the same class, differentiated by their parameters. Python does not support traditional method overloading natively, but similar behavior can be achieved using default parameters or variable-length arguments.\n",
    "\n",
    "In conclusion, while polymorphism and method overloading serve to enhance flexibility and usability in programming, they operate in different contexts and ways. Polymorphism is about the ability of different classes to be treated as instances of the same class through a common interface, while method overloading is about defining multiple methods with the same name but different signatures within the same class.'''\n",
    "\n"
   ]
  },
  {
   "cell_type": "code",
   "execution_count": 3,
   "id": "ca281b7a-b86b-4c36-be9b-afdf1a16c5d7",
   "metadata": {},
   "outputs": [],
   "source": [
    "class Animal:\n",
    "    def speak(self):\n",
    "        pass\n",
    "class Dog(Animal):\n",
    "    def speak(self):\n",
    "        print(\"bhaw bhaw\")\n",
    "class cat(Animal):\n",
    "    def speak(self):\n",
    "        print(\"mew mew\")\n",
    "class Brid(Animal):\n",
    "    def speak(self):\n",
    "        print(\"sqrew sqrew\")"
   ]
  },
  {
   "cell_type": "code",
   "execution_count": 4,
   "id": "2a9f305e-2cba-4518-82a4-101968063b00",
   "metadata": {},
   "outputs": [],
   "source": [
    "anik = cat()"
   ]
  },
  {
   "cell_type": "code",
   "execution_count": 5,
   "id": "8f2f48e1-45ee-43f4-a888-f5af97ade26f",
   "metadata": {},
   "outputs": [
    {
     "name": "stdout",
     "output_type": "stream",
     "text": [
      "mew mew\n"
     ]
    }
   ],
   "source": [
    "anik.speak()"
   ]
  },
  {
   "cell_type": "code",
   "execution_count": 7,
   "id": "c868628d-67c3-48c5-8a89-301825531c01",
   "metadata": {},
   "outputs": [
    {
     "ename": "NameError",
     "evalue": "name 'ABC' is not defined",
     "output_type": "error",
     "traceback": [
      "\u001b[0;31m---------------------------------------------------------------------------\u001b[0m",
      "\u001b[0;31mNameError\u001b[0m                                 Traceback (most recent call last)",
      "Cell \u001b[0;32mIn[7], line 19\u001b[0m\n\u001b[1;32m      1\u001b[0m \u001b[38;5;124;03m'''Abstract methods and classes are essential concepts in achieving polymorphism in Python, particularly when using the `abc` (Abstract Base Classes) module. An abstract class serves as a blueprint for other classes, defining a common interface while allowing subclasses to provide specific implementations for abstract methods.\u001b[39;00m\n\u001b[1;32m      2\u001b[0m \n\u001b[1;32m      3\u001b[0m \u001b[38;5;124;03m### Key Concepts\u001b[39;00m\n\u001b[0;32m   (...)\u001b[0m\n\u001b[1;32m     15\u001b[0m \u001b[38;5;124;03m```python\u001b[39;00m\n\u001b[1;32m     16\u001b[0m \u001b[38;5;124;03mfrom abc import ABC, abstractmethod'''\u001b[39;00m\n\u001b[0;32m---> 19\u001b[0m \u001b[38;5;28;01mclass\u001b[39;00m \u001b[38;5;21;01mShape\u001b[39;00m(\u001b[43mABC\u001b[49m):\n\u001b[1;32m     20\u001b[0m     \u001b[38;5;129m@abstractmethod\u001b[39m\n\u001b[1;32m     21\u001b[0m     \u001b[38;5;28;01mdef\u001b[39;00m \u001b[38;5;21marea\u001b[39m(\u001b[38;5;28mself\u001b[39m):\n\u001b[1;32m     22\u001b[0m         \u001b[38;5;28;01mpass\u001b[39;00m\n",
      "\u001b[0;31mNameError\u001b[0m: name 'ABC' is not defined"
     ]
    }
   ],
   "source": [
    "'''Abstract methods and classes are essential concepts in achieving polymorphism in Python, particularly when using the `abc` (Abstract Base Classes) module. An abstract class serves as a blueprint for other classes, defining a common interface while allowing subclasses to provide specific implementations for abstract methods.\n",
    "\n",
    "### Key Concepts\n",
    "\n",
    "1. **Abstract Class**: An abstract class cannot be instantiated directly. It is meant to be subclassed, and it may contain abstract methods that must be implemented by any concrete subclass.\n",
    "\n",
    "2. **Abstract Method**: An abstract method is a method that is declared in an abstract class but does not have an implementation. Subclasses are required to implement these methods.\n",
    "\n",
    "3. **Polymorphism**: By using abstract classes and methods, you can create a common interface for different subclasses. This allows you to treat objects of different classes uniformly, enhancing flexibility and reusability.\n",
    "\n",
    "### Example Using the `abc` Module\n",
    "\n",
    "Here’s an example that demonstrates the use of abstract classes and methods in achieving polymorphism:\n",
    "\n",
    "```python\n",
    "from abc import ABC, abstractmethod'''\n",
    "\n",
    "\n",
    "class Shape(ABC):\n",
    "    @abstractmethod\n",
    "    def area(self):\n",
    "        pass\n",
    "\n",
    "    @abstractmethod\n",
    "    def perimeter(self):\n",
    "        pass\n",
    "\n",
    "\n",
    "class Circle(Shape):\n",
    "    def __init__(self, radius):\n",
    "        self.radius = radius\n",
    "\n",
    "    def area(self):\n",
    "        return 3.14 * (self.radius ** 2)\n",
    "\n",
    "    def perimeter(self):\n",
    "        return 2 * 3.14 * self.radius\n",
    "\n",
    "\n",
    "class Rectangle(Shape):\n",
    "    def __init__(self, width, height):\n",
    "        self.width = width\n",
    "        self.height = height\n",
    "\n",
    "    def area(self):\n",
    "        return self.width * self.height\n",
    "\n",
    "    def perimeter(self):\n",
    "        return 2 * (self.width + self.height)\n",
    "\n",
    "\n",
    "def print_shape_info(shape):\n",
    "    print(f\"Area: {shape.area()}\")\n",
    "    print(f\"Perimeter: {shape.perimeter()}\")\n",
    "\n",
    "\n",
    "circle = Circle(5)\n",
    "rectangle = Rectangle(4, 6)\n",
    "\n",
    "\n",
    "print(\"Circle:\")\n",
    "print_shape_info(circle)\n",
    "\n",
    "print(\"\\nRectangle:\")\n",
    "print_shape_info(rectangle)\n",
    "\n",
    "\n",
    "### Explanation of the Example:\n",
    "\n",
    "'''1. **Abstract Class**: The `Shape` class is defined as an abstract class by inheriting from `ABC`. It contains two abstract methods: `area()` and `perimeter()`. These methods do not have implementations in the `Shape` class.\n",
    "\n",
    "2. **Concrete Subclasses**: The `Circle` and `Rectangle` classes inherit from the `Shape` class and provide specific implementations for the `area()` and `perimeter()` methods.\n",
    "\n",
    "3. **Polymorphism**: The `print_shape_info` function accepts any object that is an instance of `Shape` or its subclasses. This function calls the `area()` and `perimeter()` methods on the `shape` parameter, demonstrating polymorphism. The appropriate method implementations are executed based on the actual object type passed to the function.\n",
    "\n",
    "4. **Output**: When you run the code, it will print the area and perimeter for both the `Circle` and `Rectangle` objects, showcasing how different subclasses can be treated uniformly through their common interface defined by the abstract class.\n",
    "\n",
    "### Conclusion\n",
    "\n",
    "Using abstract classes and methods allows you to define a common interface for a group of related classes, enabling polymorphism in Python. This approach enhances code organization, flexibility, and maintainability, making it easier to manage complex systems where different classes share common behaviors. The `abc` module provides a straightforward way to implement these concepts in Python.'''"
   ]
  },
  {
   "cell_type": "code",
   "execution_count": 1,
   "id": "99c0b664-33cd-470c-9334-24daa021c433",
   "metadata": {},
   "outputs": [],
   "source": [
    "from abc import ABC, abstractmethod\n",
    "class vehicle(ABC):\n",
    "    def __init__(self, name, model):\n",
    "        self.name = name\n",
    "        self.model = model\n",
    "    @abstractmethod\n",
    "    def start(self):\n",
    "        pass\n",
    "class Car(vehicle):\n",
    "    def start(self):\n",
    "        print(f\"Starting the {self.name} {self.model} car.\")\n",
    "class bicycle(vehicle):\n",
    "    def start(self):\n",
    "        print(f\"Pedaling the {self.name} {self.model} bicycle.\")\n",
    "class boat(vehicle):\n",
    "    def start(self):\n",
    "        print(f\"Starting the {self.name} {self.model} boat.\")"
   ]
  },
  {
   "cell_type": "code",
   "execution_count": 3,
   "id": "88db05d5-e963-49ff-bf69-a3b99612a583",
   "metadata": {},
   "outputs": [],
   "source": [
    "anik = Car(\"supra\", \"xr\")"
   ]
  },
  {
   "cell_type": "code",
   "execution_count": 4,
   "id": "1fd9f5ce-248c-40cd-8e72-d25f008b425a",
   "metadata": {},
   "outputs": [],
   "source": [
    "anish = bicycle(\"honda\", \"5t\")\n",
    "anirban = boat(\"ok\", \"don't know\")"
   ]
  },
  {
   "cell_type": "code",
   "execution_count": 5,
   "id": "003f4165-39ce-4cca-b52c-4eb09c2ab86b",
   "metadata": {},
   "outputs": [
    {
     "name": "stdout",
     "output_type": "stream",
     "text": [
      "Starting the supra xr car.\n",
      "Pedaling the honda 5t bicycle.\n",
      "Starting the ok don't know boat.\n"
     ]
    }
   ],
   "source": [
    "anik.start()\n",
    "anish.start()\n",
    "anirban.start()"
   ]
  },
  {
   "cell_type": "code",
   "execution_count": 6,
   "id": "754f5cbf-9589-417a-9da0-0cad7b5dc471",
   "metadata": {},
   "outputs": [
    {
     "name": "stdout",
     "output_type": "stream",
     "text": [
      "Bark\n",
      "Meow\n",
      "True\n",
      "True\n",
      "False\n"
     ]
    },
    {
     "data": {
      "text/plain": [
       "'In this example, `issubclass()` is used to check the relationships between the `Car`, `Bicycle`, and `Vehicle` classes, confirming that `Car` and `Bicycle` are subclasses of `Vehicle`, but `Car` is not a subclass of `Bicycle`.\\n\\n### Conclusion\\n\\nBoth `isinstance()` and `issubclass()` are essential for implementing polymorphism in Python. They provide mechanisms to check the types of objects and their relationships within class hierarchies, enabling developers to write more robust, flexible, and maintainable code. By using these functions, you can ensure that your code behaves correctly based on the types of objects being processed, facilitating polymorphic behavior in your applications.'"
      ]
     },
     "execution_count": 6,
     "metadata": {},
     "output_type": "execute_result"
    }
   ],
   "source": [
    "'''The `isinstance()` and `issubclass()` functions are important tools in Python that help facilitate polymorphism and type checking in object-oriented programming. They allow developers to determine the relationship between classes and instances, which can be crucial for implementing polymorphic behavior effectively.\n",
    "\n",
    "### 1. `isinstance()`\n",
    "\n",
    "The `isinstance()` function checks if an object is an instance of a specified class or a tuple of classes. This function is particularly useful in polymorphism for ensuring that an object is of a certain type before performing operations on it.\n",
    "\n",
    "#### Significance of `isinstance()`:\n",
    "\n",
    "- **Type Safety**: It helps ensure that the methods being called on an object are valid for that object's type, preventing runtime errors.\n",
    "- **Polymorphic Behavior**: It allows you to write functions that can accept different types of objects and behave accordingly based on their type.\n",
    "- **Dynamic Type Checking**: It enables dynamic checking of an object's type at runtime, which is essential in scenarios where the exact type of an object may not be known until execution.\n",
    "\n",
    "#### Example of `isinstance()`:\n",
    "\n",
    "```python'''\n",
    "class Animal:\n",
    "    def make_sound(self):\n",
    "        return \"Some sound\"\n",
    "\n",
    "class Dog(Animal):\n",
    "    def make_sound(self):\n",
    "        return \"Bark\"\n",
    "\n",
    "class Cat(Animal):\n",
    "    def make_sound(self):\n",
    "        return \"Meow\"\n",
    "\n",
    "def animal_sound(animal):\n",
    "    if isinstance(animal, Animal):\n",
    "        print(animal.make_sound())\n",
    "    else:\n",
    "        print(\"Not a valid animal.\")\n",
    "\n",
    "\n",
    "dog = Dog()\n",
    "cat = Cat()\n",
    "animal_sound(dog)  \n",
    "animal_sound(cat)  \n",
    "\n",
    "\n",
    "'''In this example, the `animal_sound` function uses `isinstance()` to check if the passed object is an instance of the `Animal` class before calling the `make_sound()` method.\n",
    "\n",
    "### 2. `issubclass()`\n",
    "\n",
    "The `issubclass()` function checks if a class is a subclass of another class or a tuple of classes. This is particularly useful for determining the inheritance hierarchy and ensuring that a class can be treated as a specific type.\n",
    "\n",
    "#### Significance of `issubclass()`:\n",
    "\n",
    "- **Inheritance Hierarchy**: It helps in understanding and managing the relationships between classes, which is fundamental in polymorphism.\n",
    "- **Type Checking**: It allows for type checking at the class level, which can be useful when implementing functions that are designed to work with specific subclasses.\n",
    "- **Design Patterns**: It is often used in design patterns where behavior is determined based on class hierarchies, such as factory patterns or strategy patterns.\n",
    "\n",
    "#### Example of `issubclass()`:\n",
    "\n",
    "```python'''\n",
    "class Vehicle:\n",
    "    pass\n",
    "\n",
    "class Car(Vehicle):\n",
    "    pass\n",
    "\n",
    "class Bicycle(Vehicle):\n",
    "    pass\n",
    "\n",
    "print(issubclass(Car, Vehicle))      \n",
    "print(issubclass(Bicycle, Vehicle))  \n",
    "print(issubclass(Car, Bicycle))      \n",
    "\n",
    "\n",
    "'''In this example, `issubclass()` is used to check the relationships between the `Car`, `Bicycle`, and `Vehicle` classes, confirming that `Car` and `Bicycle` are subclasses of `Vehicle`, but `Car` is not a subclass of `Bicycle`.\n",
    "\n",
    "### Conclusion\n",
    "\n",
    "Both `isinstance()` and `issubclass()` are essential for implementing polymorphism in Python. They provide mechanisms to check the types of objects and their relationships within class hierarchies, enabling developers to write more robust, flexible, and maintainable code. By using these functions, you can ensure that your code behaves correctly based on the types of objects being processed, facilitating polymorphic behavior in your applications.'''"
   ]
  },
  {
   "cell_type": "code",
   "execution_count": 7,
   "id": "0f7087a2-e264-49b3-aabd-32a8e3c8e551",
   "metadata": {},
   "outputs": [
    {
     "name": "stdout",
     "output_type": "stream",
     "text": [
      "The Dog goes 'Bark' and lives in the Domestic.\n",
      "The Cat goes 'Meow' and lives in the Domestic.\n",
      "The Lion goes 'Roar' and lives in the Savanna.\n"
     ]
    },
    {
     "data": {
      "text/plain": [
       "'1. **Abstract Class**: The `Animal` class is defined as an abstract class by inheriting from `ABC`. It contains two abstract methods: `sound()` and `habitat()`, which must be implemented by any subclass.\\n\\n2. **Concrete Subclasses**: The `Dog`, `Cat`, and `Lion` classes inherit from the `Animal` class and provide specific implementations for the `sound()` and `habitat()` methods.\\n\\n3. **Polymorphic Function**: The `animal_info` function accepts any object that is an instance of `Animal` or its subclasses. It calls the `sound()` and `habitat()` methods on the `animal` parameter, demonstrating polymorphism. The appropriate method implementations are executed based on the actual object type passed to the function.\\n\\n4. **Output**: When you run the code, it prints the sound and habitat for each animal, showcasing how different subclasses can be treated uniformly through their common interface defined by the abstract class.\\n\\n### Conclusion\\n\\nThe `@abstractmethod` decorator plays a vital role in achieving polymorphism in Python by defining a common interface for subclasses. It enforces that subclasses implement specific methods, allowing for flexible and interchangeable use of different subclasses while maintaining a consistent interface. This promotes better code organization, maintainability, and reusability in object-oriented programming.'"
      ]
     },
     "execution_count": 7,
     "metadata": {},
     "output_type": "execute_result"
    }
   ],
   "source": [
    "'''The `@abstractmethod` decorator in Python is a crucial component of abstract base classes (ABCs) that helps achieve polymorphism. It is used to define methods that must be implemented by any subclass that inherits from the abstract class. By enforcing the implementation of these methods in subclasses, the `@abstractmethod` decorator ensures that all derived classes adhere to a common interface, which is essential for polymorphic behavior.\n",
    "\n",
    "### Role of `@abstractmethod` in Achieving Polymorphism\n",
    "\n",
    "1. **Defining a Common Interface**: The `@abstractmethod` decorator allows you to define methods in an abstract class that must be implemented by subclasses. This creates a consistent interface across different subclasses, enabling polymorphism.\n",
    "\n",
    "2. **Preventing Instantiation**: An abstract class containing one or more abstract methods cannot be instantiated. This ensures that only concrete subclasses, which provide implementations for the abstract methods, can be created. This helps maintain the integrity of the design.\n",
    "\n",
    "3. **Enforcing Implementation**: By using the `@abstractmethod` decorator, you enforce that subclasses provide their own specific implementations of the abstract methods. This allows for different behaviors while still adhering to a common interface.\n",
    "\n",
    "4. **Facilitating Polymorphic Behavior**: With a common interface defined by the abstract class, you can write functions or methods that operate on the abstract type, allowing you to handle different subclasses interchangeably.\n",
    "\n",
    "### Example Using the `@abstractmethod` Decorator\n",
    "\n",
    "Here’s an example that demonstrates the use of the `@abstractmethod` decorator in achieving polymorphism:\n",
    "\n",
    "```python'''\n",
    "from abc import ABC, abstractmethod\n",
    "\n",
    "\n",
    "class Animal(ABC):\n",
    "    @abstractmethod\n",
    "    def sound(self):\n",
    "        pass\n",
    "\n",
    "    @abstractmethod\n",
    "    def habitat(self):\n",
    "        pass\n",
    "\n",
    "\n",
    "class Dog(Animal):\n",
    "    def sound(self):\n",
    "        return \"Bark\"\n",
    "\n",
    "    def habitat(self):\n",
    "        return \"Domestic\"\n",
    "\n",
    "\n",
    "class Cat(Animal):\n",
    "    def sound(self):\n",
    "        return \"Meow\"\n",
    "\n",
    "    def habitat(self):\n",
    "        return \"Domestic\"\n",
    "\n",
    "\n",
    "class Lion(Animal):\n",
    "    def sound(self):\n",
    "        return \"Roar\"\n",
    "\n",
    "    def habitat(self):\n",
    "        return \"Savanna\"\n",
    "def animal_info(animal):\n",
    "    print(f\"The {animal.__class__.__name__} goes '{animal.sound()}' and lives in the {animal.habitat()}.\")\n",
    "    \n",
    "\n",
    "dog = Dog()\n",
    "cat = Cat()\n",
    "lion = Lion()\n",
    "\n",
    "\n",
    "animal_info(dog) \n",
    "animal_info(cat)  \n",
    "animal_info(lion)\n",
    "\n",
    "\n",
    "### Explanation of the Example:\n",
    "\n",
    "'''1. **Abstract Class**: The `Animal` class is defined as an abstract class by inheriting from `ABC`. It contains two abstract methods: `sound()` and `habitat()`, which must be implemented by any subclass.\n",
    "\n",
    "2. **Concrete Subclasses**: The `Dog`, `Cat`, and `Lion` classes inherit from the `Animal` class and provide specific implementations for the `sound()` and `habitat()` methods.\n",
    "\n",
    "3. **Polymorphic Function**: The `animal_info` function accepts any object that is an instance of `Animal` or its subclasses. It calls the `sound()` and `habitat()` methods on the `animal` parameter, demonstrating polymorphism. The appropriate method implementations are executed based on the actual object type passed to the function.\n",
    "\n",
    "4. **Output**: When you run the code, it prints the sound and habitat for each animal, showcasing how different subclasses can be treated uniformly through their common interface defined by the abstract class.\n",
    "\n",
    "### Conclusion\n",
    "\n",
    "The `@abstractmethod` decorator plays a vital role in achieving polymorphism in Python by defining a common interface for subclasses. It enforces that subclasses implement specific methods, allowing for flexible and interchangeable use of different subclasses while maintaining a consistent interface. This promotes better code organization, maintainability, and reusability in object-oriented programming.'''\n",
    "\n"
   ]
  },
  {
   "cell_type": "code",
   "execution_count": 8,
   "id": "e444edaa-a8a3-4bf3-bf53-8246eaa47086",
   "metadata": {},
   "outputs": [],
   "source": [
    "from abc import ABC, abstractmethod\n",
    "class Shape(ABC):\n",
    "    def area(self):\n",
    "        pass\n",
    "class circle(Shape):\n",
    "    def __init__(self, radius):\n",
    "        self.radius = radius\n",
    "    def area(self):\n",
    "        print(f\"here's your circle's area {3.14*self.radius**2}.\")\n",
    "class rectangle(Shape):\n",
    "    def __init__(self, length, width):\n",
    "        self.length = length\n",
    "        self.width =  width\n",
    "    def area(self):\n",
    "        print(f\"here's your rectangle's area {self.length*self.width}.\")\n",
    "class triangle(Shape):\n",
    "    def __init__(self, leng, base):\n",
    "        self.leng = leng\n",
    "        self.base = base\n",
    "    def area(self):\n",
    "        print(f\"here's your triangle's area {1/2*self.leng*self.base}.\")"
   ]
  },
  {
   "cell_type": "code",
   "execution_count": 9,
   "id": "4797164f-a115-468c-adf2-67dfc1fb57f6",
   "metadata": {},
   "outputs": [],
   "source": [
    "anik = circle(8)\n",
    "anish = rectangle(10, 45)\n",
    "anirban = triangle(6,8)"
   ]
  },
  {
   "cell_type": "code",
   "execution_count": 10,
   "id": "a08ec211-49b4-4e3c-9b72-c4509cc407f5",
   "metadata": {},
   "outputs": [
    {
     "name": "stdout",
     "output_type": "stream",
     "text": [
      "here's your circle's area 200.96.\n",
      "here's your rectangle's area 450.\n",
      "here's your triangle's area 24.0.\n"
     ]
    }
   ],
   "source": [
    "anik.area()\n",
    "anish.area()\n",
    "anirban.area()"
   ]
  },
  {
   "cell_type": "code",
   "execution_count": 11,
   "id": "86288a64-ea0c-4214-8107-84a09d55fcd4",
   "metadata": {},
   "outputs": [
    {
     "data": {
      "text/plain": [
       "'Polymorphism offers several benefits in terms of code reusability and flexibility when developing Python programs:\\n\\n## Improved Code Reusability\\n\\n- **Polymorphism allows you to write code that can work with objects of different classes** as long as they have the required methods or attributes. This promotes code reuse across different parts of your application.\\n\\n- **By defining a common interface or protocol**, you can write functions or methods that can accept objects of different classes, as long as they adhere to the expected interface. This reduces code duplication and makes your code more generic and reusable.\\n\\n- **Polymorphism enables you to write code that is independent of specific class types**. You can pass objects of different classes to a function or method without needing to know the exact class type of the object. This flexibility allows you to reuse code in different contexts.\\n\\n## Enhanced Flexibility and Extensibility\\n\\n- **Polymorphism makes your code more flexible and extensible**. By defining a common interface, you can add new classes that implement that interface without modifying the existing code that uses the interface.\\n\\n- **You can easily extend your program by adding new classes that conform to the expected interface** without breaking existing code. This promotes flexibility and makes it easier to adapt to changing requirements.\\n\\n- **Polymorphism allows you to write code that can handle objects of different classes in a uniform way**. You can write a single piece of code that can operate on objects of different classes, as long as they provide the expected methods or attributes.\\n\\n- **This flexibility enables you to write more generic and adaptable code that can work with a wide range of objects**, making your programs more robust and easier to maintain.\\n\\n## Improved Maintainability and Testability\\n\\n- **Polymorphism promotes better code organization and maintainability**. By separating the interface from the implementation, you can update or replace the implementation of a class without affecting the code that uses the class, as long as the interface remains the same.\\n\\n- **Polymorphic code is easier to test and debug** because you can test the code that uses the interface independently of the specific class implementations.\\n\\n- **Polymorphism encourages the use of abstract base classes and interfaces**, which provide a clear contract for how objects should behave. This makes your code more explicit and easier to understand, improving maintainability.\\n\\nIn summary, polymorphism enhances code reusability by allowing you to write generic code that can work with objects of different classes, as long as they adhere to a common interface. It also improves flexibility and extensibility by making it easier to add new classes without modifying existing code. Additionally, polymorphism promotes better code organization, maintainability, and testability by separating the interface from the implementation.'"
      ]
     },
     "execution_count": 11,
     "metadata": {},
     "output_type": "execute_result"
    }
   ],
   "source": [
    "'''Polymorphism offers several benefits in terms of code reusability and flexibility when developing Python programs:\n",
    "\n",
    "## Improved Code Reusability\n",
    "\n",
    "- **Polymorphism allows you to write code that can work with objects of different classes** as long as they have the required methods or attributes. This promotes code reuse across different parts of your application.\n",
    "\n",
    "- **By defining a common interface or protocol**, you can write functions or methods that can accept objects of different classes, as long as they adhere to the expected interface. This reduces code duplication and makes your code more generic and reusable.\n",
    "\n",
    "- **Polymorphism enables you to write code that is independent of specific class types**. You can pass objects of different classes to a function or method without needing to know the exact class type of the object. This flexibility allows you to reuse code in different contexts.\n",
    "\n",
    "## Enhanced Flexibility and Extensibility\n",
    "\n",
    "- **Polymorphism makes your code more flexible and extensible**. By defining a common interface, you can add new classes that implement that interface without modifying the existing code that uses the interface.\n",
    "\n",
    "- **You can easily extend your program by adding new classes that conform to the expected interface** without breaking existing code. This promotes flexibility and makes it easier to adapt to changing requirements.\n",
    "\n",
    "- **Polymorphism allows you to write code that can handle objects of different classes in a uniform way**. You can write a single piece of code that can operate on objects of different classes, as long as they provide the expected methods or attributes.\n",
    "\n",
    "- **This flexibility enables you to write more generic and adaptable code that can work with a wide range of objects**, making your programs more robust and easier to maintain.\n",
    "\n",
    "## Improved Maintainability and Testability\n",
    "\n",
    "- **Polymorphism promotes better code organization and maintainability**. By separating the interface from the implementation, you can update or replace the implementation of a class without affecting the code that uses the class, as long as the interface remains the same.\n",
    "\n",
    "- **Polymorphic code is easier to test and debug** because you can test the code that uses the interface independently of the specific class implementations.\n",
    "\n",
    "- **Polymorphism encourages the use of abstract base classes and interfaces**, which provide a clear contract for how objects should behave. This makes your code more explicit and easier to understand, improving maintainability.\n",
    "\n",
    "In summary, polymorphism enhances code reusability by allowing you to write generic code that can work with objects of different classes, as long as they adhere to a common interface. It also improves flexibility and extensibility by making it easier to add new classes without modifying existing code. Additionally, polymorphism promotes better code organization, maintainability, and testability by separating the interface from the implementation.'''\n",
    "\n"
   ]
  },
  {
   "cell_type": "code",
   "execution_count": 12,
   "id": "36176fcb-4caa-41ad-a231-ae637f257ed7",
   "metadata": {},
   "outputs": [
    {
     "name": "stdout",
     "output_type": "stream",
     "text": [
      "Dog says: Some generic animal sound\n",
      "Cat says: Some generic animal sound\n"
     ]
    },
    {
     "data": {
      "text/plain": [
       "'In this example:\\n\\n1. The `Dog` and `Cat` classes override the `make_sound()` method inherited from the `Animal` class.\\n2. Inside the overridden `make_sound()` methods, `super().make_sound()` is called to invoke the `make_sound()` method of the superclass (`Animal`).\\n3. The subclasses extend the behavior of the overridden method by adding their own specific sounds to the result returned by the superclass method.\\n\\nBy using `super()`, the subclasses can reuse the functionality of the `make_sound()` method from the `Animal` class while adding their own specific behavior. This demonstrates how `super()` helps in achieving polymorphism and extending the behavior of inherited methods.\\n\\n### Conclusion\\n\\nThe `super()` function plays a crucial role in Python polymorphism by allowing subclasses to call methods of their parent classes. It enables subclasses to extend or modify the behavior of inherited methods, promoting code reuse and flexibility. By using `super()` in the context of method overriding, subclasses can cooperatively build upon the functionality of their superclasses, leading to more modular and extensible code.'"
      ]
     },
     "execution_count": 12,
     "metadata": {},
     "output_type": "execute_result"
    }
   ],
   "source": [
    "'''In Python, the `super()` function is used to call methods of parent classes, particularly in the context of polymorphism and method overriding. It allows subclasses to invoke methods defined in their superclasses, providing a way to extend or modify the behavior of inherited methods.\n",
    "\n",
    "### Key Points about `super()`\n",
    "\n",
    "1. **Accessing Superclass Methods**: The `super()` function allows subclasses to call methods defined in their superclasses. This is especially useful when overriding methods in subclasses.\n",
    "\n",
    "2. **Polymorphism and Method Overriding**: `super()` is commonly used in polymorphism when subclasses override methods inherited from their superclasses. It enables subclasses to extend or modify the behavior of the overridden methods.\n",
    "\n",
    "3. **Cooperative Multiple Inheritance**: In the case of multiple inheritance, `super()` helps manage the method resolution order (MRO) and allows subclasses to call methods from their parent classes in a cooperative manner.\n",
    "\n",
    "4. **Flexibility and Code Reuse**: By using `super()`, subclasses can reuse and extend the functionality of methods defined in their superclasses, promoting code reuse and flexibility.\n",
    "\n",
    "### Example of Using `super()` in Polymorphism\n",
    "\n",
    "Let's consider an example where we have a base class `Animal` and two subclasses `Dog` and `Cat` that override the `make_sound()` method. We'll use `super()` to call the `make_sound()` method of the superclass in the subclasses.\n",
    "\n",
    "```python'''\n",
    "class Animal:\n",
    "    def make_sound(self):\n",
    "        return \"Some generic animal sound\"\n",
    "\n",
    "class Dog(Animal):\n",
    "    def make_sound(self):\n",
    "        sound = super().make_sound()\n",
    "        return f\"Dog says: {sound}\"\n",
    "\n",
    "class Cat(Animal):\n",
    "    def make_sound(self):\n",
    "        sound = super().make_sound()\n",
    "        return f\"Cat says: {sound}\"\n",
    "\n",
    "\n",
    "dog = Dog()\n",
    "cat = Cat()\n",
    "\n",
    "\n",
    "print(dog.make_sound())  \n",
    "print(cat.make_sound())  \n",
    "\n",
    "\n",
    "'''In this example:\n",
    "\n",
    "1. The `Dog` and `Cat` classes override the `make_sound()` method inherited from the `Animal` class.\n",
    "2. Inside the overridden `make_sound()` methods, `super().make_sound()` is called to invoke the `make_sound()` method of the superclass (`Animal`).\n",
    "3. The subclasses extend the behavior of the overridden method by adding their own specific sounds to the result returned by the superclass method.\n",
    "\n",
    "By using `super()`, the subclasses can reuse the functionality of the `make_sound()` method from the `Animal` class while adding their own specific behavior. This demonstrates how `super()` helps in achieving polymorphism and extending the behavior of inherited methods.\n",
    "\n",
    "### Conclusion\n",
    "\n",
    "The `super()` function plays a crucial role in Python polymorphism by allowing subclasses to call methods of their parent classes. It enables subclasses to extend or modify the behavior of inherited methods, promoting code reuse and flexibility. By using `super()` in the context of method overriding, subclasses can cooperatively build upon the functionality of their superclasses, leading to more modular and extensible code.'''"
   ]
  },
  {
   "cell_type": "code",
   "execution_count": 13,
   "id": "650a3ed9-1616-4b38-96c2-b31e59005f9b",
   "metadata": {},
   "outputs": [
    {
     "name": "stdout",
     "output_type": "stream",
     "text": [
      "Account Number: S12345, Balance: $1000.00\n",
      "Account Number: C12345, Balance: $500.00\n",
      "Deposited: $200.00. New balance: $1200.00\n",
      "Applied interest: $24.00. New balance: $1224.00\n",
      "Withdrew: $600.00. New balance: $-100.00\n",
      "Insufficient funds or invalid withdrawal amount.\n"
     ]
    }
   ],
   "source": [
    "class BankAccount:\n",
    "    def __init__(self, account_number, balance=0):\n",
    "        self.account_number = account_number\n",
    "        self.balance = balance\n",
    "\n",
    "    def deposit(self, amount):\n",
    "        if amount > 0:\n",
    "            self.balance += amount\n",
    "            print(f\"Deposited: ${amount:.2f}. New balance: ${self.balance:.2f}\")\n",
    "        else:\n",
    "            print(\"Deposit amount must be positive.\")\n",
    "\n",
    "    def withdraw(self, amount):\n",
    "        if amount > 0 and amount <= self.balance:\n",
    "            self.balance -= amount\n",
    "            print(f\"Withdrew: ${amount:.2f}. New balance: ${self.balance:.2f}\")\n",
    "        else:\n",
    "            print(\"Insufficient funds or invalid withdrawal amount.\")\n",
    "\n",
    "    def get_balance(self):\n",
    "        return self.balance\n",
    "\n",
    "    def __str__(self):\n",
    "        return f\"Account Number: {self.account_number}, Balance: ${self.balance:.2f}\"\n",
    "\n",
    "\n",
    "class SavingsAccount(BankAccount):\n",
    "    def __init__(self, account_number, balance=0, interest_rate=0.01):\n",
    "        super().__init__(account_number, balance)\n",
    "        self.interest_rate = interest_rate\n",
    "\n",
    "    def apply_interest(self):\n",
    "        interest = self.balance * self.interest_rate\n",
    "        self.balance += interest\n",
    "        print(f\"Applied interest: ${interest:.2f}. New balance: ${self.balance:.2f}\")\n",
    "\n",
    "\n",
    "class CheckingAccount(BankAccount):\n",
    "    def __init__(self, account_number, balance=0, overdraft_limit=0):\n",
    "        super().__init__(account_number, balance)\n",
    "        self.overdraft_limit = overdraft_limit\n",
    "\n",
    "    def withdraw(self, amount):\n",
    "        if amount > 0 and (amount <= self.balance + self.overdraft_limit):\n",
    "            self.balance -= amount\n",
    "            print(f\"Withdrew: ${amount:.2f}. New balance: ${self.balance:.2f}\")\n",
    "        else:\n",
    "            print(\"Insufficient funds or invalid withdrawal amount.\")\n",
    "\n",
    "\n",
    "\n",
    "savings = SavingsAccount(\"S12345\", 1000, 0.02)\n",
    "checking = CheckingAccount(\"C12345\", 500, 200)\n",
    "\n",
    "print(savings) \n",
    "print(checking)  \n",
    "\n",
    "savings.deposit(200)\n",
    "savings.apply_interest() \n",
    "\n",
    "checking.withdraw(600) \n",
    "checking.withdraw(150)  \n"
   ]
  },
  {
   "cell_type": "code",
   "execution_count": 14,
   "id": "6db46daf-8c66-4545-ac06-8344c742f55e",
   "metadata": {},
   "outputs": [
    {
     "name": "stdout",
     "output_type": "stream",
     "text": [
      "(1, 2)\n",
      "(3, 4)\n",
      "(4, 6)\n",
      "(8, 12)\n"
     ]
    },
    {
     "data": {
      "text/plain": [
       "'In this example:\\n\\n1. The `Vector2D` class defines the `__add__` and `__mul__` methods to overload the `+` and `*` operators, respectively.\\n2. The `__add__` method takes two `Vector2D` objects and returns a new `Vector2D` object with the sum of their `x` and `y` coordinates.\\n3. The `__mul__` method takes a `Vector2D` object and a scalar value, and returns a new `Vector2D` object with the coordinates multiplied by the scalar.\\n4. The `__str__` method is overloaded to provide a string representation of the `Vector2D` object.\\n5. The example usage demonstrates how the overloaded operators can be used with `Vector2D` objects to perform addition and scalar multiplication.\\n\\n### Polymorphism and Operator Overloading\\n\\nOperator overloading is closely related to polymorphism because it allows operators to behave differently based on the types of operands involved. When an operator is used with objects of different classes, the appropriate implementation of the operator overloading method is called, enabling polymorphic behavior.\\n\\nFor example, when you use the `+` operator with two `Vector2D` objects, the `__add__` method is called, performing vector addition. However, if you use the `+` operator with a `Vector2D` object and an integer, the `__add__` method may interpret it as adding a scalar value to each coordinate of the vector.\\n\\nOperator overloading, combined with polymorphism, allows you to create classes that can be used in a natural and intuitive way, making your code more expressive and easier to understand.\\n\\n### Conclusion\\n\\nOperator overloading in Python is a powerful feature that allows you to define how operators behave with objects of your own classes. By overloading operators, you can make your classes more intuitive and user-friendly, promoting code readability and reusability. Operator overloading is closely related to polymorphism because it enables operators to behave differently based on the types of operands involved, allowing for more flexible and expressive code.'"
      ]
     },
     "execution_count": 14,
     "metadata": {},
     "output_type": "execute_result"
    }
   ],
   "source": [
    "'''Operator overloading in Python is a feature that allows you to define how operators (+, -, *, /, etc.) work with objects of your own classes. It enables you to make your classes more intuitive and user-friendly by providing a natural way to interact with objects using familiar operators. Operator overloading is closely related to polymorphism because it allows operators to behave differently depending on the types of operands involved.\n",
    "\n",
    "### Implementing Operator Overloading\n",
    "\n",
    "To overload an operator in Python, you need to define special methods in your class that correspond to the operator you want to overload. These methods have a specific naming convention and are called when the corresponding operator is used with objects of your class.\n",
    "\n",
    "Here are some examples of common operator overloading methods:\n",
    "\n",
    "- `__add__(self, other)`: Overloads the `+` operator for addition\n",
    "- `__sub__(self, other)`: Overloads the `-` operator for subtraction\n",
    "- `__mul__(self, other)`: Overloads the `*` operator for multiplication\n",
    "- `__truediv__(self, other)`: Overloads the `/` operator for division\n",
    "- `__len__(self)`: Overloads the `len()` function to return the length of an object\n",
    "\n",
    "### Example: Overloading the `+` and `*` Operators\n",
    "\n",
    "Let's consider a simple example of overloading the `+` and `*` operators for a `Vector2D` class:\n",
    "\n",
    "```python'''\n",
    "class Vector2D:\n",
    "    def __init__(self, x, y):\n",
    "        self.x = x\n",
    "        self.y = y\n",
    "\n",
    "    def __add__(self, other):\n",
    "        return Vector2D(self.x + other.x, self.y + other.y)\n",
    "\n",
    "    def __mul__(self, scalar):\n",
    "        return Vector2D(self.x * scalar, self.y * scalar)\n",
    "\n",
    "    def __str__(self):\n",
    "        return f\"({self.x}, {self.y})\"\n",
    "\n",
    "\n",
    "v1 = Vector2D(1, 2)\n",
    "v2 = Vector2D(3, 4)\n",
    "\n",
    "\n",
    "v3 = v1 + v2\n",
    "v4 = v3 * 2\n",
    "\n",
    "print(v1)  \n",
    "print(v2)  \n",
    "print(v3) \n",
    "print(v4)  \n",
    "\n",
    "\n",
    "'''In this example:\n",
    "\n",
    "1. The `Vector2D` class defines the `__add__` and `__mul__` methods to overload the `+` and `*` operators, respectively.\n",
    "2. The `__add__` method takes two `Vector2D` objects and returns a new `Vector2D` object with the sum of their `x` and `y` coordinates.\n",
    "3. The `__mul__` method takes a `Vector2D` object and a scalar value, and returns a new `Vector2D` object with the coordinates multiplied by the scalar.\n",
    "4. The `__str__` method is overloaded to provide a string representation of the `Vector2D` object.\n",
    "5. The example usage demonstrates how the overloaded operators can be used with `Vector2D` objects to perform addition and scalar multiplication.\n",
    "\n",
    "### Polymorphism and Operator Overloading\n",
    "\n",
    "Operator overloading is closely related to polymorphism because it allows operators to behave differently based on the types of operands involved. When an operator is used with objects of different classes, the appropriate implementation of the operator overloading method is called, enabling polymorphic behavior.\n",
    "\n",
    "For example, when you use the `+` operator with two `Vector2D` objects, the `__add__` method is called, performing vector addition. However, if you use the `+` operator with a `Vector2D` object and an integer, the `__add__` method may interpret it as adding a scalar value to each coordinate of the vector.\n",
    "\n",
    "Operator overloading, combined with polymorphism, allows you to create classes that can be used in a natural and intuitive way, making your code more expressive and easier to understand.\n",
    "\n",
    "### Conclusion\n",
    "\n",
    "Operator overloading in Python is a powerful feature that allows you to define how operators behave with objects of your own classes. By overloading operators, you can make your classes more intuitive and user-friendly, promoting code readability and reusability. Operator overloading is closely related to polymorphism because it enables operators to behave differently based on the types of operands involved, allowing for more flexible and expressive code.'''"
   ]
  },
  {
   "cell_type": "code",
   "execution_count": 15,
   "id": "a76bfbe9-9469-4617-ad99-0663969e4e58",
   "metadata": {},
   "outputs": [
    {
     "name": "stdout",
     "output_type": "stream",
     "text": [
      "Bark\n",
      "Meow\n"
     ]
    },
    {
     "data": {
      "text/plain": [
       "'1. **Base Class**: The `Animal` class defines a method `speak()` that returns a generic sound.\\n\\n2. **Subclasses**: The `Dog` and `Cat` classes inherit from `Animal` and override the `speak()` method to provide specific sounds for dogs and cats, respectively.\\n\\n3. **Dynamic Polymorphism**: The `animal_sound` function accepts an object of type `Animal`. When the function is called with different objects (a `Dog` and a `Cat`), the appropriate `speak()` method is invoked based on the actual object type at runtime. This demonstrates dynamic polymorphism, as the same function can operate on different types of objects.\\n\\n### Benefits of Dynamic Polymorphism\\n\\n- **Code Reusability**: You can write functions that operate on a common interface, allowing for code reuse across different classes.\\n  \\n- **Flexibility**: New subclasses can be added without modifying existing code, as long as they adhere to the common interface.\\n\\n- **Maintainability**: The code is easier to maintain because the logic for handling different types is centralized in functions that use the common interface.\\n\\n### Conclusion\\n\\nDynamic polymorphism is a powerful feature in Python that enhances the flexibility and reusability of code. By allowing methods to be overridden in subclasses and determining the method to call at runtime, dynamic polymorphism enables developers to write more generic and adaptable code. This concept is fundamental to object-oriented programming and is widely used in various applications to create robust and maintainable systems.'"
      ]
     },
     "execution_count": 15,
     "metadata": {},
     "output_type": "execute_result"
    }
   ],
   "source": [
    "'''Dynamic polymorphism is a core concept in object-oriented programming that allows methods to be invoked on objects of different classes at runtime, enabling a single interface to represent different underlying forms. In Python, dynamic polymorphism is primarily achieved through method overriding and the use of inheritance.\n",
    "\n",
    "### Key Features of Dynamic Polymorphism\n",
    "\n",
    "1. **Method Overriding**: In dynamic polymorphism, subclasses can provide specific implementations of methods that are defined in their parent classes. When a method is called on an object, the appropriate method implementation is determined at runtime based on the object's class.\n",
    "\n",
    "2. **Inheritance**: Dynamic polymorphism relies on the inheritance mechanism, where a subclass inherits methods from its superclass. This allows for the creation of a common interface while enabling different behaviors in subclasses.\n",
    "\n",
    "3. **Late Binding**: The decision about which method to invoke is made at runtime, which is referred to as late binding. This allows for more flexible and reusable code since the exact method to be called can depend on the object's type at runtime.\n",
    "\n",
    "### Example of Dynamic Polymorphism in Python\n",
    "\n",
    "Here’s an example that demonstrates dynamic polymorphism through method overriding:\n",
    "\n",
    "```python'''\n",
    "class Animal:\n",
    "    def speak(self):\n",
    "        return \"Some sound\"\n",
    "\n",
    "class Dog(Animal):\n",
    "    def speak(self):\n",
    "        return \"Bark\"\n",
    "\n",
    "class Cat(Animal):\n",
    "    def speak(self):\n",
    "        return \"Meow\"\n",
    "\n",
    "\n",
    "def animal_sound(animal):\n",
    "    print(animal.speak())\n",
    "\n",
    "\n",
    "dog = Dog()\n",
    "cat = Cat()\n",
    "\n",
    "\n",
    "animal_sound(dog) \n",
    "animal_sound(cat)  \n",
    "\n",
    "### Explanation of the Example:\n",
    "\n",
    "'''1. **Base Class**: The `Animal` class defines a method `speak()` that returns a generic sound.\n",
    "\n",
    "2. **Subclasses**: The `Dog` and `Cat` classes inherit from `Animal` and override the `speak()` method to provide specific sounds for dogs and cats, respectively.\n",
    "\n",
    "3. **Dynamic Polymorphism**: The `animal_sound` function accepts an object of type `Animal`. When the function is called with different objects (a `Dog` and a `Cat`), the appropriate `speak()` method is invoked based on the actual object type at runtime. This demonstrates dynamic polymorphism, as the same function can operate on different types of objects.\n",
    "\n",
    "### Benefits of Dynamic Polymorphism\n",
    "\n",
    "- **Code Reusability**: You can write functions that operate on a common interface, allowing for code reuse across different classes.\n",
    "  \n",
    "- **Flexibility**: New subclasses can be added without modifying existing code, as long as they adhere to the common interface.\n",
    "\n",
    "- **Maintainability**: The code is easier to maintain because the logic for handling different types is centralized in functions that use the common interface.\n",
    "\n",
    "### Conclusion\n",
    "\n",
    "Dynamic polymorphism is a powerful feature in Python that enhances the flexibility and reusability of code. By allowing methods to be overridden in subclasses and determining the method to call at runtime, dynamic polymorphism enables developers to write more generic and adaptable code. This concept is fundamental to object-oriented programming and is widely used in various applications to create robust and maintainable systems.'''\n",
    "\n"
   ]
  },
  {
   "cell_type": "code",
   "execution_count": 16,
   "id": "68e3cc9d-da96-4546-a955-641308556fdf",
   "metadata": {},
   "outputs": [
    {
     "name": "stdout",
     "output_type": "stream",
     "text": [
      "John Doe - Salary: $6000.00\n",
      "Jane Smith - Salary: $5000.00\n",
      "Bob Johnson - Salary: $4000.00\n"
     ]
    }
   ],
   "source": [
    "class Employee:\n",
    "    def __init__(self, name, salary_per_month):\n",
    "        self.name = name\n",
    "        self.salary_per_month = salary_per_month\n",
    "\n",
    "    def calculate_salary(self):\n",
    "        return self.salary_per_month\n",
    "\n",
    "    def __str__(self):\n",
    "        return f\"{self.name} - Salary: ${self.calculate_salary():.2f}\"\n",
    "\n",
    "class Manager(Employee):\n",
    "    def __init__(self, name, salary_per_month, bonus):\n",
    "        super().__init__(name, salary_per_month)\n",
    "        self.bonus = bonus\n",
    "\n",
    "    def calculate_salary(self):\n",
    "        base_salary = super().calculate_salary()\n",
    "        return base_salary + self.bonus\n",
    "\n",
    "class Developer(Employee):\n",
    "    def __init__(self, name, salary_per_month, overtime_hours, overtime_rate):\n",
    "        super().__init__(name, salary_per_month)\n",
    "        self.overtime_hours = overtime_hours\n",
    "        self.overtime_rate = overtime_rate\n",
    "\n",
    "    def calculate_salary(self):\n",
    "        base_salary = super().calculate_salary()\n",
    "        overtime_pay = self.overtime_hours * self.overtime_rate\n",
    "        return base_salary + overtime_pay\n",
    "\n",
    "class Designer(Employee):\n",
    "    def __init__(self, name, salary_per_month, commission):\n",
    "        super().__init__(name, salary_per_month)\n",
    "        self.commission = commission\n",
    "\n",
    "    def calculate_salary(self):\n",
    "        base_salary = super().calculate_salary()\n",
    "        return base_salary + self.commission\n",
    "\n",
    "\n",
    "manager = Manager(\"John Doe\", 5000, 1000)\n",
    "developer = Developer(\"Jane Smith\", 4000, 20, 50)\n",
    "designer = Designer(\"Bob Johnson\", 3500, 500)\n",
    "\n",
    "employees = [manager, developer, designer]\n",
    "\n",
    "for employee in employees:\n",
    "    print(employee)\n",
    "\n",
    "\n"
   ]
  },
  {
   "cell_type": "code",
   "execution_count": 1,
   "id": "cf6e4c07-0661-4e5c-97f1-9f08801f0582",
   "metadata": {},
   "outputs": [
    {
     "name": "stdout",
     "output_type": "stream",
     "text": [
      "8\n",
      "2\n",
      "15\n",
      "Cannot divide by zero\n"
     ]
    },
    {
     "data": {
      "text/plain": [
       "'1. **Function Definitions**: Four functions (`add`, `subtract`, `multiply`, `divide`) are defined to perform basic arithmetic operations.\\n\\n2. **Function Mapping**: A dictionary named `operations` maps operation names (as strings) to their corresponding function references. This allows for easy lookup of the appropriate function based on the operation specified.\\n\\n3. **Dynamic Dispatch**: The `calculate` function takes an operation name and two numbers as arguments. It retrieves the corresponding function from the `operations` dictionary and calls it. If the operation is not valid, it returns an error message.\\n\\n4. **Polymorphic Behavior**: The `calculate` function demonstrates polymorphism by allowing different operations to be performed using the same interface. The specific function that gets executed is determined at runtime based on the provided operation name.\\n\\n### Conclusion\\n\\nIn Python, the concept of function pointers is realized through first-class functions and callable objects. By using function references, you can achieve polymorphism, allowing different implementations to be selected at runtime based on context. This approach promotes flexibility and reusability in your code, making it easier to manage and extend functionality without tightly coupling components.'"
      ]
     },
     "execution_count": 1,
     "metadata": {},
     "output_type": "execute_result"
    }
   ],
   "source": [
    "'''In Python, the concept of function pointers is somewhat different from languages like C or C++, where function pointers are explicitly used to store addresses of functions. In Python, functions are first-class objects, meaning they can be passed around as arguments, returned from other functions, and assigned to variables. This capability allows for a form of polymorphism that can be achieved through function references or callable objects.\n",
    "\n",
    "### Key Concepts\n",
    "\n",
    "1. **First-Class Functions**: In Python, functions are treated as first-class citizens. This means you can assign functions to variables, store them in data structures, and pass them as arguments to other functions.\n",
    "\n",
    "2. **Callable Objects**: Any object that implements the `__call__` method can be treated as a function. This includes instances of classes that define the `__call__` method, allowing for polymorphic behavior.\n",
    "\n",
    "3. **Dynamic Dispatch**: By using function references, you can achieve dynamic dispatch, where the function to be executed is determined at runtime based on the context or the type of the input.\n",
    "\n",
    "### Achieving Polymorphism with Function References\n",
    "\n",
    "You can use function references to achieve polymorphism by defining different functions (or methods) that perform similar operations but with different implementations. You can then select which function to call based on the context.\n",
    "\n",
    "#### Example: Using Function References for Polymorphism\n",
    "\n",
    "Here’s an example that demonstrates how to use function references to achieve polymorphism in Python:\n",
    "\n",
    "```python'''\n",
    "def add(x, y):\n",
    "    return x + y\n",
    "\n",
    "def subtract(x, y):\n",
    "    return x - y\n",
    "\n",
    "def multiply(x, y):\n",
    "    return x * y\n",
    "\n",
    "def divide(x, y):\n",
    "    if y != 0:\n",
    "        return x / y\n",
    "    else:\n",
    "        return \"Cannot divide by zero\"\n",
    "\n",
    "\n",
    "operations = {\n",
    "    'add': add,\n",
    "    'subtract': subtract,\n",
    "    'multiply': multiply,\n",
    "    'divide': divide\n",
    "}\n",
    "\n",
    "def calculate(operation, x, y):\n",
    "    func = operations.get(operation)\n",
    "    if func:\n",
    "        return func(x, y)\n",
    "    else:\n",
    "        return \"Invalid operation\"\n",
    "\n",
    "\n",
    "print(calculate('add', 5, 3))        \n",
    "print(calculate('subtract', 5, 3))  \n",
    "print(calculate('multiply', 5, 3))   \n",
    "print(calculate('divide', 5, 0))     \n",
    "\n",
    "\n",
    "### Explanation of the Example:\n",
    "\n",
    "'''1. **Function Definitions**: Four functions (`add`, `subtract`, `multiply`, `divide`) are defined to perform basic arithmetic operations.\n",
    "\n",
    "2. **Function Mapping**: A dictionary named `operations` maps operation names (as strings) to their corresponding function references. This allows for easy lookup of the appropriate function based on the operation specified.\n",
    "\n",
    "3. **Dynamic Dispatch**: The `calculate` function takes an operation name and two numbers as arguments. It retrieves the corresponding function from the `operations` dictionary and calls it. If the operation is not valid, it returns an error message.\n",
    "\n",
    "4. **Polymorphic Behavior**: The `calculate` function demonstrates polymorphism by allowing different operations to be performed using the same interface. The specific function that gets executed is determined at runtime based on the provided operation name.\n",
    "\n",
    "### Conclusion\n",
    "\n",
    "In Python, the concept of function pointers is realized through first-class functions and callable objects. By using function references, you can achieve polymorphism, allowing different implementations to be selected at runtime based on context. This approach promotes flexibility and reusability in your code, making it easier to manage and extend functionality without tightly coupling components.'''"
   ]
  },
  {
   "cell_type": "code",
   "execution_count": 1,
   "id": "e912b984-4993-4679-af84-719c1d0ee67a",
   "metadata": {},
   "outputs": [
    {
     "name": "stdout",
     "output_type": "stream",
     "text": [
      "Bark\n",
      "Meow\n",
      "78.5\n",
      "16\n"
     ]
    },
    {
     "data": {
      "text/plain": [
       "'#Comparison Between Abstract Classes and Interfaces\\n\\n| Feature                  | Abstract Classes                       | Interfaces                              |\\n|--------------------------|---------------------------------------|-----------------------------------------|\\n| Instantiation            | Cannot be instantiated directly       | Cannot be instantiated directly         |\\n| Method Implementation     | Can have both abstract and concrete methods | Only abstract methods                   |\\n| Inheritance              | Supports inheritance and can include concrete methods | Typically used for defining a contract  |\\n| Use Case                 | To provide a base class with shared functionality | To enforce a contract for implementing classes |\\n| Flexibility              | More flexible due to concrete methods  | Strictly defines the interface          |\\n\\n### Role in Polymorphism\\n\\n- **Common Interface**: Both abstract classes and interfaces define a common interface that allows different subclasses to be treated as instances of the same type, enabling polymorphism.\\n  \\n- **Method Overriding**: Subclasses can override the methods defined in abstract classes or interfaces, providing specific implementations while adhering to the defined interface.\\n\\n- **Code Reusability**: They promote code reusability by allowing the same interface to be used across different classes, making it easier to extend and maintain the codebase.\\n\\n### Conclusion\\n\\nIn summary, abstract classes and interfaces are fundamental to implementing polymorphism in Python. They provide a structured way to define common behavior while allowing for flexibility in implementation. By using abstract classes and interfaces, developers can create more maintainable and extensible code, ensuring that different classes can be used interchangeably while adhering to a consistent interface. This enhances the overall design and functionality of the software.'"
      ]
     },
     "execution_count": 1,
     "metadata": {},
     "output_type": "execute_result"
    }
   ],
   "source": [
    "'''The concepts of interfaces and abstract classes play a significant role in achieving polymorphism in Python. Both serve as blueprints for creating classes that share a common interface, allowing different implementations while ensuring that certain methods are defined. Here’s a detailed comparison of the two concepts and their implications for polymorphism.\n",
    "\n",
    "### Abstract Classes\n",
    "\n",
    "1. **Definition**: An abstract class is a class that cannot be instantiated on its own and must be subclassed. It can contain both abstract methods (which have no implementation) and concrete methods (which do have implementation).\n",
    "\n",
    "2. **Purpose**: The primary purpose of an abstract class is to provide a common interface for its subclasses. It allows you to define methods that must be created within any child classes built from the abstract class.\n",
    "\n",
    "3. **Implementation**: In Python, abstract classes are created using the `abc` module, which provides the `ABC` class and the `@abstractmethod` decorator.\n",
    "\n",
    "4. **Example**:\n",
    "   ```python'''\n",
    "from abc import ABC, abstractmethod\n",
    "\n",
    "class Animal(ABC):\n",
    "    @abstractmethod\n",
    "    def sound(self):\n",
    "        pass\n",
    "\n",
    "class Dog(Animal):\n",
    "    def sound(self):\n",
    "        return \"Bark\"\n",
    "\n",
    "class Cat(Animal):\n",
    "    def sound(self):\n",
    "        return \"Meow\"\n",
    "\n",
    "\n",
    "animals = [Dog(), Cat()]\n",
    "for animal in animals:\n",
    "    print(animal.sound())  \n",
    "   \n",
    "\n",
    "\n",
    "\n",
    "'''1. **Definition**: In Python, an interface is typically represented as an abstract class that contains only abstract methods. It defines a contract for what methods a class must implement, without providing any implementation.\n",
    "\n",
    "2. **Purpose**: The purpose of an interface is to ensure that different classes adhere to the same method signatures, allowing them to be used interchangeably.\n",
    "\n",
    "3. **Implementation**: While Python does not have a formal interface keyword like some other languages (e.g., Java), you can achieve the same effect by using abstract classes with only abstract methods.\n",
    "\n",
    "4. **Example**:\n",
    "   ```python'''\n",
    "from abc import ABC, abstractmethod\n",
    "\n",
    "class Shape(ABC):\n",
    "    @abstractmethod\n",
    "    def area(self):\n",
    "        pass\n",
    "\n",
    "class Circle(Shape):\n",
    "    def __init__(self, radius):\n",
    "        self.radius = radius\n",
    "\n",
    "    def area(self):\n",
    "        return 3.14 * (self.radius ** 2)\n",
    "\n",
    "class Square(Shape):\n",
    "    def __init__(self, side):\n",
    "        self.side = side\n",
    "\n",
    "    def area(self):\n",
    "        return self.side ** 2\n",
    "\n",
    "\n",
    "shapes = [Circle(5), Square(4)]\n",
    "for shape in shapes:\n",
    "    print(shape.area()) \n",
    "   \n",
    "\n",
    "'''#Comparison Between Abstract Classes and Interfaces\n",
    "\n",
    "| Feature                  | Abstract Classes                       | Interfaces                              |\n",
    "|--------------------------|---------------------------------------|-----------------------------------------|\n",
    "| Instantiation            | Cannot be instantiated directly       | Cannot be instantiated directly         |\n",
    "| Method Implementation     | Can have both abstract and concrete methods | Only abstract methods                   |\n",
    "| Inheritance              | Supports inheritance and can include concrete methods | Typically used for defining a contract  |\n",
    "| Use Case                 | To provide a base class with shared functionality | To enforce a contract for implementing classes |\n",
    "| Flexibility              | More flexible due to concrete methods  | Strictly defines the interface          |\n",
    "\n",
    "### Role in Polymorphism\n",
    "\n",
    "- **Common Interface**: Both abstract classes and interfaces define a common interface that allows different subclasses to be treated as instances of the same type, enabling polymorphism.\n",
    "  \n",
    "- **Method Overriding**: Subclasses can override the methods defined in abstract classes or interfaces, providing specific implementations while adhering to the defined interface.\n",
    "\n",
    "- **Code Reusability**: They promote code reusability by allowing the same interface to be used across different classes, making it easier to extend and maintain the codebase.\n",
    "\n",
    "### Conclusion\n",
    "\n",
    "In summary, abstract classes and interfaces are fundamental to implementing polymorphism in Python. They provide a structured way to define common behavior while allowing for flexibility in implementation. By using abstract classes and interfaces, developers can create more maintainable and extensible code, ensuring that different classes can be used interchangeably while adhering to a consistent interface. This enhances the overall design and functionality of the software.'''\n",
    "\n"
   ]
  },
  {
   "cell_type": "code",
   "execution_count": 4,
   "id": "526037fc-344d-4229-9f8c-28e06ae2d48c",
   "metadata": {},
   "outputs": [
    {
     "name": "stdout",
     "output_type": "stream",
     "text": [
      "Simba the Lion is eating.\n",
      "Simba the Lion is sleeping.\n",
      "Simba the Lion makes a loud roar.\n",
      "Polly the Parrot is eating.\n",
      "Polly the Parrot is sleeping.\n",
      "Polly the Parrot chirps.\n",
      "Slinky the Snake is eating.\n",
      "Slinky the Snake is sleeping.\n",
      "Slinky the Snake hisses.\n"
     ]
    }
   ],
   "source": [
    "class Animal:\n",
    "    def __init__(self, name, species):\n",
    "        self.name = name\n",
    "        self.species = species\n",
    "\n",
    "    def eat(self):\n",
    "        print(f\"{self.name} the {self.species} is eating.\")\n",
    "\n",
    "    def sleep(self):\n",
    "        print(f\"{self.name} the {self.species} is sleeping.\")\n",
    "\n",
    "    def make_sound(self):\n",
    "        print(f\"{self.name} the {self.species} makes a sound.\")\n",
    "\n",
    "\n",
    "class Mammal(Animal):\n",
    "    def __init__(self, name, species):\n",
    "        super().__init__(name, species)\n",
    "\n",
    "    def make_sound(self):\n",
    "        print(f\"{self.name} the {self.species} makes a loud roar.\")\n",
    "\n",
    "\n",
    "class Bird(Animal):\n",
    "    def __init__(self, name, species):\n",
    "        super().__init__(name, species)\n",
    "\n",
    "    def make_sound(self):\n",
    "        print(f\"{self.name} the {self.species} chirps.\")\n",
    "\n",
    "\n",
    "class Reptile(Animal):\n",
    "    def __init__(self, name, species):\n",
    "        super().__init__(name, species)\n",
    "\n",
    "    def make_sound(self):\n",
    "        print(f\"{self.name} the {self.species} hisses.\")\n",
    "\n",
    "\n",
    "\n",
    "lion = Mammal(\"Simba\", \"Lion\")\n",
    "parrot = Bird(\"Polly\", \"Parrot\")\n",
    "snake = Reptile(\"Slinky\", \"Snake\")\n",
    "\n",
    "\n",
    "animals = [lion, parrot, snake]\n",
    "\n",
    "for animal in animals:\n",
    "    animal.eat()\n",
    "    animal.sleep()\n",
    "    animal.make_sound()"
   ]
  },
  {
   "cell_type": "code",
   "execution_count": 5,
   "id": "15d6b109-f098-4cd0-982b-2ce2a882ede9",
   "metadata": {},
   "outputs": [
    {
     "name": "stdout",
     "output_type": "stream",
     "text": [
      "Area: 78.5, Perimeter: 31.400000000000002\n",
      "Area: 24, Perimeter: 20\n"
     ]
    },
    {
     "data": {
      "text/plain": [
       "'1. **Abstract Class**: The `Shape` class is defined as an abstract class using the `ABC` module. It contains abstract methods `area()` and `perimeter()` that must be implemented by any subclass.\\n\\n2. **Concrete Classes**: The `Circle` and `Rectangle` classes inherit from `Shape` and provide specific implementations for the `area()` and `perimeter()` methods.\\n\\n3. **Polymorphism**: The `shapes` list contains different types of shapes. The loop iterates over the list and calls the `area()` and `perimeter()` methods on each shape object, demonstrating polymorphism. Each shape responds according to its specific implementation.\\n\\n### Conclusion\\n\\nAbstraction in Python is a powerful concept that facilitates the design of flexible and maintainable object-oriented systems. By defining common interfaces and hiding implementation details, abstraction promotes code reusability and enables polymorphism, allowing different classes to be treated uniformly. This enhances the overall structure and organization of the code, making it easier to manage and extend.'"
      ]
     },
     "execution_count": 5,
     "metadata": {},
     "output_type": "execute_result"
    }
   ],
   "source": [
    "'''Abstraction in Python is a fundamental concept in object-oriented programming (OOP) that allows you to define a common interface for a group of related classes while hiding the implementation details. It enables developers to focus on the high-level functionality of their code without needing to understand the underlying complexities.\n",
    "\n",
    "### Key Aspects of Abstraction\n",
    "\n",
    "1. **Defining Interfaces**: Abstraction allows you to define methods that must be implemented by any subclass, creating a contract for the behavior of those subclasses. This is typically done using abstract classes and the `@abstractmethod` decorator from the `abc` module.\n",
    "\n",
    "2. **Hiding Implementation Details**: By using abstraction, you can hide the complexity of the implementation from the user. This means that users can interact with objects through a defined interface without needing to know how those objects work internally.\n",
    "\n",
    "3. **Promoting Code Reusability**: Abstraction encourages the reuse of code by allowing different classes to implement the same interface. This makes it easier to extend and maintain code, as new classes can be added without changing the existing code that relies on the abstract interface.\n",
    "\n",
    "4. **Facilitating Polymorphism**: Abstraction is closely related to polymorphism, as it allows different classes to be treated as instances of the same class through a common interface. This means that a function or method can operate on objects of different types as long as they implement the required methods.\n",
    "\n",
    "### Example of Abstraction in Python\n",
    "\n",
    "Here’s an example that demonstrates abstraction using an abstract class:\n",
    "\n",
    "```python'''\n",
    "from abc import ABC, abstractmethod\n",
    "\n",
    "class Shape(ABC):\n",
    "    @abstractmethod\n",
    "    def area(self):\n",
    "        pass\n",
    "\n",
    "    @abstractmethod\n",
    "    def perimeter(self):\n",
    "        pass\n",
    "\n",
    "class Circle(Shape):\n",
    "    def __init__(self, radius):\n",
    "        self.radius = radius\n",
    "\n",
    "    def area(self):\n",
    "        return 3.14 * (self.radius ** 2)\n",
    "\n",
    "    def perimeter(self):\n",
    "        return 2 * 3.14 * self.radius\n",
    "\n",
    "class Rectangle(Shape):\n",
    "    def __init__(self, width, height):\n",
    "        self.width = width\n",
    "        self.height = height\n",
    "\n",
    "    def area(self):\n",
    "        return self.width * self.height\n",
    "\n",
    "    def perimeter(self):\n",
    "        return 2 * (self.width + self.height)\n",
    "\n",
    "\n",
    "shapes = [Circle(5), Rectangle(4, 6)]\n",
    "\n",
    "for shape in shapes:\n",
    "    print(f\"Area: {shape.area()}, Perimeter: {shape.perimeter()}\")\n",
    "\n",
    "### Explanation of the Example:\n",
    "\n",
    "'''1. **Abstract Class**: The `Shape` class is defined as an abstract class using the `ABC` module. It contains abstract methods `area()` and `perimeter()` that must be implemented by any subclass.\n",
    "\n",
    "2. **Concrete Classes**: The `Circle` and `Rectangle` classes inherit from `Shape` and provide specific implementations for the `area()` and `perimeter()` methods.\n",
    "\n",
    "3. **Polymorphism**: The `shapes` list contains different types of shapes. The loop iterates over the list and calls the `area()` and `perimeter()` methods on each shape object, demonstrating polymorphism. Each shape responds according to its specific implementation.\n",
    "\n",
    "### Conclusion\n",
    "\n",
    "Abstraction in Python is a powerful concept that facilitates the design of flexible and maintainable object-oriented systems. By defining common interfaces and hiding implementation details, abstraction promotes code reusability and enables polymorphism, allowing different classes to be treated uniformly. This enhances the overall structure and organization of the code, making it easier to manage and extend.'''\n",
    "\n"
   ]
  },
  {
   "cell_type": "code",
   "execution_count": 6,
   "id": "0f066410-a498-45eb-a87f-3e9fcc3555de",
   "metadata": {},
   "outputs": [
    {
     "data": {
      "text/plain": [
       "'Abstraction offers several key benefits in terms of code organization and complexity reduction:\\n\\n## Improved Code Organization\\n\\n- **Abstraction promotes better code organization** by allowing you to group related functionality into abstract classes or interfaces. This creates a clear separation of concerns and makes the code easier to navigate and understand.\\n\\n- **By defining a common interface**, abstract classes and interfaces enable the creation of modular and reusable components. This encourages a more structured and organized codebase.\\n\\n- **Abstraction helps manage complexity** by breaking down a system into smaller, more manageable parts. Each part can be developed and tested independently, leading to better organization and maintainability.\\n\\n## Reduced Code Complexity\\n\\n- **Abstraction hides implementation details** and exposes only the essential features of an object or system. This simplifies the code by reducing the amount of low-level implementation details that developers need to be concerned with.\\n\\n- **By focusing on the high-level design** and functionality, abstraction allows developers to work with more intuitive and easier-to-understand concepts. This leads to a reduction in cognitive load and makes the code less complex to comprehend.\\n\\n- **Abstraction encourages the use of well-defined interfaces**, which act as contracts between different parts of the system. This promotes loose coupling and reduces the interdependencies between components, leading to a less complex and more manageable codebase.\\n\\n## Improved Maintainability and Extensibility\\n\\n- **Abstraction makes the code more maintainable** by encapsulating the implementation details within abstract classes or interfaces. Changes to the underlying implementation can be made without affecting the code that depends on the abstract interface.\\n\\n- **Abstract classes and interfaces provide a stable contract** that can be relied upon by other parts of the system. This allows for easier maintenance and reduces the likelihood of breaking existing functionality when making changes.\\n\\n- **Abstraction enables the addition of new functionality** without modifying the existing code. By defining abstract methods or interfaces, new concrete implementations can be added as needed, making the code more extensible and adaptable to changing requirements.\\n\\n## Easier Testing and Debugging\\n\\n- **Abstraction facilitates testing** by allowing developers to test the code against the abstract interface rather than the specific implementation. This makes the tests more robust and less prone to breaking when the implementation changes.\\n\\n- **By hiding implementation details**, abstraction makes it easier to identify and fix bugs. Developers can focus on the high-level behavior and use the abstract interface to isolate and reproduce issues.\\n\\n- **Abstraction enables the use of mock objects** during testing, which can simulate the behavior of concrete implementations. This allows for more targeted and efficient testing of the code that depends on abstract interfaces.\\n\\nIn summary, abstraction plays a crucial role in organizing code, reducing complexity, improving maintainability, and facilitating testing and debugging. By defining clear interfaces and hiding implementation details, abstraction helps create more modular, extensible, and manageable codebases.'"
      ]
     },
     "execution_count": 6,
     "metadata": {},
     "output_type": "execute_result"
    }
   ],
   "source": [
    "'''Abstraction offers several key benefits in terms of code organization and complexity reduction:\n",
    "\n",
    "## Improved Code Organization\n",
    "\n",
    "- **Abstraction promotes better code organization** by allowing you to group related functionality into abstract classes or interfaces. This creates a clear separation of concerns and makes the code easier to navigate and understand.\n",
    "\n",
    "- **By defining a common interface**, abstract classes and interfaces enable the creation of modular and reusable components. This encourages a more structured and organized codebase.\n",
    "\n",
    "- **Abstraction helps manage complexity** by breaking down a system into smaller, more manageable parts. Each part can be developed and tested independently, leading to better organization and maintainability.\n",
    "\n",
    "## Reduced Code Complexity\n",
    "\n",
    "- **Abstraction hides implementation details** and exposes only the essential features of an object or system. This simplifies the code by reducing the amount of low-level implementation details that developers need to be concerned with.\n",
    "\n",
    "- **By focusing on the high-level design** and functionality, abstraction allows developers to work with more intuitive and easier-to-understand concepts. This leads to a reduction in cognitive load and makes the code less complex to comprehend.\n",
    "\n",
    "- **Abstraction encourages the use of well-defined interfaces**, which act as contracts between different parts of the system. This promotes loose coupling and reduces the interdependencies between components, leading to a less complex and more manageable codebase.\n",
    "\n",
    "## Improved Maintainability and Extensibility\n",
    "\n",
    "- **Abstraction makes the code more maintainable** by encapsulating the implementation details within abstract classes or interfaces. Changes to the underlying implementation can be made without affecting the code that depends on the abstract interface.\n",
    "\n",
    "- **Abstract classes and interfaces provide a stable contract** that can be relied upon by other parts of the system. This allows for easier maintenance and reduces the likelihood of breaking existing functionality when making changes.\n",
    "\n",
    "- **Abstraction enables the addition of new functionality** without modifying the existing code. By defining abstract methods or interfaces, new concrete implementations can be added as needed, making the code more extensible and adaptable to changing requirements.\n",
    "\n",
    "## Easier Testing and Debugging\n",
    "\n",
    "- **Abstraction facilitates testing** by allowing developers to test the code against the abstract interface rather than the specific implementation. This makes the tests more robust and less prone to breaking when the implementation changes.\n",
    "\n",
    "- **By hiding implementation details**, abstraction makes it easier to identify and fix bugs. Developers can focus on the high-level behavior and use the abstract interface to isolate and reproduce issues.\n",
    "\n",
    "- **Abstraction enables the use of mock objects** during testing, which can simulate the behavior of concrete implementations. This allows for more targeted and efficient testing of the code that depends on abstract interfaces.\n",
    "\n",
    "In summary, abstraction plays a crucial role in organizing code, reducing complexity, improving maintainability, and facilitating testing and debugging. By defining clear interfaces and hiding implementation details, abstraction helps create more modular, extensible, and manageable codebases.'''\n",
    "\n"
   ]
  },
  {
   "cell_type": "code",
   "execution_count": 7,
   "id": "aa8c1647-2254-42c4-bd88-fb7663a827cd",
   "metadata": {},
   "outputs": [
    {
     "name": "stdout",
     "output_type": "stream",
     "text": [
      "Area: 78.5, Perimeter: 31.400000000000002\n",
      "Area: 24, Perimeter: 20\n"
     ]
    }
   ],
   "source": [
    "from abc import ABC, abstractmethod\n",
    "\n",
    "class Shape(ABC):\n",
    "    @abstractmethod\n",
    "    def area(self):\n",
    "        pass\n",
    "\n",
    "    @abstractmethod\n",
    "    def perimeter(self):\n",
    "        pass\n",
    "\n",
    "class Circle(Shape):\n",
    "    def __init__(self, radius):\n",
    "        self.radius = radius\n",
    "\n",
    "    def area(self):\n",
    "        return 3.14 * (self.radius ** 2)\n",
    "\n",
    "    def perimeter(self):\n",
    "        return 2 * 3.14 * self.radius\n",
    "\n",
    "class Rectangle(Shape):\n",
    "    def __init__(self, width, height):\n",
    "        self.width = width\n",
    "        self.height = height\n",
    "\n",
    "    def area(self):\n",
    "        return self.width * self.height\n",
    "\n",
    "    def perimeter(self):\n",
    "        return 2 * (self.width + self.height)\n",
    "\n",
    "\n",
    "shapes = [Circle(5), Rectangle(4, 6)]\n",
    "\n",
    "for shape in shapes:\n",
    "    \n",
    "    print(f\"Area: {shape.area()}, Perimeter: {shape.perimeter()}\")"
   ]
  },
  {
   "cell_type": "code",
   "execution_count": 8,
   "id": "bc934643-f693-48a3-a36a-e9bd7334a340",
   "metadata": {},
   "outputs": [
    {
     "name": "stdout",
     "output_type": "stream",
     "text": [
      "78.5\n",
      "31.400000000000002\n",
      "24\n",
      "20\n"
     ]
    },
    {
     "data": {
      "text/plain": [
       "'### Explanation of the Example:\\n\\n1. **Abstract Class Definition**: The `Shape` class is defined as an abstract class by inheriting from `ABC`. It contains two abstract methods: `area()` and `perimeter()`. These methods do not have implementations in the `Shape` class.\\n\\n2. **Concrete Subclasses**: The `Circle` and `Rectangle` classes inherit from the `Shape` class and provide specific implementations for the `area()` and `perimeter()` methods.\\n\\n3. **Attempting to Create an Instance of the Abstract Class**: Uncomment the line `shape = Shape()` to see the error message. Abstract classes cannot be instantiated directly.\\n\\n4. **Creating Instances of Concrete Subclasses**: Instances of `Circle` and `Rectangle` are created successfully because they are concrete subclasses that implement all the abstract methods.\\n\\n5. **Calling Methods on Concrete Instances**: The `area()` and `perimeter()` methods are called on the `circle` and `rectangle` objects, demonstrating the specific implementations provided by each subclass.\\n\\n### Key Points about Abstract Classes in Python:\\n\\n1. **Abstract classes are defined by inheriting from the `ABC` class** from the `abc` module.\\n2. **Abstract methods are defined using the `@abstractmethod` decorator**.\\n3. **Abstract classes cannot be instantiated directly**.\\n4. **Subclasses must implement all abstract methods** to be considered concrete classes.\\n5. **Abstract classes can also contain concrete methods** and attributes.\\n\\nAbstract classes provide a way to define a common interface for related classes while allowing subclasses to provide their own implementations. They promote code reuse, extensibility, and maintainability by enforcing a consistent structure across subclasses.'"
      ]
     },
     "execution_count": 8,
     "metadata": {},
     "output_type": "execute_result"
    }
   ],
   "source": [
    "'''In Python, abstract classes are a way to define a blueprint for other classes to follow. They serve as a template for creating objects, specifying the methods and attributes that must be present in any concrete subclass. Abstract classes cannot be instantiated directly; they must be subclassed.\n",
    "\n",
    "Abstract classes are defined using the `abc` (Abstract Base Class) module in Python. The `abc` module provides the `ABC` class and the `@abstractmethod` decorator to create abstract classes and methods.\n",
    "\n",
    "Here's an example that demonstrates the use of abstract classes in Python:\n",
    "\n",
    "```python'''\n",
    "from abc import ABC, abstractmethod\n",
    "\n",
    "\n",
    "class Shape(ABC):\n",
    "    @abstractmethod\n",
    "    def area(self):\n",
    "        pass\n",
    "\n",
    "    @abstractmethod\n",
    "    def perimeter(self):\n",
    "        pass\n",
    "\n",
    "\n",
    "class Circle(Shape):\n",
    "    def __init__(self, radius):\n",
    "        self.radius = radius\n",
    "\n",
    "    def area(self):\n",
    "        return 3.14 * (self.radius ** 2)\n",
    "\n",
    "    def perimeter(self):\n",
    "        return 2 * 3.14 * self.radius\n",
    "\n",
    "\n",
    "class Rectangle(Shape):\n",
    "    def __init__(self, width, height):\n",
    "        self.width = width\n",
    "        self.height = height\n",
    "\n",
    "    def area(self):\n",
    "        return self.width * self.height\n",
    "\n",
    "    def perimeter(self):\n",
    "        return 2 * (self.width + self.height)\n",
    "\n",
    "\n",
    "circle = Circle(5)\n",
    "rectangle = Rectangle(4, 6)\n",
    "\n",
    "\n",
    "print(circle.area())    \n",
    "print(circle.perimeter()) \n",
    "print(rectangle.area())   \n",
    "print(rectangle.perimeter())\n",
    "\n",
    "\n",
    "'''### Explanation of the Example:\n",
    "\n",
    "1. **Abstract Class Definition**: The `Shape` class is defined as an abstract class by inheriting from `ABC`. It contains two abstract methods: `area()` and `perimeter()`. These methods do not have implementations in the `Shape` class.\n",
    "\n",
    "2. **Concrete Subclasses**: The `Circle` and `Rectangle` classes inherit from the `Shape` class and provide specific implementations for the `area()` and `perimeter()` methods.\n",
    "\n",
    "3. **Attempting to Create an Instance of the Abstract Class**: Uncomment the line `shape = Shape()` to see the error message. Abstract classes cannot be instantiated directly.\n",
    "\n",
    "4. **Creating Instances of Concrete Subclasses**: Instances of `Circle` and `Rectangle` are created successfully because they are concrete subclasses that implement all the abstract methods.\n",
    "\n",
    "5. **Calling Methods on Concrete Instances**: The `area()` and `perimeter()` methods are called on the `circle` and `rectangle` objects, demonstrating the specific implementations provided by each subclass.\n",
    "\n",
    "### Key Points about Abstract Classes in Python:\n",
    "\n",
    "1. **Abstract classes are defined by inheriting from the `ABC` class** from the `abc` module.\n",
    "2. **Abstract methods are defined using the `@abstractmethod` decorator**.\n",
    "3. **Abstract classes cannot be instantiated directly**.\n",
    "4. **Subclasses must implement all abstract methods** to be considered concrete classes.\n",
    "5. **Abstract classes can also contain concrete methods** and attributes.\n",
    "\n",
    "Abstract classes provide a way to define a common interface for related classes while allowing subclasses to provide their own implementations. They promote code reuse, extensibility, and maintainability by enforcing a consistent structure across subclasses.'''"
   ]
  },
  {
   "cell_type": "code",
   "execution_count": 9,
   "id": "4b93c281-81d1-49dd-932f-0d5819b64b9a",
   "metadata": {},
   "outputs": [
    {
     "name": "stdout",
     "output_type": "stream",
     "text": [
      "Bark\n",
      "Meow\n"
     ]
    }
   ],
   "source": [
    "'''Abstract classes in Python are a fundamental concept in object-oriented programming that serve as blueprints for creating other classes. They differ from regular classes in several key ways, particularly in their purpose, instantiation, and the enforcement of method implementations. Here’s a detailed discussion on how abstract classes differ from regular classes and their use cases.\n",
    "\n",
    "### Differences Between Abstract Classes and Regular Classes\n",
    "\n",
    "1. **Instantiation**:\n",
    "   - **Abstract Classes**: Cannot be instantiated directly. Attempting to create an instance of an abstract class will raise a `TypeError`. This restriction ensures that the abstract class serves only as a template for its subclasses.\n",
    "   - **Regular Classes**: Can be instantiated freely. You can create objects directly from regular classes without any restrictions.\n",
    "\n",
    "2. **Method Implementation**:\n",
    "   - **Abstract Classes**: Contain one or more abstract methods, which are declared but not implemented. These methods must be implemented by any concrete subclass. This enforces a contract that subclasses must adhere to.\n",
    "   - **Regular Classes**: Can have fully implemented methods, and there are no requirements for subclasses to implement any specific methods unless explicitly defined.\n",
    "\n",
    "3. **Purpose**:\n",
    "   - **Abstract Classes**: Serve as a blueprint for other classes, defining a common interface and ensuring that all subclasses implement specific methods. They are used to enforce a specific structure and behavior across related classes.\n",
    "   - **Regular Classes**: Serve as standalone classes that can encapsulate data and behavior without the need for enforcing a common interface.\n",
    "\n",
    "4. **Documentation and Clarity**:\n",
    "   - **Abstract Classes**: Provide clear documentation of the expected behavior of subclasses. They specify which methods must be implemented, making it easier for developers to understand the intended use of the class hierarchy.\n",
    "   - **Regular Classes**: May not provide the same level of clarity regarding expected methods and behaviors, as they do not enforce any specific interface.\n",
    "\n",
    "### Use Cases for Abstract Classes\n",
    "\n",
    "1. **Defining Interfaces**:\n",
    "   - Abstract classes are ideal for defining interfaces in complex systems where multiple subclasses need to adhere to a common set of methods. For example, in a graphics application, you might have an abstract class `Shape` that defines methods like `draw()` and `area()`, ensuring that all shape types implement these methods.\n",
    "\n",
    "2. **Enforcing Method Implementation**:\n",
    "   - When you want to ensure that certain methods are implemented in all subclasses, abstract classes are the right choice. This is particularly useful in frameworks or libraries where you want to enforce a contract on how classes should behave.\n",
    "\n",
    "3. **Providing Shared Functionality**:\n",
    "   - Abstract classes can provide some default implementation for methods, allowing subclasses to inherit common functionality while still enforcing the implementation of specific methods. This promotes code reuse and reduces duplication.\n",
    "\n",
    "4. **Facilitating Polymorphism**:\n",
    "   - Abstract classes enable polymorphism by allowing different subclasses to be treated uniformly through a common interface. This is useful in scenarios where you want to write code that can operate on objects of different types without knowing their specific implementations.\n",
    "\n",
    "### Example of Abstract Class in Python\n",
    "\n",
    "Here’s a simple example demonstrating an abstract class in Python:\n",
    "\n",
    "```python'''\n",
    "from abc import ABC, abstractmethod\n",
    "\n",
    "class Animal(ABC):\n",
    "    @abstractmethod\n",
    "    def sound(self):\n",
    "        pass\n",
    "\n",
    "class Dog(Animal):\n",
    "    def sound(self):\n",
    "        return \"Bark\"\n",
    "\n",
    "class Cat(Animal):\n",
    "    def sound(self):\n",
    "        return \"Meow\"\n",
    "\n",
    "\n",
    "dog = Dog()\n",
    "cat = Cat()\n",
    "\n",
    "\n",
    "print(dog.sound()) \n",
    "print(cat.sound())  \n",
    "\n",
    "\n",
    "### Conclusion\n",
    "\n",
    "#Abstract classes in Python are a powerful tool for defining a common interface and enforcing method implementations across related classes. They differ from regular classes in their inability to be instantiated, their requirement for subclasses to implement abstract methods, and their role in providing structure and clarity in code organization. By using abstract classes, developers can create more maintainable, extensible, and robust applications that adhere to the principles of object-oriented programming.\n",
    "\n"
   ]
  },
  {
   "cell_type": "code",
   "execution_count": 11,
   "id": "40cd8ff4-3408-41c8-921e-23b8c63e5d5d",
   "metadata": {},
   "outputs": [
    {
     "name": "stdout",
     "output_type": "stream",
     "text": [
      "Deposited: $1000.00. New balance: $1000.00\n",
      "Withdrew: $500.00. New balance: $500.00\n",
      "Account Number: 12345, Balance: $500.00\n"
     ]
    }
   ],
   "source": [
    "\n",
    "\n",
    "\n",
    "class BankAccount:\n",
    "    def __init__(self, account_number):\n",
    "        self.__account_number = account_number\n",
    "        self.__balance = 0\n",
    "\n",
    "    def deposit(self, amount):\n",
    "        if amount > 0:\n",
    "            self.__balance += amount\n",
    "            print(f\"Deposited: ${amount:.2f}. New balance: ${self.__balance:.2f}\")\n",
    "        else:\n",
    "            print(\"Deposit amount must be positive.\")\n",
    "\n",
    "    def withdraw(self, amount):\n",
    "        if amount > 0 and amount <= self.__balance:\n",
    "            self.__balance -= amount\n",
    "            print(f\"Withdrew: ${amount:.2f}. New balance: ${self.__balance:.2f}\")\n",
    "        else:\n",
    "            print(\"Insufficient funds or invalid withdrawal amount.\")\n",
    "\n",
    "    def check_balance(self):\n",
    "        print(f\"Account Number: {self.__account_number}, Balance: ${self.__balance:.2f}\")\n",
    "\n",
    "\n",
    "account = BankAccount(\"12345\")\n",
    "account.deposit(1000)\n",
    "account.withdraw(500)\n",
    "account.check_balance()\n",
    "\n",
    "\n"
   ]
  },
  {
   "cell_type": "code",
   "execution_count": 12,
   "id": "604d8dc5-fa83-49a0-a79a-111d8bd6b4d6",
   "metadata": {},
   "outputs": [
    {
     "name": "stdout",
     "output_type": "stream",
     "text": [
      "Processing credit card payment of $100.00\n",
      "Processing PayPal payment of $50.00\n"
     ]
    },
    {
     "data": {
      "text/plain": [
       "'1. **Interface Class**: The `PaymentProcessor` class is defined as an abstract class using the `ABC` module. It contains an abstract method `process_payment()`, which must be implemented by any subclass.\\n\\n2. **Concrete Classes**: The `CreditCardPayment` and `PayPalPayment` classes inherit from the `PaymentProcessor` class and provide specific implementations of the `process_payment()` method.\\n\\n3. **Function to Handle Payment**: The `make_payment()` function accepts an object of type `PaymentProcessor` and calls the `process_payment()` method. This demonstrates polymorphism, as the function can operate on different payment types without knowing their specific implementations.\\n\\n4. **Example Usage**: Instances of `CreditCardPayment` and `PayPalPayment` are created, and the `make_payment()` function is called with each object, showcasing the flexibility and reusability of the code.\\n\\n### Conclusion\\n\\nInterface classes in Python serve as a powerful mechanism for achieving abstraction by defining a common interface that related classes must implement. They promote code organization, reduce complexity, and facilitate polymorphism, allowing different classes to be treated uniformly. By using interface classes, developers can create more maintainable and extensible code, ensuring that different implementations adhere to a consistent contract. This enhances the overall design and functionality of the software.'"
      ]
     },
     "execution_count": 12,
     "metadata": {},
     "output_type": "execute_result"
    }
   ],
   "source": [
    "'''The concept of interface classes in Python is closely tied to abstraction and plays a significant role in defining a common structure for related classes. While Python does not have a formal interface keyword like some other programming languages (e.g., Java), it achieves similar functionality through abstract classes defined in the `abc` module. Here’s a detailed discussion on interface classes, their role in abstraction, and how they can be implemented in Python.\n",
    "\n",
    "### What Are Interface Classes?\n",
    "\n",
    "1. **Definition**: An interface class in Python is typically an abstract class that contains only abstract methods. These methods are defined but not implemented, meaning that any concrete subclass must provide an implementation for these methods.\n",
    "\n",
    "2. **Purpose**: The primary purpose of interface classes is to define a contract for what methods a class must implement. This allows different classes to be treated uniformly as long as they implement the same interface.\n",
    "\n",
    "3. **Implementation**: In Python, you can create an interface class by defining an abstract class using the `ABC` module and using the `@abstractmethod` decorator for the methods that need to be implemented by subclasses.\n",
    "\n",
    "### Role of Interface Classes in Achieving Abstraction\n",
    "\n",
    "1. **Defining Common Behavior**: Interface classes allow you to define a common set of behaviors that different classes must adhere to. This promotes consistency across different implementations.\n",
    "\n",
    "2. **Encouraging Loose Coupling**: By relying on interfaces, you can write code that is less dependent on specific implementations. This makes it easier to change or extend functionality without affecting other parts of the code.\n",
    "\n",
    "3. **Facilitating Polymorphism**: Interface classes enable polymorphism by allowing objects of different classes to be treated as objects of the interface type. This means that functions can operate on objects of different classes that implement the same interface, leading to more flexible and reusable code.\n",
    "\n",
    "### Example of Interface Class in Python\n",
    "\n",
    "Here’s an example that demonstrates the use of an interface class in Python:\n",
    "\n",
    "```python'''\n",
    "from abc import ABC, abstractmethod\n",
    "\n",
    "\n",
    "class PaymentProcessor(ABC):\n",
    "    @abstractmethod\n",
    "    def process_payment(self, amount):\n",
    "        pass\n",
    "\n",
    "class CreditCardPayment(PaymentProcessor):\n",
    "    def process_payment(self, amount):\n",
    "        print(f\"Processing credit card payment of ${amount:.2f}\")\n",
    "\n",
    "class PayPalPayment(PaymentProcessor):\n",
    "    def process_payment(self, amount):\n",
    "        print(f\"Processing PayPal payment of ${amount:.2f}\")\n",
    "\n",
    "\n",
    "def make_payment(payment_processor, amount):\n",
    "    payment_processor.process_payment(amount)\n",
    "\n",
    "\n",
    "credit_card = CreditCardPayment()\n",
    "paypal = PayPalPayment()\n",
    "\n",
    "make_payment(credit_card, 100)  \n",
    "make_payment(paypal, 50)        \n",
    "\n",
    "\n",
    "### Explanation of the Example:\n",
    "\n",
    "'''1. **Interface Class**: The `PaymentProcessor` class is defined as an abstract class using the `ABC` module. It contains an abstract method `process_payment()`, which must be implemented by any subclass.\n",
    "\n",
    "2. **Concrete Classes**: The `CreditCardPayment` and `PayPalPayment` classes inherit from the `PaymentProcessor` class and provide specific implementations of the `process_payment()` method.\n",
    "\n",
    "3. **Function to Handle Payment**: The `make_payment()` function accepts an object of type `PaymentProcessor` and calls the `process_payment()` method. This demonstrates polymorphism, as the function can operate on different payment types without knowing their specific implementations.\n",
    "\n",
    "4. **Example Usage**: Instances of `CreditCardPayment` and `PayPalPayment` are created, and the `make_payment()` function is called with each object, showcasing the flexibility and reusability of the code.\n",
    "\n",
    "### Conclusion\n",
    "\n",
    "Interface classes in Python serve as a powerful mechanism for achieving abstraction by defining a common interface that related classes must implement. They promote code organization, reduce complexity, and facilitate polymorphism, allowing different classes to be treated uniformly. By using interface classes, developers can create more maintainable and extensible code, ensuring that different implementations adhere to a consistent contract. This enhances the overall design and functionality of the software.'''\n",
    "\n"
   ]
  },
  {
   "cell_type": "code",
   "execution_count": 13,
   "id": "0554a02d-aa82-4908-8533-4ca5dd1796d0",
   "metadata": {},
   "outputs": [
    {
     "name": "stdout",
     "output_type": "stream",
     "text": [
      "The dog is eating dog food.\n",
      "The dog is sleeping in its kennel.\n",
      "\n",
      "The cat is eating cat food.\n",
      "The cat is sleeping on the couch.\n",
      "\n",
      "The bird is eating seeds.\n",
      "The bird is sleeping in its nest.\n",
      "\n"
     ]
    }
   ],
   "source": [
    "from abc import ABC, abstractmethod\n",
    "\n",
    "\n",
    "class Animal(ABC):\n",
    "    @abstractmethod\n",
    "    def eat(self):\n",
    "        \"\"\"Method to define how the animal eats.\"\"\"\n",
    "        pass\n",
    "\n",
    "    @abstractmethod\n",
    "    def sleep(self):\n",
    "        \"\"\"Method to define how the animal sleeps.\"\"\"\n",
    "        pass\n",
    "\n",
    "\n",
    "class Dog(Animal):\n",
    "    def eat(self):\n",
    "        print(\"The dog is eating dog food.\")\n",
    "\n",
    "    def sleep(self):\n",
    "        print(\"The dog is sleeping in its kennel.\")\n",
    "\n",
    "\n",
    "class Cat(Animal):\n",
    "    def eat(self):\n",
    "        print(\"The cat is eating cat food.\")\n",
    "\n",
    "    def sleep(self):\n",
    "        print(\"The cat is sleeping on the couch.\")\n",
    "\n",
    "\n",
    "class Bird(Animal):\n",
    "    def eat(self):\n",
    "        print(\"The bird is eating seeds.\")\n",
    "\n",
    "    def sleep(self):\n",
    "        print(\"The bird is sleeping in its nest.\")\n",
    "\n",
    "\n",
    "def animal_activities(animals):\n",
    "    for animal in animals:\n",
    "        animal.eat()\n",
    "        animal.sleep()\n",
    "        print()  \n",
    "\n",
    "\n",
    "animals = [Dog(), Cat(), Bird()]\n",
    "\n",
    "\n",
    "animal_activities(animals)\n"
   ]
  },
  {
   "cell_type": "code",
   "execution_count": 14,
   "id": "9078b83d-1bd1-4959-830e-61b7a0cda902",
   "metadata": {},
   "outputs": [
    {
     "name": "stdout",
     "output_type": "stream",
     "text": [
      "Deposited: $1000.00. New balance: $1000.00\n",
      "Withdrew: $500.00. New balance: $500.00\n",
      "Account Number: 123456789, Balance: $500.00\n"
     ]
    },
    {
     "data": {
      "text/plain": [
       "\"1. **Private Attributes**: The `__account_number` and `__balance` attributes are marked as private using double underscores. This means they cannot be accessed directly from outside the class, ensuring that the account balance cannot be modified without going through the provided methods.\\n\\n2. **Public Methods**: The `deposit`, `withdraw`, and `check_balance` methods provide a controlled interface for interacting with the account. Users can deposit and withdraw money, and check the balance without needing to know how these operations are implemented internally.\\n\\n3. **Abstraction through Encapsulation**: The encapsulation of the account balance and account number allows the `BankAccount` class to provide a clear and simple interface for users. Users do not need to worry about the internal representation of the balance; they only interact with the methods that manage it.\\n\\n### Conclusion\\n\\nEncapsulation is a critical mechanism for achieving abstraction in object-oriented programming. By hiding implementation details and providing controlled access to an object's state, encapsulation allows developers to create clear and intuitive interfaces for interacting with objects. This leads to improved code maintainability, enhanced security, and a focus on high-level functionality rather than low-level details. The `BankAccount` example illustrates how encapsulation can effectively support abstraction, enabling a clean and organized approach to managing complex behaviors and data.\""
      ]
     },
     "execution_count": 14,
     "metadata": {},
     "output_type": "execute_result"
    }
   ],
   "source": [
    "'''Encapsulation is a fundamental concept in object-oriented programming (OOP) that involves bundling data (attributes) and methods (functions) that operate on that data into a single unit called a class. This practice is crucial for achieving abstraction, as it helps hide the internal state and implementation details of an object, exposing only what is necessary for interaction. Here’s a detailed discussion on the significance of encapsulation in achieving abstraction, along with examples.\n",
    "\n",
    "### Significance of Encapsulation in Achieving Abstraction\n",
    "\n",
    "1. **Hiding Implementation Details**:\n",
    "   - Encapsulation allows the internal workings of a class to be hidden from the outside world. This means that users of the class do not need to understand how it operates internally; they only need to know how to interact with it through its public methods.\n",
    "   - By hiding implementation details, encapsulation supports abstraction by allowing developers to focus on high-level functionality rather than low-level details.\n",
    "\n",
    "2. **Controlled Access**:\n",
    "   - Encapsulation provides controlled access to the attributes of a class. By using access modifiers (like private and protected), developers can restrict direct access to certain attributes, ensuring that they can only be modified through well-defined methods (getters and setters).\n",
    "   - This control helps maintain the integrity of the object's state, as it prevents unauthorized or unintended modifications.\n",
    "\n",
    "3. **Improved Code Maintainability**:\n",
    "   - Encapsulation makes it easier to change the internal implementation of a class without affecting the code that uses it. As long as the public interface remains the same, the internal changes can be made without breaking existing code.\n",
    "   - This leads to better maintainability and flexibility in the codebase.\n",
    "\n",
    "4. **Enhanced Security**:\n",
    "   - By restricting access to the internal state of an object, encapsulation enhances security. It prevents external code from manipulating an object's state in ways that could lead to inconsistent or invalid states.\n",
    "   - This is particularly important in scenarios where data integrity is critical, such as in banking applications or sensitive data processing.\n",
    "\n",
    "### Example of Encapsulation Achieving Abstraction\n",
    "\n",
    "Here’s an example that demonstrates encapsulation and its role in achieving abstraction through a `BankAccount` class:\n",
    "\n",
    "```python'''\n",
    "class BankAccount:\n",
    "    def __init__(self, account_number):\n",
    "        self.__account_number = account_number  \n",
    "        self.__balance = 0  \n",
    "\n",
    "    def deposit(self, amount):\n",
    "        if amount > 0:\n",
    "            self.__balance += amount\n",
    "            print(f\"Deposited: ${amount:.2f}. New balance: ${self.__balance:.2f}\")\n",
    "        else:\n",
    "            print(\"Deposit amount must be positive.\")\n",
    "\n",
    "    def withdraw(self, amount):\n",
    "        if amount > 0 and amount <= self.__balance:\n",
    "            self.__balance -= amount\n",
    "            print(f\"Withdrew: ${amount:.2f}. New balance: ${self.__balance:.2f}\")\n",
    "        else:\n",
    "            print(\"Insufficient funds or invalid withdrawal amount.\")\n",
    "\n",
    "    def check_balance(self):\n",
    "        print(f\"Account Number: {self.__account_number}, Balance: ${self.__balance:.2f}\")\n",
    "\n",
    "\n",
    "account = BankAccount(\"123456789\")\n",
    "account.deposit(1000)\n",
    "account.withdraw(500)\n",
    "account.check_balance()\n",
    "\n",
    "\n",
    "### Explanation of the Example:\n",
    "\n",
    "'''1. **Private Attributes**: The `__account_number` and `__balance` attributes are marked as private using double underscores. This means they cannot be accessed directly from outside the class, ensuring that the account balance cannot be modified without going through the provided methods.\n",
    "\n",
    "2. **Public Methods**: The `deposit`, `withdraw`, and `check_balance` methods provide a controlled interface for interacting with the account. Users can deposit and withdraw money, and check the balance without needing to know how these operations are implemented internally.\n",
    "\n",
    "3. **Abstraction through Encapsulation**: The encapsulation of the account balance and account number allows the `BankAccount` class to provide a clear and simple interface for users. Users do not need to worry about the internal representation of the balance; they only interact with the methods that manage it.\n",
    "\n",
    "### Conclusion\n",
    "\n",
    "Encapsulation is a critical mechanism for achieving abstraction in object-oriented programming. By hiding implementation details and providing controlled access to an object's state, encapsulation allows developers to create clear and intuitive interfaces for interacting with objects. This leads to improved code maintainability, enhanced security, and a focus on high-level functionality rather than low-level details. The `BankAccount` example illustrates how encapsulation can effectively support abstraction, enabling a clean and organized approach to managing complex behaviors and data.'''\n"
   ]
  },
  {
   "cell_type": "code",
   "execution_count": 1,
   "id": "9df8c3ed-4410-4a4a-a66a-f48ed0bc0ef5",
   "metadata": {},
   "outputs": [
    {
     "name": "stdout",
     "output_type": "stream",
     "text": [
      "The dog is eating dog food.\n",
      "The dog is sleeping in its kennel.\n",
      "The cat is eating cat food.\n",
      "The cat is sleeping on the couch.\n"
     ]
    },
    {
     "data": {
      "text/plain": [
       "'1. **Abstract Class**: The `Animal` class is defined as an abstract class with two abstract methods: `eat()` and `sleep()`. These methods do not have implementations in the `Animal` class.\\n\\n2. **Concrete Subclasses**: The `Dog` and `Cat` classes inherit from `Animal` and provide specific implementations for the `eat()` and `sleep()` methods.\\n\\n3. **Instantiation**: Attempting to create an instance of the `Animal` class directly will raise a `TypeError`, enforcing that only concrete subclasses can be instantiated.\\n\\n4. **Polymorphic Behavior**: The `Dog` and `Cat` classes can be treated as instances of `Animal`, allowing you to call the `eat()` and `sleep()` methods without knowing the specific implementation.\\n\\n### Conclusion\\n\\nAbstract methods are essential for enforcing abstraction in Python classes. They define a common interface that subclasses must adhere to, ensuring that specific behaviors are implemented while hiding the implementation details. This promotes code reusability, facilitates polymorphism, and enhances the overall design of the software. By using abstract methods, developers can create flexible and maintainable code that adheres to the principles of object-oriented programming.'"
      ]
     },
     "execution_count": 1,
     "metadata": {},
     "output_type": "execute_result"
    }
   ],
   "source": [
    "'''Abstract methods serve a crucial role in object-oriented programming, particularly in Python, where they help enforce abstraction within classes. Here’s a detailed explanation of the purpose of abstract methods and how they achieve abstraction, drawing from the provided search results.\n",
    "\n",
    "### Purpose of Abstract Methods\n",
    "\n",
    "1. **Defining a Common Interface**:\n",
    "   - Abstract methods are used to define a common interface for a group of related classes. By declaring these methods in an abstract class, you ensure that all subclasses must implement them, promoting consistency across different implementations. This is particularly useful when creating frameworks or libraries where multiple developers may implement different components.\n",
    "\n",
    "2. **Enforcing Implementation in Subclasses**:\n",
    "   - Abstract methods enforce that any concrete subclass must provide its own implementation of the abstract methods. This ensures that the subclass adheres to a specific contract defined by the abstract class. If a subclass fails to implement all abstract methods, it cannot be instantiated, which helps catch errors at design time.\n",
    "\n",
    "3. **Facilitating Polymorphism**:\n",
    "   - By defining abstract methods, you enable polymorphism, allowing different subclasses to be treated uniformly through a common interface. This means you can write functions that operate on the abstract class type, and they will work with any subclass that implements the required methods.\n",
    "\n",
    "4. **Promoting Code Reusability**:\n",
    "   - Abstract classes can contain concrete methods (methods with implementations) that can be reused by subclasses. This allows for shared behavior while still enforcing the implementation of specific abstract methods, reducing code duplication and promoting reusability.\n",
    "\n",
    "### How Abstract Methods Enforce Abstraction in Python Classes\n",
    "\n",
    "1. **Using the `abc` Module**:\n",
    "   - In Python, abstract methods are defined using the `@abstractmethod` decorator from the `abc` module. This decorator indicates that the method is abstract and must be overridden in subclasses.\n",
    "\n",
    "2. **Preventing Instantiation of Abstract Classes**:\n",
    "   - Abstract classes cannot be instantiated directly. Attempting to do so will raise a `TypeError`. This ensures that the abstract class serves only as a blueprint for other classes.\n",
    "\n",
    "3. **Example of Abstract Methods in Action**:\n",
    "\n",
    "Here’s a simple example that demonstrates the use of abstract methods in Python:\n",
    "\n",
    "```python'''\n",
    "from abc import ABC, abstractmethod\n",
    "\n",
    "\n",
    "class Animal(ABC):\n",
    "    @abstractmethod\n",
    "    def eat(self):\n",
    "        \"\"\"Abstract method for eating behavior.\"\"\"\n",
    "        pass\n",
    "\n",
    "    @abstractmethod\n",
    "    def sleep(self):\n",
    "        \"\"\"Abstract method for sleeping behavior.\"\"\"\n",
    "        pass\n",
    "\n",
    "\n",
    "class Dog(Animal):\n",
    "    def eat(self):\n",
    "        print(\"The dog is eating dog food.\")\n",
    "\n",
    "    def sleep(self):\n",
    "        print(\"The dog is sleeping in its kennel.\")\n",
    "\n",
    "\n",
    "class Cat(Animal):\n",
    "    def eat(self):\n",
    "        print(\"The cat is eating cat food.\")\n",
    "\n",
    "    def sleep(self):\n",
    "        print(\"The cat is sleeping on the couch.\")\n",
    "\n",
    "\n",
    "dog = Dog()\n",
    "cat = Cat()\n",
    "\n",
    "\n",
    "dog.eat()  \n",
    "dog.sleep() \n",
    "cat.eat()  \n",
    "cat.sleep()  \n",
    "\n",
    "### Explanation of the Example:\n",
    "\n",
    "'''1. **Abstract Class**: The `Animal` class is defined as an abstract class with two abstract methods: `eat()` and `sleep()`. These methods do not have implementations in the `Animal` class.\n",
    "\n",
    "2. **Concrete Subclasses**: The `Dog` and `Cat` classes inherit from `Animal` and provide specific implementations for the `eat()` and `sleep()` methods.\n",
    "\n",
    "3. **Instantiation**: Attempting to create an instance of the `Animal` class directly will raise a `TypeError`, enforcing that only concrete subclasses can be instantiated.\n",
    "\n",
    "4. **Polymorphic Behavior**: The `Dog` and `Cat` classes can be treated as instances of `Animal`, allowing you to call the `eat()` and `sleep()` methods without knowing the specific implementation.\n",
    "\n",
    "### Conclusion\n",
    "\n",
    "Abstract methods are essential for enforcing abstraction in Python classes. They define a common interface that subclasses must adhere to, ensuring that specific behaviors are implemented while hiding the implementation details. This promotes code reusability, facilitates polymorphism, and enhances the overall design of the software. By using abstract methods, developers can create flexible and maintainable code that adheres to the principles of object-oriented programming.'''\n",
    "\n"
   ]
  },
  {
   "cell_type": "code",
   "execution_count": 2,
   "id": "9dd6f8d8-832a-4763-90a7-283cec8b6b8b",
   "metadata": {},
   "outputs": [
    {
     "name": "stdout",
     "output_type": "stream",
     "text": [
      "Starting the car engine.\n",
      "Stopping the car engine.\n",
      "This is a vehicle.\n",
      "This is a car.\n",
      "\n",
      "Starting the motorcycle engine.\n",
      "Stopping the motorcycle engine.\n",
      "This is a vehicle.\n",
      "This is a motorcycle.\n",
      "\n"
     ]
    }
   ],
   "source": [
    "from abc import ABC, abstractmethod\n",
    "\n",
    "class Vehicle(ABC):\n",
    "    @abstractmethod\n",
    "    def start(self):\n",
    "        \"\"\"Abstract method to start the vehicle.\"\"\"\n",
    "        pass\n",
    "\n",
    "    @abstractmethod\n",
    "    def stop(self):\n",
    "        \"\"\"Abstract method to stop the vehicle.\"\"\"\n",
    "        pass\n",
    "\n",
    "    def display_info(self):\n",
    "        \"\"\"Concrete method to display vehicle information.\"\"\"\n",
    "        print(\"This is a vehicle.\")\n",
    "\n",
    "class Car(Vehicle):\n",
    "    def start(self):\n",
    "        print(\"Starting the car engine.\")\n",
    "\n",
    "    def stop(self):\n",
    "        print(\"Stopping the car engine.\")\n",
    "\n",
    "    def display_info(self):\n",
    "        super().display_info()\n",
    "        print(\"This is a car.\")\n",
    "\n",
    "class Motorcycle(Vehicle):\n",
    "    def start(self):\n",
    "        print(\"Starting the motorcycle engine.\")\n",
    "\n",
    "    def stop(self):\n",
    "        print(\"Stopping the motorcycle engine.\")\n",
    "\n",
    "    def display_info(self):\n",
    "        super().display_info()\n",
    "        print(\"This is a motorcycle.\")\n",
    "\n",
    "\n",
    "def operate_vehicle(vehicle):\n",
    "    vehicle.start()\n",
    "    vehicle.stop()\n",
    "    vehicle.display_info()\n",
    "    print()\n",
    "\n",
    "\n",
    "car = Car()\n",
    "motorcycle = Motorcycle()\n",
    "\n",
    "\n",
    "operate_vehicle(car)\n",
    "operate_vehicle(motorcycle)\n"
   ]
  },
  {
   "cell_type": "code",
   "execution_count": 3,
   "id": "8b655123-74e4-46c9-aaad-4b48b8eec075",
   "metadata": {},
   "outputs": [
    {
     "name": "stdout",
     "output_type": "stream",
     "text": [
      "Area: 78.5, Perimeter: 31.400000000000002\n",
      "Area: 24, Perimeter: 20\n"
     ]
    },
    {
     "data": {
      "text/plain": [
       "'1. **Abstract Base Class**: The `Shape` class is defined as an abstract base class using the `ABC` module. It contains two abstract properties: `area` and `perimeter`. These properties do not have implementations in the `Shape` class, enforcing that any subclass must implement them.\\n\\n2. **Concrete Subclasses**: The `Circle` and `Rectangle` classes inherit from `Shape` and provide specific implementations for the `area` and `perimeter` properties. Each subclass calculates the area and perimeter based on its specific attributes.\\n\\n3. **Polymorphic Behavior**: The `shapes` list contains different types of shapes. The loop iterates over the list and accesses the `area` and `perimeter` properties, demonstrating polymorphism. Each shape responds according to its specific implementation.\\n\\n\\n### Conclusion\\n\\nAbstract properties in Python are an essential feature for defining a common interface in abstract base classes. They enforce that subclasses implement specific properties, promoting consistency and encapsulation. By using abstract properties, developers can create flexible and maintainable code that adheres to the principles of object-oriented programming. This approach allows for polymorphism, enabling different subclasses to be treated uniformly while providing specific implementations for the required properties.'"
      ]
     },
     "execution_count": 3,
     "metadata": {},
     "output_type": "execute_result"
    }
   ],
   "source": [
    "'''Abstract properties in Python are a powerful feature that allows you to define properties in an abstract base class (ABC) that must be implemented by subclasses. This mechanism helps enforce a consistent interface across different implementations while still allowing for the encapsulation of data. Here’s a detailed discussion on the purpose of abstract properties and how they can be employed in abstract classes.\n",
    "\n",
    "### Purpose of Abstract Properties\n",
    "\n",
    "1. **Defining a Common Interface**:\n",
    "   - Abstract properties allow you to specify attributes that must be present in subclasses, ensuring that all subclasses implement the same properties. This is particularly useful when you want to enforce that certain attributes are accessible in a consistent manner.\n",
    "\n",
    "2. **Encapsulation**:\n",
    "   - By defining properties as abstract, you can control how these attributes are accessed and modified. This encapsulation allows you to define getter and setter methods, providing a way to manage the internal state of an object while exposing a clean interface.\n",
    "\n",
    "3. **Enforcing Implementation**:\n",
    "   - Abstract properties enforce that any concrete subclass must provide implementations for these properties. If a subclass does not implement the required abstract properties, it cannot be instantiated, which helps catch errors at design time.\n",
    "\n",
    "4. **Facilitating Polymorphism**:\n",
    "   - Abstract properties enable polymorphism by allowing different subclasses to be treated uniformly through a common interface. This means you can write functions that operate on the abstract class type, and they will work with any subclass that implements the required properties.\n",
    "\n",
    "### How to Define Abstract Properties in Python\n",
    "\n",
    "To define abstract properties in Python, you use the `@property` decorator in combination with the `@abstractmethod` decorator from the `abc` module. Here’s how it can be done:\n",
    "\n",
    "### Example of Abstract Properties in an Abstract Class\n",
    "\n",
    "```python'''\n",
    "from abc import ABC, abstractmethod\n",
    "\n",
    "class Shape(ABC):\n",
    "    @property\n",
    "    @abstractmethod\n",
    "    def area(self):\n",
    "        \"\"\"Abstract property for area calculation.\"\"\"\n",
    "        pass\n",
    "\n",
    "    @property\n",
    "    @abstractmethod\n",
    "    def perimeter(self):\n",
    "        \"\"\"Abstract property for perimeter calculation.\"\"\"\n",
    "        pass\n",
    "\n",
    "class Circle(Shape):\n",
    "    def __init__(self, radius):\n",
    "        self._radius = radius\n",
    "\n",
    "    @property\n",
    "    def area(self):\n",
    "        return 3.14 * (self._radius ** 2)\n",
    "\n",
    "    @property\n",
    "    def perimeter(self):\n",
    "        return 2 * 3.14 * self._radius\n",
    "\n",
    "class Rectangle(Shape):\n",
    "    def __init__(self, length, width):\n",
    "        self._length = length\n",
    "        self._width = width\n",
    "\n",
    "    @property\n",
    "    def area(self):\n",
    "        return self._length * self._width\n",
    "\n",
    "    @property\n",
    "    def perimeter(self):\n",
    "        return 2 * (self._length + self._width)\n",
    "\n",
    "\n",
    "shapes = [Circle(5), Rectangle(4, 6)]\n",
    "\n",
    "for shape in shapes:\n",
    "    print(f\"Area: {shape.area}, Perimeter: {shape.perimeter}\")\n",
    "\n",
    "\n",
    "### Explanation of the Example:\n",
    "\n",
    "'''1. **Abstract Base Class**: The `Shape` class is defined as an abstract base class using the `ABC` module. It contains two abstract properties: `area` and `perimeter`. These properties do not have implementations in the `Shape` class, enforcing that any subclass must implement them.\n",
    "\n",
    "2. **Concrete Subclasses**: The `Circle` and `Rectangle` classes inherit from `Shape` and provide specific implementations for the `area` and `perimeter` properties. Each subclass calculates the area and perimeter based on its specific attributes.\n",
    "\n",
    "3. **Polymorphic Behavior**: The `shapes` list contains different types of shapes. The loop iterates over the list and accesses the `area` and `perimeter` properties, demonstrating polymorphism. Each shape responds according to its specific implementation.\n",
    "\n",
    "\n",
    "### Conclusion\n",
    "\n",
    "Abstract properties in Python are an essential feature for defining a common interface in abstract base classes. They enforce that subclasses implement specific properties, promoting consistency and encapsulation. By using abstract properties, developers can create flexible and maintainable code that adheres to the principles of object-oriented programming. This approach allows for polymorphism, enabling different subclasses to be treated uniformly while providing specific implementations for the required properties.'''\n",
    "\n"
   ]
  },
  {
   "cell_type": "code",
   "execution_count": 4,
   "id": "6defebb9-251e-4d45-9058-34775627a0c5",
   "metadata": {},
   "outputs": [
    {
     "name": "stdout",
     "output_type": "stream",
     "text": [
      "Employee Name: Alice\n",
      "Salary: $90000.00\n",
      "\n",
      "Employee Name: Bob\n",
      "Salary: $70750.00\n",
      "\n",
      "Employee Name: Charlie\n",
      "Salary: $65000.00\n",
      "\n"
     ]
    }
   ],
   "source": [
    "from abc import ABC, abstractmethod\n",
    "\n",
    "\n",
    "class Employee(ABC):\n",
    "    def __init__(self, name):\n",
    "        self.name = name\n",
    "\n",
    "    @abstractmethod\n",
    "    def get_salary(self):\n",
    "        \"\"\"Abstract method to get the employee's salary.\"\"\"\n",
    "        pass\n",
    "\n",
    "    def display_info(self):\n",
    "        \"\"\"Method to display employee information.\"\"\"\n",
    "        print(f\"Employee Name: {self.name}\")\n",
    "\n",
    "\n",
    "class Manager(Employee):\n",
    "    def __init__(self, name, base_salary, bonus):\n",
    "        super().__init__(name)\n",
    "        self.base_salary = base_salary\n",
    "        self.bonus = bonus\n",
    "\n",
    "    def get_salary(self):\n",
    "        \"\"\"Calculate total salary for the manager.\"\"\"\n",
    "        return self.base_salary + self.bonus\n",
    "\n",
    "\n",
    "class Developer(Employee):\n",
    "    def __init__(self, name, base_salary, overtime_hours, overtime_rate):\n",
    "        super().__init__(name)\n",
    "        self.base_salary = base_salary\n",
    "        self.overtime_hours = overtime_hours\n",
    "        self.overtime_rate = overtime_rate\n",
    "\n",
    "    def get_salary(self):\n",
    "        \"\"\"Calculate total salary for the developer.\"\"\"\n",
    "        overtime_pay = self.overtime_hours * self.overtime_rate\n",
    "        return self.base_salary + overtime_pay\n",
    "\n",
    "\n",
    "class Designer(Employee):\n",
    "    def __init__(self, name, base_salary, commission):\n",
    "        super().__init__(name)\n",
    "        self.base_salary = base_salary\n",
    "        self.commission = commission\n",
    "\n",
    "    def get_salary(self):\n",
    "        \"\"\"Calculate total salary for the designer.\"\"\"\n",
    "        return self.base_salary + self.commission\n",
    "\n",
    "\n",
    "def display_employee_salaries(employees):\n",
    "    for employee in employees:\n",
    "        employee.display_info()\n",
    "        print(f\"Salary: ${employee.get_salary():.2f}\")\n",
    "        print() \n",
    "\n",
    "\n",
    "manager = Manager(\"Alice\", 80000, 10000)\n",
    "developer = Developer(\"Bob\", 70000, 15, 50)\n",
    "designer = Designer(\"Charlie\", 60000, 5000)\n",
    "\n",
    "\n",
    "employees = [manager, developer, designer]\n",
    "\n",
    "\n",
    "display_employee_salaries(employees)\n"
   ]
  },
  {
   "cell_type": "code",
   "execution_count": 5,
   "id": "ade90f2a-5462-4731-a881-9baaf09a5344",
   "metadata": {},
   "outputs": [
    {
     "name": "stdout",
     "output_type": "stream",
     "text": [
      "78.5\n",
      "This is a shape.\n"
     ]
    },
    {
     "data": {
      "text/plain": [
       "\"In this example, the `Shape` class is an abstract class that contains an abstract method `area()` and a concrete method `print_shape()`. The `Circle` class is a concrete subclass that implements the `area()` method.\\n\\nAttempting to create an instance of the abstract class `Shape` directly raises a `TypeError`, while creating an instance of the concrete class `Circle` is allowed.\\n\\n## Conclusion\\n\\nAbstract classes and concrete classes serve different purposes in Python's object-oriented programming paradigm. Abstract classes provide a blueprint for subclasses, ensuring a common interface and allowing for shared behavior, while concrete classes provide complete implementations and can be instantiated directly. Understanding the differences between these two types of classes is crucial for designing robust and maintainable object-oriented systems in Python.\""
      ]
     },
     "execution_count": 5,
     "metadata": {},
     "output_type": "execute_result"
    }
   ],
   "source": [
    "'''In Python, abstract classes and concrete classes differ in several key aspects, particularly in their instantiation and the presence of abstract methods. Here's a detailed discussion on the differences between abstract classes and concrete classes in Python:\n",
    "\n",
    "## Abstract Classes\n",
    "\n",
    "- **Definition**: Abstract classes are classes that contain one or more abstract methods. An abstract method is a method that is declared but has no implementation[1][2].\n",
    "\n",
    "- **Instantiation**: Abstract classes cannot be instantiated directly. Attempting to create an instance of an abstract class will raise a `TypeError`[1][2][3].\n",
    "\n",
    "- **Abstract Methods**: Abstract classes must contain at least one abstract method. Subclasses of an abstract class must provide implementations for all abstract methods, or they will also be considered abstract[1][2][3].\n",
    "\n",
    "- **Concrete Methods**: Abstract classes can also contain concrete methods (methods with implementations). These concrete methods can be inherited and used by subclasses[2][3].\n",
    "\n",
    "## Concrete Classes\n",
    "\n",
    "- **Definition**: Concrete classes are classes that provide complete implementations for all methods. They do not contain any abstract methods[1].\n",
    "\n",
    "- **Instantiation**: Concrete classes can be instantiated directly using the `new` keyword or function. Objects can be created from concrete classes[1][2].\n",
    "\n",
    "- **Abstract Methods**: Concrete classes cannot contain abstract methods. If a class contains an abstract method, it must also be declared as abstract[1].\n",
    "\n",
    "- **Concrete Methods**: Concrete classes must provide implementations for all methods, including those inherited from abstract base classes or interfaces[1][2].\n",
    "\n",
    "Here's a simple example to illustrate the differences:\n",
    "\n",
    "```python'''\n",
    "from abc import ABC, abstractmethod\n",
    "\n",
    "\n",
    "class Shape(ABC):\n",
    "    @abstractmethod\n",
    "    def area(self):\n",
    "        pass\n",
    "\n",
    "    def print_shape(self):\n",
    "        print(\"This is a shape.\")\n",
    "\n",
    "\n",
    "class Circle(Shape):\n",
    "    def __init__(self, radius):\n",
    "        self.radius = radius\n",
    "\n",
    "    def area(self):\n",
    "        return 3.14 * (self.radius ** 2)\n",
    "\n",
    "\n",
    "circle = Circle(5)\n",
    "print(circle.area())  \n",
    "circle.print_shape()  \n",
    "\n",
    "'''In this example, the `Shape` class is an abstract class that contains an abstract method `area()` and a concrete method `print_shape()`. The `Circle` class is a concrete subclass that implements the `area()` method.\n",
    "\n",
    "Attempting to create an instance of the abstract class `Shape` directly raises a `TypeError`, while creating an instance of the concrete class `Circle` is allowed.\n",
    "\n",
    "## Conclusion\n",
    "\n",
    "Abstract classes and concrete classes serve different purposes in Python's object-oriented programming paradigm. Abstract classes provide a blueprint for subclasses, ensuring a common interface and allowing for shared behavior, while concrete classes provide complete implementations and can be instantiated directly. Understanding the differences between these two types of classes is crucial for designing robust and maintainable object-oriented systems in Python.'''\n",
    "\n"
   ]
  },
  {
   "cell_type": "code",
   "execution_count": 6,
   "id": "15bf5296-dea8-4a60-9106-4cd09520e8e2",
   "metadata": {},
   "outputs": [
    {
     "name": "stdout",
     "output_type": "stream",
     "text": [
      "2\n",
      "2\n",
      "1\n"
     ]
    },
    {
     "data": {
      "text/plain": [
       "'1. **Encapsulation**: The `Stack` class encapsulates the internal list `_items` that stores the stack elements. Users interact with the stack through methods like `push`, `pop`, and `peek`, without needing to know how the stack is implemented internally.\\n\\n2. **Defining Operations**: The class defines the operations that can be performed on the stack, such as checking if it is empty, adding items, removing items, and retrieving the top item.\\n\\n3. **Hiding Implementation Details**: The internal representation of the stack is hidden from the user. They only need to know how to use the methods provided by the class.\\n\\n4. **Modularity and Maintainability**: If you wanted to change the implementation of the stack (for example, using a linked list instead of a list), you could do so without affecting the code that uses the `Stack` class, as long as the interface remains the same.\\n\\n### Conclusion\\n\\nAbstract Data Types (ADTs) are a powerful concept that helps achieve abstraction in programming. By defining data types in terms of their operations rather than their implementation, ADTs promote encapsulation, modularity, and maintainability. In Python, ADTs can be effectively implemented using classes, allowing developers to create clear and consistent interfaces for interacting with data structures while hiding the complexities of their implementations. This leads to more robust and flexible code that is easier to understand and maintain.'"
      ]
     },
     "execution_count": 6,
     "metadata": {},
     "output_type": "execute_result"
    }
   ],
   "source": [
    "'''Abstract Data Types (ADTs) are a fundamental concept in computer science and programming that help in achieving abstraction. They define a data type in terms of its behavior (operations) rather than its implementation. This allows developers to focus on what operations can be performed on the data type without needing to understand how those operations are implemented. Here’s a detailed explanation of ADTs and their role in achieving abstraction in Python.\n",
    "\n",
    "### What are Abstract Data Types (ADTs)?\n",
    "\n",
    "1. **Definition**: An Abstract Data Type is a theoretical concept that defines a data type purely by the operations that can be performed on it and the properties of those operations. ADTs specify the interface (methods and properties) without detailing the implementation.\n",
    "\n",
    "2. **Characteristics**:\n",
    "   - **Encapsulation**: ADTs encapsulate data and the operations that can be performed on that data. This means that the internal representation of the data is hidden from the user.\n",
    "   - **Modularity**: By separating the interface from the implementation, ADTs promote modular design. Changes to the implementation do not affect the code that relies on the ADT.\n",
    "   - **Data Abstraction**: ADTs allow for data abstraction, meaning that users can work with the data type at a high level without needing to understand the underlying details.\n",
    "\n",
    "### Role of ADTs in Achieving Abstraction\n",
    "\n",
    "1. **Defining Interfaces**: ADTs provide a clear definition of the operations that can be performed on a data type. This allows developers to create consistent interfaces that can be used across different implementations.\n",
    "\n",
    "2. **Hiding Implementation Details**: By focusing on the operations rather than the implementation, ADTs hide the complexity of the underlying data structures. This allows users to interact with the data type without needing to know how it is implemented.\n",
    "\n",
    "3. **Facilitating Code Reusability**: ADTs promote code reusability by allowing different implementations to adhere to the same interface. For example, you can have different implementations of a stack (array-based, linked list-based) that provide the same operations.\n",
    "\n",
    "4. **Encouraging Modularity and Maintainability**: Since the implementation of an ADT can be changed independently of its interface, it encourages modularity. This makes the codebase easier to maintain and extend.\n",
    "\n",
    "### Example of Abstract Data Types in Python\n",
    "\n",
    "In Python, you can implement ADTs using classes. Here’s an example of a simple Stack ADT:\n",
    "\n",
    "```python'''\n",
    "class Stack:\n",
    "    def __init__(self):\n",
    "        self._items = [] \n",
    "\n",
    "    def is_empty(self):\n",
    "        \"\"\"Check if the stack is empty.\"\"\"\n",
    "        return len(self._items) == 0\n",
    "\n",
    "    def push(self, item):\n",
    "        \"\"\"Add an item to the top of the stack.\"\"\"\n",
    "        self._items.append(item)\n",
    "\n",
    "    def pop(self):\n",
    "        \"\"\"Remove and return the top item of the stack. Raises an exception if the stack is empty.\"\"\"\n",
    "        if self.is_empty():\n",
    "            raise IndexError(\"pop from empty stack\")\n",
    "        return self._items.pop()\n",
    "\n",
    "    def peek(self):\n",
    "        \"\"\"Return the top item of the stack without removing it. Raises an exception if the stack is empty.\"\"\"\n",
    "        if self.is_empty():\n",
    "            raise IndexError(\"peek at empty stack\")\n",
    "        return self._items[-1]\n",
    "\n",
    "    def size(self):\n",
    "        \"\"\"Return the number of items in the stack.\"\"\"\n",
    "        return len(self._items)\n",
    "\n",
    "\n",
    "stack = Stack()\n",
    "stack.push(1)\n",
    "stack.push(2)\n",
    "print(stack.peek()) \n",
    "print(stack.pop())   \n",
    "print(stack.size())\n",
    "\n",
    "\n",
    "### Explanation of the Example:\n",
    "\n",
    "'''1. **Encapsulation**: The `Stack` class encapsulates the internal list `_items` that stores the stack elements. Users interact with the stack through methods like `push`, `pop`, and `peek`, without needing to know how the stack is implemented internally.\n",
    "\n",
    "2. **Defining Operations**: The class defines the operations that can be performed on the stack, such as checking if it is empty, adding items, removing items, and retrieving the top item.\n",
    "\n",
    "3. **Hiding Implementation Details**: The internal representation of the stack is hidden from the user. They only need to know how to use the methods provided by the class.\n",
    "\n",
    "4. **Modularity and Maintainability**: If you wanted to change the implementation of the stack (for example, using a linked list instead of a list), you could do so without affecting the code that uses the `Stack` class, as long as the interface remains the same.\n",
    "\n",
    "### Conclusion\n",
    "\n",
    "Abstract Data Types (ADTs) are a powerful concept that helps achieve abstraction in programming. By defining data types in terms of their operations rather than their implementation, ADTs promote encapsulation, modularity, and maintainability. In Python, ADTs can be effectively implemented using classes, allowing developers to create clear and consistent interfaces for interacting with data structures while hiding the complexities of their implementations. This leads to more robust and flexible code that is easier to understand and maintain.'''"
   ]
  },
  {
   "cell_type": "code",
   "execution_count": 7,
   "id": "597e4201-f4c0-41f0-848a-14d41896576f",
   "metadata": {},
   "outputs": [
    {
     "name": "stdout",
     "output_type": "stream",
     "text": [
      "Desktop is powering on...\n",
      "Desktop is shutting down...\n",
      "This is a computer system.\n",
      "This is a desktop computer.\n",
      "\n",
      "Laptop is powering on...\n",
      "Laptop is shutting down...\n",
      "This is a computer system.\n",
      "This is a laptop computer.\n",
      "\n"
     ]
    }
   ],
   "source": [
    "from abc import ABC, abstractmethod\n",
    "\n",
    "\n",
    "class ComputerSystem(ABC):\n",
    "    @abstractmethod\n",
    "    def power_on(self):\n",
    "        \"\"\"Abstract method to power on the computer system.\"\"\"\n",
    "        pass\n",
    "\n",
    "    @abstractmethod\n",
    "    def shutdown(self):\n",
    "        \"\"\"Abstract method to shut down the computer system.\"\"\"\n",
    "        pass\n",
    "\n",
    "    def display_info(self):\n",
    "        \"\"\"Concrete method to display computer system information.\"\"\"\n",
    "        print(\"This is a computer system.\")\n",
    "\n",
    "\n",
    "class Desktop(ComputerSystem):\n",
    "    def power_on(self):\n",
    "        print(\"Desktop is powering on...\")\n",
    "\n",
    "    def shutdown(self):\n",
    "        print(\"Desktop is shutting down...\")\n",
    "\n",
    "    def display_info(self):\n",
    "        super().display_info()\n",
    "        print(\"This is a desktop computer.\")\n",
    "\n",
    "\n",
    "class Laptop(ComputerSystem):\n",
    "    def power_on(self):\n",
    "        print(\"Laptop is powering on...\")\n",
    "\n",
    "    def shutdown(self):\n",
    "        print(\"Laptop is shutting down...\")\n",
    "\n",
    "    def display_info(self):\n",
    "        super().display_info()\n",
    "        print(\"This is a laptop computer.\")\n",
    "\n",
    "\n",
    "def operate_computer(computer):\n",
    "    computer.power_on()\n",
    "    computer.shutdown()\n",
    "    computer.display_info()\n",
    "    print()  \n",
    "\n",
    "\n",
    "desktop = Desktop()\n",
    "laptop = Laptop()\n",
    "\n",
    "\n",
    "operate_computer(desktop)\n",
    "operate_computer(laptop)\n"
   ]
  },
  {
   "cell_type": "code",
   "execution_count": 8,
   "id": "8440dea1-d43a-4645-a5e3-52d1b899f43e",
   "metadata": {},
   "outputs": [
    {
     "data": {
      "text/plain": [
       "\"Abstraction plays a crucial role in large-scale software development projects, offering several benefits that enhance the overall efficiency, maintainability, and scalability of the software. Here are the key benefits of using abstraction in such projects:\\n\\n### 1. Simplification of Complex Systems\\n\\nAbstraction allows developers to simplify complex systems by focusing on high-level functionalities rather than low-level implementation details. This simplification enables teams to understand and manage large codebases more effectively, making it easier to reason about the system as a whole [4].\\n\\n### 2. Improved Code Reusability\\n\\nBy defining common interfaces and abstract classes, abstraction promotes code reusability. Developers can create generic components that can be reused across different parts of the application or even in different projects. This reduces duplication of code and encourages the use of standardized solutions, leading to more efficient development practices [5].\\n\\n### 3. Enhanced Modularity\\n\\nAbstraction encourages modular design, where different components of the system can be developed, tested, and maintained independently. This modularity allows teams to work concurrently on different parts of the project without interfering with each other, facilitating parallel development and reducing integration issues [4][5].\\n\\n### 4. Easier Maintenance and Extensibility\\n\\nWith abstraction, the implementation details of components are hidden from the rest of the system. This separation means that changes to one part of the system can often be made without affecting other parts. As a result, software becomes easier to maintain and extend, allowing for the addition of new features or modifications to existing functionality with minimal disruption [4].\\n\\n### 5. Better Collaboration\\n\\nAbstraction allows different teams or developers to work on different modules or components of a project without needing to understand the intricacies of each other's work. By providing clear interfaces, teams can collaborate effectively, as they can rely on the defined contracts without delving into the underlying code [5].\\n\\n### 6. Facilitating Testing and Debugging\\n\\nBy isolating functionalities through abstraction, it becomes easier to test individual components of the software. Developers can create unit tests for abstracted components, ensuring that each part functions correctly in isolation before integrating it into the larger system. This leads to more robust and reliable software [4].\\n\\n### 7. Scalability\\n\\nAbstraction supports scalability by allowing developers to build systems that can grow and evolve over time. As new requirements emerge, developers can create new abstractions or extend existing ones without needing to overhaul the entire system. This adaptability is crucial in large-scale projects where requirements can change frequently [4][5].\\n\\n### 8. Enhanced Security\\n\\nBy abstracting away implementation details, sensitive data and complex logic can be hidden from users and other parts of the system. This encapsulation enhances security by reducing the risk of unauthorized access to critical components and data [5].\\n\\n### Conclusion\\n\\nIn summary, abstraction is a powerful tool in large-scale software development that simplifies complexity, promotes reusability, enhances modularity, and facilitates collaboration. By allowing developers to focus on high-level concepts and interactions rather than low-level details, abstraction leads to more maintainable, extensible, and secure software systems. Embracing abstraction in software design not only improves the quality of the code but also enhances the overall efficiency of the development process.\""
      ]
     },
     "execution_count": 8,
     "metadata": {},
     "output_type": "execute_result"
    }
   ],
   "source": [
    "'''Abstraction plays a crucial role in large-scale software development projects, offering several benefits that enhance the overall efficiency, maintainability, and scalability of the software. Here are the key benefits of using abstraction in such projects:\n",
    "\n",
    "### 1. Simplification of Complex Systems\n",
    "\n",
    "Abstraction allows developers to simplify complex systems by focusing on high-level functionalities rather than low-level implementation details. This simplification enables teams to understand and manage large codebases more effectively, making it easier to reason about the system as a whole [4].\n",
    "\n",
    "### 2. Improved Code Reusability\n",
    "\n",
    "By defining common interfaces and abstract classes, abstraction promotes code reusability. Developers can create generic components that can be reused across different parts of the application or even in different projects. This reduces duplication of code and encourages the use of standardized solutions, leading to more efficient development practices [5].\n",
    "\n",
    "### 3. Enhanced Modularity\n",
    "\n",
    "Abstraction encourages modular design, where different components of the system can be developed, tested, and maintained independently. This modularity allows teams to work concurrently on different parts of the project without interfering with each other, facilitating parallel development and reducing integration issues [4][5].\n",
    "\n",
    "### 4. Easier Maintenance and Extensibility\n",
    "\n",
    "With abstraction, the implementation details of components are hidden from the rest of the system. This separation means that changes to one part of the system can often be made without affecting other parts. As a result, software becomes easier to maintain and extend, allowing for the addition of new features or modifications to existing functionality with minimal disruption [4].\n",
    "\n",
    "### 5. Better Collaboration\n",
    "\n",
    "Abstraction allows different teams or developers to work on different modules or components of a project without needing to understand the intricacies of each other's work. By providing clear interfaces, teams can collaborate effectively, as they can rely on the defined contracts without delving into the underlying code [5].\n",
    "\n",
    "### 6. Facilitating Testing and Debugging\n",
    "\n",
    "By isolating functionalities through abstraction, it becomes easier to test individual components of the software. Developers can create unit tests for abstracted components, ensuring that each part functions correctly in isolation before integrating it into the larger system. This leads to more robust and reliable software [4].\n",
    "\n",
    "### 7. Scalability\n",
    "\n",
    "Abstraction supports scalability by allowing developers to build systems that can grow and evolve over time. As new requirements emerge, developers can create new abstractions or extend existing ones without needing to overhaul the entire system. This adaptability is crucial in large-scale projects where requirements can change frequently [4][5].\n",
    "\n",
    "### 8. Enhanced Security\n",
    "\n",
    "By abstracting away implementation details, sensitive data and complex logic can be hidden from users and other parts of the system. This encapsulation enhances security by reducing the risk of unauthorized access to critical components and data [5].\n",
    "\n",
    "### Conclusion\n",
    "\n",
    "In summary, abstraction is a powerful tool in large-scale software development that simplifies complexity, promotes reusability, enhances modularity, and facilitates collaboration. By allowing developers to focus on high-level concepts and interactions rather than low-level details, abstraction leads to more maintainable, extensible, and secure software systems. Embracing abstraction in software design not only improves the quality of the code but also enhances the overall efficiency of the development process.'''\n",
    "\n"
   ]
  },
  {
   "cell_type": "code",
   "execution_count": 9,
   "id": "3cebd2b1-0105-4543-b09a-e323c445769b",
   "metadata": {},
   "outputs": [
    {
     "data": {
      "text/plain": [
       "'Abstraction in Python enhances code reusability and modularity, which are crucial for developing maintainable and scalable software systems. Here’s how abstraction achieves these benefits:\\n\\n### 1. Code Reusability\\n\\n- **Common Interfaces**: Abstraction allows developers to define common interfaces through abstract classes. These interfaces specify a set of methods that must be implemented by any subclass. This means that once an abstract class is defined, multiple concrete classes can inherit from it and provide their implementations, leading to code reuse.\\n\\n- **Example**: Consider a game development framework where you have an abstract class `GameObject` that defines methods like `update()` and `render()`. Different game objects like `Player`, `Enemy`, and `Obstacle` can inherit from `GameObject` and implement these methods. This way, you can reuse the `update()` and `render()` logic across different types of game objects without duplicating code.\\n\\n### 2. Modularity\\n\\n- **Encapsulation of Functionality**: Abstraction promotes modularity by allowing developers to encapsulate functionality within abstract classes and their subclasses. Each subclass can implement the abstract methods in its own way while adhering to the same interface.\\n\\n- **Example**: In a drawing application, you might have an abstract class `Shape` with an abstract method `draw()`. Concrete subclasses like `Circle`, `Rectangle`, and `Triangle` can implement the `draw()` method differently. This modularity allows you to manage each shape independently, making it easier to modify or extend functionality without affecting other parts of the application.\\n\\n### 3. Simplified Maintenance and Extensibility\\n\\n- **Easier Updates**: When changes are needed, developers can focus on the abstract interface rather than the specific implementations in each subclass. This reduces the risk of introducing bugs when modifying code.\\n\\n- **Example**: If you decide to add a new shape, such as `Polygon`, to the drawing application, you can simply create a new subclass of `Shape` and implement the `draw()` method without altering the existing code for `Circle` or `Rectangle`. This makes the system extensible and easier to maintain.\\n\\n### 4. Flexibility in Design\\n\\n- **Interchangeable Implementations**: Abstraction allows for interchangeable implementations. Different subclasses can provide various implementations of the same abstract method, enabling developers to switch between them without changing the code that uses the abstract class.\\n\\n- **Example**: In a payment processing system, you might have an abstract class `PaymentProcessor` with an abstract method `process_payment()`. Concrete classes like `CreditCardProcessor` and `PayPalProcessor` can implement this method differently. The main application can use any payment processor interchangeably, enhancing flexibility.\\n\\n### Conclusion\\n\\nAbstraction significantly enhances code reusability and modularity in Python programs by allowing developers to define common interfaces and encapsulate functionality within abstract classes. This leads to cleaner, more maintainable code that is easier to extend and modify. By enabling interchangeable implementations and promoting a modular design, abstraction helps developers build robust and scalable software systems.'"
      ]
     },
     "execution_count": 9,
     "metadata": {},
     "output_type": "execute_result"
    }
   ],
   "source": [
    "'''Abstraction in Python enhances code reusability and modularity, which are crucial for developing maintainable and scalable software systems. Here’s how abstraction achieves these benefits:\n",
    "\n",
    "### 1. Code Reusability\n",
    "\n",
    "- **Common Interfaces**: Abstraction allows developers to define common interfaces through abstract classes. These interfaces specify a set of methods that must be implemented by any subclass. This means that once an abstract class is defined, multiple concrete classes can inherit from it and provide their implementations, leading to code reuse.\n",
    "\n",
    "- **Example**: Consider a game development framework where you have an abstract class `GameObject` that defines methods like `update()` and `render()`. Different game objects like `Player`, `Enemy`, and `Obstacle` can inherit from `GameObject` and implement these methods. This way, you can reuse the `update()` and `render()` logic across different types of game objects without duplicating code.\n",
    "\n",
    "### 2. Modularity\n",
    "\n",
    "- **Encapsulation of Functionality**: Abstraction promotes modularity by allowing developers to encapsulate functionality within abstract classes and their subclasses. Each subclass can implement the abstract methods in its own way while adhering to the same interface.\n",
    "\n",
    "- **Example**: In a drawing application, you might have an abstract class `Shape` with an abstract method `draw()`. Concrete subclasses like `Circle`, `Rectangle`, and `Triangle` can implement the `draw()` method differently. This modularity allows you to manage each shape independently, making it easier to modify or extend functionality without affecting other parts of the application.\n",
    "\n",
    "### 3. Simplified Maintenance and Extensibility\n",
    "\n",
    "- **Easier Updates**: When changes are needed, developers can focus on the abstract interface rather than the specific implementations in each subclass. This reduces the risk of introducing bugs when modifying code.\n",
    "\n",
    "- **Example**: If you decide to add a new shape, such as `Polygon`, to the drawing application, you can simply create a new subclass of `Shape` and implement the `draw()` method without altering the existing code for `Circle` or `Rectangle`. This makes the system extensible and easier to maintain.\n",
    "\n",
    "### 4. Flexibility in Design\n",
    "\n",
    "- **Interchangeable Implementations**: Abstraction allows for interchangeable implementations. Different subclasses can provide various implementations of the same abstract method, enabling developers to switch between them without changing the code that uses the abstract class.\n",
    "\n",
    "- **Example**: In a payment processing system, you might have an abstract class `PaymentProcessor` with an abstract method `process_payment()`. Concrete classes like `CreditCardProcessor` and `PayPalProcessor` can implement this method differently. The main application can use any payment processor interchangeably, enhancing flexibility.\n",
    "\n",
    "### Conclusion\n",
    "\n",
    "Abstraction significantly enhances code reusability and modularity in Python programs by allowing developers to define common interfaces and encapsulate functionality within abstract classes. This leads to cleaner, more maintainable code that is easier to extend and modify. By enabling interchangeable implementations and promoting a modular design, abstraction helps developers build robust and scalable software systems.'''\n",
    "\n"
   ]
  },
  {
   "cell_type": "code",
   "execution_count": 10,
   "id": "3faca00a-cf90-4baf-9161-6a915b2cd122",
   "metadata": {},
   "outputs": [
    {
     "name": "stdout",
     "output_type": "stream",
     "text": [
      "Public Library Operations:\n",
      "Added book: '1984' by George Orwell to the Public Library.\n",
      "Added book: 'To Kill a Mockingbird' by Harper Lee to the Public Library.\n",
      "Displaying available books:\n",
      "'1984' by George Orwell\n",
      "'To Kill a Mockingbird' by Harper Lee\n",
      "You have borrowed '1984'.\n",
      "Displaying available books:\n",
      "'To Kill a Mockingbird' by Harper Lee\n",
      "You have returned '1984' by George Orwell to the Public Library.\n",
      "Displaying available books:\n",
      "'To Kill a Mockingbird' by Harper Lee\n",
      "'1984' by George Orwell\n",
      "\n",
      "University Library Operations:\n",
      "Added book: '1984' by George Orwell to the University Library.\n",
      "Added book: 'To Kill a Mockingbird' by Harper Lee to the University Library.\n",
      "Displaying available books:\n",
      "'1984' by George Orwell\n",
      "'To Kill a Mockingbird' by Harper Lee\n",
      "You have borrowed '1984' from the University Library.\n",
      "Displaying available books:\n",
      "'To Kill a Mockingbird' by Harper Lee\n",
      "You have returned '1984' by George Orwell to the University Library.\n",
      "Displaying available books:\n",
      "'To Kill a Mockingbird' by Harper Lee\n",
      "'1984' by George Orwell\n"
     ]
    }
   ],
   "source": [
    "from abc import ABC, abstractmethod\n",
    "\n",
    "class Library(ABC):\n",
    "    @abstractmethod\n",
    "    def add_book(self, title, author):\n",
    "        \"\"\"Abstract method to add a book to the library.\"\"\"\n",
    "        pass\n",
    "\n",
    "    @abstractmethod\n",
    "    def borrow_book(self, title):\n",
    "        \"\"\"Abstract method to borrow a book from the library.\"\"\"\n",
    "        pass\n",
    "\n",
    "    @abstractmethod\n",
    "    def return_book(self, title):\n",
    "        \"\"\"Abstract method to return a book to the library.\"\"\"\n",
    "        pass\n",
    "\n",
    "    def display_books(self):\n",
    "        \"\"\"Concrete method to display available books.\"\"\"\n",
    "        print(\"Displaying available books:\")\n",
    "\n",
    "\n",
    "class PublicLibrary(Library):\n",
    "    def __init__(self):\n",
    "        self.books = {}\n",
    "\n",
    "    def add_book(self, title, author):\n",
    "        self.books[title] = author\n",
    "        print(f\"Added book: '{title}' by {author} to the Public Library.\")\n",
    "\n",
    "    def borrow_book(self, title):\n",
    "        if title in self.books:\n",
    "            del self.books[title]\n",
    "            print(f\"You have borrowed '{title}'.\")\n",
    "        else:\n",
    "            print(f\"Sorry, '{title}' is not available in the Public Library.\")\n",
    "\n",
    "    def return_book(self, title, author):\n",
    "        self.books[title] = author\n",
    "        print(f\"You have returned '{title}' by {author} to the Public Library.\")\n",
    "\n",
    "    def display_books(self):\n",
    "        super().display_books()\n",
    "        for title, author in self.books.items():\n",
    "            print(f\"'{title}' by {author}\")\n",
    "\n",
    "\n",
    "class UniversityLibrary(Library):\n",
    "    def __init__(self):\n",
    "        self.books = {}\n",
    "\n",
    "    def add_book(self, title, author):\n",
    "        self.books[title] = author\n",
    "        print(f\"Added book: '{title}' by {author} to the University Library.\")\n",
    "\n",
    "    def borrow_book(self, title):\n",
    "        if title in self.books:\n",
    "            del self.books[title]\n",
    "            print(f\"You have borrowed '{title}' from the University Library.\")\n",
    "        else:\n",
    "            print(f\"Sorry, '{title}' is not available in the University Library.\")\n",
    "\n",
    "    def return_book(self, title, author):\n",
    "        self.books[title] = author\n",
    "        print(f\"You have returned '{title}' by {author} to the University Library.\")\n",
    "\n",
    "    def display_books(self):\n",
    "        super().display_books()\n",
    "        for title, author in self.books.items():\n",
    "            print(f\"'{title}' by {author}\")\n",
    "\n",
    "\n",
    "def library_operations(library):\n",
    "    library.add_book(\"1984\", \"George Orwell\")\n",
    "    library.add_book(\"To Kill a Mockingbird\", \"Harper Lee\")\n",
    "    library.display_books()\n",
    "    library.borrow_book(\"1984\")\n",
    "    library.display_books()\n",
    "    library.return_book(\"1984\", \"George Orwell\")\n",
    "    library.display_books()\n",
    "\n",
    "\n",
    "public_library = PublicLibrary()\n",
    "university_library = UniversityLibrary()\n",
    "\n",
    "\n",
    "print(\"Public Library Operations:\")\n",
    "library_operations(public_library)\n",
    "\n",
    "print(\"\\nUniversity Library Operations:\")\n",
    "library_operations(university_library)\n"
   ]
  },
  {
   "cell_type": "code",
   "execution_count": 11,
   "id": "2307b973-07cb-4883-ac84-e6614c781463",
   "metadata": {},
   "outputs": [
    {
     "name": "stdout",
     "output_type": "stream",
     "text": [
      "Bark\n",
      "Meow\n"
     ]
    },
    {
     "data": {
      "text/plain": [
       "'1. **Abstract Class**: The `Animal` class is defined as an abstract class using the `ABC` module. It contains the abstract method `make_sound()`, which does not have an implementation.\\n\\n2. **Concrete Subclasses**: The `Dog` and `Cat` classes inherit from `Animal` and provide their implementations of the `make_sound()` method. Each subclass defines how it makes a sound.\\n\\n3. **Polymorphic Function**: The `animal_sound()` function takes an `Animal` object as an argument and calls the `make_sound()` method. This demonstrates polymorphism, as the same function can operate on different types of animals (Dog and Cat) without knowing their specific implementations.\\n\\n### Relationship Between Method Abstraction and Polymorphism\\n\\n1. **Unified Interface**: Method abstraction allows different subclasses to implement the same method defined in an abstract class. This creates a unified interface that can be used to interact with different objects, regardless of their specific types.\\n\\n2. **Dynamic Method Resolution**: Polymorphism enables dynamic method resolution, where the method that gets executed is determined at runtime based on the actual object type. This allows for flexible and reusable code, as the same function can work with different object types that share a common interface.\\n\\n3. **Code Flexibility and Maintainability**: By using method abstraction and polymorphism together, developers can write code that is flexible and easy to maintain. Changes to the implementation of a method in a subclass do not affect the code that uses the abstract class, as long as the interface remains consistent.\\n\\n### Conclusion\\n\\nMethod abstraction in Python is a powerful concept that allows developers to define a common interface for a group of related classes while leaving the implementation details to the subclasses. This approach promotes code reusability and maintainability. When combined with polymorphism, method abstraction enables a unified interface for interacting with different object types, allowing for flexible and dynamic behavior in software applications. Together, these concepts form the foundation of effective object-oriented programming in Python.'"
      ]
     },
     "execution_count": 11,
     "metadata": {},
     "output_type": "execute_result"
    }
   ],
   "source": [
    "'''Method abstraction in Python is a fundamental concept in object-oriented programming that allows developers to define methods in a base class without providing a specific implementation. Instead, the implementation is left to the subclasses that inherit from the base class. This concept is closely related to polymorphism, which allows objects of different classes to be treated as objects of a common superclass, enabling a unified interface for interacting with different types of objects.\n",
    "\n",
    "### Key Concepts of Method Abstraction\n",
    "\n",
    "1. **Abstract Methods**:\n",
    "   - In Python, abstract methods are defined using the `@abstractmethod` decorator from the `abc` (Abstract Base Class) module. An abstract method is declared in an abstract class and does not contain any implementation. Subclasses are required to provide concrete implementations for these abstract methods.\n",
    "   - Abstract methods serve as a blueprint for subclasses, ensuring that they implement specific functionality while allowing flexibility in how that functionality is realized.\n",
    "\n",
    "2. **Abstract Classes**:\n",
    "   - An abstract class is a class that cannot be instantiated directly and contains one or more abstract methods. It provides a common interface for its subclasses, enforcing a contract that they must adhere to.\n",
    "   - Abstract classes can also contain concrete methods (methods with implementations) that can be inherited by subclasses.\n",
    "\n",
    "### Example of Method Abstraction\n",
    "\n",
    "Here’s a simple example that illustrates method abstraction in Python:\n",
    "\n",
    "```python'''\n",
    "from abc import ABC, abstractmethod\n",
    "\n",
    "\n",
    "class Animal(ABC):\n",
    "    @abstractmethod\n",
    "    def make_sound(self):\n",
    "        \"\"\"Abstract method for making a sound.\"\"\"\n",
    "        pass\n",
    "\n",
    "\n",
    "class Dog(Animal):\n",
    "    def make_sound(self):\n",
    "        return \"Bark\"\n",
    "\n",
    "\n",
    "class Cat(Animal):\n",
    "    def make_sound(self):\n",
    "        return \"Meow\"\n",
    "\n",
    "\n",
    "def animal_sound(animal):\n",
    "    print(animal.make_sound())\n",
    "\n",
    "\n",
    "dog = Dog()\n",
    "cat = Cat()\n",
    "\n",
    "animal_sound(dog)  \n",
    "animal_sound(cat)  \n",
    "\n",
    "\n",
    "### Explanation of the Example:\n",
    "\n",
    "'''1. **Abstract Class**: The `Animal` class is defined as an abstract class using the `ABC` module. It contains the abstract method `make_sound()`, which does not have an implementation.\n",
    "\n",
    "2. **Concrete Subclasses**: The `Dog` and `Cat` classes inherit from `Animal` and provide their implementations of the `make_sound()` method. Each subclass defines how it makes a sound.\n",
    "\n",
    "3. **Polymorphic Function**: The `animal_sound()` function takes an `Animal` object as an argument and calls the `make_sound()` method. This demonstrates polymorphism, as the same function can operate on different types of animals (Dog and Cat) without knowing their specific implementations.\n",
    "\n",
    "### Relationship Between Method Abstraction and Polymorphism\n",
    "\n",
    "1. **Unified Interface**: Method abstraction allows different subclasses to implement the same method defined in an abstract class. This creates a unified interface that can be used to interact with different objects, regardless of their specific types.\n",
    "\n",
    "2. **Dynamic Method Resolution**: Polymorphism enables dynamic method resolution, where the method that gets executed is determined at runtime based on the actual object type. This allows for flexible and reusable code, as the same function can work with different object types that share a common interface.\n",
    "\n",
    "3. **Code Flexibility and Maintainability**: By using method abstraction and polymorphism together, developers can write code that is flexible and easy to maintain. Changes to the implementation of a method in a subclass do not affect the code that uses the abstract class, as long as the interface remains consistent.\n",
    "\n",
    "### Conclusion\n",
    "\n",
    "Method abstraction in Python is a powerful concept that allows developers to define a common interface for a group of related classes while leaving the implementation details to the subclasses. This approach promotes code reusability and maintainability. When combined with polymorphism, method abstraction enables a unified interface for interacting with different object types, allowing for flexible and dynamic behavior in software applications. Together, these concepts form the foundation of effective object-oriented programming in Python.'''"
   ]
  },
  {
   "cell_type": "code",
   "execution_count": 12,
   "id": "a7cd0a83-b25a-47d7-b401-56948b2380cf",
   "metadata": {},
   "outputs": [
    {
     "name": "stdout",
     "output_type": "stream",
     "text": [
      "Engine started.\n",
      "Engine stopped.\n"
     ]
    },
    {
     "data": {
      "text/plain": [
       "\"By using composition, you can build complex objects by combining simpler objects. This approach has several advantages:\\n\\n1. **Flexibility**: Composition is more flexible than inheritance because you can change the composition at runtime. For example, you can change the engine of a car without modifying the car's code.\\n\\n2. **Reusability**: Composition promotes code reuse because you can use the same object in different contexts. For example, you can use the same engine in different types of cars.\\n\\n3. **Testability**: Composition makes it easier to test individual components in isolation. For example, you can test the `Engine` class without having to test the entire `Car` class.\\n\\n4. **Maintainability**: Composition can make your code more maintainable because changes to one component do not affect other components. For example, you can modify the implementation of the `Engine` class without affecting the `Car` class.\\n\\nComposition is a powerful design pattern that can help you build complex objects in Python. By combining simpler objects, you can create more flexible, reusable, and maintainable code.\""
      ]
     },
     "execution_count": 12,
     "metadata": {},
     "output_type": "execute_result"
    }
   ],
   "source": [
    "'''Composition in Python is a design pattern that allows you to build complex objects by combining simpler objects. It is an alternative to inheritance and is often considered a stronger form of code reuse. In composition, an object contains an instance of another object as a field and delegates some of the work to that object.\n",
    "\n",
    "Here's how composition works in Python:\n",
    "\n",
    "1. **Creating a class that represents a simpler object**:\n",
    "```python'''\n",
    "class Engine:\n",
    "    def start(self):\n",
    "        print(\"Engine started.\")\n",
    "\n",
    "    def stop(self):\n",
    "        print(\"Engine stopped.\")\n",
    "\n",
    "\n",
    "#2. **Creating a class that represents a more complex object and contains an instance of the simpler object**:\n",
    "\n",
    "class Car:\n",
    "    def __init__(self):\n",
    "        self.engine = Engine()\n",
    "\n",
    "    def start(self):\n",
    "        self.engine.start()\n",
    "\n",
    "    def stop(self):\n",
    "        self.engine.stop()\n",
    "\n",
    "#In this example, the `Car` class contains an instance of the `Engine` class as a field. The `Car` class delegates the `start()` and `stop()` methods to the `Engine` object.\n",
    "\n",
    "#3. **Using the composed object**:\n",
    "\n",
    "car = Car()\n",
    "car.start()  \n",
    "car.stop()  \n",
    "\n",
    "'''By using composition, you can build complex objects by combining simpler objects. This approach has several advantages:\n",
    "\n",
    "1. **Flexibility**: Composition is more flexible than inheritance because you can change the composition at runtime. For example, you can change the engine of a car without modifying the car's code.\n",
    "\n",
    "2. **Reusability**: Composition promotes code reuse because you can use the same object in different contexts. For example, you can use the same engine in different types of cars.\n",
    "\n",
    "3. **Testability**: Composition makes it easier to test individual components in isolation. For example, you can test the `Engine` class without having to test the entire `Car` class.\n",
    "\n",
    "4. **Maintainability**: Composition can make your code more maintainable because changes to one component do not affect other components. For example, you can modify the implementation of the `Engine` class without affecting the `Car` class.\n",
    "\n",
    "Composition is a powerful design pattern that can help you build complex objects in Python. By combining simpler objects, you can create more flexible, reusable, and maintainable code.'''"
   ]
  },
  {
   "cell_type": "code",
   "execution_count": null,
   "id": "d090f9b4-139b-4b2c-8a04-39d14358ecbb",
   "metadata": {},
   "outputs": [],
   "source": [
    "'''The main difference between composition and inheritance in object-oriented programming is the way they establish relationships between classes:\n",
    "\n",
    "## Inheritance\n",
    "\n",
    "- **Inheritance** establishes an \"is-a\" relationship between classes.\n",
    "- A subclass inherits attributes and methods from its superclass.\n",
    "- Subclasses are specialized versions of their superclass.\n",
    "- Subclasses can override or extend the behavior inherited from the superclass.\n",
    "- Inheritance creates a hierarchical relationship between classes.\n",
    "\n",
    "Example:\n",
    "```python'''\n",
    "class Animal:\n",
    "    def make_sound(self):\n",
    "        pass\n",
    "\n",
    "class Dog(Animal):\n",
    "    def make_sound(self):\n",
    "        print(\"Woof!\")\n",
    "\n",
    "\n",
    "#In this example, `Dog` is a subclass of `Animal`. `Dog` inherits the `make_sound()` method from `Animal` and overrides it with its own implementation.\n",
    "\n",
    "## Composition\n",
    "\n",
    "'''- **Composition** establishes a \"has-a\" relationship between classes.\n",
    "- A class contains an instance of another class as a property.\n",
    "- The containing class uses the functionality of the contained class to achieve its own goals.\n",
    "- Composition allows for more flexibility in building complex objects.\n",
    "- Composition promotes code reuse without the rigid hierarchies of inheritance.\n",
    "\n",
    "Example:\n",
    "```python'''\n",
    "class Engine:\n",
    "    def start(self):\n",
    "        print(\"Engine started.\")\n",
    "\n",
    "    def stop(self):\n",
    "        print(\"Engine stopped.\")\n",
    "\n",
    "class Car:\n",
    "    def __init__(self):\n",
    "        self.engine = Engine()\n",
    "\n",
    "    def start(self):\n",
    "        self.engine.start()\n",
    "\n",
    "    def stop(self):\n",
    "        self.engine.stop()\n",
    "\n",
    "\n",
    "'''In this example, `Car` contains an instance of `Engine` as a property. `Car` uses the `start()` and `stop()` methods of `Engine` to achieve its own functionality.\n",
    "\n",
    "Key differences:\n",
    "- **Inheritance** focuses on \"what\" an object is, while **composition** focuses on \"what\" an object has.\n",
    "- **Inheritance** creates a static hierarchy, while **composition** allows for more dynamic relationships.\n",
    "- **Inheritance** couples classes together, while **composition** promotes loose coupling and reusability.\n",
    "- **Inheritance** is a compile-time binding, while **composition** is a runtime binding.\n",
    "\n",
    "Both inheritance and composition are important tools in object-oriented programming, and the choice between them depends on the specific requirements of the application.'''\n",
    "\n"
   ]
  },
  {
   "cell_type": "code",
   "execution_count": 13,
   "id": "82e78285-1e45-47ea-8fc8-33cd0116bb49",
   "metadata": {},
   "outputs": [
    {
     "name": "stdout",
     "output_type": "stream",
     "text": [
      "'1984' by George Orwell, born on 1903-06-25\n"
     ]
    }
   ],
   "source": [
    "from datetime import datetime\n",
    "\n",
    "\n",
    "class Author:\n",
    "    def __init__(self, name, birthdate):\n",
    "        self.name = name\n",
    "        self.birthdate = birthdate  \n",
    "\n",
    "    def __str__(self):\n",
    "        return f\"{self.name}, born on {self.birthdate.strftime('%Y-%m-%d')}\"\n",
    "\n",
    "\n",
    "class Book:\n",
    "    def __init__(self, title, author):\n",
    "        self.title = title\n",
    "        self.author = author  \n",
    "\n",
    "    def __str__(self):\n",
    "        return f\"'{self.title}' by {self.author}\"\n",
    "\n",
    "\n",
    "if __name__ == \"__main__\":\n",
    "    \n",
    "    author = Author(\"George Orwell\", datetime(1903, 6, 25))\n",
    "\n",
    "   \n",
    "    book = Book(\"1984\", author)\n",
    "\n",
    "    \n",
    "    print(book)\n"
   ]
  },
  {
   "cell_type": "code",
   "execution_count": 14,
   "id": "f0f958b7-6f54-4929-9134-6a3117c7fcb7",
   "metadata": {},
   "outputs": [
    {
     "data": {
      "text/plain": [
       "'Composition and inheritance are both fundamental concepts in object-oriented programming, but they serve different purposes and offer distinct advantages. Here, we will discuss the benefits of using composition over inheritance in Python, particularly focusing on code flexibility and reusability.\\n\\n### 1. Code Flexibility\\n\\n- **Dynamic Relationships**: Composition allows for more dynamic relationships between objects. You can easily change the components of a composed object at runtime. For example, if a `Car` class uses an `Engine` class through composition, you can swap out the engine for a different one without modifying the `Car` class itself. This is not as straightforward with inheritance, where the subclass is tightly coupled to its superclass.\\n\\n- **Easier Modifications**: When using composition, you can modify or replace components independently. If you need to change the behavior of a part of a system, you can do so by altering or replacing the composed object without affecting other parts of the system. This leads to a more maintainable codebase.\\n\\n### 2. Code Reusability\\n\\n- **Shared Components**: With composition, you can reuse the same component in multiple classes without the need for a rigid inheritance hierarchy. For example, if you have a `Logger` class, you can compose it into various classes (like `User`, `Order`, `Product`) without needing to create subclasses for each one. This promotes code reuse without duplication.\\n\\n- **Avoiding Inheritance Hell**: Inheritance can lead to complex hierarchies that are difficult to manage, often referred to as \"inheritance hell.\" Composition avoids this issue by allowing you to compose behaviors and functionalities from multiple classes without creating deep and complicated inheritance trees.\\n\\n### 3. Loose Coupling\\n\\n- **Reduced Dependency**: Composition promotes loose coupling between classes. When a class uses composition, it interacts with other classes through well-defined interfaces rather than relying on the specific implementation details of its parent class. This reduces dependencies and makes it easier to change or replace components without affecting the entire system.\\n\\n- **Encapsulation of Behavior**: Each component in a composed object can encapsulate its behavior, making it easier to understand and manage. This encapsulation allows developers to focus on individual components without needing to understand the entire system.\\n\\n### 4. Improved Testing and Maintenance\\n\\n- **Isolated Testing**: Since components are independent, they can be tested in isolation. This makes unit testing easier and more effective, as you can focus on testing the behavior of individual components without worrying about the entire class hierarchy.\\n\\n- **Simpler Refactoring**: When changes are needed, refactoring a composed object is often simpler than refactoring a class hierarchy. You can modify or replace components without needing to alter the entire structure of the code, leading to safer and more straightforward updates.\\n\\n### Conclusion\\n\\nIn summary, composition offers significant benefits over inheritance in terms of code flexibility and reusability. By allowing dynamic relationships between objects, promoting loose coupling, and facilitating easier modifications and testing, composition leads to a more maintainable and adaptable codebase. While inheritance has its place in object-oriented design, composition is often the preferred approach for building complex systems that require flexibility and reusability. By leveraging composition, developers can create systems that are easier to understand, modify, and extend over time.'"
      ]
     },
     "execution_count": 14,
     "metadata": {},
     "output_type": "execute_result"
    }
   ],
   "source": [
    "'''Composition and inheritance are both fundamental concepts in object-oriented programming, but they serve different purposes and offer distinct advantages. Here, we will discuss the benefits of using composition over inheritance in Python, particularly focusing on code flexibility and reusability.\n",
    "\n",
    "### 1. Code Flexibility\n",
    "\n",
    "- **Dynamic Relationships**: Composition allows for more dynamic relationships between objects. You can easily change the components of a composed object at runtime. For example, if a `Car` class uses an `Engine` class through composition, you can swap out the engine for a different one without modifying the `Car` class itself. This is not as straightforward with inheritance, where the subclass is tightly coupled to its superclass.\n",
    "\n",
    "- **Easier Modifications**: When using composition, you can modify or replace components independently. If you need to change the behavior of a part of a system, you can do so by altering or replacing the composed object without affecting other parts of the system. This leads to a more maintainable codebase.\n",
    "\n",
    "### 2. Code Reusability\n",
    "\n",
    "- **Shared Components**: With composition, you can reuse the same component in multiple classes without the need for a rigid inheritance hierarchy. For example, if you have a `Logger` class, you can compose it into various classes (like `User`, `Order`, `Product`) without needing to create subclasses for each one. This promotes code reuse without duplication.\n",
    "\n",
    "- **Avoiding Inheritance Hell**: Inheritance can lead to complex hierarchies that are difficult to manage, often referred to as \"inheritance hell.\" Composition avoids this issue by allowing you to compose behaviors and functionalities from multiple classes without creating deep and complicated inheritance trees.\n",
    "\n",
    "### 3. Loose Coupling\n",
    "\n",
    "- **Reduced Dependency**: Composition promotes loose coupling between classes. When a class uses composition, it interacts with other classes through well-defined interfaces rather than relying on the specific implementation details of its parent class. This reduces dependencies and makes it easier to change or replace components without affecting the entire system.\n",
    "\n",
    "- **Encapsulation of Behavior**: Each component in a composed object can encapsulate its behavior, making it easier to understand and manage. This encapsulation allows developers to focus on individual components without needing to understand the entire system.\n",
    "\n",
    "### 4. Improved Testing and Maintenance\n",
    "\n",
    "- **Isolated Testing**: Since components are independent, they can be tested in isolation. This makes unit testing easier and more effective, as you can focus on testing the behavior of individual components without worrying about the entire class hierarchy.\n",
    "\n",
    "- **Simpler Refactoring**: When changes are needed, refactoring a composed object is often simpler than refactoring a class hierarchy. You can modify or replace components without needing to alter the entire structure of the code, leading to safer and more straightforward updates.\n",
    "\n",
    "### Conclusion\n",
    "\n",
    "In summary, composition offers significant benefits over inheritance in terms of code flexibility and reusability. By allowing dynamic relationships between objects, promoting loose coupling, and facilitating easier modifications and testing, composition leads to a more maintainable and adaptable codebase. While inheritance has its place in object-oriented design, composition is often the preferred approach for building complex systems that require flexibility and reusability. By leveraging composition, developers can create systems that are easier to understand, modify, and extend over time.'''"
   ]
  },
  {
   "cell_type": "code",
   "execution_count": 15,
   "id": "e67ae2cd-e657-430e-a385-e747a10fb5ba",
   "metadata": {},
   "outputs": [
    {
     "name": "stdout",
     "output_type": "stream",
     "text": [
      "Contact Information:\n",
      "John Doe, Age: 30\n",
      "Address: 123 Main St, Springfield, IL 62701\n"
     ]
    },
    {
     "data": {
      "text/plain": [
       "\"1. **Address Class**: The `Address` class encapsulates the details of an address, including street, city, state, and zip code. It has a `__str__` method to provide a string representation.\\n\\n2. **Person Class**: The `Person` class encapsulates a person's name and age, with a `__str__` method for string representation.\\n\\n3. **Contact Class**: The `Contact` class uses composition by containing instances of `Person` and `Address`. It has a method `display_contact_info()` that prints the contact's information.\\n\\n4. **Example Usage**: In the `__main__` block, instances of `Address` and `Person` are created, and then a `Contact` object is instantiated using these two objects. Finally, the contact information is displayed.\\n\\n\\n\\n\\n### Benefits of Using Composition\\n\\n- **Flexibility**: You can easily change the components of a composite object. For instance, you can create a new `Address` object and assign it to an existing `Contact` object without changing the `Person`.\\n\\n- **Reusability**: The `Address` and `Person` classes can be reused in different contexts or combined with other classes, promoting code reuse.\\n\\n- **Encapsulation**: Each class encapsulates its own data and behavior, making the code more organized and easier to maintain.\\n\\n- **Loose Coupling**: Changes to one class (e.g., `Address`) do not directly affect the other classes (e.g., `Person`), leading to a more modular design.\\n\\n### Conclusion\\n\\nComposition is a powerful design principle in Python that allows you to build complex objects from simpler ones. By encapsulating functionalities in separate classes and using them as components, you can create flexible, reusable, and maintainable code. The example provided illustrates how to implement composition effectively in Python classes.\""
      ]
     },
     "execution_count": 15,
     "metadata": {},
     "output_type": "execute_result"
    }
   ],
   "source": [
    "'''Composition in Python allows you to create complex objects by combining simpler objects, promoting flexibility and reusability. Here’s how you can implement composition in Python classes, along with examples to illustrate the concept.\n",
    "\n",
    "### Implementing Composition in Python Classes\n",
    "\n",
    "1. **Define Simple Classes**: Start by defining classes that represent simpler components. These classes will encapsulate specific functionalities.\n",
    "\n",
    "2. **Create a Complex Class**: Define a class that contains instances of the simpler classes as attributes. This complex class will use the functionalities of the contained objects.\n",
    "\n",
    "### Example of Composition\n",
    "\n",
    "Let's create a `Person` class and a `Address` class, and then use composition to create a `Contact` class that contains a `Person` and an `Address`.\n",
    "\n",
    "```python'''\n",
    "\n",
    "class Address:\n",
    "    def __init__(self, street, city, state, zip_code):\n",
    "        self.street = street\n",
    "        self.city = city\n",
    "        self.state = state\n",
    "        self.zip_code = zip_code\n",
    "\n",
    "    def __str__(self):\n",
    "        return f\"{self.street}, {self.city}, {self.state} {self.zip_code}\"\n",
    "\n",
    "\n",
    "class Person:\n",
    "    def __init__(self, name, age):\n",
    "        self.name = name\n",
    "        self.age = age\n",
    "\n",
    "    def __str__(self):\n",
    "        return f\"{self.name}, Age: {self.age}\"\n",
    "\n",
    "\n",
    "class Contact:\n",
    "    def __init__(self, person, address):\n",
    "        self.person = person  \n",
    "        self.address = address  \n",
    "\n",
    "    def display_contact_info(self):\n",
    "        print(f\"Contact Information:\\n{self.person}\\nAddress: {self.address}\")\n",
    "\n",
    "\n",
    "if __name__ == \"__main__\":\n",
    "   \n",
    "    address = Address(\"123 Main St\", \"Springfield\", \"IL\", \"62701\")\n",
    "\n",
    "    \n",
    "    person = Person(\"John Doe\", 30)\n",
    "\n",
    "   \n",
    "    contact = Contact(person, address)\n",
    "\n",
    "   \n",
    "    contact.display_contact_info()\n",
    "\n",
    "\n",
    "### Explanation of the Example:\n",
    "\n",
    "'''1. **Address Class**: The `Address` class encapsulates the details of an address, including street, city, state, and zip code. It has a `__str__` method to provide a string representation.\n",
    "\n",
    "2. **Person Class**: The `Person` class encapsulates a person's name and age, with a `__str__` method for string representation.\n",
    "\n",
    "3. **Contact Class**: The `Contact` class uses composition by containing instances of `Person` and `Address`. It has a method `display_contact_info()` that prints the contact's information.\n",
    "\n",
    "4. **Example Usage**: In the `__main__` block, instances of `Address` and `Person` are created, and then a `Contact` object is instantiated using these two objects. Finally, the contact information is displayed.\n",
    "\n",
    "\n",
    "\n",
    "\n",
    "### Benefits of Using Composition\n",
    "\n",
    "- **Flexibility**: You can easily change the components of a composite object. For instance, you can create a new `Address` object and assign it to an existing `Contact` object without changing the `Person`.\n",
    "\n",
    "- **Reusability**: The `Address` and `Person` classes can be reused in different contexts or combined with other classes, promoting code reuse.\n",
    "\n",
    "- **Encapsulation**: Each class encapsulates its own data and behavior, making the code more organized and easier to maintain.\n",
    "\n",
    "- **Loose Coupling**: Changes to one class (e.g., `Address`) do not directly affect the other classes (e.g., `Person`), leading to a more modular design.\n",
    "\n",
    "### Conclusion\n",
    "\n",
    "Composition is a powerful design principle in Python that allows you to build complex objects from simpler ones. By encapsulating functionalities in separate classes and using them as components, you can create flexible, reusable, and maintainable code. The example provided illustrates how to implement composition effectively in Python classes.'''\n",
    "\n"
   ]
  },
  {
   "cell_type": "code",
   "execution_count": 20,
   "id": "11715d8a-6eb3-4b16-8ee3-f4644dc856b6",
   "metadata": {},
   "outputs": [
    {
     "name": "stdout",
     "output_type": "stream",
     "text": [
      "Created playlist 'My Favorite Songs'.\n",
      "Added 'Imagine' to playlist 'My Favorite Songs'.\n",
      "Added 'Bohemian Rhapsody' to playlist 'My Favorite Songs'.\n",
      "Available Playlists:\n",
      "Playlist: My Favorite Songs\n",
      " - Imagine by John Lennon (3:03)\n",
      " - Bohemian Rhapsody by Queen (5:54)\n",
      "Added 'Stairway to Heaven' to playlist 'My Favorite Songs'.\n",
      "Removed 'Imagine' from playlist 'My Favorite Songs'.\n",
      "Available Playlists:\n",
      "Playlist: My Favorite Songs\n",
      " - Bohemian Rhapsody by Queen (5:54)\n",
      " - Stairway to Heaven by Led Zeppelin (8:02)\n"
     ]
    }
   ],
   "source": [
    "class Song:\n",
    "    def __init__(self, title, artist, duration):\n",
    "        self.title = title\n",
    "        self.artist = artist\n",
    "        self.duration = duration  \n",
    "\n",
    "    def __str__(self):\n",
    "        return f\"{self.title} by {self.artist} ({self.duration // 60}:{self.duration % 60:02d})\"\n",
    "\n",
    "\n",
    "class Playlist:\n",
    "    def __init__(self, name):\n",
    "        self.name = name\n",
    "        self.songs = []  \n",
    "\n",
    "    def add_song(self, song):\n",
    "        self.songs.append(song)\n",
    "        print(f\"Added '{song.title}' to playlist '{self.name}'.\")\n",
    "\n",
    "    def remove_song(self, song):\n",
    "        if song in self.songs:\n",
    "            self.songs.remove(song)\n",
    "            print(f\"Removed '{song.title}' from playlist '{self.name}'.\")\n",
    "        else:\n",
    "            print(f\"'{song.title}' is not in the playlist '{self.name}'.\")\n",
    "\n",
    "    def display_playlist(self):\n",
    "        print(f\"Playlist: {self.name}\")\n",
    "        for song in self.songs:\n",
    "            print(f\" - {song}\")\n",
    "\n",
    "\n",
    "class MusicPlayer:\n",
    "    def __init__(self):\n",
    "        self.playlists = [] \n",
    "\n",
    "    def create_playlist(self, name):\n",
    "        playlist = Playlist(name)\n",
    "        self.playlists.append(playlist)\n",
    "        print(f\"Created playlist '{name}'.\")\n",
    "\n",
    "    def add_song_to_playlist(self, playlist_name, song):\n",
    "        for playlist in self.playlists:\n",
    "            if playlist.name == playlist_name:\n",
    "                playlist.add_song(song)\n",
    "                return\n",
    "        print(f\"Playlist '{playlist_name}' not found.\")\n",
    "\n",
    "    def display_playlists(self):\n",
    "        print(\"Available Playlists:\")\n",
    "        for playlist in self.playlists:\n",
    "            playlist.display_playlist()\n",
    "\n",
    "\n",
    "\n",
    "if __name__ == \"__main__\":\n",
    "   \n",
    "    music_player = MusicPlayer()\n",
    "\n",
    " \n",
    "    song1 = Song(\"Imagine\", \"John Lennon\", 183)\n",
    "    song2 = Song(\"Bohemian Rhapsody\", \"Queen\", 354)\n",
    "    song3 = Song(\"Stairway to Heaven\", \"Led Zeppelin\", 482)\n",
    "\n",
    "    \n",
    "    music_player.create_playlist(\"My Favorite Songs\")\n",
    "\n",
    "    \n",
    "    music_player.add_song_to_playlist(\"My Favorite Songs\", song1)\n",
    "    music_player.add_song_to_playlist(\"My Favorite Songs\", song2)\n",
    "\n",
    " \n",
    "    music_player.display_playlists()\n",
    "\n",
    "  \n",
    "    music_player.add_song_to_playlist(\"My Favorite Songs\", song3)  \n",
    "    music_player.playlists[0].remove_song(song1) \n",
    "\n",
    "    \n",
    "    music_player.display_playlists()\n"
   ]
  },
  {
   "cell_type": "code",
   "execution_count": 21,
   "id": "1fb472b8-1af7-4460-a0e5-0bf2594cd469",
   "metadata": {},
   "outputs": [
    {
     "name": "stdout",
     "output_type": "stream",
     "text": [
      "Engine started.\n",
      "Engine stopped.\n"
     ]
    }
   ],
   "source": [
    "'''The concept of \"has-a\" relationships in composition is a fundamental principle in object-oriented programming that describes how one class contains or is composed of instances of another class. This relationship is crucial for building complex systems by combining simpler, reusable components. Here’s a detailed explanation of \"has-a\" relationships and how they help design software systems.\n",
    "\n",
    "### Understanding \"Has-A\" Relationships\n",
    "\n",
    "- **Definition**: A \"has-a\" relationship indicates that one object (the container) has a reference to another object (the contained) as part of its state. This is often implemented through composition, where the container class includes instances of other classes as attributes.\n",
    "\n",
    "- **Example**: Consider a `Car` class that has an `Engine` class. In this case, a `Car` has an `Engine`, which signifies that the `Car` class contains an instance of the `Engine` class. This relationship can be expressed as:\n",
    "  ```\n",
    "  Car has-a Engine\n",
    "  ```\n",
    "\n",
    "### Benefits of \"Has-A\" Relationships in Software Design\n",
    "\n",
    "1. **Encapsulation**:\n",
    "   - By using composition, you can encapsulate the behavior and state of the contained objects. This allows for better management of complexity, as each component can be developed and maintained independently. For example, an `Engine` class can handle all engine-related functionalities, while the `Car` class focuses on car-related behaviors.\n",
    "\n",
    "2. **Code Reusability**:\n",
    "   - Components designed with \"has-a\" relationships can be reused across different contexts. For instance, the same `Engine` class can be used in various types of vehicles (e.g., `Car`, `Truck`, `Motorcycle`), promoting code reuse without duplicating logic.\n",
    "\n",
    "3. **Flexibility**:\n",
    "   - Composition allows for dynamic relationships between objects. You can change the components of a composed object at runtime. For example, you can replace the engine of a car with a different engine type without modifying the `Car` class itself. This flexibility is not easily achieved with inheritance.\n",
    "\n",
    "4. **Loose Coupling**:\n",
    "   - \"Has-a\" relationships promote loose coupling between classes. The container class does not need to know the internal details of the contained class, only how to interact with it through its public interface. This reduces dependencies and makes it easier to modify or replace components without affecting the entire system.\n",
    "\n",
    "5. **Improved Testing and Maintenance**:\n",
    "   - Because components are independent, they can be tested in isolation. This makes unit testing more straightforward and effective. Additionally, changes to one component do not necessitate changes to others, simplifying maintenance.\n",
    "\n",
    "### Example of \"Has-A\" Relationship in Python\n",
    "\n",
    "Here’s a simple example to illustrate the \"has-a\" relationship using composition in Python:\n",
    "\n",
    "```python'''\n",
    "class Engine:\n",
    "    def start(self):\n",
    "        print(\"Engine started.\")\n",
    "\n",
    "    def stop(self):\n",
    "        print(\"Engine stopped.\")\n",
    "\n",
    "\n",
    "class Car:\n",
    "    def __init__(self):\n",
    "        self.engine = Engine()  \n",
    "\n",
    "    def start(self):\n",
    "        self.engine.start()  \n",
    "\n",
    "    def stop(self):\n",
    "        self.engine.stop()  \n",
    "\n",
    "\n",
    "\n",
    "if __name__ == \"__main__\":\n",
    "    my_car = Car()\n",
    "    my_car.start() \n",
    "    my_car.stop()   \n",
    "\n",
    "\n",
    "### Conclusion\n",
    "\n",
    "#The \"has-a\" relationship in composition is a powerful design principle that helps create flexible, reusable, and maintainable software systems. By allowing classes to contain instances of other classes, developers can build complex systems from simpler components, encapsulating behavior, promoting code reuse, and facilitating easier testing and maintenance. This approach leads to better-organized code and a more manageable architecture, making it a preferred choice in modern software design.\n",
    "\n"
   ]
  },
  {
   "cell_type": "code",
   "execution_count": 22,
   "id": "3937567a-c86a-4c56-b611-75c0b1a02aac",
   "metadata": {},
   "outputs": [
    {
     "name": "stdout",
     "output_type": "stream",
     "text": [
      "CPU (Intel Core i7) is processing with 8 cores.\n",
      "RAM (16GB) is storing data.\n",
      "SSD (512GB) is storing data.\n",
      "HDD (1000GB) is storing data.\n",
      "Computer system is booting up.\n",
      "Computer system is shutting down.\n"
     ]
    }
   ],
   "source": [
    "class CPU:\n",
    "    def __init__(self, model, cores):\n",
    "        self.model = model\n",
    "        self.cores = cores\n",
    "\n",
    "    def process(self):\n",
    "        print(f\"CPU ({self.model}) is processing with {self.cores} cores.\")\n",
    "\n",
    "class RAM:\n",
    "    def __init__(self, capacity):\n",
    "        self.capacity = capacity\n",
    "\n",
    "    def store_data(self):\n",
    "        print(f\"RAM ({self.capacity}GB) is storing data.\")\n",
    "\n",
    "class StorageDevice:\n",
    "    def __init__(self, device_type, capacity):\n",
    "        self.device_type = device_type\n",
    "        self.capacity = capacity\n",
    "\n",
    "    def store_data(self):\n",
    "        print(f\"{self.device_type} ({self.capacity}GB) is storing data.\")\n",
    "\n",
    "class ComputerSystem:\n",
    "    def __init__(self, cpu, ram, storage_devices):\n",
    "        self.cpu = cpu  \n",
    "        self.ram = ram  \n",
    "        self.storage_devices = storage_devices \n",
    "    def boot_up(self):\n",
    "        self.cpu.process()\n",
    "        self.ram.store_data()\n",
    "        for device in self.storage_devices:\n",
    "            device.store_data()\n",
    "        print(\"Computer system is booting up.\")\n",
    "\n",
    "    def shut_down(self):\n",
    "        print(\"Computer system is shutting down.\")\n",
    "\n",
    "\n",
    "if __name__ == \"__main__\":\n",
    "\n",
    "    cpu = CPU(\"Intel Core i7\", 8)\n",
    "    ram = RAM(16)\n",
    "    ssd = StorageDevice(\"SSD\", 512)\n",
    "    hdd = StorageDevice(\"HDD\", 1000)\n",
    "\n",
    "    \n",
    "    computer = ComputerSystem(cpu, ram, [ssd, hdd])\n",
    "\n",
    "  \n",
    "    computer.boot_up()\n",
    "    computer.shut_down()\n"
   ]
  },
  {
   "cell_type": "code",
   "execution_count": 23,
   "id": "9c0e003c-2ba9-403f-9a58-3670b57e6dbb",
   "metadata": {},
   "outputs": [
    {
     "name": "stdout",
     "output_type": "stream",
     "text": [
      "Playing 'Imagine - John Lennon'\n",
      "Paused playback.\n",
      "Stopped playback.\n"
     ]
    },
    {
     "data": {
      "text/plain": [
       "'1. **Player Class**: The `Player` class is responsible for the actual playback of songs. It has methods to play, pause, and stop playback.\\n\\n2. **MusicPlayer Class**: The `MusicPlayer` class contains an instance of the `Player` class. It delegates the play, pause, and stop actions to the `Player` instance.\\n\\n3. **Example Usage**: In the `__main__` block, an instance of `MusicPlayer` is created, and song playback actions are performed. The `MusicPlayer` class delegates these actions to the `Player` class.\\n\\n### Conclusion\\n\\nDelegation in composition simplifies the design of complex systems by promoting separation of concerns, enhancing modularity, and enabling code reusability. By allowing one object to delegate responsibilities to another, developers can create flexible and maintainable code that is easier to understand and adapt to changing requirements. This approach leads to cleaner architecture and encourages the development of independent, reusable components, making it a powerful tool in software design.'"
      ]
     },
     "execution_count": 23,
     "metadata": {},
     "output_type": "execute_result"
    }
   ],
   "source": [
    "'''The concept of **delegation** in composition is a design principle where an object (the delegator) hands off certain responsibilities or tasks to another object (the delegate). This allows for more modular and maintainable code, as the delegator can focus on its primary responsibilities while relying on the delegate for specific functionalities. Here’s a detailed explanation of delegation in composition and how it simplifies the design of complex systems.\n",
    "\n",
    "### Understanding Delegation in Composition\n",
    "\n",
    "1. **Definition**:\n",
    "   - Delegation involves an object relying on another object to perform a task or fulfill a responsibility. Instead of implementing all functionalities within a single class, the delegator class delegates some of its behavior to another class.\n",
    "\n",
    "2. **How It Works**:\n",
    "   - In a typical delegation scenario, the delegator class contains an instance of the delegate class. When a method is called on the delegator that requires the delegate's functionality, the delegator forwards the call to the delegate.\n",
    "\n",
    "### Benefits of Delegation in Software Design\n",
    "\n",
    "1. **Separation of Concerns**:\n",
    "   - Delegation promotes separation of concerns by allowing different classes to handle specific responsibilities. This leads to cleaner, more organized code, where each class has a well-defined role.\n",
    "\n",
    "2. **Enhanced Modularity**:\n",
    "   - By using delegation, you can create modular components that can be developed, tested, and maintained independently. This modularity makes it easier to understand and manage complex systems.\n",
    "\n",
    "3. **Code Reusability**:\n",
    "   - Delegation encourages code reuse. You can create reusable delegate classes that can be used across different delegator classes. For example, a logging class can be used as a delegate for multiple classes that need logging functionality.\n",
    "\n",
    "4. **Flexibility and Extensibility**:\n",
    "   - Delegation allows you to change the behavior of a class at runtime by swapping out the delegate. This flexibility enables you to extend the functionality of a system without modifying existing code, making it easier to adapt to changing requirements.\n",
    "\n",
    "5. **Simplified Testing**:\n",
    "   - Since the delegator and delegate classes can be tested independently, delegation simplifies the testing process. You can test the delegate's functionality in isolation before integrating it with the delegator.\n",
    "\n",
    "### Example of Delegation in Python\n",
    "\n",
    "Here’s a simple example demonstrating delegation in a music player system, where a `MusicPlayer` class delegates the task of playing a song to a `Player` class.\n",
    "\n",
    "```python'''\n",
    "class Player:\n",
    "    def play(self, song):\n",
    "        print(f\"Playing '{song}'\")\n",
    "\n",
    "    def pause(self):\n",
    "        print(\"Paused playback.\")\n",
    "\n",
    "    def stop(self):\n",
    "        print(\"Stopped playback.\")\n",
    "\n",
    "class MusicPlayer:\n",
    "    def __init__(self):\n",
    "        self.player = Player() \n",
    "\n",
    "    def play_song(self, song):\n",
    "        self.player.play(song)  \n",
    "\n",
    "    def pause_song(self):\n",
    "        self.player.pause()  \n",
    "\n",
    "    def stop_song(self):\n",
    "        self.player.stop()  \n",
    "\n",
    "\n",
    "if __name__ == \"__main__\":\n",
    "    music_player = MusicPlayer()\n",
    "    music_player.play_song(\"Imagine - John Lennon\")\n",
    "    music_player.pause_song()\n",
    "    music_player.stop_song()\n",
    "\n",
    "### Explanation of the Example:\n",
    "\n",
    "'''1. **Player Class**: The `Player` class is responsible for the actual playback of songs. It has methods to play, pause, and stop playback.\n",
    "\n",
    "2. **MusicPlayer Class**: The `MusicPlayer` class contains an instance of the `Player` class. It delegates the play, pause, and stop actions to the `Player` instance.\n",
    "\n",
    "3. **Example Usage**: In the `__main__` block, an instance of `MusicPlayer` is created, and song playback actions are performed. The `MusicPlayer` class delegates these actions to the `Player` class.\n",
    "\n",
    "### Conclusion\n",
    "\n",
    "Delegation in composition simplifies the design of complex systems by promoting separation of concerns, enhancing modularity, and enabling code reusability. By allowing one object to delegate responsibilities to another, developers can create flexible and maintainable code that is easier to understand and adapt to changing requirements. This approach leads to cleaner architecture and encourages the development of independent, reusable components, making it a powerful tool in software design.'''\n",
    "\n"
   ]
  },
  {
   "cell_type": "code",
   "execution_count": 24,
   "id": "374d54af-db8a-41c0-a487-24905352a018",
   "metadata": {},
   "outputs": [
    {
     "name": "stdout",
     "output_type": "stream",
     "text": [
      "Starting V6 Turbo engine with 300 horsepower.\n",
      "Wheel size 18 is rotating.\n",
      "Wheel size 18 is rotating.\n",
      "Wheel size 18 is rotating.\n",
      "Wheel size 18 is rotating.\n",
      "Transmission type Automatic is shifting to gear 3.\n",
      "Driving Toyota Supra in gear 3.\n"
     ]
    }
   ],
   "source": [
    "class Engine:\n",
    "    def __init__(self, model, horsepower):\n",
    "        self.model = model\n",
    "        self.horsepower = horsepower\n",
    "\n",
    "    def start(self):\n",
    "        print(f\"Starting {self.model} engine with {self.horsepower} horsepower.\")\n",
    "\n",
    "class Wheel:\n",
    "    def __init__(self, size):\n",
    "        self.size = size\n",
    "\n",
    "    def rotate(self):\n",
    "        print(f\"Wheel size {self.size} is rotating.\")\n",
    "\n",
    "class Transmission:\n",
    "    def __init__(self, type):\n",
    "        self.type = type\n",
    "\n",
    "    def shift(self, gear):\n",
    "        print(f\"Transmission type {self.type} is shifting to gear {gear}.\")\n",
    "\n",
    "class Car:\n",
    "    def __init__(self, make, model, engine, wheels, transmission):\n",
    "        self.make = make\n",
    "        self.model = model\n",
    "        self.engine = engine\n",
    "        self.wheels = wheels  \n",
    "        self.transmission = transmission  \n",
    "\n",
    "    def start(self):\n",
    "        self.engine.start()\n",
    "        for wheel in self.wheels:\n",
    "            wheel.rotate()\n",
    "\n",
    "    def drive(self, gear):\n",
    "        self.transmission.shift(gear)\n",
    "        print(f\"Driving {self.make} {self.model} in gear {gear}.\")\n",
    "\n",
    "\n",
    "if __name__ == \"__main__\":\n",
    "    \n",
    "    engine = Engine(\"V6 Turbo\", 300)\n",
    "    wheels = [Wheel(18), Wheel(18), Wheel(18), Wheel(18)]\n",
    "    transmission = Transmission(\"Automatic\")\n",
    "\n",
    "   \n",
    "    car = Car(\"Toyota\", \"Supra\", engine, wheels, transmission)\n",
    " \n",
    "    \n",
    "    car.start()\n",
    "    car.drive(3)\n"
   ]
  },
  {
   "cell_type": "code",
   "execution_count": 25,
   "id": "764bcabc-f0ac-4f2f-88dd-2088fc3bc7b7",
   "metadata": {},
   "outputs": [
    {
     "name": "stdout",
     "output_type": "stream",
     "text": [
      "Starting V8 engine with 400 horsepower.\n",
      "Wheel size 18 is rotating.\n",
      "Wheel size 18 is rotating.\n",
      "Wheel size 18 is rotating.\n",
      "Wheel size 18 is rotating.\n",
      "Engine horsepower: 400\n"
     ]
    },
    {
     "data": {
      "text/plain": [
       "\"1. **Private Attributes**: The `Engine` and `Wheel` classes have private attributes (e.g., `__model`, `__size`) that cannot be accessed directly from outside the class.\\n\\n2. **Getter Methods**: The `get_horsepower()` and `get_size()` methods allow controlled access to the private attributes. This ensures that any access to these attributes is done through defined methods.\\n\\n3. **Car Class**: The `Car` class uses composition to include an `Engine` and a list of `Wheel` instances. It encapsulates these components and provides a public method to start the car and access the engine's horsepower.\\n\\n4. **Abstraction**: Users of the `Car` class do not need to know the internal details of the `Engine` and `Wheel` classes. They interact with the `Car` class through its public methods, maintaining abstraction.\\n\\n### Conclusion\\n\\nEncapsulation and the hiding of details in Python classes help maintain abstraction, protect the internal state of objects, and provide controlled access to their data. By using access modifiers, getter and setter methods, and composition, you can design software systems that are modular, maintainable, and secure. This approach leads to cleaner code and reduces the risk of unintended modifications, promoting robust software design.\""
      ]
     },
     "execution_count": 25,
     "metadata": {},
     "output_type": "execute_result"
    }
   ],
   "source": [
    "'''Encapsulation in Python is a core principle of object-oriented programming (OOP) that involves bundling data (attributes) and methods (functions) that operate on that data into a single unit called a class. This concept allows developers to hide the internal details of a class, exposing only what is necessary for interaction with the class. By encapsulating and hiding the details of composed objects, you can maintain abstraction and ensure that the internal state of an object remains valid and secure.\n",
    "\n",
    "### How to Encapsulate and Hide Details in Python Classes\n",
    "\n",
    "1. **Use of Access Modifiers**:\n",
    "   - In Python, you can control access to class attributes and methods using naming conventions:\n",
    "     - **Public**: Attributes and methods are accessible from outside the class. By default, all members of a class are public.\n",
    "     - **Protected**: Attributes and methods are intended for internal use and should not be accessed outside the class or its subclasses. This is indicated by a single underscore prefix (e.g., `_attribute`).\n",
    "     - **Private**: Attributes and methods are not accessible from outside the class. This is indicated by a double underscore prefix (e.g., `__attribute`). Python uses name mangling to make these members less accessible from outside the class.\n",
    "\n",
    "2. **Getter and Setter Methods**:\n",
    "   - You can define getter and setter methods to control access to private or protected attributes. This allows you to enforce rules when accessing or modifying the data, ensuring that the internal state remains valid.\n",
    "\n",
    "3. **Composition**:\n",
    "   - When using composition, you can encapsulate the details of composed objects. For instance, if a class contains instances of other classes, you can expose only the necessary methods of those instances while keeping their internal details hidden.\n",
    "\n",
    "### Example of Encapsulation in Python\n",
    "\n",
    "Here’s an example that demonstrates encapsulation using a `Car` class with composed components like `Engine` and `Wheel`. The internal details of these components are hidden, and access is controlled through public methods.\n",
    "\n",
    "```python'''\n",
    "class Engine:\n",
    "    def __init__(self, model, horsepower):\n",
    "        self.__model = model  \n",
    "        self.__horsepower = horsepower \n",
    "\n",
    "    def start(self):\n",
    "        print(f\"Starting {self.__model} engine with {self.__horsepower} horsepower.\")\n",
    "\n",
    "    def get_horsepower(self):\n",
    "        return self.__horsepower\n",
    "\n",
    "\n",
    "class Wheel:\n",
    "    def __init__(self, size):\n",
    "        self.__size = size \n",
    "\n",
    "    def rotate(self):\n",
    "        print(f\"Wheel size {self.__size} is rotating.\")\n",
    "\n",
    "    def get_size(self):\n",
    "        return self.__size \n",
    "\n",
    "\n",
    "class Car:\n",
    "    def __init__(self, engine, wheels):\n",
    "        self.__engine = engine  \n",
    "        self.__wheels = wheels  \n",
    "\n",
    "    def start(self):\n",
    "        self.__engine.start()  \n",
    "        for wheel in self.__wheels:\n",
    "            wheel.rotate()  \n",
    "\n",
    "    def get_engine_horsepower(self):\n",
    "        return self.__engine.get_horsepower()  \n",
    "\n",
    "\n",
    "\n",
    "if __name__ == \"__main__\":\n",
    "    engine = Engine(\"V8\", 400)\n",
    "    wheels = [Wheel(18), Wheel(18), Wheel(18), Wheel(18)]\n",
    "    car = Car(engine, wheels)\n",
    "\n",
    "    car.start()\n",
    "    print(f\"Engine horsepower: {car.get_engine_horsepower()}\")\n",
    "\n",
    "\n",
    "### Explanation of the Example:\n",
    "\n",
    "'''1. **Private Attributes**: The `Engine` and `Wheel` classes have private attributes (e.g., `__model`, `__size`) that cannot be accessed directly from outside the class.\n",
    "\n",
    "2. **Getter Methods**: The `get_horsepower()` and `get_size()` methods allow controlled access to the private attributes. This ensures that any access to these attributes is done through defined methods.\n",
    "\n",
    "3. **Car Class**: The `Car` class uses composition to include an `Engine` and a list of `Wheel` instances. It encapsulates these components and provides a public method to start the car and access the engine's horsepower.\n",
    "\n",
    "4. **Abstraction**: Users of the `Car` class do not need to know the internal details of the `Engine` and `Wheel` classes. They interact with the `Car` class through its public methods, maintaining abstraction.\n",
    "\n",
    "### Conclusion\n",
    "\n",
    "Encapsulation and the hiding of details in Python classes help maintain abstraction, protect the internal state of objects, and provide controlled access to their data. By using access modifiers, getter and setter methods, and composition, you can design software systems that are modular, maintainable, and secure. This approach leads to cleaner code and reduces the risk of unintended modifications, promoting robust software design.'''\n"
   ]
  },
  {
   "cell_type": "code",
   "execution_count": 28,
   "id": "d408ce11-e2a1-4897-a087-d5ffef06dad6",
   "metadata": {},
   "outputs": [
    {
     "name": "stdout",
     "output_type": "stream",
     "text": [
      "Added Student: John Doe, ID: S12345 to the course 'Data Structures'.\n",
      "Added Student: Jane Doe, ID: S67890 to the course 'Data Structures'.\n",
      "Added material_type  o: Introduction to Algorithms to the course 'Data Structures'.\n",
      "Added material_type  o: Data Structures Lecture Notes to the course 'Data Structures'.\n",
      "Course: Data Structures\n",
      "Instructor: Instructor: Dr. Alice Smith, Employee ID: EMP123\n",
      "Enrolled Students:\n",
      " - Student: John Doe, ID: S12345\n",
      " - Student: Jane Doe, ID: S67890\n",
      "Course Materials:\n",
      " - material_type  o: Introduction to Algorithms\n",
      " - material_type  o: Data Structures Lecture Notes\n"
     ]
    }
   ],
   "source": [
    "class Student:\n",
    "    def __init__(self, name, student_id):\n",
    "        self.name = name\n",
    "        self.student_id = student_id\n",
    "\n",
    "    def __str__(self):\n",
    "        return f\"Student: {self.name}, ID: {self.student_id}\"\n",
    "\n",
    "\n",
    "class Instructor:\n",
    "    def __init__(self, name, employee_id):\n",
    "        self.name = name\n",
    "        self.employee_id = employee_id\n",
    "\n",
    "    def __str__(self):\n",
    "        return f\"Instructor: {self.name}, Employee ID: {self.employee_id}\"\n",
    "\n",
    "\n",
    "class CourseMaterial:\n",
    "    def __init__(self, title, material_type):\n",
    "        self.title = title\n",
    "        self.material_type = 'material_type  o'\n",
    "\n",
    "    def __str__(self):\n",
    "        return f\"{self.material_type}: {self.title}\"\n",
    "\n",
    "\n",
    "class Course:\n",
    "    def __init__(self, course_name, instructor):\n",
    "        self.course_name = course_name\n",
    "        self.instructor = instructor  \n",
    "        self.students = [] \n",
    "        self.materials = []  \n",
    "    def add_student(self, student):\n",
    "        self.students.append(student)\n",
    "        print(f\"Added {student} to the course '{self.course_name}'.\")\n",
    "\n",
    "    def add_material(self, material):\n",
    "        self.materials.append(material)\n",
    "        print(f\"Added {material} to the course '{self.course_name}'.\")\n",
    "\n",
    "    def display_course_info(self):\n",
    "        print(f\"Course: {self.course_name}\")\n",
    "        print(f\"Instructor: {self.instructor}\")\n",
    "        print(\"Enrolled Students:\")\n",
    "        for student in self.students:\n",
    "            print(f\" - {student}\")\n",
    "        print(\"Course Materials:\")\n",
    "        for material in self.materials:\n",
    "            print(f\" - {material}\")\n",
    "\n",
    "\n",
    "\n",
    "if __name__ == \"__main__\":\n",
    "  \n",
    "    instructor = Instructor(\"Dr. Alice Smith\", \"EMP123\")\n",
    "\n",
    "   \n",
    "    course = Course(\"Data Structures\", instructor)\n",
    "\n",
    "   \n",
    "    student1 = Student(\"John Doe\", \"S12345\")\n",
    "    student2 = Student(\"Jane Doe\", \"S67890\")\n",
    "\n",
    "   \n",
    "    material1 = CourseMaterial(\"Introduction to Algorithms\", \"Textbook\")\n",
    "    material2 = CourseMaterial(\"Data Structures Lecture Notes\", \"Lecture Notes\")\n",
    "\n",
    "   \n",
    "    course.add_student(student1)\n",
    "    course.add_student(student2)\n",
    "    course.add_material(material1)\n",
    "    course.add_material(material2)\n",
    "\n",
    "    \n",
    "    course.display_course_info()\n"
   ]
  },
  {
   "cell_type": "code",
   "execution_count": null,
   "id": "78f8e1f7-d900-4dd4-acee-f606db58c6b8",
   "metadata": {},
   "outputs": [],
   "source": []
  }
 ],
 "metadata": {
  "kernelspec": {
   "display_name": "Python 3 (ipykernel)",
   "language": "python",
   "name": "python3"
  },
  "language_info": {
   "codemirror_mode": {
    "name": "ipython",
    "version": 3
   },
   "file_extension": ".py",
   "mimetype": "text/x-python",
   "name": "python",
   "nbconvert_exporter": "python",
   "pygments_lexer": "ipython3",
   "version": "3.10.8"
  }
 },
 "nbformat": 4,
 "nbformat_minor": 5
}
